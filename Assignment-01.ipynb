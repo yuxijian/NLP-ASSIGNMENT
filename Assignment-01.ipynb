{
  "cells": [
    {
      "cell_type": "markdown",
      "metadata": {
        "pycharm": {}
      },
      "source": [
        "## Lesson-01 Assignment"
      ]
    },
    {
      "cell_type": "markdown",
      "metadata": {
        "pycharm": {}
      },
      "source": [
        "\u003e"
      ]
    },
    {
      "cell_type": "markdown",
      "metadata": {
        "pycharm": {}
      },
      "source": [
        "`各位同学大家好，欢迎各位开始学习我们的人工智能课程。这门课程假设大家不具备机器学习和人工智能的知识，但是希望大家具备初级的Python编程能力。根据往期同学的实际反馈，我们课程的完结之后 能力能够超过80%的计算机人工智能/深度学习方向的硕士生的能力。`"
      ]
    },
    {
      "cell_type": "markdown",
      "metadata": {
        "pycharm": {}
      },
      "source": [
        "## 本次作业的内容"
      ]
    },
    {
      "cell_type": "markdown",
      "metadata": {
        "pycharm": {}
      },
      "source": [
        "#### 1. 复现课堂代码\n",
        "\n",
        "在本部分，你需要参照我们给大家的GitHub地址里边的课堂代码，结合课堂内容，复现内容。"
      ]
    },
    {
      "cell_type": "markdown",
      "metadata": {
        "pycharm": {}
      },
      "source": [
        "#### 2. 请回答以下问题\n",
        "\n",
        "回答以下问题，并将问题发送至 mqgao@kaikeba.com中：\n",
        "```\n",
        "    2.1. what do you want to acquire in this course？\n",
        "    2.2. what problems do you want to solve？\n",
        "    2.3. what’s the advantages you have to finish you goal?\n",
        "    2.4. what’s the disadvantages you need to overcome to finish you goal?\n",
        "    2.5. How will you plan to study in this course period?\n",
        "```"
      ]
    },
    {
      "cell_type": "markdown",
      "metadata": {
        "pycharm": {}
      },
      "source": [
        "#### 3. 如何提交\n",
        "代码 + 此 jupyter 相关，提交至自己的 github 中(**所以请务必把GitHub按照班主任要求录入在Trello中**)；\n",
        "第2问，请提交至mqgao@kaikeba.com邮箱。\n",
        "#### 4. 作业截止时间\n",
        "此次作业截止时间为 2019.7.6日"
      ]
    },
    {
      "cell_type": "markdown",
      "metadata": {
        "pycharm": {}
      },
      "source": [
        "#### 5. 完成以下问答和编程练习"
      ]
    },
    {
      "cell_type": "markdown",
      "metadata": {
        "pycharm": {}
      },
      "source": [
        "\u003e"
      ]
    },
    {
      "cell_type": "markdown",
      "metadata": {
        "pycharm": {}
      },
      "source": [
        "## 基础理论部分"
      ]
    },
    {
      "cell_type": "markdown",
      "metadata": {
        "pycharm": {}
      },
      "source": "#### 0. Can you come up out 3 sceneraies which use AI methods? "
    },
    {
      "cell_type": "markdown",
      "metadata": {
        "pycharm": {}
      },
      "source": "Ans: {小爱同学、推荐系统、可以跟人打乒乓球的机器手臂、无人驾驶、机器视觉、语音识别、客服聊天机器人}"
    },
    {
      "cell_type": "markdown",
      "metadata": {
        "pycharm": {}
      },
      "source": [
        "#### 1. How do we use Github; Why do we use Jupyter and Pycharm;"
      ]
    },
    {
      "cell_type": "markdown",
      "metadata": {
        "pycharm": {}
      },
      "source": "Ans: {github上课资料以及作业提交，Jupyter是一个notebook工具，让代码和markdown更优雅的一起展示；Pycharm能帮助我们提高开发效率，我是从业java，对我而言他就是python的idea一般}"
    },
    {
      "cell_type": "markdown",
      "metadata": {
        "pycharm": {}
      },
      "source": [
        "#### 2. What\u0027s the Probability Model?"
      ]
    },
    {
      "cell_type": "markdown",
      "metadata": {
        "pycharm": {}
      },
      "source": "Ans: {把实际问题抽象成概率分布。假定既有一定数据量的结果集，把查询串分解成结果集中的属性，通过分析这个些属性在结果集中的出现概率，得到查询串的结果}"
    },
    {
      "cell_type": "markdown",
      "metadata": {
        "pycharm": {}
      },
      "source": [
        "#### 3. Can you came up with some sceneraies at which we could use Probability Model?"
      ]
    },
    {
      "cell_type": "markdown",
      "metadata": {
        "pycharm": {}
      },
      "source": "Ans: {论文查重、垃圾邮件判识}"
    },
    {
      "cell_type": "markdown",
      "metadata": {
        "pycharm": {}
      },
      "source": [
        "#### 4. Why do we use probability and what\u0027s the difficult points for programming based on parsing and pattern match?"
      ]
    },
    {
      "cell_type": "markdown",
      "metadata": {
        "pycharm": {}
      },
      "source": "Ans: {有些问题本身有一些很难表征出来的属性，用概率可以规避，当数据量足够大的时候，概率就会更趋近真实的结果}\nAns: {解析和模式匹配还不是很了解}"
    },
    {
      "cell_type": "markdown",
      "metadata": {
        "pycharm": {}
      },
      "source": [
        "#### 5. What\u0027s the Language Model;"
      ]
    },
    {
      "cell_type": "markdown",
      "metadata": {
        "pycharm": {}
      },
      "source": "Ans: {计算一个句子出现的概率}"
    },
    {
      "cell_type": "markdown",
      "metadata": {
        "pycharm": {}
      },
      "source": [
        "#### 6. Can you came up with some sceneraies at which we could use Language Model?\n"
      ]
    },
    {
      "cell_type": "markdown",
      "metadata": {
        "pycharm": {}
      },
      "source": "Ans: {机器生成语言(小爱同学、客服机器人)}"
    },
    {
      "cell_type": "markdown",
      "metadata": {
        "pycharm": {}
      },
      "source": [
        "#### 7. What\u0027s the 1-gram language model;"
      ]
    },
    {
      "cell_type": "markdown",
      "metadata": {
        "pycharm": {}
      },
      "source": "Ans: {}"
    },
    {
      "cell_type": "markdown",
      "metadata": {
        "pycharm": {}
      },
      "source": [
        "#### 8. What\u0027s the disadvantages and advantages of 1-gram language model;"
      ]
    },
    {
      "cell_type": "markdown",
      "metadata": {
        "pycharm": {}
      },
      "source": [
        "Ans:"
      ]
    },
    {
      "cell_type": "markdown",
      "metadata": {
        "pycharm": {}
      },
      "source": [
        "#### 9. What\u0027t the 2-gram models;"
      ]
    },
    {
      "cell_type": "markdown",
      "metadata": {
        "pycharm": {}
      },
      "source": [
        "Ans:"
      ]
    },
    {
      "cell_type": "markdown",
      "metadata": {
        "pycharm": {}
      },
      "source": [
        "## 编程实践部分"
      ]
    },
    {
      "cell_type": "markdown",
      "metadata": {
        "pycharm": {}
      },
      "source": [
        "#### 1. 设计你自己的句子生成器"
      ]
    },
    {
      "cell_type": "markdown",
      "metadata": {
        "pycharm": {}
      },
      "source": [
        "如何生成句子是一个很经典的问题，从1940s开始，图灵提出机器智能的时候，就使用的是人类能不能流畅和计算机进行对话。和计算机对话的一个前提是，计算机能够生成语言。\n",
        "\n",
        "计算机如何能生成语言是一个经典但是又很复杂的问题。 我们课程上为大家介绍的是一种基于规则（Rule Based）的生成方法。该方法虽然提出的时间早，但是现在依然在很多地方能够大显身手。值得说明的是，现在很多很实用的算法，都是很久之前提出的，例如，二分查找提出与1940s, Dijstra算法提出于1960s 等等。"
      ]
    },
    {
      "cell_type": "markdown",
      "metadata": {
        "pycharm": {}
      },
      "source": [
        "在著名的电视剧，电影《西部世界》中，这些机器人们语言生成的方法就是使用的SyntaxTree生成语言的方法。\n",
        "\n",
        "\u003e \n",
        "\u003e\n",
        "\n",
        "![WstWorld](https://timgsa.baidu.com/timg?image\u0026quality\u003d80\u0026size\u003db10000_10000\u0026sec\u003d1561818705\u0026di\u003d95ca9ff2ff37fcb88ae47b82c7079feb\u0026src\u003dhttp://s7.sinaimg.cn/mw690/006BKUGwzy75VK46FMi66\u0026690)\n",
        "\n",
        "\u003e \n",
        "\u003e"
      ]
    },
    {
      "cell_type": "markdown",
      "metadata": {
        "pycharm": {}
      },
      "source": [
        "在这一部分，需要各位同学首先定义自己的语言。 大家可以先想一个应用场景，然后在这个场景下，定义语法。例如：\n",
        "\n",
        "在西部世界里，一个”人类“的语言可以定义为：\n",
        "``` \n",
        "human \u003d \"\"\"\n",
        "human \u003d 自己 寻找 活动\n",
        "自己 \u003d 我 | 俺 | 我们 \n",
        "寻找 \u003d 看看 | 找找 | 想找点\n",
        "活动 \u003d 乐子 | 玩的\n",
        "\"\"\"\n",
        "```\n",
        "\n",
        "一个“接待员”的语言可以定义为\n",
        "```\n",
        "host \u003d \"\"\"\n",
        "host \u003d 寒暄 报数 询问 业务相关 结尾 \n",
        "报数 \u003d 我是 数字 号 ,\n",
        "数字 \u003d 单个数字 | 数字 单个数字 \n",
        "单个数字 \u003d 1 | 2 | 3 | 4 | 5 | 6 | 7 | 8 | 9 \n",
        "寒暄 \u003d 称谓 打招呼 | 打招呼\n",
        "称谓 \u003d 人称 ,\n",
        "人称 \u003d 先生 | 女士 | 小朋友\n",
        "打招呼 \u003d 你好 | 您好 \n",
        "询问 \u003d 请问你要 | 您需要\n",
        "业务相关 \u003d 玩玩 具体业务\n",
        "玩玩 \u003d 耍一耍 | 玩一玩\n",
        "具体业务 \u003d 喝酒 | 打牌 | 打猎 | 赌博\n",
        "结尾 \u003d 吗？\"\"\"\n",
        "\n",
        "```\n",
        "\n",
        "\n"
      ]
    },
    {
      "cell_type": "markdown",
      "metadata": {
        "pycharm": {}
      },
      "source": [
        "请定义你自己的语法: "
      ]
    },
    {
      "cell_type": "markdown",
      "metadata": {
        "pycharm": {}
      },
      "source": [
        "第一个语法："
      ]
    },
    {
      "cell_type": "code",
      "execution_count": 9,
      "metadata": {
        "pycharm": {}
      },
      "outputs": [],
      "source": [
        "you_need_replace_this_with_name_you_given \u003d \u0027\u0027\u0027\n",
        "# you code here\n",
        "\u0027\u0027\u0027"
      ]
    },
    {
      "cell_type": "markdown",
      "metadata": {
        "pycharm": {}
      },
      "source": [
        "第二个语法："
      ]
    },
    {
      "cell_type": "code",
      "execution_count": null,
      "metadata": {
        "pycharm": {}
      },
      "outputs": [],
      "source": [
        "you_need_replace_this_with_name_you_given \u003d \u0027\u0027\u0027\n",
        "# you code here\n",
        "\u0027\u0027\u0027"
      ]
    },
    {
      "cell_type": "markdown",
      "metadata": {
        "pycharm": {}
      },
      "source": [
        "TODO: 然后，使用自己之前定义的generate函数，使用此函数生成句子。"
      ]
    },
    {
      "cell_type": "markdown",
      "metadata": {
        "pycharm": {}
      },
      "source": [
        "TODO: 然后，定义一个函数，generate_n，将generate扩展，使其能够生成n个句子:"
      ]
    },
    {
      "cell_type": "code",
      "execution_count": 10,
      "metadata": {
        "pycharm": {}
      },
      "outputs": [],
      "source": [
        "def generate_n():\n",
        "    # you code here \n",
        "    pass"
      ]
    },
    {
      "cell_type": "markdown",
      "metadata": {
        "pycharm": {}
      },
      "source": [
        "\u003e"
      ]
    },
    {
      "cell_type": "markdown",
      "metadata": {
        "pycharm": {}
      },
      "source": [
        "#### 2. 使用新数据源完成语言模型的训练"
      ]
    },
    {
      "cell_type": "markdown",
      "metadata": {
        "pycharm": {}
      },
      "source": [
        "按照我们上文中定义的`prob_2`函数，我们更换一个文本数据源，获得新的Language Model:\n",
        "\n",
        "1. 下载文本数据集（你可以在以下数据集中任选一个，也可以两个都使用）\n",
        "    + 可选数据集1，保险行业问询对话集： https://github.com/Computing-Intelligence/insuranceqa-corpus-zh/raw/release/corpus/pool/train.txt.gz\n",
        "    + 可选数据集2：豆瓣评论数据集：https://github.com/Computing-Intelligence/datasource/raw/master/movie_comments.csv\n",
        "2. 修改代码，获得新的**2-gram**语言模型\n",
        "    + 进行文本清洗，获得所有的纯文本\n",
        "    + 将这些文本进行切词\n",
        "    + 送入之前定义的语言模型中，判断文本的合理程度"
      ]
    },
    {
      "cell_type": "markdown",
      "metadata": {
        "pycharm": {}
      },
      "source": [
        "\u003e "
      ]
    },
    {
      "cell_type": "markdown",
      "metadata": {
        "pycharm": {}
      },
      "source": [
        "#### 3. 获得最优质的的语言"
      ]
    },
    {
      "cell_type": "markdown",
      "metadata": {
        "pycharm": {}
      },
      "source": [
        "当我们能够生成随机的语言并且能判断之后，我们就可以生成更加合理的语言了。请定义 generate_best 函数，该函数输入一个语法 + 语言模型，能够生成**n**个句子，并能选择一个最合理的句子: \n",
        "\n"
      ]
    },
    {
      "cell_type": "markdown",
      "metadata": {
        "pycharm": {}
      },
      "source": [
        "提示，要实现这个函数，你需要Python的sorted函数"
      ]
    },
    {
      "cell_type": "code",
      "execution_count": 13,
      "metadata": {
        "pycharm": {}
      },
      "outputs": [
        {
          "data": {
            "text/plain": [
              "[1, 2, 3, 5]"
            ]
          },
          "execution_count": 13,
          "metadata": {},
          "output_type": "execute_result"
        }
      ],
      "source": [
        "sorted([1, 3, 5, 2])"
      ]
    },
    {
      "cell_type": "markdown",
      "metadata": {
        "pycharm": {}
      },
      "source": [
        "这个函数接受一个参数key，这个参数接受一个函数作为输入，例如"
      ]
    },
    {
      "cell_type": "code",
      "execution_count": 15,
      "metadata": {
        "pycharm": {}
      },
      "outputs": [
        {
          "data": {
            "text/plain": [
              "[(1, 4), (2, 5), (4, 4), (5, 0)]"
            ]
          },
          "execution_count": 15,
          "metadata": {},
          "output_type": "execute_result"
        }
      ],
      "source": [
        "sorted([(2, 5), (1, 4), (5, 0), (4, 4)], key\u003dlambda x: x[0])"
      ]
    },
    {
      "cell_type": "markdown",
      "metadata": {
        "pycharm": {}
      },
      "source": [
        "能够让list按照第0个元素进行排序."
      ]
    },
    {
      "cell_type": "code",
      "execution_count": 16,
      "metadata": {
        "pycharm": {}
      },
      "outputs": [
        {
          "data": {
            "text/plain": [
              "[(5, 0), (1, 4), (4, 4), (2, 5)]"
            ]
          },
          "execution_count": 16,
          "metadata": {},
          "output_type": "execute_result"
        }
      ],
      "source": [
        "sorted([(2, 5), (1, 4), (5, 0), (4, 4)], key\u003dlambda x: x[1])"
      ]
    },
    {
      "cell_type": "markdown",
      "metadata": {
        "pycharm": {}
      },
      "source": [
        "能够让list按照第1个元素进行排序."
      ]
    },
    {
      "cell_type": "code",
      "execution_count": 17,
      "metadata": {
        "pycharm": {}
      },
      "outputs": [
        {
          "data": {
            "text/plain": [
              "[(2, 5), (1, 4), (4, 4), (5, 0)]"
            ]
          },
          "execution_count": 17,
          "metadata": {},
          "output_type": "execute_result"
        }
      ],
      "source": [
        "sorted([(2, 5), (1, 4), (5, 0), (4, 4)], key\u003dlambda x: x[1], reverse\u003dTrue)"
      ]
    },
    {
      "cell_type": "markdown",
      "metadata": {
        "pycharm": {}
      },
      "source": [
        "能够让list按照第1个元素进行排序, 但是是递减的顺序。"
      ]
    },
    {
      "cell_type": "markdown",
      "metadata": {
        "pycharm": {}
      },
      "source": [
        "\u003e"
      ]
    },
    {
      "cell_type": "code",
      "execution_count": 20,
      "metadata": {
        "pycharm": {}
      },
      "outputs": [],
      "source": [
        "def generate_best(): # you code here\n",
        "    pass"
      ]
    },
    {
      "cell_type": "markdown",
      "metadata": {
        "pycharm": {}
      },
      "source": [
        "好了，现在我们实现了自己的第一个AI模型，这个模型能够生成比较接近于人类的语言。"
      ]
    },
    {
      "cell_type": "markdown",
      "metadata": {
        "pycharm": {}
      },
      "source": [
        "\u003e"
      ]
    },
    {
      "cell_type": "markdown",
      "metadata": {
        "pycharm": {}
      },
      "source": [
        "Q: 这个模型有什么问题？ 你准备如何提升？ "
      ]
    },
    {
      "cell_type": "markdown",
      "metadata": {
        "pycharm": {}
      },
      "source": [
        "Ans:"
      ]
    },
    {
      "cell_type": "markdown",
      "metadata": {
        "pycharm": {}
      },
      "source": [
        "\u003e"
      ]
    },
    {
      "cell_type": "markdown",
      "metadata": {
        "pycharm": {}
      },
      "source": [
        "##### 以下内容为可选部分，对于绝大多数同学，能完成以上的项目已经很优秀了，下边的内容如果你还有精力可以试试，但不是必须的。"
      ]
    },
    {
      "cell_type": "markdown",
      "metadata": {
        "pycharm": {}
      },
      "source": [
        "#### 4. (Optional) 完成基于Pattern Match的语句问答\n",
        "\u003e 我们的GitHub仓库中，有一个assignment-01-optional-pattern-match，这个难度较大，感兴趣的同学可以挑战一下。"
      ]
    },
    {
      "cell_type": "markdown",
      "metadata": {
        "pycharm": {}
      },
      "source": [
        "\n",
        "#### 5. (Optional) 完成阿兰图灵机器智能原始论文的阅读\n",
        "1. 请阅读阿兰图灵关于机器智能的原始论文：https://github.com/Computing-Intelligence/References/blob/master/AI%20%26%20Machine%20Learning/Computer%20Machinery%20and%20Intelligence.pdf \n",
        "2. 并按照GitHub仓库中的论文阅读模板，填写完毕后发送给我: mqgao@kaikeba.com 谢谢"
      ]
    },
    {
      "cell_type": "markdown",
      "metadata": {
        "pycharm": {}
      },
      "source": [
        "\u003e "
      ]
    },
    {
      "cell_type": "markdown",
      "metadata": {
        "pycharm": {}
      },
      "source": [
        "各位同学，我们已经完成了自己的第一个AI模型，大家对人工智能可能已经有了一些感觉，人工智能的核心就是，我们如何设计一个模型、程序，在外部的输入变化的时候，我们的程序不变，依然能够解决问题。人工智能是一个很大的领域，目前大家所熟知的深度学习只是其中一小部分，之后也肯定会有更多的方法提出来，但是大家知道人工智能的目标，就知道了之后进步的方向。"
      ]
    },
    {
      "cell_type": "markdown",
      "metadata": {
        "pycharm": {}
      },
      "source": [
        "然后，希望大家对AI不要有恐惧感，这个并不难，大家加油！"
      ]
    },
    {
      "cell_type": "markdown",
      "metadata": {
        "pycharm": {}
      },
      "source": [
        "\u003e"
      ]
    },
    {
      "attachments": {},
      "cell_type": "markdown",
      "metadata": {
        "pycharm": {}
      },
      "source": [
        "![](https://timgsa.baidu.com/timg?image\u0026quality\u003d80\u0026size\u003db9999_10000\u0026sec\u003d1561828422005\u0026di\u003d48d19c16afb6acc9180183a6116088ac\u0026imgtype\u003d0\u0026src\u003dhttp%3A%2F%2Fb-ssl.duitang.com%2Fuploads%2Fitem%2F201807%2F28%2F20180728150843_BECNF.thumb.224_0.jpeg)"
      ]
    }
  ],
  "metadata": {
    "kernelspec": {
      "display_name": "Python 3",
      "language": "python",
      "name": "python3"
    },
    "language_info": {
      "codemirror_mode": {
        "name": "ipython",
        "version": 3
      },
      "file_extension": ".py",
      "mimetype": "text/x-python",
      "name": "python",
      "nbconvert_exporter": "python",
      "pygments_lexer": "ipython3",
      "version": "3.7.3"
    }
  },
  "nbformat": 4,
  "nbformat_minor": 2
}