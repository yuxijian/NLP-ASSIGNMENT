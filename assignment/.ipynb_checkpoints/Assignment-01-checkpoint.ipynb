{
 "cells": [
  {
   "cell_type": "markdown",
   "metadata": {
    "pycharm": {}
   },
   "source": [
    "## Lesson-01 Assignment"
   ]
  },
  {
   "cell_type": "markdown",
   "metadata": {
    "pycharm": {}
   },
   "source": [
    "`各位同学大家好，欢迎各位开始学习我们的人工智能课程。这门课程假设大家不具备机器学习和人工智能的知识，但是希望大家具备初级的Python编程能力。根据往期同学的实际反馈，我们课程的完结之后 能力能够超过80%的计算机人工智能/深度学习方向的硕士生的能力。`"
   ]
  },
  {
   "cell_type": "markdown",
   "metadata": {
    "pycharm": {}
   },
   "source": [
    "## 本次作业的内容"
   ]
  },
  {
   "cell_type": "markdown",
   "metadata": {
    "pycharm": {}
   },
   "source": [
    "#### 1. 复现课堂代码\n",
    "\n",
    "在本部分，你需要参照我们给大家的GitHub地址里边的课堂代码，结合课堂内容，复现内容。"
   ]
  },
  {
   "cell_type": "markdown",
   "metadata": {
    "pycharm": {}
   },
   "source": [
    "#### 2. 请回答以下问题\n",
    "\n",
    "回答以下问题，并将问题发送至 mqgao@kaikeba.com中：\n",
    "```\n",
    "    2.1. what do you want to acquire in this course？\n",
    "    2.2. what problems do you want to solve？\n",
    "    2.3. what’s the advantages you have to finish you goal?\n",
    "    2.4. what’s the disadvantages you need to overcome to finish you goal?\n",
    "    2.5. How will you plan to study in this course period?\n",
    "```"
   ]
  },
  {
   "cell_type": "markdown",
   "metadata": {
    "pycharm": {}
   },
   "source": [
    "#### 3. 如何提交\n",
    "代码 + 此 jupyter 相关，提交至自己的 github 中(**所以请务必把GitHub按照班主任要求录入在Trello中**)；\n",
    "第2问，请提交至mqgao@kaikeba.com邮箱。\n",
    "#### 4. 作业截止时间\n",
    "此次作业截止时间为 2019.7.6日"
   ]
  },
  {
   "cell_type": "markdown",
   "metadata": {
    "pycharm": {}
   },
   "source": [
    "#### 5. 完成以下问答和编程练习"
   ]
  },
  {
   "cell_type": "markdown",
   "metadata": {
    "pycharm": {}
   },
   "source": [
    ">"
   ]
  },
  {
   "cell_type": "markdown",
   "metadata": {
    "pycharm": {}
   },
   "source": [
    "## 基础理论部分"
   ]
  },
  {
   "cell_type": "markdown",
   "metadata": {
    "pycharm": {}
   },
   "source": [
    "#### 0. Can you come up out 3 sceneraies which use AI methods? "
   ]
  },
  {
   "cell_type": "markdown",
   "metadata": {
    "pycharm": {}
   },
   "source": [
    "Ans: {小爱同学、推荐系统、可以跟人打乒乓球的机器手臂、无人驾驶、机器视觉、语音识别、客服聊天机器人}"
   ]
  },
  {
   "cell_type": "markdown",
   "metadata": {
    "pycharm": {}
   },
   "source": [
    "#### 1. How do we use Github; Why do we use Jupyter and Pycharm;"
   ]
  },
  {
   "cell_type": "markdown",
   "metadata": {
    "pycharm": {}
   },
   "source": [
    "Ans: {github上课资料以及作业提交，Jupyter是一个notebook工具，让代码和markdown更优雅的一起展示,利于教学或者技术分享；Pycharm能帮助我们提高开发效率，\n",
    "我是从业java，对我而言他就是python的idea一般，毕竟都是JetBrains公司的一款IDE}"
   ]
  },
  {
   "cell_type": "markdown",
   "metadata": {
    "pycharm": {}
   },
   "source": [
    "#### 2. What's the Probability Model?"
   ]
  },
  {
   "cell_type": "markdown",
   "metadata": {
    "pycharm": {}
   },
   "source": [
    "Ans: {把实际问题抽象成概率分布。假定既有一定数据量的结果集，把查询串分解成结果集中的属性，通过分析这个些属性在结果集中的出现概率，得到查询串的结果}"
   ]
  },
  {
   "cell_type": "markdown",
   "metadata": {
    "pycharm": {}
   },
   "source": [
    "#### 3. Can you came up with some sceneraies at which we could use Probability Model?"
   ]
  },
  {
   "cell_type": "markdown",
   "metadata": {
    "pycharm": {}
   },
   "source": [
    "Ans: {论文查重、垃圾邮件判识}"
   ]
  },
  {
   "cell_type": "markdown",
   "metadata": {
    "pycharm": {}
   },
   "source": [
    "#### 4. Why do we use probability and what's the difficult points for programming based on parsing and pattern match?"
   ]
  },
  {
   "cell_type": "markdown",
   "metadata": {
    "pycharm": {}
   },
   "source": [
    "Ans: {有些问题本身有一些很难表征出来的属性，用概率可以规避，当数据量足够大的时候，概率就会更趋近真实的结果}\n",
    "Ans: {解析和模式匹配还不是很了解}"
   ]
  },
  {
   "cell_type": "markdown",
   "metadata": {
    "pycharm": {}
   },
   "source": [
    "#### 5. What's the Language Model;"
   ]
  },
  {
   "cell_type": "markdown",
   "metadata": {
    "pycharm": {}
   },
   "source": [
    "Ans: {我们把语言看作是由单词按照一定顺序组成的，我们讨论一个句子的合理性，转成统计这个句子的单词出现在既有数据结果集的概率问题，\n",
    "即$$P(w_1,w_2,..w_n)=P(w_1)P(w_2|w_1)P(w_3|w_1,w_2)...P(w_n)P(w_1,w_2,..w_{n-1})$$}"
   ]
  },
  {
   "cell_type": "markdown",
   "metadata": {
    "pycharm": {}
   },
   "source": [
    "#### 6. Can you came up with some sceneraies at which we could use Language Model?"
   ]
  },
  {
   "cell_type": "markdown",
   "metadata": {
    "pycharm": {}
   },
   "source": [
    "Ans: {机器生成语言(小爱同学、客服机器人)}"
   ]
  },
  {
   "cell_type": "markdown",
   "metadata": {
    "pycharm": {}
   },
   "source": [
    "#### 7. What's the 1-gram language model;"
   ]
  },
  {
   "cell_type": "markdown",
   "metadata": {
    "pycharm": {
     "metadata": false,
     "name": "#%% md\n"
    }
   },
   "source": [
    "Ans: {一个句子就是由一串顺序的文字$w_1w_2w_3...w_n$组成,markov chain表示$$P(w_1,w_2,..w_n)=P(w_1)P(w_2|w_1)P(w_3|w_1,w_2)...P(w_n)P(w_1,w_2,..w_{n-1})$$,显然要计算这个概率要不断的去计算前n-1个词的概率，\n",
    "所谓1-gram language model是一种近似的策略，即$$P(w_1,w_2,..w_n) {\\approx \\prod_{i=1}^n}P(w_i) $$}"
   ]
  },
  {
   "cell_type": "markdown",
   "metadata": {
    "pycharm": {
     "name": "#%% md\n"
    }
   },
   "source": [
    "#### 8. What's the disadvantages and advantages of 1-gram language model;"
   ]
  },
  {
   "cell_type": "markdown",
   "metadata": {
    "pycharm": {}
   },
   "source": [
    "Ans: {1-gram让我们只关心词本身，不去考虑与前面词的联系，这种近似在统计上就变得非常简单。但是这个模型忽略了自然语言语句中单词的出现跟前面的词是有一定联系的，所以它的拟合度并不高，误差就会相对大些。}"
   ]
  },
  {
   "cell_type": "markdown",
   "metadata": {
    "pycharm": {}
   },
   "source": [
    "#### 9. What't the 2-gram models;"
   ]
  },
  {
   "cell_type": "markdown",
   "metadata": {
    "pycharm": {}
   },
   "source": [
    "Ans: {$$P(w_1,w_2,..w_n) \\approx P(w_1)P(w_2|w_1)P(w_3|w_2)...P(w_n)P(w_{n-1})$$,即只关心在前面一个词出现情况下当前词出现。}"
   ]
  },
  {
   "cell_type": "markdown",
   "metadata": {
    "pycharm": {}
   },
   "source": [
    "## 编程实践部分"
   ]
  },
  {
   "cell_type": "markdown",
   "metadata": {
    "pycharm": {}
   },
   "source": [
    "#### 1. 设计你自己的句子生成器"
   ]
  },
  {
   "cell_type": "markdown",
   "metadata": {
    "pycharm": {}
   },
   "source": [
    "如何生成句子是一个很经典的问题，从1940s开始，图灵提出机器智能的时候，就使用的是人类能不能流畅和计算机进行对话。和计算机对话的一个前提是，计算机能够生成语言。\n",
    "\n",
    "计算机如何能生成语言是一个经典但是又很复杂的问题。 我们课程上为大家介绍的是一种基于规则（Rule Based）的生成方法。该方法虽然提出的时间早，但是现在依然在很多地方能够大显身手。值得说明的是，现在很多很实用的算法，都是很久之前提出的，例如，二分查找提出与1940s, Dijstra算法提出于1960s 等等。"
   ]
  },
  {
   "cell_type": "markdown",
   "metadata": {
    "pycharm": {}
   },
   "source": [
    "在著名的电视剧，电影《西部世界》中，这些机器人们语言生成的方法就是使用的SyntaxTree生成语言的方法。\n",
    "\n",
    "> \n",
    ">\n",
    "\n",
    "![WstWorld](https://timgsa.baidu.com/timg?image&quality=80&size=b10000_10000&sec=1561818705&di=95ca9ff2ff37fcb88ae47b82c7079feb&src=http://s7.sinaimg.cn/mw690/006BKUGwzy75VK46FMi66&690)\n",
    "\n",
    "> \n",
    ">"
   ]
  },
  {
   "cell_type": "markdown",
   "metadata": {
    "pycharm": {}
   },
   "source": [
    "在这一部分，需要各位同学首先定义自己的语言。 大家可以先想一个应用场景，然后在这个场景下，定义语法。例如：\n",
    "\n",
    "在西部世界里，一个”人类“的语言可以定义为：\n",
    "``` \n",
    "human = \"\"\"\n",
    "human = 自己 寻找 活动\n",
    "自己 = 我 | 俺 | 我们 \n",
    "寻找 = 看看 | 找找 | 想找点\n",
    "活动 = 乐子 | 玩的\n",
    "\"\"\"\n",
    "```\n",
    "\n",
    "一个“接待员”的语言可以定义为\n",
    "```\n",
    "host = \"\"\"\n",
    "host = 寒暄 报数 询问 业务相关 结尾 \n",
    "报数 = 我是 数字 号 ,\n",
    "数字 = 单个数字 | 数字 单个数字 \n",
    "单个数字 = 1 | 2 | 3 | 4 | 5 | 6 | 7 | 8 | 9 \n",
    "寒暄 = 称谓 打招呼 | 打招呼\n",
    "称谓 = 人称 ,\n",
    "人称 = 先生 | 女士 | 小朋友\n",
    "打招呼 = 你好 | 您好 \n",
    "询问 = 请问你要 | 您需要\n",
    "业务相关 = 玩玩 具体业务\n",
    "玩玩 = 耍一耍 | 玩一玩\n",
    "具体业务 = 喝酒 | 打牌 | 打猎 | 赌博\n",
    "结尾 = 吗？\"\"\"\n",
    "\n",
    "```\n",
    "\n",
    "\n"
   ]
  },
  {
   "cell_type": "markdown",
   "metadata": {
    "pycharm": {}
   },
   "source": [
    "请定义你自己的语法: "
   ]
  },
  {
   "cell_type": "markdown",
   "metadata": {
    "pycharm": {}
   },
   "source": [
    "第一个语法： 健身广告机器人"
   ]
  },
  {
   "cell_type": "code",
   "execution_count": 355,
   "metadata": {
    "pycharm": {}
   },
   "outputs": [],
   "source": [
    "fitness_ad = '''\n",
    "fitness_ad = 勾引术语 目标业务\n",
    "勾引术语 = verb adj* induce_noun\n",
    "verb = 想拥有 | 需要 | 羡慕 | 希望得到 | 喜欢\n",
    "adj* = null | adj adj*\n",
    "adj = 迷人的 | 强壮的 | 完美的 | 令人满意羡慕的| 魔鬼的\n",
    "induce_noun = 体型 | 身材 | 曲线 | 身型 \n",
    "目标业务 = product recommend \n",
    "product = 游泳 | 健身 | 瑜伽 | 形体训练\n",
    "recommend = 了解一下～ | 不要错过呃～ | 非常适合你 | 满足你的需求 | 帮你完成目标 | 成就你 | 实现你的愿望\n",
    "'''"
   ]
  },
  {
   "cell_type": "markdown",
   "metadata": {
    "pycharm": {}
   },
   "source": [
    "第二个语法：接待面试者机器人"
   ]
  },
  {
   "cell_type": "code",
   "execution_count": 356,
   "metadata": {
    "pycharm": {}
   },
   "outputs": [],
   "source": [
    "interview = \"\"\"\n",
    "interview = 人物 礼仪 停顿 机器介绍 询问职位\n",
    "人物 = 同学 | 小明 | 小剑 | 小北\n",
    "礼仪 = 你好 | 很高兴你来参加面试 | 准备好了吗 |我们开始吧\n",
    "停顿 = ，| ！\n",
    "机器介绍 = 我是 编号 号 类型 型 AI机器人，\n",
    "编号 = 数字 | 编号 数字\n",
    "数字 = 0|1|2|3|4|5|6|7|8|9\n",
    "类型 = 字母 | 类型 字母\n",
    "字母 = A|B|C\n",
    "询问职位 = start_verb 面试什么 noun\n",
    "start_verb = 你想 | 请问你 | 你打算 | 你希望\n",
    "noun = 职业 | 岗位 | 方向\n",
    "\n",
    "\"\"\""
   ]
  },
  {
   "cell_type": "markdown",
   "metadata": {
    "pycharm": {}
   },
   "source": [
    "TODO: 然后，使用自己之前定义的generate函数，使用此函数生成句子。"
   ]
  },
  {
   "cell_type": "markdown",
   "metadata": {
    "pycharm": {}
   },
   "source": []
  },
  {
   "cell_type": "code",
   "execution_count": 366,
   "metadata": {},
   "outputs": [],
   "source": [
    "import random"
   ]
  },
  {
   "cell_type": "code",
   "execution_count": 367,
   "metadata": {},
   "outputs": [],
   "source": [
    "def create_grammar(grammar_str, split='=>', line_split='\\n'):\n",
    "    grammar = {}\n",
    "    for line in grammar_str.split(line_split):\n",
    "        if not line.strip(): continue\n",
    "        exp, stmt = line.split(split)\n",
    "        grammar[exp.strip()] = [s.split() for s in stmt.split('|')]\n",
    "    return grammar"
   ]
  },
  {
   "cell_type": "code",
   "execution_count": 368,
   "metadata": {},
   "outputs": [
    {
     "data": {
      "text/plain": [
       "{'interview': [['人物', '礼仪', '停顿', '机器介绍', '询问职位']],\n",
       " '人物': [['同学'], ['小明'], ['小剑'], ['小北']],\n",
       " '礼仪': [['你好'], ['很高兴你来参加面试'], ['准备好了吗'], ['我们开始吧']],\n",
       " '停顿': [['，'], ['！']],\n",
       " '机器介绍': [['我是', '编号', '号', '类型', '型', 'AI机器人，']],\n",
       " '编号': [['数字'], ['编号', '数字']],\n",
       " '数字': [['0'], ['1'], ['2'], ['3'], ['4'], ['5'], ['6'], ['7'], ['8'], ['9']],\n",
       " '类型': [['字母'], ['类型', '字母']],\n",
       " '字母': [['A'], ['B'], ['C']],\n",
       " '询问职位': [['start_verb', '面试什么', 'noun']],\n",
       " 'start_verb': [['你想'], ['请问你'], ['你打算'], ['你希望']],\n",
       " 'noun': [['职业'], ['岗位'], ['方向']]}"
      ]
     },
     "execution_count": 368,
     "metadata": {},
     "output_type": "execute_result"
    }
   ],
   "source": [
    "create_grammar(interview,split='=')"
   ]
  },
  {
   "cell_type": "code",
   "execution_count": 369,
   "metadata": {
    "pycharm": {
     "metadata": false,
     "name": "#%%\n"
    }
   },
   "outputs": [],
   "source": [
    "def generate(gram,target):\n",
    "    if target not in gram: return target\n",
    "    temp = [generate(gram,t) for t in random.choice(gram[target])]\n",
    "    return ''.join([e if e != '/n' else '\\n' for e in temp if e != 'null'])"
   ]
  },
  {
   "cell_type": "code",
   "execution_count": 370,
   "metadata": {},
   "outputs": [
    {
     "data": {
      "text/plain": [
       "'同学很高兴你来参加面试，我是7号B型AI机器人，你打算面试什么岗位'"
      ]
     },
     "execution_count": 370,
     "metadata": {},
     "output_type": "execute_result"
    }
   ],
   "source": [
    "generate(create_grammar(interview,split='='),'interview')"
   ]
  },
  {
   "cell_type": "markdown",
   "metadata": {
    "pycharm": {
     "metadata": false,
     "name": "#%% md\n"
    }
   },
   "source": [
    "TODO: 然后，定义一个函数，generate_n，将generate扩展，使其能够生成n个句子:"
   ]
  },
  {
   "cell_type": "code",
   "execution_count": 381,
   "metadata": {
    "pycharm": {}
   },
   "outputs": [],
   "source": [
    "def generate_n(n,gram_str,split,target):\n",
    "    if not isinstance(n, int) or n <= 0:\n",
    "        print(generate(create_grammar(gram_str,split=split),target))\n",
    "    else:\n",
    "        for _ in range(n):\n",
    "            print(generate(create_grammar(gram_str,split=split),target))"
   ]
  },
  {
   "cell_type": "code",
   "execution_count": 384,
   "metadata": {},
   "outputs": [
    {
     "name": "stdout",
     "output_type": "stream",
     "text": [
      "同学准备好了吗！我是8号BAAB型AI机器人，请问你面试什么方向\n",
      "小明你好！我是1313号A型AI机器人，请问你面试什么方向\n",
      "小剑你好，我是1号CAC型AI机器人，请问你面试什么方向\n",
      "小剑你好！我是788号C型AI机器人，你想面试什么方向\n",
      "小明我们开始吧！我是7号BC型AI机器人，你打算面试什么方向\n",
      "小北你好，我是4号CB型AI机器人，你打算面试什么职业\n",
      "小剑我们开始吧！我是10号C型AI机器人，请问你面试什么方向\n",
      "小北我们开始吧！我是4号C型AI机器人，你打算面试什么职业\n",
      "小北你好！我是1号AA型AI机器人，请问你面试什么职业\n",
      "小北很高兴你来参加面试！我是2号ACB型AI机器人，你想面试什么方向\n",
      "同学我们开始吧！我是8849号AA型AI机器人，请问你面试什么岗位\n",
      "小剑很高兴你来参加面试，我是05号AA型AI机器人，你希望面试什么岗位\n",
      "小剑准备好了吗！我是183号C型AI机器人，请问你面试什么岗位\n",
      "小剑很高兴你来参加面试！我是2012号B型AI机器人，你想面试什么岗位\n",
      "小剑准备好了吗！我是7号ACABBB型AI机器人，你希望面试什么岗位\n",
      "小北准备好了吗！我是21号A型AI机器人，你希望面试什么职业\n",
      "小剑我们开始吧！我是3号C型AI机器人，你打算面试什么岗位\n",
      "小明我们开始吧！我是3号B型AI机器人，请问你面试什么方向\n",
      "小剑我们开始吧！我是1号B型AI机器人，你打算面试什么方向\n",
      "小明准备好了吗！我是86号BC型AI机器人，你想面试什么职业\n"
     ]
    }
   ],
   "source": [
    "generate_n(20,interview,split='=',target='interview')"
   ]
  },
  {
   "cell_type": "markdown",
   "metadata": {
    "pycharm": {}
   },
   "source": [
    ">"
   ]
  },
  {
   "cell_type": "markdown",
   "metadata": {
    "pycharm": {}
   },
   "source": [
    "#### 2. 使用新数据源完成语言模型的训练"
   ]
  },
  {
   "cell_type": "markdown",
   "metadata": {
    "pycharm": {}
   },
   "source": [
    "按照我们上文中定义的`prob_2`函数，我们更换一个文本数据源，获得新的Language Model:\n",
    "\n",
    "1. 下载文本数据集（你可以在以下数据集中任选一个，也可以两个都使用）\n",
    "    + 可选数据集1，保险行业问询对话集： https://github.com/Computing-Intelligence/insuranceqa-corpus-zh/raw/release/corpus/pool/train.txt.gz\n",
    "    + 可选数据集2：豆瓣评论数据集：https://github.com/Computing-Intelligence/datasource/raw/master/movie_comments.csv\n",
    "2. 修改代码，获得新的**2-gram**语言模型\n",
    "    + 进行文本清洗，获得所有的纯文本\n",
    "    + 将这些文本进行切词\n",
    "    + 送入之前定义的语言模型中，判断文本的合理程度"
   ]
  },
  {
   "cell_type": "markdown",
   "metadata": {
    "pycharm": {}
   },
   "source": [
    "> "
   ]
  },
  {
   "cell_type": "code",
   "execution_count": 168,
   "metadata": {
    "pycharm": {
     "metadata": false,
     "name": "#%%\n"
    }
   },
   "outputs": [],
   "source": [
    "filename1 = '/Users/yuxijian/Downloads/train.txt'\n",
    "filename2 = '/Users/yuxijian/Downloads/train_csv.txt'"
   ]
  },
  {
   "cell_type": "code",
   "execution_count": 170,
   "metadata": {},
   "outputs": [],
   "source": [
    "content = ''\n",
    "with open(filename1,'r') as f:\n",
    "    while True:\n",
    "        line = f.readline()\n",
    "        if line:\n",
    "            content += line.strip()\n",
    "        else:\n",
    "            break\n",
    "with open(filename2,'r') as f:\n",
    "    while True:\n",
    "        line = f.readline()\n",
    "        if line:\n",
    "            content += line.strip()\n",
    "        else:\n",
    "            break"
   ]
  },
  {
   "cell_type": "code",
   "execution_count": 171,
   "metadata": {},
   "outputs": [],
   "source": [
    "import re"
   ]
  },
  {
   "cell_type": "code",
   "execution_count": 172,
   "metadata": {},
   "outputs": [],
   "source": [
    "content_arr = re.findall('[\\u4e00-\\u9fff]+',content)"
   ]
  },
  {
   "cell_type": "code",
   "execution_count": null,
   "metadata": {},
   "outputs": [],
   "source": []
  },
  {
   "cell_type": "code",
   "execution_count": null,
   "metadata": {},
   "outputs": [],
   "source": []
  },
  {
   "cell_type": "code",
   "execution_count": 173,
   "metadata": {},
   "outputs": [],
   "source": [
    "content_str = ''.join(content_arr)"
   ]
  },
  {
   "cell_type": "code",
   "execution_count": 192,
   "metadata": {},
   "outputs": [
    {
     "data": {
      "text/plain": [
       "9036913"
      ]
     },
     "execution_count": 192,
     "metadata": {},
     "output_type": "execute_result"
    }
   ],
   "source": [
    "len(content_str)"
   ]
  },
  {
   "cell_type": "code",
   "execution_count": 193,
   "metadata": {},
   "outputs": [
    {
     "data": {
      "text/plain": [
       "'欢的类型了相对来说这种挣扎的过程是很吸引人的都有这样一个过程认识并承认自己文森特是很幸运的有爱他的父母和朋友退而求其次真的对女友很艰难么也许吧不羁美少年又一部出柜奋斗史男主不错可惜遇到的人都满渣的不羁美少年美人啊作为又一部出柜的同志片来说我只能感叹这是欧洲国家我们只能表示羡慕嫉妒恨不羁美少年戏略出戏结尾坑爹不过男主真的有一双漂亮可爱的大眼睛啊太萌但是我觉得他为人略让人受不了不羁美少年还行不羁美少年无聊拍摄手法不羁美少年小男主游泳游得真心挺快不羁美少年不羁美少年第一個吻好美不卑不亢整體感覺良好這是比較現實和年輕的故事不羁美少年文森忧郁的眼神叫人心疼不羁美少年还不错最后结尾互相追逐的那个恶寒啊不羁美少年百度云居然把我存的这片子禁了哈不羁美少年话说法国出帅哥法国人喜欢浪漫冲着片名我点犹豫都没有的看了少年美不美真不好说但是周围人从知道男主是后一开始的排挤到最后的接受倒是透着心灵美的影子男主是幸运的父母老师朋友教练以及上过床的女友从一开始便站在他的一边这不得不说是电影又一次创造了奇迹不羁美少年第一個吻好美不卑不亢整體感覺良好這是比較現實和年輕的故事不羁美少年文森忧郁的眼神叫人心疼不羁美少年还不错最后结尾互相追逐的那个恶寒啊不羁美少年百度云居然把我存的这片子禁了哈不羁美少年话说法国出帅哥法国人喜欢浪漫冲着片名我点犹豫都没有的看了少年美不美真不好说但是周围人从知道男主是后一开始的排挤到最后的接受倒是透着心灵美的影子男主是幸运的父母老师朋友教练以及上过床的女友从一开始便站在他的一边这不得不说是电影又一次创造了奇迹不羁美少年生活爱情亲情友情选择不羁美少年一般般不羁美少年电影一般可以随便看看不羁美少年我到底是怎么看完它的不羁美少年成长的烦恼美型的少年难以看清的真相不羁美少年轻松喜剧电影不羁美少年温暖的剧情温暖的结局不羁美少年主角们都很好看又是一个碧悲情的小女主角又是一段关于十七岁的故事不羁美少年一切都是爲了顏不羁美少年大概看了总的来说还是不错其实内心是十分期待男主和他的好友发生点什么的哎不羁美少年内容只能说一般女性角色怎么都这么悲催啊不过男猪脚很帅不羁美少年翘了三天班就窝在家里看小基片惹手动拜拜不羁美少年我喜欢女主角希腊雕塑一般的面庞与身体在一部同志题材的电影中迷恋女主角好像很不应该吧不羁美少年冲着颜值还可以看下去不羁美少年除了主人公都不帅女主挺漂亮之外唯一的感觉就是他男朋友真让人恶心'"
      ]
     },
     "execution_count": 193,
     "metadata": {},
     "output_type": "execute_result"
    }
   ],
   "source": [
    "content_str[-1000:]"
   ]
  },
  {
   "cell_type": "code",
   "execution_count": 194,
   "metadata": {},
   "outputs": [],
   "source": [
    "from collections import Counter\n",
    "import jieba"
   ]
  },
  {
   "cell_type": "code",
   "execution_count": 195,
   "metadata": {},
   "outputs": [],
   "source": [
    "words_count = Counter(jieba.cut(content_str))"
   ]
  },
  {
   "cell_type": "code",
   "execution_count": 196,
   "metadata": {},
   "outputs": [
    {
     "data": {
      "text/plain": [
       "9036913"
      ]
     },
     "execution_count": 196,
     "metadata": {},
     "output_type": "execute_result"
    }
   ],
   "source": [
    "len(content_str)"
   ]
  },
  {
   "cell_type": "code",
   "execution_count": 197,
   "metadata": {},
   "outputs": [
    {
     "data": {
      "text/plain": [
       "[('的', 360823),\n",
       " ('了', 104067),\n",
       " ('是', 77752),\n",
       " ('我', 59625),\n",
       " ('都', 36740),\n",
       " ('很', 35061),\n",
       " ('在', 34675),\n",
       " ('和', 34393),\n",
       " ('电影', 33972),\n",
       " ('看', 33861),\n",
       " ('也', 32977),\n",
       " ('不', 29970),\n",
       " ('有', 29127),\n",
       " ('人', 27468),\n",
       " ('就', 25992),\n",
       " ('好', 22935),\n",
       " ('啊', 21466),\n",
       " ('你', 20483),\n",
       " ('一个', 19328),\n",
       " ('这', 17866),\n",
       " ('还', 17704),\n",
       " ('故事', 17079),\n",
       " ('还是', 16456),\n",
       " ('但', 15572),\n",
       " ('没有', 14855),\n",
       " ('就是', 14006),\n",
       " ('喜欢', 13705),\n",
       " ('让', 13552),\n",
       " ('与', 12882),\n",
       " ('太', 12563),\n",
       " ('什么', 12266),\n",
       " ('又', 11561),\n",
       " ('之', 11393),\n",
       " ('剧情', 11358),\n",
       " ('上', 11351),\n",
       " ('吧', 11090),\n",
       " ('没', 11083),\n",
       " ('说', 11041),\n",
       " ('他', 11009),\n",
       " ('得', 10779),\n",
       " ('可以', 10676),\n",
       " ('被', 10481),\n",
       " ('给', 10462),\n",
       " ('到', 10455),\n",
       " ('不错', 10416),\n",
       " ('这个', 10347),\n",
       " ('对', 10325),\n",
       " ('最后', 10127),\n",
       " ('能', 9725),\n",
       " ('一部', 9686),\n",
       " ('片子', 9584),\n",
       " ('多', 9267),\n",
       " ('最', 9116),\n",
       " ('中', 9057),\n",
       " ('爱', 8997),\n",
       " ('不是', 8897),\n",
       " ('觉得', 8626),\n",
       " ('要', 8573),\n",
       " ('小', 8558),\n",
       " ('自己', 8464),\n",
       " ('拍', 8432),\n",
       " ('导演', 8390),\n",
       " ('好看', 8079),\n",
       " ('去', 8031),\n",
       " ('里', 8005),\n",
       " ('真的', 7940),\n",
       " ('那', 7910),\n",
       " ('感觉', 7869),\n",
       " ('但是', 7847),\n",
       " ('会', 7775),\n",
       " ('大', 7645),\n",
       " ('想', 7625),\n",
       " ('有点', 7482),\n",
       " ('这部', 7434),\n",
       " ('吗', 7296),\n",
       " ('我们', 7291),\n",
       " ('把', 7269),\n",
       " ('着', 7078),\n",
       " ('个', 6869),\n",
       " ('这么', 6807),\n",
       " ('这样', 6635),\n",
       " ('那么', 6553),\n",
       " ('而', 6541),\n",
       " ('时候', 6516),\n",
       " ('真是', 6452),\n",
       " ('更', 6450),\n",
       " ('这种', 6377),\n",
       " ('不过', 6292),\n",
       " ('挺', 6205),\n",
       " ('比', 6198),\n",
       " ('片', 6088),\n",
       " ('却', 5990),\n",
       " ('来', 5965),\n",
       " ('再', 5785),\n",
       " ('像', 5692),\n",
       " ('其实', 5690),\n",
       " ('知道', 5660),\n",
       " ('真', 5640),\n",
       " ('虽然', 5633),\n",
       " ('演技', 5630)]"
      ]
     },
     "execution_count": 197,
     "metadata": {},
     "output_type": "execute_result"
    }
   ],
   "source": [
    "words_count.most_common(100)"
   ]
  },
  {
   "cell_type": "code",
   "execution_count": 198,
   "metadata": {},
   "outputs": [],
   "source": [
    "frequency = [y for x,y in words_count.most_common(100)]"
   ]
  },
  {
   "cell_type": "code",
   "execution_count": 199,
   "metadata": {},
   "outputs": [
    {
     "data": {
      "text/plain": [
       "[360823, 104067, 77752, 59625, 36740, 35061, 34675, 34393, 33972, 33861]"
      ]
     },
     "execution_count": 199,
     "metadata": {},
     "output_type": "execute_result"
    }
   ],
   "source": [
    "frequency[:10]"
   ]
  },
  {
   "cell_type": "code",
   "execution_count": 200,
   "metadata": {},
   "outputs": [],
   "source": [
    "import matplotlib.pyplot as plt"
   ]
  },
  {
   "cell_type": "code",
   "execution_count": 201,
   "metadata": {},
   "outputs": [
    {
     "data": {
      "text/plain": [
       "[<matplotlib.lines.Line2D at 0x117acae48>]"
      ]
     },
     "execution_count": 201,
     "metadata": {},
     "output_type": "execute_result"
    },
    {
     "data": {
      "image/png": "[encoded data removed]",
      "text/plain": [
       "<Figure size 432x288 with 1 Axes>"
      ]
     },
     "metadata": {
      "needs_background": "light"
     },
     "output_type": "display_data"
    }
   ],
   "source": [
    "plt.plot(range(100), frequency)"
   ]
  },
  {
   "cell_type": "code",
   "execution_count": 202,
   "metadata": {},
   "outputs": [],
   "source": [
    "import numpy as np"
   ]
  },
  {
   "cell_type": "code",
   "execution_count": 203,
   "metadata": {},
   "outputs": [
    {
     "data": {
      "text/plain": [
       "1.0"
      ]
     },
     "execution_count": 203,
     "metadata": {},
     "output_type": "execute_result"
    }
   ],
   "source": [
    "np.log(np.e)"
   ]
  },
  {
   "cell_type": "code",
   "execution_count": 204,
   "metadata": {},
   "outputs": [
    {
     "data": {
      "text/plain": [
       "[<matplotlib.lines.Line2D at 0x11d1d61d0>]"
      ]
     },
     "execution_count": 204,
     "metadata": {},
     "output_type": "execute_result"
    },
    {
     "data": {
      "image/png": "[encoded data removed]",
      "text/plain": [
       "<Figure size 432x288 with 1 Axes>"
      ]
     },
     "metadata": {
      "needs_background": "light"
     },
     "output_type": "display_data"
    }
   ],
   "source": [
    "plt.plot(range(100),np.log(frequency))"
   ]
  },
  {
   "cell_type": "code",
   "execution_count": 205,
   "metadata": {},
   "outputs": [
    {
     "data": {
      "text/plain": [
       "5031"
      ]
     },
     "execution_count": 205,
     "metadata": {},
     "output_type": "execute_result"
    }
   ],
   "source": [
    "words_count['保险']"
   ]
  },
  {
   "cell_type": "code",
   "execution_count": 293,
   "metadata": {},
   "outputs": [
    {
     "data": {
      "text/plain": [
       "153254"
      ]
     },
     "execution_count": 293,
     "metadata": {},
     "output_type": "execute_result"
    }
   ],
   "source": [
    "len(words_count)"
   ]
  },
  {
   "cell_type": "code",
   "execution_count": 294,
   "metadata": {},
   "outputs": [],
   "source": [
    "word_gram_1 = list(jieba.cut(content_str))"
   ]
  },
  {
   "cell_type": "code",
   "execution_count": 296,
   "metadata": {},
   "outputs": [
    {
     "data": {
      "text/plain": [
       "5186726"
      ]
     },
     "execution_count": 296,
     "metadata": {},
     "output_type": "execute_result"
    }
   ],
   "source": [
    "len(word_gram_1)"
   ]
  },
  {
   "cell_type": "code",
   "execution_count": 300,
   "metadata": {},
   "outputs": [],
   "source": [
    "def probability_1(word):\n",
    "    return words_count[word] / len(word_gram_1)"
   ]
  },
  {
   "cell_type": "code",
   "execution_count": 301,
   "metadata": {},
   "outputs": [
    {
     "data": {
      "text/plain": [
       "0.00140570371367217"
      ]
     },
     "execution_count": 301,
     "metadata": {},
     "output_type": "execute_result"
    }
   ],
   "source": [
    "probability_1('我们')"
   ]
  },
  {
   "cell_type": "code",
   "execution_count": 304,
   "metadata": {},
   "outputs": [
    {
     "data": {
      "text/plain": [
       "['法律', '要求', '残疾', '保险', '吗', '债权人', '可以', '在', '死', '后']"
      ]
     },
     "execution_count": 304,
     "metadata": {},
     "output_type": "execute_result"
    }
   ],
   "source": [
    "word_gram_1[:10]"
   ]
  },
  {
   "cell_type": "code",
   "execution_count": 334,
   "metadata": {},
   "outputs": [
    {
     "data": {
      "text/plain": [
       "['漂亮', '之外', '唯一', '的', '感觉', '就是', '他', '男朋友', '真让人', '恶心']"
      ]
     },
     "execution_count": 334,
     "metadata": {},
     "output_type": "execute_result"
    }
   ],
   "source": [
    "word_gram_1[-10:]"
   ]
  },
  {
   "cell_type": "code",
   "execution_count": 335,
   "metadata": {},
   "outputs": [],
   "source": [
    "word_gram_2 = [''.join(word_gram_1[i]+word_gram_1[i+1]) for i in range(len(word_gram_1)-1)] "
   ]
  },
  {
   "cell_type": "code",
   "execution_count": 338,
   "metadata": {},
   "outputs": [
    {
     "data": {
      "text/plain": [
       "['法律要求', '要求残疾', '残疾保险', '保险吗', '吗债权人', '债权人可以', '可以在', '在死', '死后', '后人寿保险']"
      ]
     },
     "execution_count": 338,
     "metadata": {},
     "output_type": "execute_result"
    }
   ],
   "source": [
    "word_gram_2[:10]"
   ]
  },
  {
   "cell_type": "code",
   "execution_count": 339,
   "metadata": {},
   "outputs": [
    {
     "data": {
      "text/plain": [
       "['漂亮之外', '之外唯一', '唯一的', '的感觉', '感觉就是', '就是他', '他男朋友', '男朋友真让人', '真让人恶心']"
      ]
     },
     "execution_count": 339,
     "metadata": {},
     "output_type": "execute_result"
    }
   ],
   "source": [
    "word_gram_2[-9:]"
   ]
  },
  {
   "cell_type": "code",
   "execution_count": 340,
   "metadata": {},
   "outputs": [],
   "source": [
    "word_gram_2.append(''.join(word_gram_1[-1:]))"
   ]
  },
  {
   "cell_type": "code",
   "execution_count": 341,
   "metadata": {},
   "outputs": [
    {
     "data": {
      "text/plain": [
       "['之外唯一', '唯一的', '的感觉', '感觉就是', '就是他', '他男朋友', '男朋友真让人', '真让人恶心', '恶心']"
      ]
     },
     "execution_count": 341,
     "metadata": {},
     "output_type": "execute_result"
    }
   ],
   "source": [
    "word_gram_2[-9:]"
   ]
  },
  {
   "cell_type": "code",
   "execution_count": 342,
   "metadata": {},
   "outputs": [],
   "source": [
    "words_count_2 = Counter(word_gram_2)"
   ]
  },
  {
   "cell_type": "code",
   "execution_count": 343,
   "metadata": {},
   "outputs": [
    {
     "data": {
      "text/plain": [
       "1879732"
      ]
     },
     "execution_count": 343,
     "metadata": {},
     "output_type": "execute_result"
    }
   ],
   "source": [
    "len(words_count_2)"
   ]
  },
  {
   "cell_type": "code",
   "execution_count": 344,
   "metadata": {},
   "outputs": [],
   "source": [
    "def probability_2(word1,word2):\n",
    "    if word1 + word2 in words_count_2:\n",
    "        return words_count_2[word1+word2]/len(word_gram_2)\n",
    "    else:\n",
    "        return 1 / len(word_gram_2) "
   ]
  },
  {
   "cell_type": "code",
   "execution_count": 346,
   "metadata": {},
   "outputs": [
    {
     "data": {
      "text/plain": [
       "1.9279985100427516e-07"
      ]
     },
     "execution_count": 346,
     "metadata": {},
     "output_type": "execute_result"
    }
   ],
   "source": [
    "probability_2('我爱','中国')"
   ]
  },
  {
   "cell_type": "code",
   "execution_count": 347,
   "metadata": {},
   "outputs": [],
   "source": [
    "def get_prob(sentence):\n",
    "    words = list(jieba.cut(sentence))\n",
    "    \n",
    "    sentence_prob = 1\n",
    "\n",
    "    for i,word in enumerate(words[:-1]):\n",
    "        next_ = words[i+1]\n",
    "        \n",
    "        word_prob = probability_2(word, next_)\n",
    "        \n",
    "        sentence_prob *= word_prob\n",
    "    return sentence_prob"
   ]
  },
  {
   "cell_type": "code",
   "execution_count": 400,
   "metadata": {},
   "outputs": [
    {
     "data": {
      "text/plain": [
       "2.8666856546708426e-20"
      ]
     },
     "execution_count": 400,
     "metadata": {},
     "output_type": "execute_result"
    }
   ],
   "source": [
    "get_prob('小明正在吃午饭')"
   ]
  },
  {
   "cell_type": "code",
   "execution_count": 402,
   "metadata": {},
   "outputs": [
    {
     "data": {
      "text/plain": [
       "3.71717825472707e-14"
      ]
     },
     "execution_count": 402,
     "metadata": {},
     "output_type": "execute_result"
    }
   ],
   "source": [
    "get_prob('午饭正在吃小明')"
   ]
  },
  {
   "cell_type": "code",
   "execution_count": 393,
   "metadata": {
    "scrolled": true
   },
   "outputs": [],
   "source": [
    "sentence_arr = [generate(create_grammar(fitness_ad,split='='),'fitness_ad') for i in range(20)]"
   ]
  },
  {
   "cell_type": "code",
   "execution_count": 394,
   "metadata": {},
   "outputs": [
    {
     "name": "stdout",
     "output_type": "stream",
     "text": [
      "sentence:喜欢迷人的魔鬼的魔鬼的令人满意羡慕的体型健身了解一下～ with prob 1.4037294028283237e-85\n",
      "sentence:需要迷人的完美的曲线瑜伽满足你的需求 with prob 5.2090503383805114e-55\n",
      "sentence:喜欢身材游泳成就你 with prob 1.3817414177415786e-27\n",
      "sentence:喜欢身型瑜伽不要错过呃～ with prob 1.1813212048874921e-39\n",
      "sentence:需要强壮的体型游泳了解一下～ with prob 3.861992843186728e-46\n",
      "sentence:想拥有身型游泳成就你 with prob 3.9959930920051835e-33\n",
      "sentence:想拥有完美的曲线瑜伽帮你完成目标 with prob 4.806293655399446e-55\n",
      "sentence:希望得到体型形体训练实现你的愿望 with prob 4.350897177465663e-49\n",
      "sentence:想拥有魔鬼的魔鬼的身材形体训练实现你的愿望 with prob 7.441604756513917e-70\n",
      "sentence:想拥有强壮的曲线游泳非常适合你 with prob 2.9707637255282513e-46\n",
      "sentence:希望得到强壮的令人满意羡慕的迷人的体型游泳实现你的愿望 with prob 4.537935685080761e-84\n",
      "sentence:想拥有曲线瑜伽实现你的愿望 with prob 1.6925183635265828e-41\n",
      "sentence:羡慕身材瑜伽满足你的需求 with prob 1.2965359756180841e-35\n",
      "sentence:羡慕完美的体型瑜伽帮你完成目标 with prob 2.4928928266095344e-49\n",
      "sentence:喜欢曲线形体训练满足你的需求 with prob 2.4997194292084916e-42\n",
      "sentence:希望得到身型形体训练帮你完成目标 with prob 2.3674195884231095e-52\n",
      "sentence:羡慕曲线瑜伽实现你的愿望 with prob 5.852419334387185e-36\n",
      "sentence:希望得到完美的身材健身满足你的需求 with prob 1.6176830933597235e-50\n",
      "sentence:想拥有迷人的体型游泳满足你的需求 with prob 4.557678276887145e-52\n",
      "sentence:喜欢迷人的曲线瑜伽实现你的愿望 with prob 4.742477923437574e-47\n"
     ]
    }
   ],
   "source": [
    "for i in sentence_arr:\n",
    "    print('sentence:{} with prob {}'.format(i,get_prob(i)))"
   ]
  },
  {
   "cell_type": "code",
   "execution_count": 389,
   "metadata": {},
   "outputs": [],
   "source": [
    "sentence_arr = [generate(create_grammar(interview,split='='),'interview') for i in range(20)]"
   ]
  },
  {
   "cell_type": "code",
   "execution_count": 390,
   "metadata": {},
   "outputs": [
    {
     "name": "stdout",
     "output_type": "stream",
     "text": [
      "sentence:小剑我们开始吧，我是6号C型AI机器人，你希望面试什么方向 with prob 5.6114895267484015e-117\n",
      "sentence:小明很高兴你来参加面试，我是46号ABABBB型AI机器人，你想面试什么岗位 with prob 5.2872702371130395e-133\n",
      "sentence:小剑我们开始吧，我是8号C型AI机器人，你想面试什么岗位 with prob 1.8630145228804698e-115\n",
      "sentence:小明我们开始吧！我是12号C型AI机器人，请问你面试什么职业 with prob 6.733787432098083e-117\n",
      "sentence:同学你好！我是9号BCCBA型AI机器人，请问你面试什么职业 with prob 2.415376026527594e-103\n",
      "sentence:小明准备好了吗，我是6号AA型AI机器人，你希望面试什么方向 with prob 2.9105258627113633e-110\n",
      "sentence:小剑很高兴你来参加面试！我是1424号CAA型AI机器人，你打算面试什么岗位 with prob 6.37020510495547e-135\n",
      "sentence:小明准备好了吗，我是57号ACB型AI机器人，你想面试什么方向 with prob 9.662945864201725e-109\n",
      "sentence:小明准备好了吗！我是944849号C型AI机器人，你想面试什么职业 with prob 2.8988837592605176e-108\n",
      "sentence:同学我们开始吧！我是53号B型AI机器人，你想面试什么职业 with prob 2.8988837592605176e-108\n",
      "sentence:同学你好！我是37号A型AI机器人，你想面试什么岗位 with prob 3.466050572783636e-95\n",
      "sentence:同学准备好了吗！我是7号ACCC型AI机器人，你想面试什么方向 with prob 9.662945864201725e-109\n",
      "sentence:小北你好，我是85号C型AI机器人，请问你面试什么岗位 with prob 2.0128133554396615e-104\n",
      "sentence:小北很高兴你来参加面试！我是3号BB型AI机器人，你打算面试什么岗位 with prob 6.37020510495547e-135\n",
      "sentence:小北很高兴你来参加面试，我是943号C型AI机器人，你希望面试什么岗位 with prob 1.592551276238867e-134\n",
      "sentence:小北你好，我是2号B型AI机器人，你打算面试什么岗位 with prob 1.0439911363806133e-97\n",
      "sentence:同学你好，我是14号BBB型AI机器人，你想面试什么岗位 with prob 6.682540340059677e-102\n",
      "sentence:小剑很高兴你来参加面试！我是7号B型AI机器人，你希望面试什么岗位 with prob 8.260127110801313e-128\n",
      "sentence:小北准备好了吗，我是485号B型AI机器人，你希望面试什么职业 with prob 4.528830049739236e-103\n",
      "sentence:小剑准备好了吗！我是311467号A型AI机器人，你希望面试什么岗位 with prob 1.5096100165797453e-103\n"
     ]
    }
   ],
   "source": [
    "for i in sentence_arr:\n",
    "    print('sentence:{} with prob {}'.format(i,get_prob(i)))"
   ]
  },
  {
   "cell_type": "code",
   "execution_count": null,
   "metadata": {},
   "outputs": [],
   "source": []
  },
  {
   "cell_type": "code",
   "execution_count": null,
   "metadata": {},
   "outputs": [],
   "source": []
  },
  {
   "cell_type": "code",
   "execution_count": null,
   "metadata": {},
   "outputs": [],
   "source": []
  },
  {
   "cell_type": "code",
   "execution_count": null,
   "metadata": {},
   "outputs": [],
   "source": []
  },
  {
   "cell_type": "markdown",
   "metadata": {},
   "source": [
    "#### 3. 获得最优质的的语言\n",
    "#%% md\n",
    "当我们能够生成随机的语言并且能判断之后，我们就可以生成更加合理的语言了。请定义 generate_best 函数，该函数输入一个语法 + 语言模型，能够生成**n**个句子，并能选择一个最合理的句子: "
   ]
  },
  {
   "cell_type": "markdown",
   "metadata": {
    "pycharm": {}
   },
   "source": [
    "提示，要实现这个函数，你需要Python的sorted函数"
   ]
  },
  {
   "cell_type": "code",
   "execution_count": 13,
   "metadata": {
    "pycharm": {}
   },
   "outputs": [
    {
     "data": {
      "text/plain": [
       "[1, 2, 3, 5]"
      ]
     },
     "execution_count": 13,
     "metadata": {},
     "output_type": "execute_result"
    }
   ],
   "source": [
    "sorted([1, 3, 5, 2])"
   ]
  },
  {
   "cell_type": "markdown",
   "metadata": {
    "pycharm": {}
   },
   "source": [
    "这个函数接受一个参数key，这个参数接受一个函数作为输入，例如"
   ]
  },
  {
   "cell_type": "code",
   "execution_count": 15,
   "metadata": {
    "pycharm": {}
   },
   "outputs": [
    {
     "data": {
      "text/plain": [
       "[(1, 4), (2, 5), (4, 4), (5, 0)]"
      ]
     },
     "execution_count": 15,
     "metadata": {},
     "output_type": "execute_result"
    }
   ],
   "source": [
    "sorted([(2, 5), (1, 4), (5, 0), (4, 4)], key=lambda x: x[0])"
   ]
  },
  {
   "cell_type": "markdown",
   "metadata": {
    "pycharm": {}
   },
   "source": [
    "能够让list按照第0个元素进行排序."
   ]
  },
  {
   "cell_type": "code",
   "execution_count": 16,
   "metadata": {
    "pycharm": {}
   },
   "outputs": [
    {
     "data": {
      "text/plain": [
       "[(5, 0), (1, 4), (4, 4), (2, 5)]"
      ]
     },
     "execution_count": 16,
     "metadata": {},
     "output_type": "execute_result"
    }
   ],
   "source": [
    "sorted([(2, 5), (1, 4), (5, 0), (4, 4)], key=lambda x: x[1])"
   ]
  },
  {
   "cell_type": "markdown",
   "metadata": {
    "pycharm": {}
   },
   "source": [
    "能够让list按照第1个元素进行排序."
   ]
  },
  {
   "cell_type": "code",
   "execution_count": 17,
   "metadata": {
    "pycharm": {}
   },
   "outputs": [
    {
     "data": {
      "text/plain": [
       "[(2, 5), (1, 4), (4, 4), (5, 0)]"
      ]
     },
     "execution_count": 17,
     "metadata": {},
     "output_type": "execute_result"
    }
   ],
   "source": [
    "sorted([(2, 5), (1, 4), (5, 0), (4, 4)], key=lambda x: x[1], reverse=True)"
   ]
  },
  {
   "cell_type": "markdown",
   "metadata": {
    "pycharm": {}
   },
   "source": [
    "能够让list按照第1个元素进行排序, 但是是递减的顺序。"
   ]
  },
  {
   "cell_type": "markdown",
   "metadata": {
    "pycharm": {}
   },
   "source": [
    ">"
   ]
  },
  {
   "cell_type": "code",
   "execution_count": 412,
   "metadata": {
    "pycharm": {}
   },
   "outputs": [],
   "source": [
    "def generate_best(n,gram_str,split,target): # you code here\n",
    "    sentence_arr = [generate(create_grammar(gram_str,split=split),target) for i in range(n)]\n",
    "    sort_prob = sorted([(x,get_prob(x)) for x in sentence_arr],key =lambda i: i[1],reverse=True)\n",
    "    return sort_prob[0][0]    "
   ]
  },
  {
   "cell_type": "code",
   "execution_count": 424,
   "metadata": {},
   "outputs": [
    {
     "data": {
      "text/plain": [
       "'同学你好！我是3号A型AI机器人，请问你面试什么方向'"
      ]
     },
     "execution_count": 424,
     "metadata": {},
     "output_type": "execute_result"
    }
   ],
   "source": [
    "generate_best(20,interview,split='=',target='interview')"
   ]
  },
  {
   "cell_type": "markdown",
   "metadata": {},
   "source": [
    ">"
   ]
  },
  {
   "cell_type": "markdown",
   "metadata": {
    "pycharm": {}
   },
   "source": [
    "好了，现在我们实现了自己的第一个AI模型，这个模型能够生成比较接近于人类的语言。"
   ]
  },
  {
   "cell_type": "markdown",
   "metadata": {
    "pycharm": {}
   },
   "source": [
    ">"
   ]
  },
  {
   "cell_type": "markdown",
   "metadata": {
    "pycharm": {}
   },
   "source": [
    "Q: 这个模型有什么问题？ 你准备如何提升？ "
   ]
  },
  {
   "cell_type": "markdown",
   "metadata": {
    "pycharm": {}
   },
   "source": [
    "Ans:"
   ]
  },
  {
   "cell_type": "markdown",
   "metadata": {
    "pycharm": {}
   },
   "source": [
    ">我要生成的语句所表示的含义，跟模型训练的数据类型有一定关系。类型相似度越高，模拟效率会更接近。如果我要生成面试接待机器人，我拿金融相关的数据去训练，效果不是很好。"
   ]
  },
  {
   "cell_type": "markdown",
   "metadata": {
    "pycharm": {}
   },
   "source": [
    "##### 以下内容为可选部分，对于绝大多数同学，能完成以上的项目已经很优秀了，下边的内容如果你还有精力可以试试，但不是必须的。"
   ]
  },
  {
   "cell_type": "markdown",
   "metadata": {
    "pycharm": {}
   },
   "source": [
    "#### 4. (Optional) 完成基于Pattern Match的语句问答\n",
    "> 我们的GitHub仓库中，有一个assignment-01-optional-pattern-match，这个难度较大，感兴趣的同学可以挑战一下。"
   ]
  },
  {
   "cell_type": "markdown",
   "metadata": {
    "pycharm": {}
   },
   "source": [
    "\n",
    "#### 5. (Optional) 完成阿兰图灵机器智能原始论文的阅读\n",
    "1. 请阅读阿兰图灵关于机器智能的原始论文：https://github.com/Computing-Intelligence/References/blob/master/AI%20%26%20Machine%20Learning/Computer%20Machinery%20and%20Intelligence.pdf \n",
    "2. 并按照GitHub仓库中的论文阅读模板，填写完毕后发送给我: mqgao@kaikeba.com 谢谢"
   ]
  },
  {
   "cell_type": "markdown",
   "metadata": {
    "pycharm": {}
   },
   "source": [
    "> "
   ]
  },
  {
   "cell_type": "markdown",
   "metadata": {
    "pycharm": {}
   },
   "source": [
    "各位同学，我们已经完成了自己的第一个AI模型，大家对人工智能可能已经有了一些感觉，人工智能的核心就是，我们如何设计一个模型、程序，在外部的输入变化的时候，我们的程序不变，依然能够解决问题。人工智能是一个很大的领域，目前大家所熟知的深度学习只是其中一小部分，之后也肯定会有更多的方法提出来，但是大家知道人工智能的目标，就知道了之后进步的方向。"
   ]
  },
  {
   "cell_type": "markdown",
   "metadata": {
    "pycharm": {}
   },
   "source": [
    "然后，希望大家对AI不要有恐惧感，这个并不难，大家加油！"
   ]
  },
  {
   "cell_type": "markdown",
   "metadata": {
    "pycharm": {}
   },
   "source": [
    ">"
   ]
  },
  {
   "cell_type": "markdown",
   "metadata": {
    "pycharm": {}
   },
   "source": [
    "![](https://timgsa.baidu.com/timg?image&quality=80&size=b9999_10000&sec=1561828422005&di=48d19c16afb6acc9180183a6116088ac&imgtype=0&src=http%3A%2F%2Fb-ssl.duitang.com%2Fuploads%2Fitem%2F201807%2F28%2F20180728150843_BECNF.thumb.224_0.jpeg)"
   ]
  }
 ],
 "metadata": {
  "kernelspec": {
   "display_name": "Python 3",
   "language": "python",
   "name": "python3"
  },
  "language_info": {
   "codemirror_mode": {
    "name": "ipython",
    "version": 3
   },
   "file_extension": ".py",
   "mimetype": "text/x-python",
   "name": "python",
   "nbconvert_exporter": "python",
   "pygments_lexer": "ipython3",
   "version": "3.7.3"
  }
 },
 "nbformat": 4,
 "nbformat_minor": 2
}
