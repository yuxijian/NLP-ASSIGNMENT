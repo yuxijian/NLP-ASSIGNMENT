{
 "cells": [
  {
   "cell_type": "markdown",
   "metadata": {},
   "source": [
    "## 新闻信息提取 开发笔记"
   ]
  },
  {
   "cell_type": "markdown",
   "metadata": {},
   "source": [
    "* web环境搭建\n",
    "\n",
    "      基于flask、bootstrap主题搭建web应用"
   ]
  },
  {
   "cell_type": "markdown",
   "metadata": {},
   "source": [
    "* 服务器安装gunicorn部署web服务\n",
    "  ```\n",
    "  # pip install gunicorn\n",
    "\n",
    "  # gunicorn -w 2 -b 0.0.0.0:8000 app:app\n",
    "\n",
    "  ```"
   ]
  },
  {
   "cell_type": "markdown",
   "metadata": {},
   "source": [
    "* 依存分析 \n",
    "\n",
    "    （优点: 依存分析的可视化和图分析很直观）\n",
    "  \n",
    "      工具 ：\n",
    "         \n",
    "         --jieba和LTP ，jieba用于分词，LTP用于词性标注和句法分析\n",
    "      \n",
    "      LTP提供的模型：\n",
    "          \n",
    "          cws.model                分词模型，单文件 \n",
    "          ner.model                命名实体识别模型，单文件\n",
    "          pos.model                词性标注模型，单文件\n",
    "          parser.model             依存分析句法模型，单文件"
   ]
  },
  {
   "cell_type": "markdown",
   "metadata": {},
   "source": [
    "* NER （named entity reconigation）"
   ]
  },
  {
   "cell_type": "code",
   "execution_count": 15,
   "metadata": {},
   "outputs": [],
   "source": [
    "import jieba\n",
    "from collections import Counter\n"
   ]
  },
  {
   "cell_type": "code",
   "execution_count": 16,
   "metadata": {},
   "outputs": [],
   "source": [
    "test_str = '''\n",
    "香港警方于8月14日凌晨3点25分发布声明，对发生在机场的暴力行为予以极严厉的谴责。\n",
    "\n",
    "声明称，8月13日晚至8月14日凌晨，大量示威者于香港国际机场非法集结，并禁锢、欺凌及殴打一名旅客及一名记者，对他们造成身心伤害，警方对激进示威者的严重暴力行为予以极严厉谴责。\n",
    "\n",
    "就首宗个案，警方接获香港机场管理局要求，派员到场协助护送救护员及一名受伤旅客安全离开，但警务人员到达后，大批示威者向警务人员不断投掷杂物及照射强力激光，其间一名警务人员被人抢去警棍及被多人袭击，为保护自己以免生命受到威胁或身体受到严重伤害，于是拔枪戒备。\n",
    "\n",
    "就第二宗个案，一名男记者遭多名示威者粗暴对待、并以索带将其双手捆绑、殴打及禁锢，受害人更一度晕倒。\n",
    "\n",
    "最后，救护员成功分别将两名受害人送往玛嘉烈医院及北大屿山医院治理。\n",
    "\n",
    "事件中，警方共拘捕五名男子，涉嫌非法集结、藏有攻击性武器、袭警及破坏社会安宁等。共有两名警务人员受伤，被送往北大屿山医院治理。\n",
    "\n",
    "案件交由机场警区刑事部跟进调查。\n",
    "\n",
    "示威者罔顾法纪的暴力行为令人发指，警方予以极严厉谴责。警方强调，会积极对案件作出深入调查，不会放过任何线索，务必将施袭者绳之于法。\n",
    "'''"
   ]
  },
  {
   "cell_type": "code",
   "execution_count": 17,
   "metadata": {},
   "outputs": [],
   "source": [
    "jieba.add_word('港独')  #手动添加处理词汇\n",
    "jieba.add_word('北大屿山')\n",
    "words = list(jieba.cut(test_str))"
   ]
  },
  {
   "cell_type": "code",
   "execution_count": 18,
   "metadata": {},
   "outputs": [
    {
     "name": "stdout",
     "output_type": "stream",
     "text": [
      "['\\n', '香港', '警方', '于', '8', '月', '14', '日', '凌晨', '3', '点', '25', '分', '发布', '声明', '，', '对', '发生', '在', '机场', '的', '暴力行为', '予以', '极', '严厉', '的', '谴责', '。', '\\n', '\\n', '声明', '称', '，', '8', '月', '13', '日晚', '至', '8', '月', '14', '日', '凌晨', '，', '大量', '示威者', '于', '香港', '国际', '机场', '非法', '集结', '，', '并', '禁锢', '、', '欺凌', '及', '殴打', '一名', '旅客', '及', '一名', '记者', '，', '对', '他们', '造成', '身心', '伤害', '，', '警方', '对', '激进', '示威者', '的', '严重', '暴力行为', '予以', '极', '严厉', '谴责', '。', '\\n', '\\n', '就', '首宗', '个案', '，', '警方', '接获', '香港机场', '管理局', '要求', '，', '派员', '到场', '协助', '护送', '救护', '员及', '一名', '受伤', '旅客', '安全', '离开', '，', '但', '警务人员', '到达', '后', '，', '大批', '示威者', '向', '警务人员', '不断', '投掷', '杂物', '及', '照射', '强力', '激光', '，', '其间', '一名', '警务人员', '被', '人', '抢', '去', '警棍', '及', '被', '多', '人', '袭击', '，', '为', '保护', '自己', '以免', '生命', '受到', '威胁', '或', '身体', '受到', '严重', '伤害', '，', '于是', '拔枪', '戒备', '。', '\\n', '\\n', '就', '第二宗', '个案', '，', '一名', '男', '记者', '遭', '多名', '示威者', '粗暴', '对待', '、', '并', '以索', '带', '将', '其', '双手', '捆绑', '、', '殴打', '及', '禁锢', '，', '受害人', '更', '一度', '晕倒', '。', '\\n', '\\n', '最后', '，', '救护', '员', '成功', '分别', '将', '两名', '受害人', '送往', '玛嘉烈', '医院', '及', '北大屿山', '医院', '治理', '。', '\\n', '\\n', '事件', '中', '，', '警方', '共', '拘捕', '五名', '男子', '，', '涉嫌', '非法', '集结', '、', '藏有', '攻击性', '武器', '、', '袭警', '及', '破坏', '社会', '安宁', '等', '。', '共有', '两名', '警务人员', '受伤', '，', '被', '送往', '北大屿山', '医院', '治理', '。', '\\n', '\\n', '案件', '交由', '机场', '警区', '刑事', '部', '跟进', '调查', '。', '\\n', '\\n', '示威者', '罔顾', '法纪', '的', '暴力行为', '令人发指', '，', '警方', '予以', '极', '严厉', '谴责', '。', '警方', '强调', '，', '会', '积极', '对', '案件', '作出', '深入调查', '，', '不会', '放过', '任何', '线索', '，', '务必', '将施', '袭者', '绳', '之于法', '。', '\\n']\n"
     ]
    }
   ],
   "source": [
    "print(words)"
   ]
  },
  {
   "cell_type": "code",
   "execution_count": null,
   "metadata": {},
   "outputs": [],
   "source": [
    "\n",
    "# 词性标注\n",
    "\n",
    "postagger = Postagger()\n",
    "postagger.load('/Users/yuxijian/ltp_model/pos.model')\n",
    "postags = postagger.postag(words)\n",
    "\n",
    "# 依存句法分析\n",
    "\n",
    "\n",
    "parser = Parser()\n",
    "parser.load('/Users/yuxijian/ltp_model/parser.model')\n",
    "arcs = parser.parse(words, postags)\n",
    "\n",
    "rely_id = [arc.head for arc in arcs]\n",
    "relation = [arc.relation for arc in arcs]\n",
    "print('rely_id', rely_id)\n",
    "print('relation', relation)\n",
    "\n",
    "heads = ['Root' if id == 0 else words[id-1] for id in rely_id]\n",
    "print('heads', heads)\n",
    "\n",
    "for i in range(len(words)):\n",
    "    print(relation[i] + '(' + words[i] + ',' + heads[i] + ')')\n",
    "\n",
    "\n",
    "# # 可视化\n",
    "#\n",
    "# from graphviz import Digraph\n",
    "#\n",
    "# g = Digraph('测试图片')\n",
    "# g.node(name='Root')\n",
    "#\n",
    "# for word in words:\n",
    "#     g.node(name=word)\n",
    "#\n",
    "# for i in range(len(words)):\n",
    "#     if relation[i] not in ['HED']:\n",
    "#         g.edge(words[i], heads[i], label=relation[i])\n",
    "#     else:\n",
    "#         if heads[i] == 'Root':\n",
    "#             g.edge(words[i], 'Root', label=relation[i])\n",
    "#         else:\n",
    "#             g.edge(heads[i], 'Root', label=relation[i])\n",
    "#\n",
    "# g.view()\n",
    "\n",
    "\n",
    "# 利用networkx绘制句法分析结果\n",
    "import networkx as nx\n",
    "import matplotlib.pyplot as plt\n",
    "from pylab import mpl\n",
    "\n",
    "mpl.rcParams['font.sans-serif'] = ['Arial Unicode MS']  # 指定默认字体\n",
    "\n",
    "G = nx.Graph()  # 建立无向图G\n",
    "\n",
    "# 添加节点\n",
    "for word in words:\n",
    "    G.add_node(word)\n",
    "\n",
    "G.add_node('Root')\n",
    "\n",
    "# 添加边\n",
    "for i in range(len(words)):\n",
    "    G.add_edge(words[i], heads[i])\n",
    "\n",
    "source = '警方'\n",
    "target1 = '示威者'\n",
    "distance1 = nx.shortest_path_length(G, source=source, target=target1)\n",
    "print(\"'%s'与'%s'在依存句法分析图中的最短距离为:  %s\" % (source, target1, distance1))\n",
    "\n",
    "# target2 = '受害人'\n",
    "# distance2 = nx.shortest_path_length(G, source=source, target=target2)\n",
    "# print(\"'%s'与'%s'在依存句法分析图中的最短距离为:  %s\" % (source, target2, distance2))\n",
    "\n",
    "nx.draw(G, with_labels=True)\n",
    "plt.show()\n",
    "# plt.savefig(\"undirected_graph.png\")"
   ]
  },
  {
   "cell_type": "code",
   "execution_count": null,
   "metadata": {},
   "outputs": [],
   "source": []
  },
  {
   "cell_type": "code",
   "execution_count": null,
   "metadata": {},
   "outputs": [],
   "source": []
  },
  {
   "cell_type": "code",
   "execution_count": null,
   "metadata": {},
   "outputs": [],
   "source": []
  },
  {
   "cell_type": "code",
   "execution_count": null,
   "metadata": {},
   "outputs": [],
   "source": []
  },
  {
   "cell_type": "code",
   "execution_count": null,
   "metadata": {},
   "outputs": [],
   "source": []
  },
  {
   "cell_type": "code",
   "execution_count": null,
   "metadata": {},
   "outputs": [],
   "source": []
  },
  {
   "cell_type": "code",
   "execution_count": null,
   "metadata": {},
   "outputs": [],
   "source": []
  },
  {
   "cell_type": "markdown",
   "metadata": {},
   "source": [
    "3、"
   ]
  }
 ],
 "metadata": {
  "kernelspec": {
   "display_name": "Python 3",
   "language": "python",
   "name": "python3"
  },
  "language_info": {
   "codemirror_mode": {
    "name": "ipython",
    "version": 3
   },
   "file_extension": ".py",
   "mimetype": "text/x-python",
   "name": "python",
   "nbconvert_exporter": "python",
   "pygments_lexer": "ipython3",
   "version": "3.7.3"
  }
 },
 "nbformat": 4,
 "nbformat_minor": 2
}
