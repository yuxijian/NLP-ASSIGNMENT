{
  "cells": [
    {
      "cell_type": "code",
      "execution_count": 2,
      "metadata": {
        "pycharm": {}
      },
      "outputs": [
        {
          "name": "stdout",
          "output_type": "stream",
          "text": [
            "lesson-01.ipynb lesson-02.ipynb\r\n"
          ]
        }
      ],
      "source": [
        "!ls"
      ]
    },
    {
      "cell_type": "code",
      "execution_count": 3,
      "metadata": {
        "pycharm": {}
      },
      "outputs": [],
      "source": [
        "import matplotlib"
      ]
    },
    {
      "cell_type": "code",
      "execution_count": 4,
      "metadata": {
        "pycharm": {}
      },
      "outputs": [
        {
          "name": "stdout",
          "output_type": "stream",
          "text": [
            "[\u0027/anaconda3/lib/python3.7/site-packages/matplotlib\u0027]\n"
          ]
        }
      ],
      "source": [
        "print(matplotlib.__path__)"
      ]
    },
    {
      "cell_type": "code",
      "execution_count": 63,
      "metadata": {
        "pycharm": {}
      },
      "outputs": [],
      "source": [
        "number \u003d [1,-2,4,86,3,89,-45,8,3,-4,-46]"
      ]
    },
    {
      "cell_type": "code",
      "execution_count": 64,
      "metadata": {
        "pycharm": {}
      },
      "outputs": [
        {
          "data": {
            "text/plain": [
              "[-46, -45, -4, -2, 1, 3, 3, 4, 8, 86, 89]"
            ]
          },
          "execution_count": 64,
          "metadata": {},
          "output_type": "execute_result"
        }
      ],
      "source": [
        "sorted(number)"
      ]
    },
    {
      "cell_type": "code",
      "execution_count": 7,
      "metadata": {
        "pycharm": {}
      },
      "outputs": [
        {
          "data": {
            "text/plain": [
              "[89, 86, 8, 4, 3, 3, 1, -2, -4, -45, -46]"
            ]
          },
          "execution_count": 7,
          "metadata": {},
          "output_type": "execute_result"
        }
      ],
      "source": [
        "sorted(number,reverse\u003dTrue)"
      ]
    },
    {
      "cell_type": "code",
      "execution_count": 8,
      "metadata": {
        "pycharm": {}
      },
      "outputs": [
        {
          "data": {
            "text/plain": [
              "[89, 86, 8, 4, 3, 3, 1, -2, -4, -45, -46]"
            ]
          },
          "execution_count": 8,
          "metadata": {},
          "output_type": "execute_result"
        }
      ],
      "source": [
        "sorted(number,key\u003dlambda x: -x)"
      ]
    },
    {
      "cell_type": "code",
      "execution_count": 44,
      "metadata": {
        "pycharm": {}
      },
      "outputs": [],
      "source": [
        "import requests\n",
        "import re\n",
        "import pandas as pd\n",
        "import html5lib\n",
        "import urllib3\n",
        "urllib3.disable_warnings()"
      ]
    },
    {
      "cell_type": "code",
      "execution_count": 39,
      "metadata": {
        "pycharm": {}
      },
      "outputs": [],
      "source": [
        "headers \u003d {\u0027User-Agent\u0027: \u0027Mozilla/5.0 (Macintosh; Intel Mac OS X 10_14_1) AppleWebKit/537.36 (KHTML, like Gecko) Chrome/75.0.3770.100 Safari/537.36\u0027}\n"
      ]
    },
    {
      "cell_type": "code",
      "execution_count": 40,
      "metadata": {
        "pycharm": {}
      },
      "outputs": [],
      "source": [
        "url \u003d \u0027https://baike.baidu.com/item/%E5%8C%97%E4%BA%AC%E5%9C%B0%E9%93%81/408485?fr\u003daladdin\u0027"
      ]
    },
    {
      "cell_type": "code",
      "execution_count": 19,
      "metadata": {
        "pycharm": {}
      },
      "outputs": [],
      "source": [
        "html \u003drequests.get(url, headers\u003dheaders,verify\u003dFalse).content.decode(encoding\u003d\u0027utf-8\u0027)\n",
        "pattern_url \u003d r\u0027\u003cdiv class\u003d\"para\" label-module\u003d\"para\"\u003e\\s*\u003ca target\u003d_blank href\u003d\"(.+?)\"\u003e\u0027\n",
        "pattern_name \u003d r\u0027\u003cdiv class\u003d\"para\" label-module\u003d\"para\"\u003e\\s*\u003ca target\u003d_blank href\u003d\".+\"\u003e(.+?)\u003c/a\u003e\u003c/div\u003e\\s*\u003c/td\u003e\u003ctd\\s+align\u003d\"center\"\\s+valign\u003d\"center\"\u003e\u003cdiv class\u003d\"para\" label-module\u003d\"para\"\u003e(.+?)\u003c/div\u003e\u0027\n",
        "\n"
      ]
    },
    {
      "cell_type": "code",
      "execution_count": 48,
      "metadata": {
        "pycharm": {}
      },
      "outputs": [],
      "source": [
        "pattern_table \u003d pd.read_html(url)[0]"
      ]
    },
    {
      "cell_type": "code",
      "execution_count": 53,
      "metadata": {
        "pycharm": {}
      },
      "outputs": [
        {
          "data": {
            "text/html": [
              "\u003cdiv\u003e\n",
              "\u003cstyle scoped\u003e\n",
              "    .dataframe tbody tr th:only-of-type {\n",
              "        vertical-align: middle;\n",
              "    }\n",
              "\n",
              "    .dataframe tbody tr th {\n",
              "        vertical-align: top;\n",
              "    }\n",
              "\n",
              "    .dataframe thead th {\n",
              "        text-align: right;\n",
              "    }\n",
              "\u003c/style\u003e\n",
              "\u003ctable border\u003d\"1\" class\u003d\"dataframe\"\u003e\n",
              "  \u003cthead\u003e\n",
              "    \u003ctr style\u003d\"text-align: right;\"\u003e\n",
              "      \u003cth\u003e\u003c/th\u003e\n",
              "      \u003cth\u003e开通日期\u003c/th\u003e\n",
              "      \u003cth\u003e开通路线\u003c/th\u003e\n",
              "      \u003cth\u003e开通路段\u003c/th\u003e\n",
              "      \u003cth\u003e开通区间\u003c/th\u003e\n",
              "    \u003c/tr\u003e\n",
              "  \u003c/thead\u003e\n",
              "  \u003ctbody\u003e\n",
              "    \u003ctr\u003e\n",
              "      \u003cth\u003e0\u003c/th\u003e\n",
              "      \u003ctd\u003e1969年10月1日\u003c/td\u003e\n",
              "      \u003ctd\u003e北京地铁一期路线（不开放）\u003c/td\u003e\n",
              "      \u003ctd\u003e地下铁一期\u003c/td\u003e\n",
              "      \u003ctd\u003e古城路-北京站\u003c/td\u003e\n",
              "    \u003c/tr\u003e\n",
              "    \u003ctr\u003e\n",
              "      \u003cth\u003e1\u003c/th\u003e\n",
              "      \u003ctd\u003e1971年1月15日\u003c/td\u003e\n",
              "      \u003ctd\u003e北京地铁一期路线\u003c/td\u003e\n",
              "      \u003ctd\u003e地下铁一期\u003c/td\u003e\n",
              "      \u003ctd\u003e公主坟-北京站\u003c/td\u003e\n",
              "    \u003c/tr\u003e\n",
              "    \u003ctr\u003e\n",
              "      \u003cth\u003e2\u003c/th\u003e\n",
              "      \u003ctd\u003e1971年8月5日\u003c/td\u003e\n",
              "      \u003ctd\u003e北京地铁一期路线\u003c/td\u003e\n",
              "      \u003ctd\u003e地下铁一期\u003c/td\u003e\n",
              "      \u003ctd\u003e玉泉路-公主坟\u003c/td\u003e\n",
              "    \u003c/tr\u003e\n",
              "    \u003ctr\u003e\n",
              "      \u003cth\u003e3\u003c/th\u003e\n",
              "      \u003ctd\u003e1971年11月7日\u003c/td\u003e\n",
              "      \u003ctd\u003e北京地铁一期路线\u003c/td\u003e\n",
              "      \u003ctd\u003e地下铁一期\u003c/td\u003e\n",
              "      \u003ctd\u003e古城-玉泉路\u003c/td\u003e\n",
              "    \u003c/tr\u003e\n",
              "    \u003ctr\u003e\n",
              "      \u003cth\u003e4\u003c/th\u003e\n",
              "      \u003ctd\u003e1973年4月23日\u003c/td\u003e\n",
              "      \u003ctd\u003e北京地铁一期路线\u003c/td\u003e\n",
              "      \u003ctd\u003e地下铁一期\u003c/td\u003e\n",
              "      \u003ctd\u003e苹果园-古城\u003c/td\u003e\n",
              "    \u003c/tr\u003e\n",
              "    \u003ctr\u003e\n",
              "      \u003cth\u003e5\u003c/th\u003e\n",
              "      \u003ctd\u003e1984年9月20日\u003c/td\u003e\n",
              "      \u003ctd\u003e北京地铁二期路线\u003c/td\u003e\n",
              "      \u003ctd\u003e地下铁二期\u003c/td\u003e\n",
              "      \u003ctd\u003e复兴门-北京站（北半环）\u003c/td\u003e\n",
              "    \u003c/tr\u003e\n",
              "    \u003ctr\u003e\n",
              "      \u003cth\u003e6\u003c/th\u003e\n",
              "      \u003ctd\u003e1987年12月28日\u003c/td\u003e\n",
              "      \u003ctd\u003e复兴门折返线\u003c/td\u003e\n",
              "      \u003ctd\u003e1号线西段\u003c/td\u003e\n",
              "      \u003ctd\u003e南礼士路-复兴门\u003c/td\u003e\n",
              "    \u003c/tr\u003e\n",
              "    \u003ctr\u003e\n",
              "      \u003cth\u003e7\u003c/th\u003e\n",
              "      \u003ctd\u003e1987年12月28日\u003c/td\u003e\n",
              "      \u003ctd\u003e北京地铁环线\u003c/td\u003e\n",
              "      \u003ctd\u003e环形贯通\u003c/td\u003e\n",
              "      \u003ctd\u003e复兴门-长椿街\u003c/td\u003e\n",
              "    \u003c/tr\u003e\n",
              "    \u003ctr\u003e\n",
              "      \u003cth\u003e8\u003c/th\u003e\n",
              "      \u003ctd\u003e1992年12月12日\u003c/td\u003e\n",
              "      \u003ctd\u003e北京地铁1号线\u003c/td\u003e\n",
              "      \u003ctd\u003e1号线西段\u003c/td\u003e\n",
              "      \u003ctd\u003e复兴门-西单\u003c/td\u003e\n",
              "    \u003c/tr\u003e\n",
              "    \u003ctr\u003e\n",
              "      \u003cth\u003e9\u003c/th\u003e\n",
              "      \u003ctd\u003e1999年9月28日\u003c/td\u003e\n",
              "      \u003ctd\u003e北京地铁复八线\u003c/td\u003e\n",
              "      \u003ctd\u003e复八线东段\u003c/td\u003e\n",
              "      \u003ctd\u003e天安门西-四惠东\u003c/td\u003e\n",
              "    \u003c/tr\u003e\n",
              "    \u003ctr\u003e\n",
              "      \u003cth\u003e10\u003c/th\u003e\n",
              "      \u003ctd\u003e2000年6月28日\u003c/td\u003e\n",
              "      \u003ctd\u003e北京地铁1号线\u003c/td\u003e\n",
              "      \u003ctd\u003e1号线贯通\u003c/td\u003e\n",
              "      \u003ctd\u003e西单-天安门西\u003c/td\u003e\n",
              "    \u003c/tr\u003e\n",
              "    \u003ctr\u003e\n",
              "      \u003cth\u003e11\u003c/th\u003e\n",
              "      \u003ctd\u003e2002年9月28日\u003c/td\u003e\n",
              "      \u003ctd\u003e北京地铁13号线\u003c/td\u003e\n",
              "      \u003ctd\u003e西半部\u003c/td\u003e\n",
              "      \u003ctd\u003e西直门-霍营\u003c/td\u003e\n",
              "    \u003c/tr\u003e\n",
              "    \u003ctr\u003e\n",
              "      \u003cth\u003e12\u003c/th\u003e\n",
              "      \u003ctd\u003e2003年1月28日\u003c/td\u003e\n",
              "      \u003ctd\u003e北京地铁13号线\u003c/td\u003e\n",
              "      \u003ctd\u003e东半部\u003c/td\u003e\n",
              "      \u003ctd\u003e霍营-东直门\u003c/td\u003e\n",
              "    \u003c/tr\u003e\n",
              "    \u003ctr\u003e\n",
              "      \u003cth\u003e13\u003c/th\u003e\n",
              "      \u003ctd\u003e2003年12月27日\u003c/td\u003e\n",
              "      \u003ctd\u003e北京地铁八通线\u003c/td\u003e\n",
              "      \u003ctd\u003e全线\u003c/td\u003e\n",
              "      \u003ctd\u003e四惠-土桥\u003c/td\u003e\n",
              "    \u003c/tr\u003e\n",
              "    \u003ctr\u003e\n",
              "      \u003cth\u003e14\u003c/th\u003e\n",
              "      \u003ctd\u003e2007年10月7日\u003c/td\u003e\n",
              "      \u003ctd\u003e北京地铁5号线\u003c/td\u003e\n",
              "      \u003ctd\u003e全线\u003c/td\u003e\n",
              "      \u003ctd\u003e天通苑北-宋家庄\u003c/td\u003e\n",
              "    \u003c/tr\u003e\n",
              "    \u003ctr\u003e\n",
              "      \u003cth\u003e15\u003c/th\u003e\n",
              "      \u003ctd\u003e2008年7月19日\u003c/td\u003e\n",
              "      \u003ctd\u003e北京地铁8号线\u003c/td\u003e\n",
              "      \u003ctd\u003e一期\u003c/td\u003e\n",
              "      \u003ctd\u003e森林公园南门-北土城\u003c/td\u003e\n",
              "    \u003c/tr\u003e\n",
              "    \u003ctr\u003e\n",
              "      \u003cth\u003e16\u003c/th\u003e\n",
              "      \u003ctd\u003e2008年7月19日\u003c/td\u003e\n",
              "      \u003ctd\u003e北京地铁10号线\u003c/td\u003e\n",
              "      \u003ctd\u003e一期\u003c/td\u003e\n",
              "      \u003ctd\u003e巴沟-劲松\u003c/td\u003e\n",
              "    \u003c/tr\u003e\n",
              "    \u003ctr\u003e\n",
              "      \u003cth\u003e17\u003c/th\u003e\n",
              "      \u003ctd\u003e2008年7月19日\u003c/td\u003e\n",
              "      \u003ctd\u003e北京地铁机场线\u003c/td\u003e\n",
              "      \u003ctd\u003e全线\u003c/td\u003e\n",
              "      \u003ctd\u003e东直门-首都机场T2/T3航站楼\u003c/td\u003e\n",
              "    \u003c/tr\u003e\n",
              "    \u003ctr\u003e\n",
              "      \u003cth\u003e18\u003c/th\u003e\n",
              "      \u003ctd\u003e2009年9月28日\u003c/td\u003e\n",
              "      \u003ctd\u003e北京地铁4号线\u003c/td\u003e\n",
              "      \u003ctd\u003e全线\u003c/td\u003e\n",
              "      \u003ctd\u003e安河桥北-公益西桥\u003c/td\u003e\n",
              "    \u003c/tr\u003e\n",
              "    \u003ctr\u003e\n",
              "      \u003cth\u003e19\u003c/th\u003e\n",
              "      \u003ctd\u003e2010年12月30日\u003c/td\u003e\n",
              "      \u003ctd\u003e北京地铁15号线\u003c/td\u003e\n",
              "      \u003ctd\u003e一期西段\u003c/td\u003e\n",
              "      \u003ctd\u003e望京西-后沙峪\u003c/td\u003e\n",
              "    \u003c/tr\u003e\n",
              "    \u003ctr\u003e\n",
              "      \u003cth\u003e20\u003c/th\u003e\n",
              "      \u003ctd\u003e2010年12月30日\u003c/td\u003e\n",
              "      \u003ctd\u003e北京地铁昌平线\u003c/td\u003e\n",
              "      \u003ctd\u003e一期\u003c/td\u003e\n",
              "      \u003ctd\u003e南邵-西二旗\u003c/td\u003e\n",
              "    \u003c/tr\u003e\n",
              "    \u003ctr\u003e\n",
              "      \u003cth\u003e21\u003c/th\u003e\n",
              "      \u003ctd\u003e2010年12月30日\u003c/td\u003e\n",
              "      \u003ctd\u003e北京地铁大兴线\u003c/td\u003e\n",
              "      \u003ctd\u003e全线\u003c/td\u003e\n",
              "      \u003ctd\u003e新宫-天宫院\u003c/td\u003e\n",
              "    \u003c/tr\u003e\n",
              "    \u003ctr\u003e\n",
              "      \u003cth\u003e22\u003c/th\u003e\n",
              "      \u003ctd\u003e2010年12月30日\u003c/td\u003e\n",
              "      \u003ctd\u003e北京地铁房山线\u003c/td\u003e\n",
              "      \u003ctd\u003e一期大部分\u003c/td\u003e\n",
              "      \u003ctd\u003e大葆台-苏庄\u003c/td\u003e\n",
              "    \u003c/tr\u003e\n",
              "    \u003ctr\u003e\n",
              "      \u003cth\u003e23\u003c/th\u003e\n",
              "      \u003ctd\u003e2010年12月30日\u003c/td\u003e\n",
              "      \u003ctd\u003e北京地铁亦庄线\u003c/td\u003e\n",
              "      \u003ctd\u003e全线\u003c/td\u003e\n",
              "      \u003ctd\u003e宋家庄-次渠\u003c/td\u003e\n",
              "    \u003c/tr\u003e\n",
              "    \u003ctr\u003e\n",
              "      \u003cth\u003e24\u003c/th\u003e\n",
              "      \u003ctd\u003e2011年12月31日\u003c/td\u003e\n",
              "      \u003ctd\u003e北京地铁8号线\u003c/td\u003e\n",
              "      \u003ctd\u003e二期北段\u003c/td\u003e\n",
              "      \u003ctd\u003e回龙观东大街-森林公园南门\u003c/td\u003e\n",
              "    \u003c/tr\u003e\n",
              "    \u003ctr\u003e\n",
              "      \u003cth\u003e25\u003c/th\u003e\n",
              "      \u003ctd\u003e2011年12月31日\u003c/td\u003e\n",
              "      \u003ctd\u003e北京地铁9号线\u003c/td\u003e\n",
              "      \u003ctd\u003e南段\u003c/td\u003e\n",
              "      \u003ctd\u003e北京西站-郭公庄\u003c/td\u003e\n",
              "    \u003c/tr\u003e\n",
              "    \u003ctr\u003e\n",
              "      \u003cth\u003e26\u003c/th\u003e\n",
              "      \u003ctd\u003e2011年12月31日\u003c/td\u003e\n",
              "      \u003ctd\u003e北京地铁15号线\u003c/td\u003e\n",
              "      \u003ctd\u003e一期东段\u003c/td\u003e\n",
              "      \u003ctd\u003e后沙峪-俸伯\u003c/td\u003e\n",
              "    \u003c/tr\u003e\n",
              "    \u003ctr\u003e\n",
              "      \u003cth\u003e27\u003c/th\u003e\n",
              "      \u003ctd\u003e2011年12月31日\u003c/td\u003e\n",
              "      \u003ctd\u003e北京地铁房山线\u003c/td\u003e\n",
              "      \u003ctd\u003e一期剩余段\u003c/td\u003e\n",
              "      \u003ctd\u003e大葆台-郭公庄\u003c/td\u003e\n",
              "    \u003c/tr\u003e\n",
              "    \u003ctr\u003e\n",
              "      \u003cth\u003e28\u003c/th\u003e\n",
              "      \u003ctd\u003e2012年12月30日\u003c/td\u003e\n",
              "      \u003ctd\u003e北京地铁6号线\u003c/td\u003e\n",
              "      \u003ctd\u003e一期\u003c/td\u003e\n",
              "      \u003ctd\u003e海淀五路居-草房\u003c/td\u003e\n",
              "    \u003c/tr\u003e\n",
              "    \u003ctr\u003e\n",
              "      \u003cth\u003e29\u003c/th\u003e\n",
              "      \u003ctd\u003e2012年12月30日\u003c/td\u003e\n",
              "      \u003ctd\u003e北京地铁8号线\u003c/td\u003e\n",
              "      \u003ctd\u003e二期南段\u003c/td\u003e\n",
              "      \u003ctd\u003e北土城-鼓楼大街\u003c/td\u003e\n",
              "    \u003c/tr\u003e\n",
              "    \u003ctr\u003e\n",
              "      \u003cth\u003e30\u003c/th\u003e\n",
              "      \u003ctd\u003e2012年12月30日\u003c/td\u003e\n",
              "      \u003ctd\u003e北京地铁9号线\u003c/td\u003e\n",
              "      \u003ctd\u003e北段\u003c/td\u003e\n",
              "      \u003ctd\u003e国家图书馆-北京西站\u003c/td\u003e\n",
              "    \u003c/tr\u003e\n",
              "    \u003ctr\u003e\n",
              "      \u003cth\u003e31\u003c/th\u003e\n",
              "      \u003ctd\u003e2012年12月30日\u003c/td\u003e\n",
              "      \u003ctd\u003e北京地铁10号线\u003c/td\u003e\n",
              "      \u003ctd\u003e二期大部分\u003c/td\u003e\n",
              "      \u003ctd\u003e巴沟-西局；首经贸-劲松\u003c/td\u003e\n",
              "    \u003c/tr\u003e\n",
              "    \u003ctr\u003e\n",
              "      \u003cth\u003e32\u003c/th\u003e\n",
              "      \u003ctd\u003e2013年5月5日\u003c/td\u003e\n",
              "      \u003ctd\u003e北京地铁10号线\u003c/td\u003e\n",
              "      \u003ctd\u003e二期剩余段\u003c/td\u003e\n",
              "      \u003ctd\u003e西局-首经贸\u003c/td\u003e\n",
              "    \u003c/tr\u003e\n",
              "    \u003ctr\u003e\n",
              "      \u003cth\u003e33\u003c/th\u003e\n",
              "      \u003ctd\u003e2013年5月5日\u003c/td\u003e\n",
              "      \u003ctd\u003e北京地铁14号线\u003c/td\u003e\n",
              "      \u003ctd\u003e西段\u003c/td\u003e\n",
              "      \u003ctd\u003e西局-张郭庄\u003c/td\u003e\n",
              "    \u003c/tr\u003e\n",
              "    \u003ctr\u003e\n",
              "      \u003cth\u003e34\u003c/th\u003e\n",
              "      \u003ctd\u003e2013年12月28日\u003c/td\u003e\n",
              "      \u003ctd\u003e北京地铁8号线\u003c/td\u003e\n",
              "      \u003ctd\u003e二期南段\u003c/td\u003e\n",
              "      \u003ctd\u003e鼓楼大街-南锣鼓巷\u003c/td\u003e\n",
              "    \u003c/tr\u003e\n",
              "    \u003ctr\u003e\n",
              "      \u003cth\u003e35\u003c/th\u003e\n",
              "      \u003ctd\u003e2013年12月28日\u003c/td\u003e\n",
              "      \u003ctd\u003e北京地铁8号线\u003c/td\u003e\n",
              "      \u003ctd\u003e昌八联络线\u003c/td\u003e\n",
              "      \u003ctd\u003e回龙观东大街-朱辛庄\u003c/td\u003e\n",
              "    \u003c/tr\u003e\n",
              "    \u003ctr\u003e\n",
              "      \u003cth\u003e36\u003c/th\u003e\n",
              "      \u003ctd\u003e2014年12月28日\u003c/td\u003e\n",
              "      \u003ctd\u003e北京地铁6号线\u003c/td\u003e\n",
              "      \u003ctd\u003e二期\u003c/td\u003e\n",
              "      \u003ctd\u003e草房-潞城\u003c/td\u003e\n",
              "    \u003c/tr\u003e\n",
              "    \u003ctr\u003e\n",
              "      \u003cth\u003e37\u003c/th\u003e\n",
              "      \u003ctd\u003e2014年12月28日\u003c/td\u003e\n",
              "      \u003ctd\u003e北京地铁7号线\u003c/td\u003e\n",
              "      \u003ctd\u003e全线\u003c/td\u003e\n",
              "      \u003ctd\u003e北京西站-焦化厂\u003c/td\u003e\n",
              "    \u003c/tr\u003e\n",
              "    \u003ctr\u003e\n",
              "      \u003cth\u003e38\u003c/th\u003e\n",
              "      \u003ctd\u003e2014年12月28日\u003c/td\u003e\n",
              "      \u003ctd\u003e北京地铁14号线\u003c/td\u003e\n",
              "      \u003ctd\u003e东段\u003c/td\u003e\n",
              "      \u003ctd\u003e金台路-善各庄\u003c/td\u003e\n",
              "    \u003c/tr\u003e\n",
              "    \u003ctr\u003e\n",
              "      \u003cth\u003e39\u003c/th\u003e\n",
              "      \u003ctd\u003e2014年12月28日\u003c/td\u003e\n",
              "      \u003ctd\u003e北京地铁15号线\u003c/td\u003e\n",
              "      \u003ctd\u003e一期西段\u003c/td\u003e\n",
              "      \u003ctd\u003e清华东路西口-望京西\u003c/td\u003e\n",
              "    \u003c/tr\u003e\n",
              "    \u003ctr\u003e\n",
              "      \u003cth\u003e40\u003c/th\u003e\n",
              "      \u003ctd\u003e2015年12月26日\u003c/td\u003e\n",
              "      \u003ctd\u003e北京地铁14号线\u003c/td\u003e\n",
              "      \u003ctd\u003e中段大部分\u003c/td\u003e\n",
              "      \u003ctd\u003e北京南站-金台路\u003c/td\u003e\n",
              "    \u003c/tr\u003e\n",
              "    \u003ctr\u003e\n",
              "      \u003cth\u003e41\u003c/th\u003e\n",
              "      \u003ctd\u003e2015年12月26日\u003c/td\u003e\n",
              "      \u003ctd\u003e北京地铁昌平线\u003c/td\u003e\n",
              "      \u003ctd\u003e二期\u003c/td\u003e\n",
              "      \u003ctd\u003e南邵-昌平西山口\u003c/td\u003e\n",
              "    \u003c/tr\u003e\n",
              "    \u003ctr\u003e\n",
              "      \u003cth\u003e42\u003c/th\u003e\n",
              "      \u003ctd\u003e2016年12月31日\u003c/td\u003e\n",
              "      \u003ctd\u003e北京地铁16号线\u003c/td\u003e\n",
              "      \u003ctd\u003e山后线段\u003c/td\u003e\n",
              "      \u003ctd\u003e北安河-西苑\u003c/td\u003e\n",
              "    \u003c/tr\u003e\n",
              "    \u003ctr\u003e\n",
              "      \u003cth\u003e43\u003c/th\u003e\n",
              "      \u003ctd\u003e2017年12月30日\u003c/td\u003e\n",
              "      \u003ctd\u003e北京地铁西郊线\u003c/td\u003e\n",
              "      \u003ctd\u003e全线\u003c/td\u003e\n",
              "      \u003ctd\u003e巴沟-香山\u003c/td\u003e\n",
              "    \u003c/tr\u003e\n",
              "    \u003ctr\u003e\n",
              "      \u003cth\u003e44\u003c/th\u003e\n",
              "      \u003ctd\u003e2017年12月30日\u003c/td\u003e\n",
              "      \u003ctd\u003e北京地铁S1线\u003c/td\u003e\n",
              "      \u003ctd\u003e全线\u003c/td\u003e\n",
              "      \u003ctd\u003e金安桥-石厂\u003c/td\u003e\n",
              "    \u003c/tr\u003e\n",
              "    \u003ctr\u003e\n",
              "      \u003cth\u003e45\u003c/th\u003e\n",
              "      \u003ctd\u003e2017年12月30日\u003c/td\u003e\n",
              "      \u003ctd\u003e北京地铁燕房线\u003c/td\u003e\n",
              "      \u003ctd\u003e主线\u003c/td\u003e\n",
              "      \u003ctd\u003e阎村东-燕山\u003c/td\u003e\n",
              "    \u003c/tr\u003e\n",
              "    \u003ctr\u003e\n",
              "      \u003cth\u003e46\u003c/th\u003e\n",
              "      \u003ctd\u003e2017年12月30日\u003c/td\u003e\n",
              "      \u003ctd\u003e北京地铁房山线\u003c/td\u003e\n",
              "      \u003ctd\u003e西延\u003c/td\u003e\n",
              "      \u003ctd\u003e苏庄-阎村东\u003c/td\u003e\n",
              "    \u003c/tr\u003e\n",
              "    \u003ctr\u003e\n",
              "      \u003cth\u003e47\u003c/th\u003e\n",
              "      \u003ctd\u003e2018年12月30日\u003c/td\u003e\n",
              "      \u003ctd\u003e北京地铁6号线\u003c/td\u003e\n",
              "      \u003ctd\u003e西延\u003c/td\u003e\n",
              "      \u003ctd\u003e金安桥-海淀五路居\u003c/td\u003e\n",
              "    \u003c/tr\u003e\n",
              "    \u003ctr\u003e\n",
              "      \u003cth\u003e48\u003c/th\u003e\n",
              "      \u003ctd\u003e2018年12月30日\u003c/td\u003e\n",
              "      \u003ctd\u003e北京地铁8号线\u003c/td\u003e\n",
              "      \u003ctd\u003e二期剩余段\u003c/td\u003e\n",
              "      \u003ctd\u003e南锣鼓巷-中国美术馆\u003c/td\u003e\n",
              "    \u003c/tr\u003e\n",
              "    \u003ctr\u003e\n",
              "      \u003cth\u003e49\u003c/th\u003e\n",
              "      \u003ctd\u003e2018年12月30日\u003c/td\u003e\n",
              "      \u003ctd\u003e北京地铁8号线\u003c/td\u003e\n",
              "      \u003ctd\u003e三期南段、四期\u003c/td\u003e\n",
              "      \u003ctd\u003e珠市口-瀛海\u003c/td\u003e\n",
              "    \u003c/tr\u003e\n",
              "    \u003ctr\u003e\n",
              "      \u003cth\u003e50\u003c/th\u003e\n",
              "      \u003ctd\u003e2018年12月30日\u003c/td\u003e\n",
              "      \u003ctd\u003e北京地铁亦庄线\u003c/td\u003e\n",
              "      \u003ctd\u003e剩余段\u003c/td\u003e\n",
              "      \u003ctd\u003e次渠-亦庄火车站\u003c/td\u003e\n",
              "    \u003c/tr\u003e\n",
              "  \u003c/tbody\u003e\n",
              "\u003c/table\u003e\n",
              "\u003c/div\u003e"
            ],
            "text/plain": [
              "           开通日期           开通路线     开通路段              开通区间\n",
              "0    1969年10月1日  北京地铁一期路线（不开放）    地下铁一期           古城路-北京站\n",
              "1    1971年1月15日       北京地铁一期路线    地下铁一期           公主坟-北京站\n",
              "2     1971年8月5日       北京地铁一期路线    地下铁一期           玉泉路-公主坟\n",
              "3    1971年11月7日       北京地铁一期路线    地下铁一期            古城-玉泉路\n",
              "4    1973年4月23日       北京地铁一期路线    地下铁一期            苹果园-古城\n",
              "5    1984年9月20日       北京地铁二期路线    地下铁二期      复兴门-北京站（北半环）\n",
              "6   1987年12月28日         复兴门折返线    1号线西段          南礼士路-复兴门\n",
              "7   1987年12月28日         北京地铁环线     环形贯通           复兴门-长椿街\n",
              "8   1992年12月12日        北京地铁1号线    1号线西段            复兴门-西单\n",
              "9    1999年9月28日        北京地铁复八线    复八线东段          天安门西-四惠东\n",
              "10   2000年6月28日        北京地铁1号线    1号线贯通           西单-天安门西\n",
              "11   2002年9月28日       北京地铁13号线      西半部            西直门-霍营\n",
              "12   2003年1月28日       北京地铁13号线      东半部            霍营-东直门\n",
              "13  2003年12月27日        北京地铁八通线       全线             四惠-土桥\n",
              "14   2007年10月7日        北京地铁5号线       全线          天通苑北-宋家庄\n",
              "15   2008年7月19日        北京地铁8号线       一期        森林公园南门-北土城\n",
              "16   2008年7月19日       北京地铁10号线       一期             巴沟-劲松\n",
              "17   2008年7月19日        北京地铁机场线       全线  东直门-首都机场T2/T3航站楼\n",
              "18   2009年9月28日        北京地铁4号线       全线         安河桥北-公益西桥\n",
              "19  2010年12月30日       北京地铁15号线     一期西段           望京西-后沙峪\n",
              "20  2010年12月30日        北京地铁昌平线       一期            南邵-西二旗\n",
              "21  2010年12月30日        北京地铁大兴线       全线            新宫-天宫院\n",
              "22  2010年12月30日        北京地铁房山线    一期大部分            大葆台-苏庄\n",
              "23  2010年12月30日        北京地铁亦庄线       全线            宋家庄-次渠\n",
              "24  2011年12月31日        北京地铁8号线     二期北段     回龙观东大街-森林公园南门\n",
              "25  2011年12月31日        北京地铁9号线       南段          北京西站-郭公庄\n",
              "26  2011年12月31日       北京地铁15号线     一期东段            后沙峪-俸伯\n",
              "27  2011年12月31日        北京地铁房山线    一期剩余段           大葆台-郭公庄\n",
              "28  2012年12月30日        北京地铁6号线       一期          海淀五路居-草房\n",
              "29  2012年12月30日        北京地铁8号线     二期南段          北土城-鼓楼大街\n",
              "30  2012年12月30日        北京地铁9号线       北段        国家图书馆-北京西站\n",
              "31  2012年12月30日       北京地铁10号线    二期大部分      巴沟-西局；首经贸-劲松\n",
              "32    2013年5月5日       北京地铁10号线    二期剩余段            西局-首经贸\n",
              "33    2013年5月5日       北京地铁14号线       西段            西局-张郭庄\n",
              "34  2013年12月28日        北京地铁8号线     二期南段         鼓楼大街-南锣鼓巷\n",
              "35  2013年12月28日        北京地铁8号线    昌八联络线        回龙观东大街-朱辛庄\n",
              "36  2014年12月28日        北京地铁6号线       二期             草房-潞城\n",
              "37  2014年12月28日        北京地铁7号线       全线          北京西站-焦化厂\n",
              "38  2014年12月28日       北京地铁14号线       东段           金台路-善各庄\n",
              "39  2014年12月28日       北京地铁15号线     一期西段        清华东路西口-望京西\n",
              "40  2015年12月26日       北京地铁14号线    中段大部分          北京南站-金台路\n",
              "41  2015年12月26日        北京地铁昌平线       二期          南邵-昌平西山口\n",
              "42  2016年12月31日       北京地铁16号线     山后线段            北安河-西苑\n",
              "43  2017年12月30日        北京地铁西郊线       全线             巴沟-香山\n",
              "44  2017年12月30日        北京地铁S1线       全线            金安桥-石厂\n",
              "45  2017年12月30日        北京地铁燕房线       主线            阎村东-燕山\n",
              "46  2017年12月30日        北京地铁房山线       西延            苏庄-阎村东\n",
              "47  2018年12月30日        北京地铁6号线       西延         金安桥-海淀五路居\n",
              "48  2018年12月30日        北京地铁8号线    二期剩余段        南锣鼓巷-中国美术馆\n",
              "49  2018年12月30日        北京地铁8号线  三期南段、四期            珠市口-瀛海\n",
              "50  2018年12月30日        北京地铁亦庄线      剩余段          次渠-亦庄火车站"
            ]
          },
          "execution_count": 53,
          "metadata": {},
          "output_type": "execute_result"
        }
      ],
      "source": [
        "pattern_table"
      ]
    },
    {
      "cell_type": "code",
      "execution_count": 55,
      "metadata": {
        "pycharm": {}
      },
      "outputs": [],
      "source": [
        "from pandas import Series"
      ]
    },
    {
      "cell_type": "code",
      "execution_count": 59,
      "metadata": {
        "pycharm": {}
      },
      "outputs": [
        {
          "data": {
            "text/plain": [
              "0    1\n",
              "1    4\n",
              "2    5\n",
              "3   -3\n",
              "4    7\n",
              "dtype: int64"
            ]
          },
          "execution_count": 59,
          "metadata": {},
          "output_type": "execute_result"
        }
      ],
      "source": [
        "Series([1,4,5,-3,7])"
      ]
    },
    {
      "cell_type": "code",
      "execution_count": 12,
      "metadata": {
        "pycharm": {}
      },
      "outputs": [
        {
          "name": "stdout",
          "output_type": "stream",
          "text": [
            "[\u003ca data-lemmaid\u003d\"1122445\" href\u003d\"/item/%E4%B8%AD%E5%9B%BD/1122445\" target\u003d\"_blank\"\u003eä¸­å½\u003c/a\u003e, \u003ca data-lemmaid\u003d\"126069\" href\u003d\"/item/%E5%8C%97%E4%BA%AC%E5%B8%82/126069\" target\u003d\"_blank\"\u003eåäº¬å¸\u003c/a\u003e, \u003ca data-lemmaid\u003d\"6853691\" href\u003d\"/item/%E5%9F%8E%E5%B8%82%E8%BD%A8%E9%81%93%E4%BA%A4%E9%80%9A%E7%B3%BB%E7%BB%9F/6853691\" target\u003d\"_blank\"\u003eåå¸è½¨éäº¤éç³»ç»\u003c/a\u003e, \u003ca data-lemmaid\u003d\"6017906\" href\u003d\"/item/%E5%9B%BD%E9%99%85%E5%9C%B0%E9%93%81%E8%81%94%E7%9B%9F/6017906\" target\u003d\"_blank\"\u003eå½é",
            "å°éèç\u003c/a\u003e, \u003ca class\u003d\"sup-anchor\" name\u003d\"ref_[1]_14765801\"\u003e \u003c/a\u003e, \u003ca class\u003d\"sup-anchor\" name\u003d\"ref_[2]_14765801\"\u003e \u003c/a\u003e, \u003ca class\u003d\"sup-anchor\" name\u003d\"ref_[3]_14765801\"\u003e \u003c/a\u003e, \u003ca class\u003d\"sup-anchor\" name\u003d\"ref_[4-6]_14765801\"\u003e \u003c/a\u003e, \u003ca class\u003d\"sup-anchor\" name\u003d\"ref_[6-7]_14765801\"\u003e \u003c/a\u003e, \u003ca class\u003d\"sup-anchor\" name\u003d\"ref_[8]_14765801\"\u003e \u003c/a\u003e, \u003ca class\u003d\"sup-anchor\" name\u003d\"ref_[9]_14765801\"\u003e \u003c/a\u003e, \u003ca class\u003d\"sup-anchor\" name\u003d\"ref_[10]_14765801\"\u003e \u003c/a\u003e, \u003ca class\u003d\"sup-anchor\" name\u003d\"ref_[11]_14765801\"\u003e \u003c/a\u003e, \u003ca class\u003d\"sup-anchor\" name\u003d\"ref_[12]_14765801\"\u003e \u003c/a\u003e, \u003ca class\u003d\"sup-anchor\" name\u003d\"ref_[13]_14765801\"\u003e \u003c/a\u003e, \u003ca name\u003d\"ref_13\"\u003e\u003c/a\u003e, \u003ca name\u003d\"ref_13\"\u003e\u003c/a\u003e, \u003ca class\u003d\"sup-anchor\" name\u003d\"ref_[13]_14765801\"\u003e \u003c/a\u003e, \u003ca name\u003d\"ref_13\"\u003e\u003c/a\u003e, \u003ca name\u003d\"ref_13\"\u003e\u003c/a\u003e, \u003ca class\u003d\"sup-anchor\" name\u003d\"ref_[13]_14765801\"\u003e \u003c/a\u003e, \u003ca name\u003d\"ref_13\"\u003e\u003c/a\u003e, \u003ca name\u003d\"ref_13\"\u003e\u003c/a\u003e, \u003ca href\u003d\"/item/%E8%8B%8F%E8%81%94\" target\u003d\"_blank\"\u003eèè\u003c/a\u003e, \u003ca class\u003d\"sup-anchor\" name\u003d\"ref_[14]_14765801\"\u003e \u003c/a\u003e, \u003ca class\u003d\"sup-anchor\" name\u003d\"ref_[15]_14765801\"\u003e \u003c/a\u003e, \u003ca class\u003d\"sup-anchor\" name\u003d\"ref_[16]_14765801\"\u003e \u003c/a\u003e, \u003ca class\u003d\"sup-anchor\" name\u003d\"ref_[17]_14765801\"\u003e \u003c/a\u003e, \u003ca class\u003d\"sup-anchor\" name\u003d\"ref_[18]_14765801\"\u003e \u003c/a\u003e, \u003ca href\u003d\"/item/%E6%9C%B1%E5%BE%B7\" target\u003d\"_blank\"\u003eæ±å¾·\u003c/a\u003e, \u003ca href\u003d\"/item/%E9%82%93%E5%B0%8F%E5%B9%B3\" target\u003d\"_blank\"\u003eéå°å¹³\u003c/a\u003e, \u003ca href\u003d\"/item/%E5%BD%AD%E7%9C%9F\" target\u003d\"_blank\"\u003eå½­ç\u003c/a\u003e, \u003ca class\u003d\"sup-anchor\" name\u003d\"ref_[19]_14765801\"\u003e \u003c/a\u003e, \u003ca href\u003d\"/item/%E5%9B%BD%E5%BA%86%E8%8A%82\" target\u003d\"_blank\"\u003eå½åºè\u003c/a\u003e, \u003ca href\u003d\"/item/%E4%B8%AD%E5%9B%BD%E5%A4%A7%E9%99%86\" target\u003d\"_blank\"\u003eä¸­å½å¤§é\u003c/a\u003e, \u003ca data-lemmaid\u003d\"128775\" href\u003d\"/item/%E9%A6%99%E6%B8%AF/128775\" target\u003d\"_blank\"\u003eé¦æ¸¯\u003c/a\u003e, \u003ca data-lemmaid\u003d\"61723\" href\u003d\"/item/%E9%A6%96%E5%B0%94/61723\" target\u003d\"_blank\"\u003eé¦å°\u003c/a\u003e, \u003ca href\u003d\"/item/%E6%96%B0%E5%8A%A0%E5%9D%A1\" target\u003d\"_blank\"\u003eæ°å å¡\u003c/a\u003e, \u003ca href\u003d\"/item/%E6%97%A7%E9%87%91%E5%B1%B1\" target\u003d\"_blank\"\u003eæ§éå±±\u003c/a\u003e, \u003ca data-lemmaid\u003d\"374\" href\u003d\"/item/%E5%8D%8E%E7%9B%9B%E9%A1%BF/374\" target\u003d\"_blank\"\u003eåçé¡¿\u003c/a\u003e, \u003ca class\u003d\"sup-anchor\" name\u003d\"ref_[19]_14765801\"\u003e \u003c/a\u003e, \u003ca class\u003d\"sup-anchor\" name\u003d\"ref_[20]_14765801\"\u003e \u003c/a\u003e, \u003ca class\u003d\"lemma-album layout-right nslog:10000206\" href\u003d\"/pic/%E5%8C%97%E4%BA%AC%E5%9C%B0%E9%93%81/408485/11660827/fcfaaf51f3deb48fb568cc11f11f3a292cf578ff?fr\u003dlemma\u0026amp;ct\u003dcover\" nslog-type\u003d\"10000206\" style\u003d\"width:203px;\" target\u003d\"_blank\" title\u003d\"åäº¬å°éå¼å·¥å¥ åº\"\u003e\n",
            "\u003cdiv class\u003d\"album-wrap\" style\u003d\"width:201px;height:220px;\"\u003e\n",
            "\u003cimg alt\u003d\"åäº¬å°éå¼å·¥å¥ åº\" class\u003d\"picture\" src\u003d\"https://gss1.bdstatic.com/9vo3dSag_xI4khGkpoWK1HF6hhy/baike/s%3D220/sign\u003dff6048c75243fbf2c12ca121807fca1e/fcfaaf51f3deb48fb568cc11f11f3a292cf578ff.jpg\" style\u003d\"width:201px;height:220px;\"/\u003e\n",
            "\u003c/div\u003e\n",
            "\u003cdiv class\u003d\"description\"\u003e\n",
            "åäº¬å°éå¼å·¥å¥ åº\u003cspan class\u003d\"number\"\u003e(3å¼ )\u003c/span\u003e\n",
            "\u003c/div\u003e\n",
            "\u003cdiv class\u003d\"albumBg\"\u003e\n",
            "\u003cdiv class\u003d\"albumBgFir\" style\u003d\"width:195px;\"\u003e\u003c/div\u003e\n",
            "\u003cdiv class\u003d\"albumBgSec\" style\u003d\"width:189px;\"\u003e\u003c/div\u003e\n",
            "\u003c/div\u003e\n",
            "\u003c/a\u003e, \u003ca class\u003d\"sup-anchor\" name\u003d\"ref_[19]_14765801\"\u003e \u003c/a\u003e, \u003ca class\u003d\"sup-anchor\" name\u003d\"ref_[21]_14765801\"\u003e \u003c/a\u003e, \u003ca class\u003d\"sup-anchor\" name\u003d\"ref_[22]_14765801\"\u003e \u003c/a\u003e, \u003ca class\u003d\"sup-anchor\" name\u003d\"ref_[23]_14765801\"\u003e \u003c/a\u003e, \u003ca class\u003d\"sup-anchor\" name\u003d\"ref_[25]_14765801\"\u003e \u003c/a\u003e, \u003ca class\u003d\"sup-anchor\" name\u003d\"ref_[26]_14765801\"\u003e \u003c/a\u003e, \u003ca class\u003d\"sup-anchor\" name\u003d\"ref_[27]_14765801\"\u003e \u003c/a\u003e, \u003ca name\u003d\"ref_27\"\u003e\u003c/a\u003e, \u003ca class\u003d\"sup-anchor\" name\u003d\"ref_[27]_14765801\"\u003e \u003c/a\u003e, \u003ca name\u003d\"ref_27\"\u003e\u003c/a\u003e, \u003ca class\u003d\"sup-anchor\" name\u003d\"ref_[28]_14765801\"\u003e \u003c/a\u003e, \u003ca class\u003d\"sup-anchor\" name\u003d\"ref_[29]_14765801\"\u003e \u003c/a\u003e, \u003ca class\u003d\"sup-anchor\" name\u003d\"ref_[30]_14765801\"\u003e \u003c/a\u003e, \u003ca name\u003d\"ref_30\"\u003e\u003c/a\u003e, \u003ca class\u003d\"sup-anchor\" name\u003d\"ref_[30]_14765801\"\u003e \u003c/a\u003e, \u003ca name\u003d\"ref_30\"\u003e\u003c/a\u003e, \u003ca class\u003d\"sup-anchor\" name\u003d\"ref_[31]_14765801\"\u003e \u003c/a\u003e, \u003ca class\u003d\"sup-anchor\" name\u003d\"ref_[32]_14765801\"\u003e \u003c/a\u003e, \u003ca class\u003d\"sup-anchor\" name\u003d\"ref_[33]_14765801\"\u003e \u003c/a\u003e, \u003ca class\u003d\"sup-anchor\" name\u003d\"ref_[34]_14765801\"\u003e \u003c/a\u003e, \u003ca class\u003d\"sup-anchor\" name\u003d\"ref_[33]_14765801\"\u003e \u003c/a\u003e, \u003ca class\u003d\"sup-anchor\" name\u003d\"ref_[35]_14765801\"\u003e \u003c/a\u003e, \u003ca class\u003d\"sup-anchor\" name\u003d\"ref_[36]_14765801\"\u003e \u003c/a\u003e, \u003ca class\u003d\"lemma-album layout-right nslog:10000206\" href\u003d\"/pic/%E5%8C%97%E4%BA%AC%E5%9C%B0%E9%93%81/408485/17764615/96dda144ad345982a0c28b5d0df431adcaef84b0?fr\u003dlemma\u0026amp;ct\u003dcover\" nslog-type\u003d\"10000206\" style\u003d\"width:222px;\" target\u003d\"_blank\" title\u003d\"21ä¸çºªåæ\"\u003e\n",
            "\u003cdiv class\u003d\"album-wrap\" style\u003d\"width:220px;height:146px;\"\u003e\n",
            "\u003cimg alt\u003d\"21ä¸çºªåæ\" class\u003d\"picture\" src\u003d\"https://gss2.bdstatic.com/9fo3dSag_xI4khGkpoWK1HF6hhy/baike/s%3D220/sign\u003d1b82cbad9922720e7fcee5f84bca0a3a/96dda144ad345982a0c28b5d0df431adcaef84b0.jpg\" style\u003d\"width:220px;height:146px;\"/\u003e\n",
            "\u003c/div\u003e\n",
            "\u003cdiv class\u003d\"description\"\u003e\n",
            "21ä¸çºªåæ\u003cspan class\u003d\"number\"\u003e(5å¼ )\u003c/span\u003e\n",
            "\u003c/div\u003e\n",
            "\u003cdiv class\u003d\"albumBg\"\u003e\n",
            "\u003cdiv class\u003d\"albumBgFir\" style\u003d\"width:214px;\"\u003e\u003c/div\u003e\n",
            "\u003cdiv class\u003d\"albumBgSec\" style\u003d\"width:208px;\"\u003e\u003c/div\u003e\n",
            "\u003c/div\u003e\n",
            "\u003c/a\u003e, \u003ca class\u003d\"sup-anchor\" name\u003d\"ref_[37]_14765801\"\u003e \u003c/a\u003e, \u003ca class\u003d\"sup-anchor\" name\u003d\"ref_[38]_14765801\"\u003e \u003c/a\u003e, \u003ca class\u003d\"sup-anchor\" name\u003d\"ref_[39]_14765801\"\u003e \u003c/a\u003e, \u003ca class\u003d\"sup-anchor\" name\u003d\"ref_[40]_14765801\"\u003e \u003c/a\u003e, \u003ca class\u003d\"lemma-album layout-right nslog:10000206\" href\u003d\"/pic/%E5%8C%97%E4%BA%AC%E5%9C%B0%E9%93%81/408485/7768432/dcc451da81cb39dbc7283a99d1160924aa183010?fr\u003dlemma\u0026amp;ct\u003dcover\" nslog-type\u003d\"10000206\" style\u003d\"width:222px;\" target\u003d\"_blank\" title\u003d\"2010å¹´å\"\u003e\n",
            "\u003cdiv class\u003d\"album-wrap\" style\u003d\"width:220px;height:141px;\"\u003e\n",
            "\u003cimg alt\u003d\"2010å¹´å\" class\u003d\"picture\" src\u003d\"https://gss1.bdstatic.com/9vo3dSag_xI4khGkpoWK1HF6hhy/baike/s%3D220/sign\u003da08da4406d81800a6ae58e0c813733d6/dcc451da81cb39dbc7283a99d1160924aa183010.jpg\" style\u003d\"width:220px;height:141px;\"/\u003e\n",
            "\u003c/div\u003e\n",
            "\u003cdiv class\u003d\"description\"\u003e\n",
            "2010å¹´å\u003cspan class\u003d\"number\"\u003e(4å¼ )\u003c/span\u003e\n",
            "\u003c/div\u003e\n",
            "\u003cdiv class\u003d\"albumBg\"\u003e\n",
            "\u003cdiv class\u003d\"albumBgFir\" style\u003d\"width:214px;\"\u003e\u003c/div\u003e\n",
            "\u003cdiv class\u003d\"albumBgSec\" style\u003d\"width:208px;\"\u003e\u003c/div\u003e\n",
            "\u003c/div\u003e\n",
            "\u003c/a\u003e, \u003ca class\u003d\"sup-anchor\" name\u003d\"ref_[41]_14765801\"\u003e \u003c/a\u003e, \u003ca class\u003d\"sup-anchor\" name\u003d\"ref_[42]_14765801\"\u003e \u003c/a\u003e, \u003ca class\u003d\"sup-anchor\" name\u003d\"ref_[43]_14765801\"\u003e \u003c/a\u003e, \u003ca class\u003d\"sup-anchor\" name\u003d\"ref_[44]_14765801\"\u003e \u003c/a\u003e, \u003ca class\u003d\"sup-anchor\" name\u003d\"ref_[45]_14765801\"\u003e \u003c/a\u003e, \u003ca class\u003d\"sup-anchor\" name\u003d\"ref_[6]_14765801\"\u003e \u003c/a\u003e, \u003ca class\u003d\"sup-anchor\" name\u003d\"ref_[46]_14765801\"\u003e \u003c/a\u003e, \u003ca class\u003d\"sup-anchor\" name\u003d\"ref_[47-48]_14765801\"\u003e \u003c/a\u003e, \u003ca class\u003d\"sup-anchor\" name\u003d\"ref_[11]_14765801\"\u003e \u003c/a\u003e, \u003ca class\u003d\"sup-anchor\" name\u003d\"ref_[10]_14765801\"\u003e \u003c/a\u003e, \u003ca class\u003d\"sup-anchor\" name\u003d\"ref_[49]_14765801\"\u003e \u003c/a\u003e, \u003ca href\u003d\"/item/%E5%8C%97%E4%BA%AC%E5%9C%B0%E9%93%811%E5%8F%B7%E7%BA%BF\" target\u003d\"_blank\"\u003eåäº¬å°é1å·çº¿\u003c/a\u003e, \u003ca href\u003d\"/item/%E5%A4%8D%E5%85%AB%E7%BA%BF\" target\u003d\"_blank\"\u003eå¤å",
            "«çº¿\u003c/a\u003e, \u003ca href\u003d\"/item/%E5%A4%8D%E5%85%AB%E7%BA%BF\" target\u003d\"_blank\"\u003eå¤å",
            "«çº¿\u003c/a\u003e, \u003ca href\u003d\"/item/%E5%8C%97%E4%BA%AC%E5%9C%B0%E9%93%811%E5%8F%B7%E7%BA%BF\" target\u003d\"_blank\"\u003eåäº¬å°é1å·çº¿\u003c/a\u003e, \u003ca href\u003d\"/item/%E5%8C%97%E4%BA%AC%E5%9C%B0%E9%93%8113%E5%8F%B7%E7%BA%BF\" target\u003d\"_blank\"\u003eåäº¬å°é13å·çº¿\u003c/a\u003e, \u003ca href\u003d\"/item/%E5%8C%97%E4%BA%AC%E5%9C%B0%E9%93%8113%E5%8F%B7%E7%BA%BF\" target\u003d\"_blank\"\u003eåäº¬å°é13å·çº¿\u003c/a\u003e, \u003ca href\u003d\"/item/%E5%8C%97%E4%BA%AC%E5%9C%B0%E9%93%81%E5%85%AB%E9%80%9A%E7%BA%BF\" target\u003d\"_blank\"\u003eåäº¬å°éå",
            "«éçº¿\u003c/a\u003e, \u003ca href\u003d\"/item/%E5%8C%97%E4%BA%AC%E5%9C%B0%E9%93%815%E5%8F%B7%E7%BA%BF\" target\u003d\"_blank\"\u003eåäº¬å°é5å·çº¿\u003c/a\u003e, \u003ca href\u003d\"/item/%E5%8C%97%E4%BA%AC%E5%9C%B0%E9%93%818%E5%8F%B7%E7%BA%BF\" target\u003d\"_blank\"\u003eåäº¬å°é8å·çº¿\u003c/a\u003e, \u003ca href\u003d\"/item/%E5%8C%97%E4%BA%AC%E5%9C%B0%E9%93%8110%E5%8F%B7%E7%BA%BF\" target\u003d\"_blank\"\u003eåäº¬å°é10å·çº¿\u003c/a\u003e, \u003ca href\u003d\"/item/%E5%8C%97%E4%BA%AC%E5%9C%B0%E9%93%81%E6%9C%BA%E5%9C%BA%E7%BA%BF\" target\u003d\"_blank\"\u003eåäº¬å°éæºåºçº¿\u003c/a\u003e, \u003ca href\u003d\"/item/%E5%8C%97%E4%BA%AC%E5%9C%B0%E9%93%814%E5%8F%B7%E7%BA%BF\" target\u003d\"_blank\"\u003eåäº¬å°é4å·çº¿\u003c/a\u003e, \u003ca href\u003d\"/item/%E5%8C%97%E4%BA%AC%E5%9C%B0%E9%93%8115%E5%8F%B7%E7%BA%BF\" target\u003d\"_blank\"\u003eåäº¬å°é15å·çº¿\u003c/a\u003e, \u003ca href\u003d\"/item/%E5%8C%97%E4%BA%AC%E5%9C%B0%E9%93%81%E6%98%8C%E5%B9%B3%E7%BA%BF\" target\u003d\"_blank\"\u003eåäº¬å°éæå¹³çº¿\u003c/a\u003e, \u003ca href\u003d\"/item/%E5%8C%97%E4%BA%AC%E5%9C%B0%E9%93%81%E5%A4%A7%E5%85%B4%E7%BA%BF\" target\u003d\"_blank\"\u003eåäº¬å°éå¤§å",
            "´çº¿\u003c/a\u003e, \u003ca href\u003d\"/item/%E5%8C%97%E4%BA%AC%E5%9C%B0%E9%93%81%E6%88%BF%E5%B1%B1%E7%BA%BF\" target\u003d\"_blank\"\u003eåäº¬å°éæ¿å±±çº¿\u003c/a\u003e, \u003ca href\u003d\"/item/%E5%8C%97%E4%BA%AC%E5%9C%B0%E9%93%81%E4%BA%A6%E5%BA%84%E7%BA%BF\" target\u003d\"_blank\"\u003eåäº¬å°éäº¦åºçº¿\u003c/a\u003e, \u003ca href\u003d\"/item/%E5%8C%97%E4%BA%AC%E5%9C%B0%E9%93%818%E5%8F%B7%E7%BA%BF\" target\u003d\"_blank\"\u003eåäº¬å°é8å·çº¿\u003c/a\u003e, \u003ca href\u003d\"/item/%E5%8C%97%E4%BA%AC%E5%9C%B0%E9%93%819%E5%8F%B7%E7%BA%BF\" target\u003d\"_blank\"\u003eåäº¬å°é9å·çº¿\u003c/a\u003e, \u003ca href\u003d\"/item/%E5%8C%97%E4%BA%AC%E5%9C%B0%E9%93%8115%E5%8F%B7%E7%BA%BF\" target\u003d\"_blank\"\u003eåäº¬å°é15å·çº¿\u003c/a\u003e, \u003ca href\u003d\"/item/%E5%8C%97%E4%BA%AC%E5%9C%B0%E9%93%81%E6%88%BF%E5%B1%B1%E7%BA%BF\" target\u003d\"_blank\"\u003eåäº¬å°éæ¿å±±çº¿\u003c/a\u003e, \u003ca href\u003d\"/item/%E5%8C%97%E4%BA%AC%E5%9C%B0%E9%93%816%E5%8F%B7%E7%BA%BF\" target\u003d\"_blank\"\u003eåäº¬å°é6å·çº¿\u003c/a\u003e, \u003ca href\u003d\"/item/%E5%8C%97%E4%BA%AC%E5%9C%B0%E9%93%818%E5%8F%B7%E7%BA%BF\" target\u003d\"_blank\"\u003eåäº¬å°é8å·çº¿\u003c/a\u003e, \u003ca href\u003d\"/item/%E5%8C%97%E4%BA%AC%E5%9C%B0%E9%93%819%E5%8F%B7%E7%BA%BF\" target\u003d\"_blank\"\u003eåäº¬å°é9å·çº¿\u003c/a\u003e, \u003ca href\u003d\"/item/%E5%8C%97%E4%BA%AC%E5%9C%B0%E9%93%8110%E5%8F%B7%E7%BA%BF\" target\u003d\"_blank\"\u003eåäº¬å°é10å·çº¿\u003c/a\u003e, \u003ca href\u003d\"/item/%E5%8C%97%E4%BA%AC%E5%9C%B0%E9%93%8110%E5%8F%B7%E7%BA%BF\" target\u003d\"_blank\"\u003eåäº¬å°é10å·çº¿\u003c/a\u003e, \u003ca href\u003d\"/item/%E5%8C%97%E4%BA%AC%E5%9C%B0%E9%93%8114%E5%8F%B7%E7%BA%BF\" target\u003d\"_blank\"\u003eåäº¬å°é14å·çº¿\u003c/a\u003e, \u003ca href\u003d\"/item/%E5%8C%97%E4%BA%AC%E5%9C%B0%E9%93%818%E5%8F%B7%E7%BA%BF\" target\u003d\"_blank\"\u003eåäº¬å°é8å·çº¿\u003c/a\u003e, \u003ca href\u003d\"/item/%E5%8C%97%E4%BA%AC%E5%9C%B0%E9%93%816%E5%8F%B7%E7%BA%BF\" target\u003d\"_blank\"\u003eåäº¬å°é6å·çº¿\u003c/a\u003e, \u003ca href\u003d\"/item/%E5%8F%A4%E5%9F%8E%E8%BD%A6%E8%BE%86%E6%AE%B5\" target\u003d\"_blank\"\u003eå¤åè½¦è¾æ®µ\u003c/a\u003e, \u003ca href\u003d\"/item/%E5%9B%9B%E6%83%A0%E8%BD%A6%E8%BE%86%E6%AE%B5\" target\u003d\"_blank\"\u003eåæ è½¦è¾æ®µ\u003c/a\u003e, \u003ca data-lemmaid\u003d\"2610120\" href\u003d\"/item/%E7%A7%AF%E6%B0%B4%E6%BD%AD%E7%AB%99/2610120\" target\u003d\"_blank\"\u003eç§¯æ°´æ½­ç«\u003c/a\u003e, \u003ca data-lemmaid\u003d\"2612279\" href\u003d\"/item/%E8%A5%BF%E7%9B%B4%E9%97%A8%E7%AB%99/2612279\" target\u003d\"_blank\"\u003eè¥¿ç´é¨ç«\u003c/a\u003e, \u003ca data-lemmaid\u003d\"5419324\" href\u003d\"/item/%E5%AE%89%E6%B2%B3%E6%A1%A5%E5%8C%97%E7%AB%99/5419324\" target\u003d\"_blank\"\u003eå®æ²³æ¡¥åç«\u003c/a\u003e, \u003ca data-lemmaid\u003d\"8550514\" href\u003d\"/item/%E5%A4%A9%E5%AE%AB%E9%99%A2%E7%AB%99/8550514\" target\u003d\"_blank\"\u003eå¤©å®«é¢ç«\u003c/a\u003e, \u003ca href\u003d\"/item/%E9%BE%99%E8%83%8C%E6%9D%91%E5%81%9C%E8%BD%A6%E5%9C%BA\" target\u003d\"_blank\"\u003eé¾èæåè½¦åº\u003c/a\u003e, \u003ca href\u003d\"/item/%E9%A9%AC%E5%AE%B6%E5%A0%A1%E8%BD%A6%E8%BE%86%E6%AE%B5\" target\u003d\"_blank\"\u003eé©¬å®¶å ¡è½¦è¾æ®µ\u003c/a\u003e, \u003ca href\u003d\"/item/%E5%AE%8B%E5%AE%B6%E5%BA%84%E5%81%9C%E8%BD%A6%E5%9C%BA\" target\u003d\"_blank\"\u003eå®å®¶åºåè½¦åº\u003c/a\u003e, \u003ca href\u003d\"/item/%E5%A4%AA%E5%B9%B3%E5%BA%84%E8%BD%A6%E8%BE%86%E6%AE%B5\" target\u003d\"_blank\"\u003eå¤ªå¹³åºè½¦è¾æ®µ\u003c/a\u003e, \u003ca href\u003d\"/item/%E4%BA%94%E9%87%8C%E6%A1%A5%E8%BD%A6%E8%BE%86%E6%AE%B5\" target\u003d\"_blank\"\u003eäºéæ¡¥è½¦è¾æ®µ\u003c/a\u003e, \u003ca href\u003d\"/item/%E5%B9%B3%E8%A5%BF%E5%BA%9C%E8%BD%A6%E8%BE%86%E6%AE%B5\" target\u003d\"_blank\"\u003eå¹³è¥¿åºè½¦è¾æ®µ\u003c/a\u003e, \u003ca data-lemmaid\u003d\"22907405\" href\u003d\"/item/%E7%80%9B%E6%B5%B7%E8%BD%A6%E8%BE%86%E6%AE%B5/22907405\" target\u003d\"_blank\"\u003eçæµ·è½¦è¾æ®µ\u003c/a\u003e, \u003ca data-lemmaid\u003d\"4337043\" href\u003d\"/item/%E5%B7%B4%E6%B2%9F%E7%AB%99/4337043\" target\u003d\"_blank\"\u003eå·´æ²ç«\u003c/a\u003e, \u003ca data-lemmaid\u003d\"9515295\" href\u003d\"/item/%E8%BD%A6%E9%81%93%E6%B2%9F%E7%AB%99/9515295\" target\u003d\"_blank\"\u003eè½¦éæ²ç«\u003c/a\u003e, \u003ca data-lemmaid\u003d\"75170\" href\u003d\"/item/%E5%AE%8B%E5%AE%B6%E5%BA%84%E7%AB%99/75170\" target\u003d\"_blank\"\u003eå®å®¶åºç«\u003c/a\u003e, \u003ca data-lemmaid\u003d\"2687604\" href\u003d\"/item/%E6%88%90%E5%AF%BF%E5%AF%BA%E7%AB%99/2687604\" target\u003d\"_blank\"\u003eæå¯¿å¯ºç«\u003c/a\u003e, \u003ca href\u003d\"/item/%E4%B8%87%E6%9F%B3%E8%BD%A6%E8%BE%86%E6%AE%B5\" target\u003d\"_blank\"\u003eä¸æ³è½¦è¾æ®µ\u003c/a\u003e, \u003ca href\u003d\"/item/%E9%A9%AC%E6%B3%89%E8%90%A5%E8%BD%A6%E8%BE%86%E6%AE%B5\" target\u003d\"_blank\"\u003eé©¬æ³è¥è½¦è¾æ®µ\u003c/a\u003e, \u003ca href\u003d\"/item/%E5%9C%9F%E6%A1%A5%E8%BD%A6%E8%BE%86%E6%AE%B5\" target\u003d\"_blank\"\u003eåæ¡¥è½¦è¾æ®µ\u003c/a\u003e, \u003ca href\u003d\"/item/%E5%AE%9A%E6%B3%97%E8%B7%AF%E5%81%9C%E8%BD%A6%E5%9C%BA\" target\u003d\"_blank\"\u003eå®æ³è·¯åè½¦åº\u003c/a\u003e, \u003ca href\u003d\"/item/%E5%8D%81%E4%B8%89%E9%99%B5%E6%99%AF%E5%8C%BA%E8%BD%A6%E8%BE%86%E6%AE%B5\" target\u003d\"_blank\"\u003eåä¸éµæ¯åºè½¦è¾æ®µ\u003c/a\u003e, \u003ca href\u003d\"/item/%E9%98%8E%E6%9D%91%E8%BD%A6%E8%BE%86%E6%AE%B5\" target\u003d\"_blank\"\u003eéæè½¦è¾æ®µ\u003c/a\u003e, \u003ca href\u003d\"/item/%E5%8F%B0%E6%B9%96%E8%BD%A6%E8%BE%86%E6%AE%B5\" target\u003d\"_blank\"\u003eå°æ¹è½¦è¾æ®µ\u003c/a\u003e, \u003ca data-lemmaid\u003d\"4413864\" href\u003d\"/item/%E4%B8%9C%E7%9B%B4%E9%97%A8%E7%AB%99/4413864\" target\u003d\"_blank\"\u003eä¸ç´é¨ç«\u003c/a\u003e, \u003ca data-lemmaid\u003d\"2662271\" href\u003d\"/item/2%E5%8F%B7%E8%88%AA%E7%AB%99%E6%A5%BC%E7%AB%99/2662271\" target\u003d\"_blank\"\u003e2å·èªç«æ¥¼ç«\u003c/a\u003e, \u003ca data-lemmaid\u003d\"2662103\" href\u003d\"/item/3%E5%8F%B7%E8%88%AA%E7%AB%99%E6%A5%BC%E7%AB%99/2662103\" target\u003d\"_blank\"\u003e3å·èªç«æ¥¼ç«\u003c/a\u003e, \u003ca href\u003d\"/item/%E5%8C%97%E4%BA%AC%E5%B8%82%E8%BD%A8%E9%81%93%E4%BA%A4%E9%80%9A%E8%BF%90%E8%90%A5%E5%AE%89%E5%85%A8%E6%9D%A1%E4%BE%8B\" target\u003d\"_blank\"\u003eåäº¬å¸è½¨éäº¤éè¿è¥å®å",
            "¨æ¡ä¾\u003c/a\u003e, \u003ca class\u003d\"sup-anchor\" name\u003d\"ref_[80]_14765801\"\u003e \u003c/a\u003e, \u003ca class\u003d\"sup-anchor\" name\u003d\"ref_[81]_14765801\"\u003e \u003c/a\u003e, \u003ca class\u003d\"sup-anchor\" name\u003d\"ref_[82]_14765801\"\u003e \u003c/a\u003e, \u003ca class\u003d\"sup-anchor\" name\u003d\"ref_[83]_14765801\"\u003e \u003c/a\u003e, \u003ca class\u003d\"sup-anchor\" name\u003d\"ref_[84]_14765801\"\u003e \u003c/a\u003e, \u003ca class\u003d\"sup-anchor\" name\u003d\"ref_[85]_14765801\"\u003e \u003c/a\u003e, \u003ca class\u003d\"sup-anchor\" name\u003d\"ref_[86]_14765801\"\u003e \u003c/a\u003e, \u003ca href\u003d\"/item/ATC%E7%B3%BB%E7%BB%9F\" target\u003d\"_blank\"\u003eATCç³»ç»\u003c/a\u003e, \u003ca class\u003d\"sup-anchor\" name\u003d\"ref_[94]_14765801\"\u003e \u003c/a\u003e, \u003ca class\u003d\"sup-anchor\" name\u003d\"ref_[95]_14765801\"\u003e \u003c/a\u003e, \u003ca class\u003d\"sup-anchor\" name\u003d\"ref_[95]_14765801\"\u003e \u003c/a\u003e, \u003ca class\u003d\"sup-anchor\" name\u003d\"ref_[95]_14765801\"\u003e \u003c/a\u003e, \u003ca class\u003d\"sup-anchor\" name\u003d\"ref_[95]_14765801\"\u003e \u003c/a\u003e, \u003ca class\u003d\"lemma-album layout-right nslog:10000206\" href\u003d\"/pic/%E5%8C%97%E4%BA%AC%E5%9C%B0%E9%93%81/408485/22388124/7a899e510fb30f243896baddc295d143ac4b03db?fr\u003dlemma\u0026amp;ct\u003dcover\" nslog-type\u003d\"10000206\" style\u003d\"width:150px;\" target\u003d\"_blank\" title\u003d\"è¿ç«\"\u003e\n",
            "\u003cdiv class\u003d\"album-wrap\" style\u003d\"width:148px;height:220px;\"\u003e\n",
            "\u003cimg alt\u003d\"è¿ç«\" class\u003d\"picture\" src\u003d\"https://gss2.bdstatic.com/9fo3dSag_xI4khGkpoWK1HF6hhy/baike/s%3D220/sign\u003ded3b53a02f1f95caa2f595b4f9167fc5/7a899e510fb30f243896baddc295d143ac4b03db.jpg\" style\u003d\"width:148px;height:220px;\"/\u003e\n",
            "\u003c/div\u003e\n",
            "\u003cdiv class\u003d\"description\"\u003e\n",
            "è¿ç«\u003cspan class\u003d\"number\"\u003e(2å¼ )\u003c/span\u003e\n",
            "\u003c/div\u003e\n",
            "\u003cdiv class\u003d\"albumBg\"\u003e\n",
            "\u003cdiv class\u003d\"albumBgFir\" style\u003d\"width:142px;\"\u003e\u003c/div\u003e\n",
            "\u003cdiv class\u003d\"albumBgSec\" style\u003d\"width:136px;\"\u003e\u003c/div\u003e\n",
            "\u003c/div\u003e\n",
            "\u003c/a\u003e, \u003ca class\u003d\"sup-anchor\" name\u003d\"ref_[96]_14765801\"\u003e \u003c/a\u003e, \u003ca class\u003d\"sup-anchor\" name\u003d\"ref_[97]_14765801\"\u003e \u003c/a\u003e, \u003ca class\u003d\"lemma-album layout-right nslog:10000206\" href\u003d\"/pic/%E5%8C%97%E4%BA%AC%E5%9C%B0%E9%93%81/408485/22388125/4bed2e738bd4b31c2483c4658dd6277f9f2ff8b5?fr\u003dlemma\u0026amp;ct\u003dcover\" nslog-type\u003d\"10000206\" style\u003d\"width:222px;\" target\u003d\"_blank\" title\u003d\"å¯¼å¼æ è¯\"\u003e\n",
            "\u003cdiv class\u003d\"album-wrap\" style\u003d\"width:220px;height:146px;\"\u003e\n",
            "\u003cimg alt\u003d\"å¯¼å¼æ è¯\" class\u003d\"picture\" src\u003d\"https://gss3.bdstatic.com/-Po3dSag_xI4khGkpoWK1HF6hhy/baike/s%3D220/sign\u003d34a9b1e93ffae6cd08b4ac633fb20f9e/4bed2e738bd4b31c2483c4658dd6277f9f2ff8b5.jpg\" style\u003d\"width:220px;height:146px;\"/\u003e\n",
            "\u003c/div\u003e\n",
            "\u003cdiv class\u003d\"description\"\u003e\n",
            "å¯¼å¼æ è¯\u003cspan class\u003d\"number\"\u003e(3å¼ )\u003c/span\u003e\n",
            "\u003c/div\u003e\n",
            "\u003cdiv class\u003d\"albumBg\"\u003e\n",
            "\u003cdiv class\u003d\"albumBgFir\" style\u003d\"width:214px;\"\u003e\u003c/div\u003e\n",
            "\u003cdiv class\u003d\"albumBgSec\" style\u003d\"width:208px;\"\u003e\u003c/div\u003e\n",
            "\u003c/div\u003e\n",
            "\u003c/a\u003e, \u003ca class\u003d\"sup-anchor\" name\u003d\"ref_[98]_14765801\"\u003e \u003c/a\u003e, \u003ca class\u003d\"lemma-album layout-right nslog:10000206\" href\u003d\"/pic/%E5%8C%97%E4%BA%AC%E5%9C%B0%E9%93%81/408485/22356211/d0c8a786c9177f3e5b76bfdd7acf3bc79e3d569b?fr\u003dlemma\u0026amp;ct\u003dcover\" nslog-type\u003d\"10000206\" style\u003d\"width:222px;\" target\u003d\"_blank\" title\u003d\"åç¨ç¥¨\"\u003e\n",
            "\u003cdiv class\u003d\"album-wrap\" style\u003d\"width:220px;height:139px;\"\u003e\n",
            "\u003cimg alt\u003d\"åç¨ç¥¨\" class\u003d\"picture\" src\u003d\"https://gss0.bdstatic.com/-4o3dSag_xI4khGkpoWK1HF6hhy/baike/s%3D220/sign\u003dac900026adefce1bee2bcfc89f50f3e8/d0c8a786c9177f3e5b76bfdd7acf3bc79e3d569b.jpg\" style\u003d\"width:220px;height:139px;\"/\u003e\n",
            "\u003c/div\u003e\n",
            "\u003cdiv class\u003d\"description\"\u003e\n",
            "åç¨ç¥¨\u003cspan class\u003d\"number\"\u003e(2å¼ )\u003c/span\u003e\n",
            "\u003c/div\u003e\n",
            "\u003cdiv class\u003d\"albumBg\"\u003e\n",
            "\u003cdiv class\u003d\"albumBgFir\" style\u003d\"width:214px;\"\u003e\u003c/div\u003e\n",
            "\u003cdiv class\u003d\"albumBgSec\" style\u003d\"width:208px;\"\u003e\u003c/div\u003e\n",
            "\u003c/div\u003e\n",
            "\u003c/a\u003e, \u003ca class\u003d\"sup-anchor\" name\u003d\"ref_[99]_14765801\"\u003e \u003c/a\u003e, \u003ca name\u003d\"ref_99\"\u003e\u003c/a\u003e, \u003ca class\u003d\"sup-anchor\" name\u003d\"ref_[100]_14765801\"\u003e \u003c/a\u003e, \u003ca href\u003d\"/item/%E5%8C%97%E4%BA%AC%E9%80%9A-%E6%B0%91%E6%94%BF%E4%B8%80%E5%8D%A1%E9%80%9A\" target\u003d\"_blank\"\u003eåäº¬é-æ°æ¿ä¸å¡é\u003c/a\u003e, \u003ca class\u003d\"sup-anchor\" name\u003d\"ref_[101]_14765801\"\u003e \u003c/a\u003e, \u003ca href\u003d\"/item/%E5%B8%82%E6%94%BF%E4%BA%A4%E9%80%9A%E4%B8%80%E5%8D%A1%E9%80%9A\" target\u003d\"_blank\"\u003eå¸æ¿äº¤éä¸å¡é\u003c/a\u003e, \u003ca class\u003d\"sup-anchor\" name\u003d\"ref_[102]_14765801\"\u003e \u003c/a\u003e, \u003ca class\u003d\"sup-anchor\" name\u003d\"ref_[103]_14765801\"\u003e \u003c/a\u003e, \u003ca class\u003d\"sup-anchor\" name\u003d\"ref_[104]_14765801\"\u003e \u003c/a\u003e, \u003ca class\u003d\"sup-anchor\" name\u003d\"ref_[48]_14765801\"\u003e \u003c/a\u003e, \u003ca class\u003d\"sup-anchor\" name\u003d\"ref_[105]_14765801\"\u003e \u003c/a\u003e, \u003ca class\u003d\"sup-anchor\" name\u003d\"ref_[106]_14765801\"\u003e \u003c/a\u003e, \u003ca class\u003d\"sup-anchor\" name\u003d\"ref_[107]_14765801\"\u003e \u003c/a\u003e, \u003ca class\u003d\"sup-anchor\" name\u003d\"ref_[108-109]_14765801\"\u003e \u003c/a\u003e, \u003ca class\u003d\"sup-anchor\" name\u003d\"ref_[110]_14765801\"\u003e \u003c/a\u003e, \u003ca class\u003d\"sup-anchor\" name\u003d\"ref_[111]_14765801\"\u003e \u003c/a\u003e, \u003ca class\u003d\"sup-anchor\" name\u003d\"ref_[99]_14765801\"\u003e \u003c/a\u003e, \u003ca name\u003d\"ref_99\"\u003e\u003c/a\u003e, \u003ca class\u003d\"sup-anchor\" name\u003d\"ref_[112]_14765801\"\u003e \u003c/a\u003e, \u003ca class\u003d\"sup-anchor\" name\u003d\"ref_[113]_14765801\"\u003e \u003c/a\u003e, \u003ca class\u003d\"sup-anchor\" name\u003d\"ref_[114]_14765801\"\u003e \u003c/a\u003e, \u003ca class\u003d\"sup-anchor\" name\u003d\"ref_[115]_14765801\"\u003e \u003c/a\u003e, \u003ca class\u003d\"sup-anchor\" name\u003d\"ref_[116]_14765801\"\u003e \u003c/a\u003e, \u003ca class\u003d\"lemma-album layout-right nslog:10000206\" href\u003d\"/pic/%E5%8C%97%E4%BA%AC%E5%9C%B0%E9%93%81/408485/22388126/e61190ef76c6a7ef8ce3ddf8f7faaf51f2de6622?fr\u003dlemma\u0026amp;ct\u003dcover\" nslog-type\u003d\"10000206\" style\u003d\"width:222px;\" target\u003d\"_blank\" title\u003d\"ç¹è²ç«ç¹\"\u003e\n",
            "\u003cdiv class\u003d\"album-wrap\" style\u003d\"width:220px;height:125px;\"\u003e\n",
            "\u003cimg alt\u003d\"ç¹è²ç«ç¹\" class\u003d\"picture\" src\u003d\"https://gss2.bdstatic.com/9fo3dSag_xI4khGkpoWK1HF6hhy/baike/s%3D220/sign\u003d97c1f6ee30f33a879a6d0718f65e1018/e61190ef76c6a7ef8ce3ddf8f7faaf51f2de6622.jpg\" style\u003d\"width:220px;height:125px;\"/\u003e\n",
            "\u003c/div\u003e\n",
            "\u003cdiv class\u003d\"description\"\u003e\n",
            "ç¹è²ç«ç¹\u003cspan class\u003d\"number\"\u003e(4å¼ )\u003c/span\u003e\n",
            "\u003c/div\u003e\n",
            "\u003cdiv class\u003d\"albumBg\"\u003e\n",
            "\u003cdiv class\u003d\"albumBgFir\" style\u003d\"width:214px;\"\u003e\u003c/div\u003e\n",
            "\u003cdiv class\u003d\"albumBgSec\" style\u003d\"width:208px;\"\u003e\u003c/div\u003e\n",
            "\u003c/div\u003e\n",
            "\u003c/a\u003e, \u003ca class\u003d\"sup-anchor\" name\u003d\"ref_[132]_14765801\"\u003e \u003c/a\u003e, \u003ca class\u003d\"sup-anchor\" name\u003d\"ref_[133]_14765801\"\u003e \u003c/a\u003e, \u003ca class\u003d\"sup-anchor\" name\u003d\"ref_[134]_14765801\"\u003e \u003c/a\u003e, \u003ca class\u003d\"sup-anchor\" name\u003d\"ref_[135]_14765801\"\u003e \u003c/a\u003e, \u003ca class\u003d\"sup-anchor\" name\u003d\"ref_[136]_14765801\"\u003e \u003c/a\u003e]\n"
          ]
        }
      ],
      "source": [
        "print(metro)"
      ]
    },
    {
      "cell_type": "code",
      "execution_count": 60,
      "metadata": {
        "pycharm": {}
      },
      "outputs": [
        {
          "data": {
            "text/plain": [
              "A    1\n",
              "B    2\n",
              "c    3\n",
              "D    4\n",
              "E    5\n",
              "dtype: int64"
            ]
          },
          "execution_count": 60,
          "metadata": {},
          "output_type": "execute_result"
        }
      ],
      "source": [
        "Series([1,2,3,4,5],index\u003d[\u0027A\u0027,\u0027B\u0027,\"c\",\"D\",\"E\"])"
      ]
    },
    {
      "cell_type": "code",
      "execution_count": 61,
      "metadata": {
        "pycharm": {}
      },
      "outputs": [],
      "source": [
        "from pandas import DataFrame"
      ]
    },
    {
      "cell_type": "code",
      "execution_count": 62,
      "metadata": {
        "pycharm": {}
      },
      "outputs": [],
      "source": [
        "data \u003d {\u0027score\u0027:[98,61,78,81],\u0027name\u0027:[\"xiaoming\",\"zhihong\",\"wangyue\",\"xijian\"],\n",
        "       \u0027sex\u0027:[\u0027female\u0027,\u0027male\u0027,\u0027male\u0027,\u0027female\u0027]}"
      ]
    },
    {
      "cell_type": "code",
      "execution_count": 63,
      "metadata": {
        "pycharm": {}
      },
      "outputs": [
        {
          "data": {
            "text/plain": [
              "{\u0027score\u0027: [98, 61, 78, 81],\n",
              " \u0027name\u0027: [\u0027xiaoming\u0027, \u0027zhihong\u0027, \u0027wangyue\u0027, \u0027xijian\u0027],\n",
              " \u0027sex\u0027: [\u0027female\u0027, \u0027male\u0027, \u0027male\u0027, \u0027female\u0027]}"
            ]
          },
          "execution_count": 63,
          "metadata": {},
          "output_type": "execute_result"
        }
      ],
      "source": [
        "data"
      ]
    },
    {
      "cell_type": "code",
      "execution_count": 64,
      "metadata": {
        "pycharm": {}
      },
      "outputs": [],
      "source": [
        "frame \u003d DataFrame(data)"
      ]
    },
    {
      "cell_type": "code",
      "execution_count": 66,
      "metadata": {
        "pycharm": {}
      },
      "outputs": [
        {
          "data": {
            "text/html": [
              "\u003cdiv\u003e\n",
              "\u003cstyle scoped\u003e\n",
              "    .dataframe tbody tr th:only-of-type {\n",
              "        vertical-align: middle;\n",
              "    }\n",
              "\n",
              "    .dataframe tbody tr th {\n",
              "        vertical-align: top;\n",
              "    }\n",
              "\n",
              "    .dataframe thead th {\n",
              "        text-align: right;\n",
              "    }\n",
              "\u003c/style\u003e\n",
              "\u003ctable border\u003d\"1\" class\u003d\"dataframe\"\u003e\n",
              "  \u003cthead\u003e\n",
              "    \u003ctr style\u003d\"text-align: right;\"\u003e\n",
              "      \u003cth\u003e\u003c/th\u003e\n",
              "      \u003cth\u003escore\u003c/th\u003e\n",
              "      \u003cth\u003ename\u003c/th\u003e\n",
              "      \u003cth\u003esex\u003c/th\u003e\n",
              "    \u003c/tr\u003e\n",
              "  \u003c/thead\u003e\n",
              "  \u003ctbody\u003e\n",
              "    \u003ctr\u003e\n",
              "      \u003cth\u003e0\u003c/th\u003e\n",
              "      \u003ctd\u003e98\u003c/td\u003e\n",
              "      \u003ctd\u003exiaoming\u003c/td\u003e\n",
              "      \u003ctd\u003efemale\u003c/td\u003e\n",
              "    \u003c/tr\u003e\n",
              "    \u003ctr\u003e\n",
              "      \u003cth\u003e1\u003c/th\u003e\n",
              "      \u003ctd\u003e61\u003c/td\u003e\n",
              "      \u003ctd\u003ezhihong\u003c/td\u003e\n",
              "      \u003ctd\u003emale\u003c/td\u003e\n",
              "    \u003c/tr\u003e\n",
              "    \u003ctr\u003e\n",
              "      \u003cth\u003e2\u003c/th\u003e\n",
              "      \u003ctd\u003e78\u003c/td\u003e\n",
              "      \u003ctd\u003ewangyue\u003c/td\u003e\n",
              "      \u003ctd\u003emale\u003c/td\u003e\n",
              "    \u003c/tr\u003e\n",
              "    \u003ctr\u003e\n",
              "      \u003cth\u003e3\u003c/th\u003e\n",
              "      \u003ctd\u003e81\u003c/td\u003e\n",
              "      \u003ctd\u003exijian\u003c/td\u003e\n",
              "      \u003ctd\u003efemale\u003c/td\u003e\n",
              "    \u003c/tr\u003e\n",
              "  \u003c/tbody\u003e\n",
              "\u003c/table\u003e\n",
              "\u003c/div\u003e"
            ],
            "text/plain": [
              "   score      name     sex\n",
              "0     98  xiaoming  female\n",
              "1     61   zhihong    male\n",
              "2     78   wangyue    male\n",
              "3     81    xijian  female"
            ]
          },
          "execution_count": 66,
          "metadata": {},
          "output_type": "execute_result"
        }
      ],
      "source": [
        "frame"
      ]
    },
    {
      "cell_type": "code",
      "execution_count": 67,
      "metadata": {
        "pycharm": {}
      },
      "outputs": [
        {
          "data": {
            "text/html": [
              "\u003cdiv\u003e\n",
              "\u003cstyle scoped\u003e\n",
              "    .dataframe tbody tr th:only-of-type {\n",
              "        vertical-align: middle;\n",
              "    }\n",
              "\n",
              "    .dataframe tbody tr th {\n",
              "        vertical-align: top;\n",
              "    }\n",
              "\n",
              "    .dataframe thead th {\n",
              "        text-align: right;\n",
              "    }\n",
              "\u003c/style\u003e\n",
              "\u003ctable border\u003d\"1\" class\u003d\"dataframe\"\u003e\n",
              "  \u003cthead\u003e\n",
              "    \u003ctr style\u003d\"text-align: right;\"\u003e\n",
              "      \u003cth\u003e\u003c/th\u003e\n",
              "      \u003cth\u003ename\u003c/th\u003e\n",
              "      \u003cth\u003esex\u003c/th\u003e\n",
              "      \u003cth\u003escore\u003c/th\u003e\n",
              "    \u003c/tr\u003e\n",
              "  \u003c/thead\u003e\n",
              "  \u003ctbody\u003e\n",
              "    \u003ctr\u003e\n",
              "      \u003cth\u003e0\u003c/th\u003e\n",
              "      \u003ctd\u003exiaoming\u003c/td\u003e\n",
              "      \u003ctd\u003efemale\u003c/td\u003e\n",
              "      \u003ctd\u003e98\u003c/td\u003e\n",
              "    \u003c/tr\u003e\n",
              "    \u003ctr\u003e\n",
              "      \u003cth\u003e1\u003c/th\u003e\n",
              "      \u003ctd\u003ezhihong\u003c/td\u003e\n",
              "      \u003ctd\u003emale\u003c/td\u003e\n",
              "      \u003ctd\u003e61\u003c/td\u003e\n",
              "    \u003c/tr\u003e\n",
              "    \u003ctr\u003e\n",
              "      \u003cth\u003e2\u003c/th\u003e\n",
              "      \u003ctd\u003ewangyue\u003c/td\u003e\n",
              "      \u003ctd\u003emale\u003c/td\u003e\n",
              "      \u003ctd\u003e78\u003c/td\u003e\n",
              "    \u003c/tr\u003e\n",
              "    \u003ctr\u003e\n",
              "      \u003cth\u003e3\u003c/th\u003e\n",
              "      \u003ctd\u003exijian\u003c/td\u003e\n",
              "      \u003ctd\u003efemale\u003c/td\u003e\n",
              "      \u003ctd\u003e81\u003c/td\u003e\n",
              "    \u003c/tr\u003e\n",
              "  \u003c/tbody\u003e\n",
              "\u003c/table\u003e\n",
              "\u003c/div\u003e"
            ],
            "text/plain": [
              "       name     sex  score\n",
              "0  xiaoming  female     98\n",
              "1   zhihong    male     61\n",
              "2   wangyue    male     78\n",
              "3    xijian  female     81"
            ]
          },
          "execution_count": 67,
          "metadata": {},
          "output_type": "execute_result"
        }
      ],
      "source": [
        "DataFrame(data, columns\u003d[\u0027name\u0027,\u0027sex\u0027,\u0027score\u0027])"
      ]
    },
    {
      "cell_type": "code",
      "execution_count": 68,
      "metadata": {
        "pycharm": {}
      },
      "outputs": [
        {
          "data": {
            "text/plain": [
              "0    xiaoming\n",
              "1     zhihong\n",
              "2     wangyue\n",
              "3      xijian\n",
              "Name: name, dtype: object"
            ]
          },
          "execution_count": 68,
          "metadata": {},
          "output_type": "execute_result"
        }
      ],
      "source": [
        "frame[\u0027name\u0027]"
      ]
    },
    {
      "cell_type": "code",
      "execution_count": 74,
      "metadata": {
        "pycharm": {}
      },
      "outputs": [],
      "source": [
        "np.full?"
      ]
    },
    {
      "cell_type": "code",
      "execution_count": 78,
      "metadata": {
        "pycharm": {}
      },
      "outputs": [],
      "source": [
        "import numpy as np\n",
        "frame[\u0027score\u0027]\u003d np.full((4,1),5)"
      ]
    },
    {
      "cell_type": "code",
      "execution_count": 79,
      "metadata": {
        "pycharm": {}
      },
      "outputs": [
        {
          "data": {
            "text/html": [
              "\u003cdiv\u003e\n",
              "\u003cstyle scoped\u003e\n",
              "    .dataframe tbody tr th:only-of-type {\n",
              "        vertical-align: middle;\n",
              "    }\n",
              "\n",
              "    .dataframe tbody tr th {\n",
              "        vertical-align: top;\n",
              "    }\n",
              "\n",
              "    .dataframe thead th {\n",
              "        text-align: right;\n",
              "    }\n",
              "\u003c/style\u003e\n",
              "\u003ctable border\u003d\"1\" class\u003d\"dataframe\"\u003e\n",
              "  \u003cthead\u003e\n",
              "    \u003ctr style\u003d\"text-align: right;\"\u003e\n",
              "      \u003cth\u003e\u003c/th\u003e\n",
              "      \u003cth\u003escore\u003c/th\u003e\n",
              "      \u003cth\u003ename\u003c/th\u003e\n",
              "      \u003cth\u003esex\u003c/th\u003e\n",
              "    \u003c/tr\u003e\n",
              "  \u003c/thead\u003e\n",
              "  \u003ctbody\u003e\n",
              "    \u003ctr\u003e\n",
              "      \u003cth\u003e0\u003c/th\u003e\n",
              "      \u003ctd\u003e5\u003c/td\u003e\n",
              "      \u003ctd\u003exiaoming\u003c/td\u003e\n",
              "      \u003ctd\u003efemale\u003c/td\u003e\n",
              "    \u003c/tr\u003e\n",
              "    \u003ctr\u003e\n",
              "      \u003cth\u003e1\u003c/th\u003e\n",
              "      \u003ctd\u003e5\u003c/td\u003e\n",
              "      \u003ctd\u003ezhihong\u003c/td\u003e\n",
              "      \u003ctd\u003emale\u003c/td\u003e\n",
              "    \u003c/tr\u003e\n",
              "    \u003ctr\u003e\n",
              "      \u003cth\u003e2\u003c/th\u003e\n",
              "      \u003ctd\u003e5\u003c/td\u003e\n",
              "      \u003ctd\u003ewangyue\u003c/td\u003e\n",
              "      \u003ctd\u003emale\u003c/td\u003e\n",
              "    \u003c/tr\u003e\n",
              "    \u003ctr\u003e\n",
              "      \u003cth\u003e3\u003c/th\u003e\n",
              "      \u003ctd\u003e5\u003c/td\u003e\n",
              "      \u003ctd\u003exijian\u003c/td\u003e\n",
              "      \u003ctd\u003efemale\u003c/td\u003e\n",
              "    \u003c/tr\u003e\n",
              "  \u003c/tbody\u003e\n",
              "\u003c/table\u003e\n",
              "\u003c/div\u003e"
            ],
            "text/plain": [
              "   score      name     sex\n",
              "0      5  xiaoming  female\n",
              "1      5   zhihong    male\n",
              "2      5   wangyue    male\n",
              "3      5    xijian  female"
            ]
          },
          "execution_count": 79,
          "metadata": {},
          "output_type": "execute_result"
        }
      ],
      "source": [
        "frame"
      ]
    },
    {
      "cell_type": "code",
      "execution_count": 85,
      "metadata": {
        "pycharm": {}
      },
      "outputs": [],
      "source": [
        "frame[\u0027address\u0027] \u003d \u0027beijing\u0027"
      ]
    },
    {
      "cell_type": "code",
      "execution_count": 86,
      "metadata": {
        "pycharm": {}
      },
      "outputs": [
        {
          "data": {
            "text/html": [
              "\u003cdiv\u003e\n",
              "\u003cstyle scoped\u003e\n",
              "    .dataframe tbody tr th:only-of-type {\n",
              "        vertical-align: middle;\n",
              "    }\n",
              "\n",
              "    .dataframe tbody tr th {\n",
              "        vertical-align: top;\n",
              "    }\n",
              "\n",
              "    .dataframe thead th {\n",
              "        text-align: right;\n",
              "    }\n",
              "\u003c/style\u003e\n",
              "\u003ctable border\u003d\"1\" class\u003d\"dataframe\"\u003e\n",
              "  \u003cthead\u003e\n",
              "    \u003ctr style\u003d\"text-align: right;\"\u003e\n",
              "      \u003cth\u003e\u003c/th\u003e\n",
              "      \u003cth\u003escore\u003c/th\u003e\n",
              "      \u003cth\u003ename\u003c/th\u003e\n",
              "      \u003cth\u003esex\u003c/th\u003e\n",
              "      \u003cth\u003eaddress\u003c/th\u003e\n",
              "    \u003c/tr\u003e\n",
              "  \u003c/thead\u003e\n",
              "  \u003ctbody\u003e\n",
              "    \u003ctr\u003e\n",
              "      \u003cth\u003e0\u003c/th\u003e\n",
              "      \u003ctd\u003e5\u003c/td\u003e\n",
              "      \u003ctd\u003exiaoming\u003c/td\u003e\n",
              "      \u003ctd\u003efemale\u003c/td\u003e\n",
              "      \u003ctd\u003ebeijing\u003c/td\u003e\n",
              "    \u003c/tr\u003e\n",
              "    \u003ctr\u003e\n",
              "      \u003cth\u003e1\u003c/th\u003e\n",
              "      \u003ctd\u003e5\u003c/td\u003e\n",
              "      \u003ctd\u003ezhihong\u003c/td\u003e\n",
              "      \u003ctd\u003emale\u003c/td\u003e\n",
              "      \u003ctd\u003ebeijing\u003c/td\u003e\n",
              "    \u003c/tr\u003e\n",
              "    \u003ctr\u003e\n",
              "      \u003cth\u003e2\u003c/th\u003e\n",
              "      \u003ctd\u003e5\u003c/td\u003e\n",
              "      \u003ctd\u003ewangyue\u003c/td\u003e\n",
              "      \u003ctd\u003emale\u003c/td\u003e\n",
              "      \u003ctd\u003ebeijing\u003c/td\u003e\n",
              "    \u003c/tr\u003e\n",
              "    \u003ctr\u003e\n",
              "      \u003cth\u003e3\u003c/th\u003e\n",
              "      \u003ctd\u003e5\u003c/td\u003e\n",
              "      \u003ctd\u003exijian\u003c/td\u003e\n",
              "      \u003ctd\u003efemale\u003c/td\u003e\n",
              "      \u003ctd\u003ebeijing\u003c/td\u003e\n",
              "    \u003c/tr\u003e\n",
              "  \u003c/tbody\u003e\n",
              "\u003c/table\u003e\n",
              "\u003c/div\u003e"
            ],
            "text/plain": [
              "   score      name     sex  address\n",
              "0      5  xiaoming  female  beijing\n",
              "1      5   zhihong    male  beijing\n",
              "2      5   wangyue    male  beijing\n",
              "3      5    xijian  female  beijing"
            ]
          },
          "execution_count": 86,
          "metadata": {},
          "output_type": "execute_result"
        }
      ],
      "source": [
        "frame"
      ]
    },
    {
      "cell_type": "code",
      "execution_count": 88,
      "metadata": {
        "pycharm": {}
      },
      "outputs": [],
      "source": [
        "del frame[\u0027address\u0027]"
      ]
    },
    {
      "cell_type": "code",
      "execution_count": 89,
      "metadata": {
        "pycharm": {}
      },
      "outputs": [
        {
          "data": {
            "text/html": [
              "\u003cdiv\u003e\n",
              "\u003cstyle scoped\u003e\n",
              "    .dataframe tbody tr th:only-of-type {\n",
              "        vertical-align: middle;\n",
              "    }\n",
              "\n",
              "    .dataframe tbody tr th {\n",
              "        vertical-align: top;\n",
              "    }\n",
              "\n",
              "    .dataframe thead th {\n",
              "        text-align: right;\n",
              "    }\n",
              "\u003c/style\u003e\n",
              "\u003ctable border\u003d\"1\" class\u003d\"dataframe\"\u003e\n",
              "  \u003cthead\u003e\n",
              "    \u003ctr style\u003d\"text-align: right;\"\u003e\n",
              "      \u003cth\u003e\u003c/th\u003e\n",
              "      \u003cth\u003escore\u003c/th\u003e\n",
              "      \u003cth\u003ename\u003c/th\u003e\n",
              "      \u003cth\u003esex\u003c/th\u003e\n",
              "    \u003c/tr\u003e\n",
              "  \u003c/thead\u003e\n",
              "  \u003ctbody\u003e\n",
              "    \u003ctr\u003e\n",
              "      \u003cth\u003e0\u003c/th\u003e\n",
              "      \u003ctd\u003e5\u003c/td\u003e\n",
              "      \u003ctd\u003exiaoming\u003c/td\u003e\n",
              "      \u003ctd\u003efemale\u003c/td\u003e\n",
              "    \u003c/tr\u003e\n",
              "    \u003ctr\u003e\n",
              "      \u003cth\u003e1\u003c/th\u003e\n",
              "      \u003ctd\u003e5\u003c/td\u003e\n",
              "      \u003ctd\u003ezhihong\u003c/td\u003e\n",
              "      \u003ctd\u003emale\u003c/td\u003e\n",
              "    \u003c/tr\u003e\n",
              "    \u003ctr\u003e\n",
              "      \u003cth\u003e2\u003c/th\u003e\n",
              "      \u003ctd\u003e5\u003c/td\u003e\n",
              "      \u003ctd\u003ewangyue\u003c/td\u003e\n",
              "      \u003ctd\u003emale\u003c/td\u003e\n",
              "    \u003c/tr\u003e\n",
              "    \u003ctr\u003e\n",
              "      \u003cth\u003e3\u003c/th\u003e\n",
              "      \u003ctd\u003e5\u003c/td\u003e\n",
              "      \u003ctd\u003exijian\u003c/td\u003e\n",
              "      \u003ctd\u003efemale\u003c/td\u003e\n",
              "    \u003c/tr\u003e\n",
              "  \u003c/tbody\u003e\n",
              "\u003c/table\u003e\n",
              "\u003c/div\u003e"
            ],
            "text/plain": [
              "   score      name     sex\n",
              "0      5  xiaoming  female\n",
              "1      5   zhihong    male\n",
              "2      5   wangyue    male\n",
              "3      5    xijian  female"
            ]
          },
          "execution_count": 89,
          "metadata": {},
          "output_type": "execute_result"
        }
      ],
      "source": [
        "frame"
      ]
    },
    {
      "cell_type": "code",
      "execution_count": 90,
      "metadata": {
        "pycharm": {}
      },
      "outputs": [
        {
          "data": {
            "text/html": [
              "\u003cdiv\u003e\n",
              "\u003cstyle scoped\u003e\n",
              "    .dataframe tbody tr th:only-of-type {\n",
              "        vertical-align: middle;\n",
              "    }\n",
              "\n",
              "    .dataframe tbody tr th {\n",
              "        vertical-align: top;\n",
              "    }\n",
              "\n",
              "    .dataframe thead th {\n",
              "        text-align: right;\n",
              "    }\n",
              "\u003c/style\u003e\n",
              "\u003ctable border\u003d\"1\" class\u003d\"dataframe\"\u003e\n",
              "  \u003cthead\u003e\n",
              "    \u003ctr style\u003d\"text-align: right;\"\u003e\n",
              "      \u003cth\u003e\u003c/th\u003e\n",
              "      \u003cth\u003e0\u003c/th\u003e\n",
              "      \u003cth\u003e1\u003c/th\u003e\n",
              "      \u003cth\u003e2\u003c/th\u003e\n",
              "      \u003cth\u003e3\u003c/th\u003e\n",
              "    \u003c/tr\u003e\n",
              "  \u003c/thead\u003e\n",
              "  \u003ctbody\u003e\n",
              "    \u003ctr\u003e\n",
              "      \u003cth\u003escore\u003c/th\u003e\n",
              "      \u003ctd\u003e5\u003c/td\u003e\n",
              "      \u003ctd\u003e5\u003c/td\u003e\n",
              "      \u003ctd\u003e5\u003c/td\u003e\n",
              "      \u003ctd\u003e5\u003c/td\u003e\n",
              "    \u003c/tr\u003e\n",
              "    \u003ctr\u003e\n",
              "      \u003cth\u003ename\u003c/th\u003e\n",
              "      \u003ctd\u003exiaoming\u003c/td\u003e\n",
              "      \u003ctd\u003ezhihong\u003c/td\u003e\n",
              "      \u003ctd\u003ewangyue\u003c/td\u003e\n",
              "      \u003ctd\u003exijian\u003c/td\u003e\n",
              "    \u003c/tr\u003e\n",
              "    \u003ctr\u003e\n",
              "      \u003cth\u003esex\u003c/th\u003e\n",
              "      \u003ctd\u003efemale\u003c/td\u003e\n",
              "      \u003ctd\u003emale\u003c/td\u003e\n",
              "      \u003ctd\u003emale\u003c/td\u003e\n",
              "      \u003ctd\u003efemale\u003c/td\u003e\n",
              "    \u003c/tr\u003e\n",
              "  \u003c/tbody\u003e\n",
              "\u003c/table\u003e\n",
              "\u003c/div\u003e"
            ],
            "text/plain": [
              "              0        1        2       3\n",
              "score         5        5        5       5\n",
              "name   xiaoming  zhihong  wangyue  xijian\n",
              "sex      female     male     male  female"
            ]
          },
          "execution_count": 90,
          "metadata": {},
          "output_type": "execute_result"
        }
      ],
      "source": [
        "frame.T"
      ]
    },
    {
      "cell_type": "code",
      "execution_count": 93,
      "metadata": {
        "pycharm": {}
      },
      "outputs": [
        {
          "data": {
            "text/html": [
              "\u003cdiv\u003e\n",
              "\u003cstyle scoped\u003e\n",
              "    .dataframe tbody tr th:only-of-type {\n",
              "        vertical-align: middle;\n",
              "    }\n",
              "\n",
              "    .dataframe tbody tr th {\n",
              "        vertical-align: top;\n",
              "    }\n",
              "\n",
              "    .dataframe thead th {\n",
              "        text-align: right;\n",
              "    }\n",
              "\u003c/style\u003e\n",
              "\u003ctable border\u003d\"1\" class\u003d\"dataframe\"\u003e\n",
              "  \u003cthead\u003e\n",
              "    \u003ctr style\u003d\"text-align: right;\"\u003e\n",
              "      \u003cth\u003e\u003c/th\u003e\n",
              "      \u003cth\u003escore\u003c/th\u003e\n",
              "      \u003cth\u003ename\u003c/th\u003e\n",
              "      \u003cth\u003esex\u003c/th\u003e\n",
              "    \u003c/tr\u003e\n",
              "  \u003c/thead\u003e\n",
              "  \u003ctbody\u003e\n",
              "    \u003ctr\u003e\n",
              "      \u003cth\u003e0\u003c/th\u003e\n",
              "      \u003ctd\u003e5.0\u003c/td\u003e\n",
              "      \u003ctd\u003exiaoming\u003c/td\u003e\n",
              "      \u003ctd\u003efemale\u003c/td\u003e\n",
              "    \u003c/tr\u003e\n",
              "    \u003ctr\u003e\n",
              "      \u003cth\u003e1\u003c/th\u003e\n",
              "      \u003ctd\u003e5.0\u003c/td\u003e\n",
              "      \u003ctd\u003ezhihong\u003c/td\u003e\n",
              "      \u003ctd\u003emale\u003c/td\u003e\n",
              "    \u003c/tr\u003e\n",
              "    \u003ctr\u003e\n",
              "      \u003cth\u003e2\u003c/th\u003e\n",
              "      \u003ctd\u003e5.0\u003c/td\u003e\n",
              "      \u003ctd\u003ewangyue\u003c/td\u003e\n",
              "      \u003ctd\u003emale\u003c/td\u003e\n",
              "    \u003c/tr\u003e\n",
              "    \u003ctr\u003e\n",
              "      \u003cth\u003e3\u003c/th\u003e\n",
              "      \u003ctd\u003e5.0\u003c/td\u003e\n",
              "      \u003ctd\u003exijian\u003c/td\u003e\n",
              "      \u003ctd\u003efemale\u003c/td\u003e\n",
              "    \u003c/tr\u003e\n",
              "    \u003ctr\u003e\n",
              "      \u003cth\u003e4\u003c/th\u003e\n",
              "      \u003ctd\u003eNaN\u003c/td\u003e\n",
              "      \u003ctd\u003eNaN\u003c/td\u003e\n",
              "      \u003ctd\u003eNaN\u003c/td\u003e\n",
              "    \u003c/tr\u003e\n",
              "  \u003c/tbody\u003e\n",
              "\u003c/table\u003e\n",
              "\u003c/div\u003e"
            ],
            "text/plain": [
              "   score      name     sex\n",
              "0    5.0  xiaoming  female\n",
              "1    5.0   zhihong    male\n",
              "2    5.0   wangyue    male\n",
              "3    5.0    xijian  female\n",
              "4    NaN       NaN     NaN"
            ]
          },
          "execution_count": 93,
          "metadata": {},
          "output_type": "execute_result"
        }
      ],
      "source": [
        "frame.reindex(np.arange(5))"
      ]
    },
    {
      "cell_type": "code",
      "execution_count": 95,
      "metadata": {
        "pycharm": {}
      },
      "outputs": [
        {
          "data": {
            "text/html": [
              "\u003cdiv\u003e\n",
              "\u003cstyle scoped\u003e\n",
              "    .dataframe tbody tr th:only-of-type {\n",
              "        vertical-align: middle;\n",
              "    }\n",
              "\n",
              "    .dataframe tbody tr th {\n",
              "        vertical-align: top;\n",
              "    }\n",
              "\n",
              "    .dataframe thead th {\n",
              "        text-align: right;\n",
              "    }\n",
              "\u003c/style\u003e\n",
              "\u003ctable border\u003d\"1\" class\u003d\"dataframe\"\u003e\n",
              "  \u003cthead\u003e\n",
              "    \u003ctr style\u003d\"text-align: right;\"\u003e\n",
              "      \u003cth\u003e\u003c/th\u003e\n",
              "      \u003cth\u003escore\u003c/th\u003e\n",
              "      \u003cth\u003ename\u003c/th\u003e\n",
              "      \u003cth\u003esex\u003c/th\u003e\n",
              "    \u003c/tr\u003e\n",
              "  \u003c/thead\u003e\n",
              "  \u003ctbody\u003e\n",
              "    \u003ctr\u003e\n",
              "      \u003cth\u003e0\u003c/th\u003e\n",
              "      \u003ctd\u003e5\u003c/td\u003e\n",
              "      \u003ctd\u003exiaoming\u003c/td\u003e\n",
              "      \u003ctd\u003efemale\u003c/td\u003e\n",
              "    \u003c/tr\u003e\n",
              "    \u003ctr\u003e\n",
              "      \u003cth\u003e1\u003c/th\u003e\n",
              "      \u003ctd\u003e5\u003c/td\u003e\n",
              "      \u003ctd\u003ezhihong\u003c/td\u003e\n",
              "      \u003ctd\u003emale\u003c/td\u003e\n",
              "    \u003c/tr\u003e\n",
              "    \u003ctr\u003e\n",
              "      \u003cth\u003e2\u003c/th\u003e\n",
              "      \u003ctd\u003e5\u003c/td\u003e\n",
              "      \u003ctd\u003ewangyue\u003c/td\u003e\n",
              "      \u003ctd\u003emale\u003c/td\u003e\n",
              "    \u003c/tr\u003e\n",
              "    \u003ctr\u003e\n",
              "      \u003cth\u003e3\u003c/th\u003e\n",
              "      \u003ctd\u003e5\u003c/td\u003e\n",
              "      \u003ctd\u003exijian\u003c/td\u003e\n",
              "      \u003ctd\u003efemale\u003c/td\u003e\n",
              "    \u003c/tr\u003e\n",
              "    \u003ctr\u003e\n",
              "      \u003cth\u003e4\u003c/th\u003e\n",
              "      \u003ctd\u003e1\u003c/td\u003e\n",
              "      \u003ctd\u003e1\u003c/td\u003e\n",
              "      \u003ctd\u003e1\u003c/td\u003e\n",
              "    \u003c/tr\u003e\n",
              "  \u003c/tbody\u003e\n",
              "\u003c/table\u003e\n",
              "\u003c/div\u003e"
            ],
            "text/plain": [
              "   score      name     sex\n",
              "0      5  xiaoming  female\n",
              "1      5   zhihong    male\n",
              "2      5   wangyue    male\n",
              "3      5    xijian  female\n",
              "4      1         1       1"
            ]
          },
          "execution_count": 95,
          "metadata": {},
          "output_type": "execute_result"
        }
      ],
      "source": [
        "frame.reindex(np.arange(5),fill_value\u003d1)"
      ]
    },
    {
      "cell_type": "code",
      "execution_count": 96,
      "metadata": {
        "pycharm": {}
      },
      "outputs": [
        {
          "data": {
            "text/html": [
              "\u003cdiv\u003e\n",
              "\u003cstyle scoped\u003e\n",
              "    .dataframe tbody tr th:only-of-type {\n",
              "        vertical-align: middle;\n",
              "    }\n",
              "\n",
              "    .dataframe tbody tr th {\n",
              "        vertical-align: top;\n",
              "    }\n",
              "\n",
              "    .dataframe thead th {\n",
              "        text-align: right;\n",
              "    }\n",
              "\u003c/style\u003e\n",
              "\u003ctable border\u003d\"1\" class\u003d\"dataframe\"\u003e\n",
              "  \u003cthead\u003e\n",
              "    \u003ctr style\u003d\"text-align: right;\"\u003e\n",
              "      \u003cth\u003e\u003c/th\u003e\n",
              "      \u003cth\u003escore\u003c/th\u003e\n",
              "      \u003cth\u003ename\u003c/th\u003e\n",
              "      \u003cth\u003esex\u003c/th\u003e\n",
              "    \u003c/tr\u003e\n",
              "  \u003c/thead\u003e\n",
              "  \u003ctbody\u003e\n",
              "    \u003ctr\u003e\n",
              "      \u003cth\u003e0\u003c/th\u003e\n",
              "      \u003ctd\u003e5\u003c/td\u003e\n",
              "      \u003ctd\u003exiaoming\u003c/td\u003e\n",
              "      \u003ctd\u003efemale\u003c/td\u003e\n",
              "    \u003c/tr\u003e\n",
              "    \u003ctr\u003e\n",
              "      \u003cth\u003e1\u003c/th\u003e\n",
              "      \u003ctd\u003e5\u003c/td\u003e\n",
              "      \u003ctd\u003ezhihong\u003c/td\u003e\n",
              "      \u003ctd\u003emale\u003c/td\u003e\n",
              "    \u003c/tr\u003e\n",
              "    \u003ctr\u003e\n",
              "      \u003cth\u003e2\u003c/th\u003e\n",
              "      \u003ctd\u003e5\u003c/td\u003e\n",
              "      \u003ctd\u003ewangyue\u003c/td\u003e\n",
              "      \u003ctd\u003emale\u003c/td\u003e\n",
              "    \u003c/tr\u003e\n",
              "    \u003ctr\u003e\n",
              "      \u003cth\u003e3\u003c/th\u003e\n",
              "      \u003ctd\u003e5\u003c/td\u003e\n",
              "      \u003ctd\u003exijian\u003c/td\u003e\n",
              "      \u003ctd\u003efemale\u003c/td\u003e\n",
              "    \u003c/tr\u003e\n",
              "    \u003ctr\u003e\n",
              "      \u003cth\u003e4\u003c/th\u003e\n",
              "      \u003ctd\u003e5\u003c/td\u003e\n",
              "      \u003ctd\u003exijian\u003c/td\u003e\n",
              "      \u003ctd\u003efemale\u003c/td\u003e\n",
              "    \u003c/tr\u003e\n",
              "  \u003c/tbody\u003e\n",
              "\u003c/table\u003e\n",
              "\u003c/div\u003e"
            ],
            "text/plain": [
              "   score      name     sex\n",
              "0      5  xiaoming  female\n",
              "1      5   zhihong    male\n",
              "2      5   wangyue    male\n",
              "3      5    xijian  female\n",
              "4      5    xijian  female"
            ]
          },
          "execution_count": 96,
          "metadata": {},
          "output_type": "execute_result"
        }
      ],
      "source": [
        "frame.reindex(np.arange(5),method\u003d\u0027ffill\u0027)"
      ]
    },
    {
      "cell_type": "code",
      "execution_count": 98,
      "metadata": {
        "pycharm": {}
      },
      "outputs": [],
      "source": [
        "a \u003dnp.arange(16).reshape(4,-1)"
      ]
    },
    {
      "cell_type": "code",
      "execution_count": 99,
      "metadata": {
        "pycharm": {}
      },
      "outputs": [
        {
          "data": {
            "text/plain": [
              "array([[ 0,  1,  2,  3],\n",
              "       [ 4,  5,  6,  7],\n",
              "       [ 8,  9, 10, 11],\n",
              "       [12, 13, 14, 15]])"
            ]
          },
          "execution_count": 99,
          "metadata": {},
          "output_type": "execute_result"
        }
      ],
      "source": [
        "a"
      ]
    },
    {
      "cell_type": "code",
      "execution_count": 100,
      "metadata": {
        "pycharm": {}
      },
      "outputs": [
        {
          "data": {
            "text/plain": [
              "array([0, 1, 2, 3])"
            ]
          },
          "execution_count": 100,
          "metadata": {},
          "output_type": "execute_result"
        }
      ],
      "source": [
        "a[0]"
      ]
    },
    {
      "cell_type": "code",
      "execution_count": 101,
      "metadata": {
        "pycharm": {}
      },
      "outputs": [
        {
          "data": {
            "text/plain": [
              "array([[ 0,  0,  0,  0],\n",
              "       [ 4,  4,  4,  4],\n",
              "       [ 8,  8,  8,  8],\n",
              "       [12, 12, 12, 12]])"
            ]
          },
          "execution_count": 101,
          "metadata": {},
          "output_type": "execute_result"
        }
      ],
      "source": [
        "a-a[0]"
      ]
    },
    {
      "cell_type": "code",
      "execution_count": 102,
      "metadata": {
        "pycharm": {}
      },
      "outputs": [
        {
          "data": {
            "text/plain": [
              "array([[ 0,  1,  2,  3],\n",
              "       [ 4,  5,  6,  7],\n",
              "       [ 8,  9, 10, 11],\n",
              "       [12, 13, 14, 15]])"
            ]
          },
          "execution_count": 102,
          "metadata": {},
          "output_type": "execute_result"
        }
      ],
      "source": [
        "a"
      ]
    },
    {
      "cell_type": "code",
      "execution_count": 103,
      "metadata": {
        "pycharm": {}
      },
      "outputs": [
        {
          "data": {
            "text/plain": [
              "array([[-1,  0,  1,  2],\n",
              "       [ 3,  4,  5,  6],\n",
              "       [ 7,  8,  9, 10],\n",
              "       [11, 12, 13, 14]])"
            ]
          },
          "execution_count": 103,
          "metadata": {},
          "output_type": "execute_result"
        }
      ],
      "source": [
        "a-1"
      ]
    },
    {
      "cell_type": "code",
      "execution_count": 106,
      "metadata": {
        "pycharm": {}
      },
      "outputs": [
        {
          "data": {
            "text/html": [
              "\u003cdiv\u003e\n",
              "\u003cstyle scoped\u003e\n",
              "    .dataframe tbody tr th:only-of-type {\n",
              "        vertical-align: middle;\n",
              "    }\n",
              "\n",
              "    .dataframe tbody tr th {\n",
              "        vertical-align: top;\n",
              "    }\n",
              "\n",
              "    .dataframe thead th {\n",
              "        text-align: right;\n",
              "    }\n",
              "\u003c/style\u003e\n",
              "\u003ctable border\u003d\"1\" class\u003d\"dataframe\"\u003e\n",
              "  \u003cthead\u003e\n",
              "    \u003ctr style\u003d\"text-align: right;\"\u003e\n",
              "      \u003cth\u003e\u003c/th\u003e\n",
              "      \u003cth\u003e开通日期\u003c/th\u003e\n",
              "      \u003cth\u003e开通路线\u003c/th\u003e\n",
              "      \u003cth\u003e开通路段\u003c/th\u003e\n",
              "      \u003cth\u003e开通区间\u003c/th\u003e\n",
              "    \u003c/tr\u003e\n",
              "  \u003c/thead\u003e\n",
              "  \u003ctbody\u003e\n",
              "    \u003ctr\u003e\n",
              "      \u003cth\u003e0\u003c/th\u003e\n",
              "      \u003ctd\u003e1969年10月1日\u003c/td\u003e\n",
              "      \u003ctd\u003e北京地铁一期路线（不开放）\u003c/td\u003e\n",
              "      \u003ctd\u003e地下铁一期\u003c/td\u003e\n",
              "      \u003ctd\u003e古城路-北京站\u003c/td\u003e\n",
              "    \u003c/tr\u003e\n",
              "    \u003ctr\u003e\n",
              "      \u003cth\u003e1\u003c/th\u003e\n",
              "      \u003ctd\u003e1971年1月15日\u003c/td\u003e\n",
              "      \u003ctd\u003e北京地铁一期路线\u003c/td\u003e\n",
              "      \u003ctd\u003e地下铁一期\u003c/td\u003e\n",
              "      \u003ctd\u003e公主坟-北京站\u003c/td\u003e\n",
              "    \u003c/tr\u003e\n",
              "    \u003ctr\u003e\n",
              "      \u003cth\u003e2\u003c/th\u003e\n",
              "      \u003ctd\u003e1971年8月5日\u003c/td\u003e\n",
              "      \u003ctd\u003e北京地铁一期路线\u003c/td\u003e\n",
              "      \u003ctd\u003e地下铁一期\u003c/td\u003e\n",
              "      \u003ctd\u003e玉泉路-公主坟\u003c/td\u003e\n",
              "    \u003c/tr\u003e\n",
              "    \u003ctr\u003e\n",
              "      \u003cth\u003e3\u003c/th\u003e\n",
              "      \u003ctd\u003e1971年11月7日\u003c/td\u003e\n",
              "      \u003ctd\u003e北京地铁一期路线\u003c/td\u003e\n",
              "      \u003ctd\u003e地下铁一期\u003c/td\u003e\n",
              "      \u003ctd\u003e古城-玉泉路\u003c/td\u003e\n",
              "    \u003c/tr\u003e\n",
              "    \u003ctr\u003e\n",
              "      \u003cth\u003e4\u003c/th\u003e\n",
              "      \u003ctd\u003e1973年4月23日\u003c/td\u003e\n",
              "      \u003ctd\u003e北京地铁一期路线\u003c/td\u003e\n",
              "      \u003ctd\u003e地下铁一期\u003c/td\u003e\n",
              "      \u003ctd\u003e苹果园-古城\u003c/td\u003e\n",
              "    \u003c/tr\u003e\n",
              "    \u003ctr\u003e\n",
              "      \u003cth\u003e5\u003c/th\u003e\n",
              "      \u003ctd\u003e1984年9月20日\u003c/td\u003e\n",
              "      \u003ctd\u003e北京地铁二期路线\u003c/td\u003e\n",
              "      \u003ctd\u003e地下铁二期\u003c/td\u003e\n",
              "      \u003ctd\u003e复兴门-北京站（北半环）\u003c/td\u003e\n",
              "    \u003c/tr\u003e\n",
              "    \u003ctr\u003e\n",
              "      \u003cth\u003e6\u003c/th\u003e\n",
              "      \u003ctd\u003e1987年12月28日\u003c/td\u003e\n",
              "      \u003ctd\u003e复兴门折返线\u003c/td\u003e\n",
              "      \u003ctd\u003e1号线西段\u003c/td\u003e\n",
              "      \u003ctd\u003e南礼士路-复兴门\u003c/td\u003e\n",
              "    \u003c/tr\u003e\n",
              "    \u003ctr\u003e\n",
              "      \u003cth\u003e7\u003c/th\u003e\n",
              "      \u003ctd\u003e1987年12月28日\u003c/td\u003e\n",
              "      \u003ctd\u003e北京地铁环线\u003c/td\u003e\n",
              "      \u003ctd\u003e环形贯通\u003c/td\u003e\n",
              "      \u003ctd\u003e复兴门-长椿街\u003c/td\u003e\n",
              "    \u003c/tr\u003e\n",
              "    \u003ctr\u003e\n",
              "      \u003cth\u003e8\u003c/th\u003e\n",
              "      \u003ctd\u003e1992年12月12日\u003c/td\u003e\n",
              "      \u003ctd\u003e北京地铁1号线\u003c/td\u003e\n",
              "      \u003ctd\u003e1号线西段\u003c/td\u003e\n",
              "      \u003ctd\u003e复兴门-西单\u003c/td\u003e\n",
              "    \u003c/tr\u003e\n",
              "    \u003ctr\u003e\n",
              "      \u003cth\u003e9\u003c/th\u003e\n",
              "      \u003ctd\u003e1999年9月28日\u003c/td\u003e\n",
              "      \u003ctd\u003e北京地铁复八线\u003c/td\u003e\n",
              "      \u003ctd\u003e复八线东段\u003c/td\u003e\n",
              "      \u003ctd\u003e天安门西-四惠东\u003c/td\u003e\n",
              "    \u003c/tr\u003e\n",
              "    \u003ctr\u003e\n",
              "      \u003cth\u003e10\u003c/th\u003e\n",
              "      \u003ctd\u003e2000年6月28日\u003c/td\u003e\n",
              "      \u003ctd\u003e北京地铁1号线\u003c/td\u003e\n",
              "      \u003ctd\u003e1号线贯通\u003c/td\u003e\n",
              "      \u003ctd\u003e西单-天安门西\u003c/td\u003e\n",
              "    \u003c/tr\u003e\n",
              "    \u003ctr\u003e\n",
              "      \u003cth\u003e11\u003c/th\u003e\n",
              "      \u003ctd\u003e2002年9月28日\u003c/td\u003e\n",
              "      \u003ctd\u003e北京地铁13号线\u003c/td\u003e\n",
              "      \u003ctd\u003e西半部\u003c/td\u003e\n",
              "      \u003ctd\u003e西直门-霍营\u003c/td\u003e\n",
              "    \u003c/tr\u003e\n",
              "    \u003ctr\u003e\n",
              "      \u003cth\u003e12\u003c/th\u003e\n",
              "      \u003ctd\u003e2003年1月28日\u003c/td\u003e\n",
              "      \u003ctd\u003e北京地铁13号线\u003c/td\u003e\n",
              "      \u003ctd\u003e东半部\u003c/td\u003e\n",
              "      \u003ctd\u003e霍营-东直门\u003c/td\u003e\n",
              "    \u003c/tr\u003e\n",
              "    \u003ctr\u003e\n",
              "      \u003cth\u003e13\u003c/th\u003e\n",
              "      \u003ctd\u003e2003年12月27日\u003c/td\u003e\n",
              "      \u003ctd\u003e北京地铁八通线\u003c/td\u003e\n",
              "      \u003ctd\u003e全线\u003c/td\u003e\n",
              "      \u003ctd\u003e四惠-土桥\u003c/td\u003e\n",
              "    \u003c/tr\u003e\n",
              "    \u003ctr\u003e\n",
              "      \u003cth\u003e14\u003c/th\u003e\n",
              "      \u003ctd\u003e2007年10月7日\u003c/td\u003e\n",
              "      \u003ctd\u003e北京地铁5号线\u003c/td\u003e\n",
              "      \u003ctd\u003e全线\u003c/td\u003e\n",
              "      \u003ctd\u003e天通苑北-宋家庄\u003c/td\u003e\n",
              "    \u003c/tr\u003e\n",
              "    \u003ctr\u003e\n",
              "      \u003cth\u003e15\u003c/th\u003e\n",
              "      \u003ctd\u003e2008年7月19日\u003c/td\u003e\n",
              "      \u003ctd\u003e北京地铁8号线\u003c/td\u003e\n",
              "      \u003ctd\u003e一期\u003c/td\u003e\n",
              "      \u003ctd\u003e森林公园南门-北土城\u003c/td\u003e\n",
              "    \u003c/tr\u003e\n",
              "    \u003ctr\u003e\n",
              "      \u003cth\u003e16\u003c/th\u003e\n",
              "      \u003ctd\u003e2008年7月19日\u003c/td\u003e\n",
              "      \u003ctd\u003e北京地铁10号线\u003c/td\u003e\n",
              "      \u003ctd\u003e一期\u003c/td\u003e\n",
              "      \u003ctd\u003e巴沟-劲松\u003c/td\u003e\n",
              "    \u003c/tr\u003e\n",
              "    \u003ctr\u003e\n",
              "      \u003cth\u003e17\u003c/th\u003e\n",
              "      \u003ctd\u003e2008年7月19日\u003c/td\u003e\n",
              "      \u003ctd\u003e北京地铁机场线\u003c/td\u003e\n",
              "      \u003ctd\u003e全线\u003c/td\u003e\n",
              "      \u003ctd\u003e东直门-首都机场T2/T3航站楼\u003c/td\u003e\n",
              "    \u003c/tr\u003e\n",
              "    \u003ctr\u003e\n",
              "      \u003cth\u003e18\u003c/th\u003e\n",
              "      \u003ctd\u003e2009年9月28日\u003c/td\u003e\n",
              "      \u003ctd\u003e北京地铁4号线\u003c/td\u003e\n",
              "      \u003ctd\u003e全线\u003c/td\u003e\n",
              "      \u003ctd\u003e安河桥北-公益西桥\u003c/td\u003e\n",
              "    \u003c/tr\u003e\n",
              "    \u003ctr\u003e\n",
              "      \u003cth\u003e19\u003c/th\u003e\n",
              "      \u003ctd\u003e2010年12月30日\u003c/td\u003e\n",
              "      \u003ctd\u003e北京地铁15号线\u003c/td\u003e\n",
              "      \u003ctd\u003e一期西段\u003c/td\u003e\n",
              "      \u003ctd\u003e望京西-后沙峪\u003c/td\u003e\n",
              "    \u003c/tr\u003e\n",
              "    \u003ctr\u003e\n",
              "      \u003cth\u003e20\u003c/th\u003e\n",
              "      \u003ctd\u003e2010年12月30日\u003c/td\u003e\n",
              "      \u003ctd\u003e北京地铁昌平线\u003c/td\u003e\n",
              "      \u003ctd\u003e一期\u003c/td\u003e\n",
              "      \u003ctd\u003e南邵-西二旗\u003c/td\u003e\n",
              "    \u003c/tr\u003e\n",
              "    \u003ctr\u003e\n",
              "      \u003cth\u003e21\u003c/th\u003e\n",
              "      \u003ctd\u003e2010年12月30日\u003c/td\u003e\n",
              "      \u003ctd\u003e北京地铁大兴线\u003c/td\u003e\n",
              "      \u003ctd\u003e全线\u003c/td\u003e\n",
              "      \u003ctd\u003e新宫-天宫院\u003c/td\u003e\n",
              "    \u003c/tr\u003e\n",
              "    \u003ctr\u003e\n",
              "      \u003cth\u003e22\u003c/th\u003e\n",
              "      \u003ctd\u003e2010年12月30日\u003c/td\u003e\n",
              "      \u003ctd\u003e北京地铁房山线\u003c/td\u003e\n",
              "      \u003ctd\u003e一期大部分\u003c/td\u003e\n",
              "      \u003ctd\u003e大葆台-苏庄\u003c/td\u003e\n",
              "    \u003c/tr\u003e\n",
              "    \u003ctr\u003e\n",
              "      \u003cth\u003e23\u003c/th\u003e\n",
              "      \u003ctd\u003e2010年12月30日\u003c/td\u003e\n",
              "      \u003ctd\u003e北京地铁亦庄线\u003c/td\u003e\n",
              "      \u003ctd\u003e全线\u003c/td\u003e\n",
              "      \u003ctd\u003e宋家庄-次渠\u003c/td\u003e\n",
              "    \u003c/tr\u003e\n",
              "    \u003ctr\u003e\n",
              "      \u003cth\u003e24\u003c/th\u003e\n",
              "      \u003ctd\u003e2011年12月31日\u003c/td\u003e\n",
              "      \u003ctd\u003e北京地铁8号线\u003c/td\u003e\n",
              "      \u003ctd\u003e二期北段\u003c/td\u003e\n",
              "      \u003ctd\u003e回龙观东大街-森林公园南门\u003c/td\u003e\n",
              "    \u003c/tr\u003e\n",
              "    \u003ctr\u003e\n",
              "      \u003cth\u003e25\u003c/th\u003e\n",
              "      \u003ctd\u003e2011年12月31日\u003c/td\u003e\n",
              "      \u003ctd\u003e北京地铁9号线\u003c/td\u003e\n",
              "      \u003ctd\u003e南段\u003c/td\u003e\n",
              "      \u003ctd\u003e北京西站-郭公庄\u003c/td\u003e\n",
              "    \u003c/tr\u003e\n",
              "    \u003ctr\u003e\n",
              "      \u003cth\u003e26\u003c/th\u003e\n",
              "      \u003ctd\u003e2011年12月31日\u003c/td\u003e\n",
              "      \u003ctd\u003e北京地铁15号线\u003c/td\u003e\n",
              "      \u003ctd\u003e一期东段\u003c/td\u003e\n",
              "      \u003ctd\u003e后沙峪-俸伯\u003c/td\u003e\n",
              "    \u003c/tr\u003e\n",
              "    \u003ctr\u003e\n",
              "      \u003cth\u003e27\u003c/th\u003e\n",
              "      \u003ctd\u003e2011年12月31日\u003c/td\u003e\n",
              "      \u003ctd\u003e北京地铁房山线\u003c/td\u003e\n",
              "      \u003ctd\u003e一期剩余段\u003c/td\u003e\n",
              "      \u003ctd\u003e大葆台-郭公庄\u003c/td\u003e\n",
              "    \u003c/tr\u003e\n",
              "    \u003ctr\u003e\n",
              "      \u003cth\u003e28\u003c/th\u003e\n",
              "      \u003ctd\u003e2012年12月30日\u003c/td\u003e\n",
              "      \u003ctd\u003e北京地铁6号线\u003c/td\u003e\n",
              "      \u003ctd\u003e一期\u003c/td\u003e\n",
              "      \u003ctd\u003e海淀五路居-草房\u003c/td\u003e\n",
              "    \u003c/tr\u003e\n",
              "    \u003ctr\u003e\n",
              "      \u003cth\u003e29\u003c/th\u003e\n",
              "      \u003ctd\u003e2012年12月30日\u003c/td\u003e\n",
              "      \u003ctd\u003e北京地铁8号线\u003c/td\u003e\n",
              "      \u003ctd\u003e二期南段\u003c/td\u003e\n",
              "      \u003ctd\u003e北土城-鼓楼大街\u003c/td\u003e\n",
              "    \u003c/tr\u003e\n",
              "    \u003ctr\u003e\n",
              "      \u003cth\u003e30\u003c/th\u003e\n",
              "      \u003ctd\u003e2012年12月30日\u003c/td\u003e\n",
              "      \u003ctd\u003e北京地铁9号线\u003c/td\u003e\n",
              "      \u003ctd\u003e北段\u003c/td\u003e\n",
              "      \u003ctd\u003e国家图书馆-北京西站\u003c/td\u003e\n",
              "    \u003c/tr\u003e\n",
              "    \u003ctr\u003e\n",
              "      \u003cth\u003e31\u003c/th\u003e\n",
              "      \u003ctd\u003e2012年12月30日\u003c/td\u003e\n",
              "      \u003ctd\u003e北京地铁10号线\u003c/td\u003e\n",
              "      \u003ctd\u003e二期大部分\u003c/td\u003e\n",
              "      \u003ctd\u003e巴沟-西局；首经贸-劲松\u003c/td\u003e\n",
              "    \u003c/tr\u003e\n",
              "    \u003ctr\u003e\n",
              "      \u003cth\u003e32\u003c/th\u003e\n",
              "      \u003ctd\u003e2013年5月5日\u003c/td\u003e\n",
              "      \u003ctd\u003e北京地铁10号线\u003c/td\u003e\n",
              "      \u003ctd\u003e二期剩余段\u003c/td\u003e\n",
              "      \u003ctd\u003e西局-首经贸\u003c/td\u003e\n",
              "    \u003c/tr\u003e\n",
              "    \u003ctr\u003e\n",
              "      \u003cth\u003e33\u003c/th\u003e\n",
              "      \u003ctd\u003e2013年5月5日\u003c/td\u003e\n",
              "      \u003ctd\u003e北京地铁14号线\u003c/td\u003e\n",
              "      \u003ctd\u003e西段\u003c/td\u003e\n",
              "      \u003ctd\u003e西局-张郭庄\u003c/td\u003e\n",
              "    \u003c/tr\u003e\n",
              "    \u003ctr\u003e\n",
              "      \u003cth\u003e34\u003c/th\u003e\n",
              "      \u003ctd\u003e2013年12月28日\u003c/td\u003e\n",
              "      \u003ctd\u003e北京地铁8号线\u003c/td\u003e\n",
              "      \u003ctd\u003e二期南段\u003c/td\u003e\n",
              "      \u003ctd\u003e鼓楼大街-南锣鼓巷\u003c/td\u003e\n",
              "    \u003c/tr\u003e\n",
              "    \u003ctr\u003e\n",
              "      \u003cth\u003e35\u003c/th\u003e\n",
              "      \u003ctd\u003e2013年12月28日\u003c/td\u003e\n",
              "      \u003ctd\u003e北京地铁8号线\u003c/td\u003e\n",
              "      \u003ctd\u003e昌八联络线\u003c/td\u003e\n",
              "      \u003ctd\u003e回龙观东大街-朱辛庄\u003c/td\u003e\n",
              "    \u003c/tr\u003e\n",
              "    \u003ctr\u003e\n",
              "      \u003cth\u003e36\u003c/th\u003e\n",
              "      \u003ctd\u003e2014年12月28日\u003c/td\u003e\n",
              "      \u003ctd\u003e北京地铁6号线\u003c/td\u003e\n",
              "      \u003ctd\u003e二期\u003c/td\u003e\n",
              "      \u003ctd\u003e草房-潞城\u003c/td\u003e\n",
              "    \u003c/tr\u003e\n",
              "    \u003ctr\u003e\n",
              "      \u003cth\u003e37\u003c/th\u003e\n",
              "      \u003ctd\u003e2014年12月28日\u003c/td\u003e\n",
              "      \u003ctd\u003e北京地铁7号线\u003c/td\u003e\n",
              "      \u003ctd\u003e全线\u003c/td\u003e\n",
              "      \u003ctd\u003e北京西站-焦化厂\u003c/td\u003e\n",
              "    \u003c/tr\u003e\n",
              "    \u003ctr\u003e\n",
              "      \u003cth\u003e38\u003c/th\u003e\n",
              "      \u003ctd\u003e2014年12月28日\u003c/td\u003e\n",
              "      \u003ctd\u003e北京地铁14号线\u003c/td\u003e\n",
              "      \u003ctd\u003e东段\u003c/td\u003e\n",
              "      \u003ctd\u003e金台路-善各庄\u003c/td\u003e\n",
              "    \u003c/tr\u003e\n",
              "    \u003ctr\u003e\n",
              "      \u003cth\u003e39\u003c/th\u003e\n",
              "      \u003ctd\u003e2014年12月28日\u003c/td\u003e\n",
              "      \u003ctd\u003e北京地铁15号线\u003c/td\u003e\n",
              "      \u003ctd\u003e一期西段\u003c/td\u003e\n",
              "      \u003ctd\u003e清华东路西口-望京西\u003c/td\u003e\n",
              "    \u003c/tr\u003e\n",
              "    \u003ctr\u003e\n",
              "      \u003cth\u003e40\u003c/th\u003e\n",
              "      \u003ctd\u003e2015年12月26日\u003c/td\u003e\n",
              "      \u003ctd\u003e北京地铁14号线\u003c/td\u003e\n",
              "      \u003ctd\u003e中段大部分\u003c/td\u003e\n",
              "      \u003ctd\u003e北京南站-金台路\u003c/td\u003e\n",
              "    \u003c/tr\u003e\n",
              "    \u003ctr\u003e\n",
              "      \u003cth\u003e41\u003c/th\u003e\n",
              "      \u003ctd\u003e2015年12月26日\u003c/td\u003e\n",
              "      \u003ctd\u003e北京地铁昌平线\u003c/td\u003e\n",
              "      \u003ctd\u003e二期\u003c/td\u003e\n",
              "      \u003ctd\u003e南邵-昌平西山口\u003c/td\u003e\n",
              "    \u003c/tr\u003e\n",
              "    \u003ctr\u003e\n",
              "      \u003cth\u003e42\u003c/th\u003e\n",
              "      \u003ctd\u003e2016年12月31日\u003c/td\u003e\n",
              "      \u003ctd\u003e北京地铁16号线\u003c/td\u003e\n",
              "      \u003ctd\u003e山后线段\u003c/td\u003e\n",
              "      \u003ctd\u003e北安河-西苑\u003c/td\u003e\n",
              "    \u003c/tr\u003e\n",
              "    \u003ctr\u003e\n",
              "      \u003cth\u003e43\u003c/th\u003e\n",
              "      \u003ctd\u003e2017年12月30日\u003c/td\u003e\n",
              "      \u003ctd\u003e北京地铁西郊线\u003c/td\u003e\n",
              "      \u003ctd\u003e全线\u003c/td\u003e\n",
              "      \u003ctd\u003e巴沟-香山\u003c/td\u003e\n",
              "    \u003c/tr\u003e\n",
              "    \u003ctr\u003e\n",
              "      \u003cth\u003e44\u003c/th\u003e\n",
              "      \u003ctd\u003e2017年12月30日\u003c/td\u003e\n",
              "      \u003ctd\u003e北京地铁S1线\u003c/td\u003e\n",
              "      \u003ctd\u003e全线\u003c/td\u003e\n",
              "      \u003ctd\u003e金安桥-石厂\u003c/td\u003e\n",
              "    \u003c/tr\u003e\n",
              "    \u003ctr\u003e\n",
              "      \u003cth\u003e45\u003c/th\u003e\n",
              "      \u003ctd\u003e2017年12月30日\u003c/td\u003e\n",
              "      \u003ctd\u003e北京地铁燕房线\u003c/td\u003e\n",
              "      \u003ctd\u003e主线\u003c/td\u003e\n",
              "      \u003ctd\u003e阎村东-燕山\u003c/td\u003e\n",
              "    \u003c/tr\u003e\n",
              "    \u003ctr\u003e\n",
              "      \u003cth\u003e46\u003c/th\u003e\n",
              "      \u003ctd\u003e2017年12月30日\u003c/td\u003e\n",
              "      \u003ctd\u003e北京地铁房山线\u003c/td\u003e\n",
              "      \u003ctd\u003e西延\u003c/td\u003e\n",
              "      \u003ctd\u003e苏庄-阎村东\u003c/td\u003e\n",
              "    \u003c/tr\u003e\n",
              "    \u003ctr\u003e\n",
              "      \u003cth\u003e47\u003c/th\u003e\n",
              "      \u003ctd\u003e2018年12月30日\u003c/td\u003e\n",
              "      \u003ctd\u003e北京地铁6号线\u003c/td\u003e\n",
              "      \u003ctd\u003e西延\u003c/td\u003e\n",
              "      \u003ctd\u003e金安桥-海淀五路居\u003c/td\u003e\n",
              "    \u003c/tr\u003e\n",
              "    \u003ctr\u003e\n",
              "      \u003cth\u003e48\u003c/th\u003e\n",
              "      \u003ctd\u003e2018年12月30日\u003c/td\u003e\n",
              "      \u003ctd\u003e北京地铁8号线\u003c/td\u003e\n",
              "      \u003ctd\u003e二期剩余段\u003c/td\u003e\n",
              "      \u003ctd\u003e南锣鼓巷-中国美术馆\u003c/td\u003e\n",
              "    \u003c/tr\u003e\n",
              "    \u003ctr\u003e\n",
              "      \u003cth\u003e49\u003c/th\u003e\n",
              "      \u003ctd\u003e2018年12月30日\u003c/td\u003e\n",
              "      \u003ctd\u003e北京地铁8号线\u003c/td\u003e\n",
              "      \u003ctd\u003e三期南段、四期\u003c/td\u003e\n",
              "      \u003ctd\u003e珠市口-瀛海\u003c/td\u003e\n",
              "    \u003c/tr\u003e\n",
              "    \u003ctr\u003e\n",
              "      \u003cth\u003e50\u003c/th\u003e\n",
              "      \u003ctd\u003e2018年12月30日\u003c/td\u003e\n",
              "      \u003ctd\u003e北京地铁亦庄线\u003c/td\u003e\n",
              "      \u003ctd\u003e剩余段\u003c/td\u003e\n",
              "      \u003ctd\u003e次渠-亦庄火车站\u003c/td\u003e\n",
              "    \u003c/tr\u003e\n",
              "  \u003c/tbody\u003e\n",
              "\u003c/table\u003e\n",
              "\u003c/div\u003e"
            ],
            "text/plain": [
              "           开通日期           开通路线     开通路段              开通区间\n",
              "0    1969年10月1日  北京地铁一期路线（不开放）    地下铁一期           古城路-北京站\n",
              "1    1971年1月15日       北京地铁一期路线    地下铁一期           公主坟-北京站\n",
              "2     1971年8月5日       北京地铁一期路线    地下铁一期           玉泉路-公主坟\n",
              "3    1971年11月7日       北京地铁一期路线    地下铁一期            古城-玉泉路\n",
              "4    1973年4月23日       北京地铁一期路线    地下铁一期            苹果园-古城\n",
              "5    1984年9月20日       北京地铁二期路线    地下铁二期      复兴门-北京站（北半环）\n",
              "6   1987年12月28日         复兴门折返线    1号线西段          南礼士路-复兴门\n",
              "7   1987年12月28日         北京地铁环线     环形贯通           复兴门-长椿街\n",
              "8   1992年12月12日        北京地铁1号线    1号线西段            复兴门-西单\n",
              "9    1999年9月28日        北京地铁复八线    复八线东段          天安门西-四惠东\n",
              "10   2000年6月28日        北京地铁1号线    1号线贯通           西单-天安门西\n",
              "11   2002年9月28日       北京地铁13号线      西半部            西直门-霍营\n",
              "12   2003年1月28日       北京地铁13号线      东半部            霍营-东直门\n",
              "13  2003年12月27日        北京地铁八通线       全线             四惠-土桥\n",
              "14   2007年10月7日        北京地铁5号线       全线          天通苑北-宋家庄\n",
              "15   2008年7月19日        北京地铁8号线       一期        森林公园南门-北土城\n",
              "16   2008年7月19日       北京地铁10号线       一期             巴沟-劲松\n",
              "17   2008年7月19日        北京地铁机场线       全线  东直门-首都机场T2/T3航站楼\n",
              "18   2009年9月28日        北京地铁4号线       全线         安河桥北-公益西桥\n",
              "19  2010年12月30日       北京地铁15号线     一期西段           望京西-后沙峪\n",
              "20  2010年12月30日        北京地铁昌平线       一期            南邵-西二旗\n",
              "21  2010年12月30日        北京地铁大兴线       全线            新宫-天宫院\n",
              "22  2010年12月30日        北京地铁房山线    一期大部分            大葆台-苏庄\n",
              "23  2010年12月30日        北京地铁亦庄线       全线            宋家庄-次渠\n",
              "24  2011年12月31日        北京地铁8号线     二期北段     回龙观东大街-森林公园南门\n",
              "25  2011年12月31日        北京地铁9号线       南段          北京西站-郭公庄\n",
              "26  2011年12月31日       北京地铁15号线     一期东段            后沙峪-俸伯\n",
              "27  2011年12月31日        北京地铁房山线    一期剩余段           大葆台-郭公庄\n",
              "28  2012年12月30日        北京地铁6号线       一期          海淀五路居-草房\n",
              "29  2012年12月30日        北京地铁8号线     二期南段          北土城-鼓楼大街\n",
              "30  2012年12月30日        北京地铁9号线       北段        国家图书馆-北京西站\n",
              "31  2012年12月30日       北京地铁10号线    二期大部分      巴沟-西局；首经贸-劲松\n",
              "32    2013年5月5日       北京地铁10号线    二期剩余段            西局-首经贸\n",
              "33    2013年5月5日       北京地铁14号线       西段            西局-张郭庄\n",
              "34  2013年12月28日        北京地铁8号线     二期南段         鼓楼大街-南锣鼓巷\n",
              "35  2013年12月28日        北京地铁8号线    昌八联络线        回龙观东大街-朱辛庄\n",
              "36  2014年12月28日        北京地铁6号线       二期             草房-潞城\n",
              "37  2014年12月28日        北京地铁7号线       全线          北京西站-焦化厂\n",
              "38  2014年12月28日       北京地铁14号线       东段           金台路-善各庄\n",
              "39  2014年12月28日       北京地铁15号线     一期西段        清华东路西口-望京西\n",
              "40  2015年12月26日       北京地铁14号线    中段大部分          北京南站-金台路\n",
              "41  2015年12月26日        北京地铁昌平线       二期          南邵-昌平西山口\n",
              "42  2016年12月31日       北京地铁16号线     山后线段            北安河-西苑\n",
              "43  2017年12月30日        北京地铁西郊线       全线             巴沟-香山\n",
              "44  2017年12月30日        北京地铁S1线       全线            金安桥-石厂\n",
              "45  2017年12月30日        北京地铁燕房线       主线            阎村东-燕山\n",
              "46  2017年12月30日        北京地铁房山线       西延            苏庄-阎村东\n",
              "47  2018年12月30日        北京地铁6号线       西延         金安桥-海淀五路居\n",
              "48  2018年12月30日        北京地铁8号线    二期剩余段        南锣鼓巷-中国美术馆\n",
              "49  2018年12月30日        北京地铁8号线  三期南段、四期            珠市口-瀛海\n",
              "50  2018年12月30日        北京地铁亦庄线      剩余段          次渠-亦庄火车站"
            ]
          },
          "execution_count": 106,
          "metadata": {},
          "output_type": "execute_result"
        }
      ],
      "source": [
        "pattern_table"
      ]
    },
    {
      "cell_type": "code",
      "execution_count": 2,
      "metadata": {
        "pycharm": {}
      },
      "outputs": [],
      "source": [
        "coordination_source \u003d \"\"\"\n",
        "{name:\u0027兰州\u0027, geoCoord:[103.73, 36.03]},\n",
        "{name:\u0027嘉峪关\u0027, geoCoord:[98.17, 39.47]},\n",
        "{name:\u0027西宁\u0027, geoCoord:[101.74, 36.56]},\n",
        "{name:\u0027成都\u0027, geoCoord:[104.06, 30.67]},\n",
        "{name:\u0027石家庄\u0027, geoCoord:[114.48, 38.03]},\n",
        "{name:\u0027拉萨\u0027, geoCoord:[102.73, 25.04]},\n",
        "{name:\u0027贵阳\u0027, geoCoord:[106.71, 26.57]},\n",
        "{name:\u0027武汉\u0027, geoCoord:[114.31, 30.52]},\n",
        "{name:\u0027郑州\u0027, geoCoord:[113.65, 34.76]},\n",
        "{name:\u0027济南\u0027, geoCoord:[117, 36.65]},\n",
        "{name:\u0027南京\u0027, geoCoord:[118.78, 32.04]},\n",
        "{name:\u0027合肥\u0027, geoCoord:[117.27, 31.86]},\n",
        "{name:\u0027杭州\u0027, geoCoord:[120.19, 30.26]},\n",
        "{name:\u0027南昌\u0027, geoCoord:[115.89, 28.68]},\n",
        "{name:\u0027福州\u0027, geoCoord:[119.3, 26.08]},\n",
        "{name:\u0027广州\u0027, geoCoord:[113.23, 23.16]},\n",
        "{name:\u0027长沙\u0027, geoCoord:[113, 28.21]},\n",
        "//{name:\u0027海口\u0027, geoCoord:[110.35, 20.02]},\n",
        "{name:\u0027沈阳\u0027, geoCoord:[123.38, 41.8]},\n",
        "{name:\u0027长春\u0027, geoCoord:[125.35, 43.88]},\n",
        "{name:\u0027哈尔滨\u0027, geoCoord:[126.63, 45.75]},\n",
        "{name:\u0027太原\u0027, geoCoord:[112.53, 37.87]},\n",
        "{name:\u0027西安\u0027, geoCoord:[108.95, 34.27]},\n",
        "//{name:\u0027台湾\u0027, geoCoord:[121.30, 25.03]},\n",
        "{name:\u0027北京\u0027, geoCoord:[116.46, 39.92]},\n",
        "{name:\u0027上海\u0027, geoCoord:[121.48, 31.22]},\n",
        "{name:\u0027重庆\u0027, geoCoord:[106.54, 29.59]},\n",
        "{name:\u0027天津\u0027, geoCoord:[117.2, 39.13]},\n",
        "{name:\u0027呼和浩特\u0027, geoCoord:[111.65, 40.82]},\n",
        "{name:\u0027南宁\u0027, geoCoord:[108.33, 22.84]},\n",
        "//{name:\u0027西藏\u0027, geoCoord:[91.11, 29.97]},\n",
        "{name:\u0027银川\u0027, geoCoord:[106.27, 38.47]},\n",
        "{name:\u0027乌鲁木齐\u0027, geoCoord:[87.68, 43.77]},\n",
        "{name:\u0027香港\u0027, geoCoord:[114.17, 22.28]},\n",
        "{name:\u0027澳门\u0027, geoCoord:[113.54, 22.19]}\n",
        "\"\"\""
      ]
    },
    {
      "cell_type": "code",
      "execution_count": 3,
      "metadata": {
        "pycharm": {}
      },
      "outputs": [],
      "source": [
        "import re"
      ]
    },
    {
      "cell_type": "code",
      "execution_count": 4,
      "metadata": {
        "pycharm": {}
      },
      "outputs": [
        {
          "data": {
            "text/plain": [
              "\"\\n{name:\u0027兰州\u0027, geoCoord:[103.73, 36.03]},\\n{name:\u0027嘉峪关\u0027, geoCoord:[98.17, 39.47]},\\n{name:\u0027西宁\u0027, geoCoord:[101.74, 36.56]},\\n{name:\u0027成都\u0027, geoCoord:[104.06, 30.67]},\\n{name:\u0027石家庄\u0027, geoCoord:[114.48, 38.03]},\\n{name:\u0027拉萨\u0027, geoCoord:[102.73, 25.04]},\\n{name:\u0027贵阳\u0027, geoCoord:[106.71, 26.57]},\\n{name:\u0027武汉\u0027, geoCoord:[114.31, 30.52]},\\n{name:\u0027郑州\u0027, geoCoord:[113.65, 34.76]},\\n{name:\u0027济南\u0027, geoCoord:[117, 36.65]},\\n{name:\u0027南京\u0027, geoCoord:[118.78, 32.04]},\\n{name:\u0027合肥\u0027, geoCoord:[117.27, 31.86]},\\n{name:\u0027杭州\u0027, geoCoord:[120.19, 30.26]},\\n{name:\u0027南昌\u0027, geoCoord:[115.89, 28.68]},\\n{name:\u0027福州\u0027, geoCoord:[119.3, 26.08]},\\n{name:\u0027广州\u0027, geoCoord:[113.23, 23.16]},\\n{name:\u0027长沙\u0027, geoCoord:[113, 28.21]},\\n//{name:\u0027海口\u0027, geoCoord:[110.35, 20.02]},\\n{name:\u0027沈阳\u0027, geoCoord:[123.38, 41.8]},\\n{name:\u0027长春\u0027, geoCoord:[125.35, 43.88]},\\n{name:\u0027哈尔滨\u0027, geoCoord:[126.63, 45.75]},\\n{name:\u0027太原\u0027, geoCoord:[112.53, 37.87]},\\n{name:\u0027西安\u0027, geoCoord:[108.95, 34.27]},\\n//{name:\u0027台湾\u0027, geoCoord:[121.30, 25.03]},\\n{name:\u0027北京\u0027, geoCoord:[116.46, 39.92]},\\n{name:\u0027上海\u0027, geoCoord:[121.48, 31.22]},\\n{name:\u0027重庆\u0027, geoCoord:[106.54, 29.59]},\\n{name:\u0027天津\u0027, geoCoord:[117.2, 39.13]},\\n{name:\u0027呼和浩特\u0027, geoCoord:[111.65, 40.82]},\\n{name:\u0027南宁\u0027, geoCoord:[108.33, 22.84]},\\n//{name:\u0027西藏\u0027, geoCoord:[91.11, 29.97]},\\n{name:\u0027银川\u0027, geoCoord:[106.27, 38.47]},\\n{name:\u0027乌鲁木齐\u0027, geoCoord:[87.68, 43.77]},\\n{name:\u0027香港\u0027, geoCoord:[114.17, 22.28]},\\n{name:\u0027澳门\u0027, geoCoord:[113.54, 22.19]}\\n\""
            ]
          },
          "execution_count": 4,
          "metadata": {},
          "output_type": "execute_result"
        }
      ],
      "source": [
        "coordination_source"
      ]
    },
    {
      "cell_type": "code",
      "execution_count": 5,
      "metadata": {
        "pycharm": {}
      },
      "outputs": [],
      "source": [
        "pattern \u003d r\u0027{name:\\\u0027(.+)\\\u0027,\\s*\\w*:\\[(\\d+.\\d+,\\s*\\d+.\\d+)\\]\u0027"
      ]
    },
    {
      "cell_type": "code",
      "execution_count": 6,
      "metadata": {
        "pycharm": {}
      },
      "outputs": [],
      "source": [
        "a \u003dre.findall(pattern, coordination_source)"
      ]
    },
    {
      "cell_type": "code",
      "execution_count": 7,
      "metadata": {
        "pycharm": {}
      },
      "outputs": [
        {
          "data": {
            "text/plain": [
              "[(\u0027兰州\u0027, \u0027103.73, 36.03\u0027),\n",
              " (\u0027嘉峪关\u0027, \u002798.17, 39.47\u0027),\n",
              " (\u0027西宁\u0027, \u0027101.74, 36.56\u0027),\n",
              " (\u0027成都\u0027, \u0027104.06, 30.67\u0027),\n",
              " (\u0027石家庄\u0027, \u0027114.48, 38.03\u0027),\n",
              " (\u0027拉萨\u0027, \u0027102.73, 25.04\u0027),\n",
              " (\u0027贵阳\u0027, \u0027106.71, 26.57\u0027),\n",
              " (\u0027武汉\u0027, \u0027114.31, 30.52\u0027),\n",
              " (\u0027郑州\u0027, \u0027113.65, 34.76\u0027),\n",
              " (\u0027济南\u0027, \u0027117, 36.65\u0027),\n",
              " (\u0027南京\u0027, \u0027118.78, 32.04\u0027),\n",
              " (\u0027合肥\u0027, \u0027117.27, 31.86\u0027),\n",
              " (\u0027杭州\u0027, \u0027120.19, 30.26\u0027),\n",
              " (\u0027南昌\u0027, \u0027115.89, 28.68\u0027),\n",
              " (\u0027福州\u0027, \u0027119.3, 26.08\u0027),\n",
              " (\u0027广州\u0027, \u0027113.23, 23.16\u0027),\n",
              " (\u0027长沙\u0027, \u0027113, 28.21\u0027),\n",
              " (\u0027海口\u0027, \u0027110.35, 20.02\u0027),\n",
              " (\u0027沈阳\u0027, \u0027123.38, 41.8\u0027),\n",
              " (\u0027长春\u0027, \u0027125.35, 43.88\u0027),\n",
              " (\u0027哈尔滨\u0027, \u0027126.63, 45.75\u0027),\n",
              " (\u0027太原\u0027, \u0027112.53, 37.87\u0027),\n",
              " (\u0027西安\u0027, \u0027108.95, 34.27\u0027),\n",
              " (\u0027台湾\u0027, \u0027121.30, 25.03\u0027),\n",
              " (\u0027北京\u0027, \u0027116.46, 39.92\u0027),\n",
              " (\u0027上海\u0027, \u0027121.48, 31.22\u0027),\n",
              " (\u0027重庆\u0027, \u0027106.54, 29.59\u0027),\n",
              " (\u0027天津\u0027, \u0027117.2, 39.13\u0027),\n",
              " (\u0027呼和浩特\u0027, \u0027111.65, 40.82\u0027),\n",
              " (\u0027南宁\u0027, \u0027108.33, 22.84\u0027),\n",
              " (\u0027西藏\u0027, \u002791.11, 29.97\u0027),\n",
              " (\u0027银川\u0027, \u0027106.27, 38.47\u0027),\n",
              " (\u0027乌鲁木齐\u0027, \u002787.68, 43.77\u0027),\n",
              " (\u0027香港\u0027, \u0027114.17, 22.28\u0027),\n",
              " (\u0027澳门\u0027, \u0027113.54, 22.19\u0027)]"
            ]
          },
          "execution_count": 7,
          "metadata": {},
          "output_type": "execute_result"
        }
      ],
      "source": [
        "a"
      ]
    },
    {
      "cell_type": "code",
      "execution_count": 8,
      "metadata": {
        "pycharm": {}
      },
      "outputs": [],
      "source": [
        "c \u003d list(range(3))"
      ]
    },
    {
      "cell_type": "code",
      "execution_count": 9,
      "metadata": {
        "pycharm": {}
      },
      "outputs": [
        {
          "data": {
            "text/plain": [
              "[0, 1, 2]"
            ]
          },
          "execution_count": 9,
          "metadata": {},
          "output_type": "execute_result"
        }
      ],
      "source": [
        "c"
      ]
    },
    {
      "cell_type": "code",
      "execution_count": 10,
      "metadata": {
        "pycharm": {}
      },
      "outputs": [],
      "source": [
        "x,y,z \u003dc"
      ]
    },
    {
      "cell_type": "code",
      "execution_count": 11,
      "metadata": {
        "pycharm": {}
      },
      "outputs": [
        {
          "name": "stdout",
          "output_type": "stream",
          "text": [
            "x-0,y-1,z-2\n"
          ]
        }
      ],
      "source": [
        "print(\u0027x-{},y-{},z-{}\u0027.format(x,y,z))"
      ]
    },
    {
      "cell_type": "code",
      "execution_count": 14,
      "metadata": {
        "pycharm": {}
      },
      "outputs": [],
      "source": [
        "city_location \u003d {}\n",
        "for d in a:\n",
        "    city_location[d[0]] \u003d tuple([float(i) for i in d[1].split(\u0027,\u0027)])"
      ]
    },
    {
      "cell_type": "code",
      "execution_count": 15,
      "metadata": {
        "pycharm": {}
      },
      "outputs": [
        {
          "data": {
            "text/plain": [
              "{\u0027兰州\u0027: (103.73, 36.03),\n",
              " \u0027嘉峪关\u0027: (98.17, 39.47),\n",
              " \u0027西宁\u0027: (101.74, 36.56),\n",
              " \u0027成都\u0027: (104.06, 30.67),\n",
              " \u0027石家庄\u0027: (114.48, 38.03),\n",
              " \u0027拉萨\u0027: (102.73, 25.04),\n",
              " \u0027贵阳\u0027: (106.71, 26.57),\n",
              " \u0027武汉\u0027: (114.31, 30.52),\n",
              " \u0027郑州\u0027: (113.65, 34.76),\n",
              " \u0027济南\u0027: (117.0, 36.65),\n",
              " \u0027南京\u0027: (118.78, 32.04),\n",
              " \u0027合肥\u0027: (117.27, 31.86),\n",
              " \u0027杭州\u0027: (120.19, 30.26),\n",
              " \u0027南昌\u0027: (115.89, 28.68),\n",
              " \u0027福州\u0027: (119.3, 26.08),\n",
              " \u0027广州\u0027: (113.23, 23.16),\n",
              " \u0027长沙\u0027: (113.0, 28.21),\n",
              " \u0027海口\u0027: (110.35, 20.02),\n",
              " \u0027沈阳\u0027: (123.38, 41.8),\n",
              " \u0027长春\u0027: (125.35, 43.88),\n",
              " \u0027哈尔滨\u0027: (126.63, 45.75),\n",
              " \u0027太原\u0027: (112.53, 37.87),\n",
              " \u0027西安\u0027: (108.95, 34.27),\n",
              " \u0027台湾\u0027: (121.3, 25.03),\n",
              " \u0027北京\u0027: (116.46, 39.92),\n",
              " \u0027上海\u0027: (121.48, 31.22),\n",
              " \u0027重庆\u0027: (106.54, 29.59),\n",
              " \u0027天津\u0027: (117.2, 39.13),\n",
              " \u0027呼和浩特\u0027: (111.65, 40.82),\n",
              " \u0027南宁\u0027: (108.33, 22.84),\n",
              " \u0027西藏\u0027: (91.11, 29.97),\n",
              " \u0027银川\u0027: (106.27, 38.47),\n",
              " \u0027乌鲁木齐\u0027: (87.68, 43.77),\n",
              " \u0027香港\u0027: (114.17, 22.28),\n",
              " \u0027澳门\u0027: (113.54, 22.19)}"
            ]
          },
          "execution_count": 15,
          "metadata": {},
          "output_type": "execute_result"
        }
      ],
      "source": [
        "city_location"
      ]
    },
    {
      "cell_type": "code",
      "execution_count": 16,
      "metadata": {
        "pycharm": {}
      },
      "outputs": [],
      "source": [
        "import math\n",
        "def geo_distance(origin,destination):\n",
        "    lon1,lat1 \u003d origin\n",
        "    lon2,lat2 \u003d destination\n",
        "    radius \u003d 6371  # km\n",
        "\n",
        "    dlat \u003d math.radians(lat2 - lat1)\n",
        "    dlon \u003d math.radians(lon2 - lon1)\n",
        "    a \u003d (math.sin(dlat / 2) * math.sin(dlat / 2) +\n",
        "         math.cos(math.radians(lat1)) * math.cos(math.radians(lat2)) *\n",
        "         math.sin(dlon / 2) * math.sin(dlon / 2))\n",
        "    c \u003d 2 * math.atan2(math.sqrt(a), math.sqrt(1 - a))\n",
        "    d \u003d radius * c\n",
        "    \n",
        "    return d"
      ]
    },
    {
      "cell_type": "code",
      "execution_count": 17,
      "metadata": {
        "pycharm": {}
      },
      "outputs": [
        {
          "data": {
            "text/plain": [
              "(121.48, 31.22)"
            ]
          },
          "execution_count": 17,
          "metadata": {},
          "output_type": "execute_result"
        }
      ],
      "source": [
        "city_location[\u0027上海\u0027]"
      ]
    },
    {
      "cell_type": "code",
      "execution_count": 18,
      "metadata": {
        "pycharm": {}
      },
      "outputs": [],
      "source": [
        "def get_geo_distance(city1,city2):\n",
        "    return geo_distance(city_location[city1],city_location[city2])"
      ]
    },
    {
      "cell_type": "code",
      "execution_count": 19,
      "metadata": {
        "pycharm": {}
      },
      "outputs": [
        {
          "data": {
            "text/plain": [
              "163.0760821403945"
            ]
          },
          "execution_count": 19,
          "metadata": {},
          "output_type": "execute_result"
        }
      ],
      "source": [
        "get_geo_distance(\u0027上海\u0027,\u0027杭州\u0027)"
      ]
    },
    {
      "cell_type": "markdown",
      "metadata": {
        "pycharm": {}
      },
      "source": [
        "### 以上是求两个城市间的距离\n",
        "### 下面开始画图"
      ]
    },
    {
      "cell_type": "code",
      "execution_count": 20,
      "metadata": {
        "pycharm": {}
      },
      "outputs": [],
      "source": [
        "import networkx as nx"
      ]
    },
    {
      "cell_type": "code",
      "execution_count": 21,
      "metadata": {
        "pycharm": {}
      },
      "outputs": [],
      "source": [
        "city_graph \u003dnx.Graph()"
      ]
    },
    {
      "cell_type": "code",
      "execution_count": 22,
      "metadata": {
        "pycharm": {}
      },
      "outputs": [],
      "source": [
        "city_graph.add_nodes_from(list(city_location.keys()))"
      ]
    },
    {
      "cell_type": "code",
      "execution_count": 23,
      "metadata": {
        "pycharm": {}
      },
      "outputs": [],
      "source": [
        "import matplotlib.pyplot as plt"
      ]
    },
    {
      "cell_type": "code",
      "execution_count": 24,
      "metadata": {
        "pycharm": {}
      },
      "outputs": [],
      "source": [
        "import matplotlib"
      ]
    },
    {
      "cell_type": "code",
      "execution_count": 25,
      "metadata": {
        "pycharm": {}
      },
      "outputs": [],
      "source": [
        "%matplotlib inline"
      ]
    },
    {
      "cell_type": "code",
      "execution_count": 26,
      "metadata": {
        "pycharm": {}
      },
      "outputs": [
        {
          "name": "stdout",
          "output_type": "stream",
          "text": [
            "[\u0027/anaconda3/lib/python3.7/site-packages/matplotlib\u0027]\n"
          ]
        }
      ],
      "source": [
        "print(matplotlib.__path__)"
      ]
    },
    {
      "cell_type": "code",
      "execution_count": 27,
      "metadata": {
        "pycharm": {}
      },
      "outputs": [],
      "source": [
        "plt.rcParams[\u0027font.sans-serif\u0027] \u003d [\u0027SimHei\u0027]\n",
        "plt.rcParams[\u0027axes.unicode_minus\u0027] \u003d False"
      ]
    },
    {
      "cell_type": "code",
      "execution_count": 28,
      "metadata": {
        "pycharm": {}
      },
      "outputs": [
        {
          "data": {
            "image/png": "iVBORw0KGgoAAAANSUhEUgAAAc8AAAE9CAYAAABtIuk5AAAABHNCSVQICAgIfAhkiAAAAAlwSFlzAAALEgAACxIB0t1+/AAAADl0RVh0U29mdHdhcmUAbWF0cGxvdGxpYiB2ZXJzaW9uIDMuMC4zLCBodHRwOi8vbWF0cGxvdGxpYi5vcmcvnQurowAAIABJREFUeJzs3Xl8TNf7wPHPZGaSkE3sW+xbKIKIvaJq/dmpXYtoaZWiraWtrdSu1FJLUSX2+tpirVhjjwpNK6kgRGRBJJlsk1nu749wv9JoK/2SkD7v18urmXvPvXPOlHly7jnnORpFURSEEEII8cxscrsCQgghxKtGgqcQQgiRTRI8hRBCiGyS4CmEEEJkkwRPIYQQIpskeAohhBDZJMFTCCGEyCYJnkIIIUQ2SfAUQgghskmCpxBCCJFNEjyFEEKIbJLgKYQQQmSTBE8hhBAimyR4CiGEeKktXryY4ODgp55LTEykQYMGREREZPu+qampHD9+/B/VSYKnEEKIl9aDBw8YO3Ys33333VPPf/3115QtWxY3N7e/vM/WrVsZNmwYFotFPaYoCr1798ZsNme7XhrZz1MIIcTLYODAgQQFBREfH8/kyZMZNGgQM2bMwGQyERAQwOeff463t7daPjg4GE9PT0qXLo2jo2OW+w0ePJiRI0cCGb3MXr160aJFC8aNG0f16tWzlL9//z537tx5prrq/lkThRBCiOdLr9ezcOFCjh07hlarJTQ0lI0bN3LmzBmGDBlC27Zt8fHx4f333ycxMZGuXbuybt06ejZqRNTkyTy8cIHq3t4wdiyvtWtHq1at1Hvb2dmxbds2zGYzq1atIigoCKvVyu+//87Ro0fp1asXrVu3fua6SvAUQgjxUrCx+e9IYkhICF999RXu7u506NABjUZDmTJl8PPzo0mTJqSmpjJkyBB6NmoEtWtzJDGR/RYLvqGhJPr60svHB3d3dwBSUlJo0aIF7du359NPP+X48ePUqlULLy8vChUqROHChYmNjSUwMPCZ6yrBUwghxEtBo9GoP1evXp2uXbtSv379Py3/+uuvs6F1a5oZDDhYLOiAZJOJnw0GJhqNarn8+fNz8uRJtmzZgp2dHUajkTt37tC4cWMSEhJISEhg7ty52ep9SvAUQgjxUnhyCo5Go6FKlSrMmzcvU5levXqpk4OCgoIYfuQIAU9MAooA+losbDp8mOZPXGdra8vVq1exsbFBo9FQvHhx5s2bx40bNxg+fDi7d+/G3t7+mesqs22FEEK8FBRFYdSoUaxduxaLxYLBYGDt2rVUqlSJSpUqsW/fPm7fvg1AWloaPj4+LH3jDV7T69V7VAM2arW8desWYWFh6vE7d+7g7+/P1q1badSoETExMXh7ezNgwABCQ0Np1aoVdevWfealK9LzFEII8VIwm80sXLiQn3/+GTs7O3Q6HYULF6ZLly4A7Ny5E61WC8C7775Lw4YN6Td+PNSuDYmJaCwW0OvxdnRkpI8PvXr1IjAwEI1Gw7Zt2+jSpQu9evWiV69e+Pr6UqtWLWrVqsXWrVvx8vKiXLlyz1xX6XkKIYR4KZQrVw5nZ2fGjBlDr169sFqtBAUF4e3tjbe3NwcOHFDXac6ePZtvvvkG3Nzwmz+fLRUqUKBYMRg6FC5f5rPZs9m6dSsajQaLxcK3335Lhw4dMBgMfPzxxyxfvhz9ox6rxWKhZcuWrFu37pnrKj1PIYQQL4VJkyZlem0ymfDw8ODYsWNAxjrQ9PR0AEqWLKmWu5WSQpG2bRn18cdQtiyQ0TOsWLEiAFqtlkWLFlGzZk0uXrxI/vz5OXbsGDpdRgjs06cPDRs25Ny5c89cV0mSIIQQQmSTPLYVQgghskmCpxBCCJFNEjyFEEKIbJLgKYQQQmSTBE8hhBAimyR4CiGEENkkwVMIIYTIppcqeMbHx+d2FYQQQuSA9u3bc+jQoUzHlixZwtSpU//0muvXrzN8+PAXXbVn8sIzDAUHB1OyZEkKFiz4l+W2b9/O5MmT8fPzU7M+FCtWTE2f9GdmzJiBxWJh4sSJz1SfmTNn4urqyrBhw56tAUIIIZ47W1tbbG1t1denT59m4sSJbNmyRT128eJF5syZo8aB2NhYQkJCSEhIADKSw3t6ejJ+/PicrTw5EDzHjBnD6NGjadeu3Z+WOX36NEuXLuXDDz/kwIEDxMbG8uOPP3Lx4sW/vb9er//TbWQsFgve3t7Y2tqq+8TFxsby4MEDfvzxRyAji396erq6c7kQQoicdfHiRbp27cr69esz7af52muvsWDBAvLnzw/AtGnT6N69O7169QJQ89zmhhcePOPi4pg4caLaM7x27RorVqygd+/eWK1WfvjhB4YPH07NmjXZvHkzAHfv3sVsNtOqVSvKlSvH2rVr1fslJibi6Oio7jiu0Wgy7T5utVqxWCzqbyparRadTqc+HmjTpg0lS5bk119/pVChQhQrVixX/wcIIcS/2d27d2nVqhXLli2jQ4cOGQcjImDOHOzOnePDBw+IK1oU7Ow4deoUTZo0YdOmTUBG8Jw7dy6FChXK8Xq/8OAZGBiY6XW9evUoVaoUAL/88gtHjx6lfPnyLFy4kHz58qld9l69epGamsoHH3yQceGjD3PQhg3c1OmwKV6chNRUwsLCsLGxwdfXF/hvdvx58+ah1WrVhMJWq5UWLVrw4YcfUrZsWd577z0OHz6Mg4PDi/4IhBBCkLVzAxkJ3gMDA6lQoULGgYgITLVqoU1KwmQ2s12nQ/PwIUe+/ZavHR3x8/PLdE+j0YiiKOrTxZySY4nhJ02axM6dO4mIiCA8PBwXFxf1XN26dfnoo4+ws7NTe4itW7fGaDSyePFiAnfsyNivLSkJTCbQ68HRkdHdurHn2DEiIyM5deoUdevW/cs6XLlyhbZt22JjY8O+ffuoVavWC22zEEKI/7p06RLdu3fH1taWyMhIXF1dyZ8/P9evX1d3QCEmBmN8PFuBL4A0IEWjIUijoUmzZgDcunULgDJlymAymdi+fTslSpTI0bbkWPC8desW0dHRuLu74+zsnOlc7969iY6OBjLGIAH1t4iyZcvyg7MzrFiRETgfidHpaJQ/P++MGcONGzdITU1l69atme4bFRXFtGnTiI2NJTU1leLFi9OnTx9sbW3ZuHEjt27dIj09HVtbW7799lvKly//Ij8CIYQQj3Tp0oVRo0bh7e1Nhw4dGDduHM2aNQMvL7hwQS13FngbeLNoUdqvXg1kPOqdPHkyCxYsoGfPnpmG7nLKC39s6+npmeVYdHQ077zzDkOGDGHz5s00b978L7vcs7/6ii4mE1WfODbSbOYDFxdwcKBOnTr4+/uzceNG+vbtq5YpUaIE/fv3p0qVKmi1Who0aMDSpUuxt7fHaDRy6tQpJk2axN27dylduvTzbLYQQohnNHz4cEaNGsXRo0dxbtAAgoJ4YDLRE3AB7IA6NWqo5UuWLEm5cuXYt28f06ZNY8WKFTRt2jRH65zjY54AkydPxsnJifLlyzNhwgQGDRrEzZs3n3p9p06dGNelS6ae5yIgWqNhVMeOLHxU7ttvv6Vp06bodDp69uypXt+4cWMAbty4AaDOzDUYDMTExGBjYyOBUwghcsny5cupUKECDRs2pHnz5vjOnUuNDRsolJTEtyYTVfV6vBWFFffvYz9rlnrd77//zuLFi6latSqOjo45Xu8XHjyf/G0gPT2dJUuWYDAYMu0CfuXKFZYsWUK+fPkyXXv69GlCQ0Nh7FjYsAHFYGCG2cwa4LSzM7rx4+HRBCM3NzcOHDhA69atOXz4MLNmzcq0tvTw4cMZjwQesbGxkaUpQgiRSxISEvjss8/Q6XSsX7+eJUuWMGvWLOp16EDjevXYUaMGVS9fzniMGxjI5vXrqVSpknp9ly5dAHBycsqV+r/w4BkQEKD+bLFYSE5OJiQkBG9vb/W4oihERkZmWa95//79jMe5bm5w+TIJ06ZxY8cODrdvT7Hp0zOOP8Hd3Z3z58+zdu1aChQooB7ft28fc+fOzZTNIoeGeoUQQvyBoihEREQwYMAAJk6cqI5ZTpgwgV69ehEUFIRLt25qeZs33qBv376ZkipcvXoVo9GY43V/7IUHzyddvXoVDw8PGjZsSIsWLdTjiYmJfPPNN1l6gnFxcTRp0iTjhZsbBVauZPXKlZnKpKenY7Va1dclSpRgwoQJ6utx48Zx7Ngx/Pz8Mk0IMhqNpKenP8/mCSGEeAYajYZLly49tddYoUKF/y5beeTIkSM5VbVnlmOzbR9LTk7O0bWVZrMZrVab42uAhBBC5F05HjyFEEKIV91LtauKEEII8SqQ4CmEEEJkkwRPIYQQIpskeAohhBDZJMFTCCGEyCYJnkIIIUQ2SfAUQgjxlwIDA+nfvz8JCQnqsZSUFKpUqZKrWX5yU45mGBJCCPHq8fDwoGjRovTt25e9e/cCoNPpMBgM2NnZZSrbqlUroqOjsVgsODs7M3fuXDp16qTu12k0GnF0dOTMmTM53o7nSYKnEEKIv6TT6fj666+Jj49nyZIlrF27FshIofrktpOnT59Gr9ezY8cOAgICiIuLw97enubNm7Nz504AwsLC8PHxyY1mPFfy2FYIIcSfSk5OpkmTJuzevZsCBQoQGxvLsGHDOHz4MJUqVSIwMJDAwECio6PR6XRqkvd9+/bRvXv3p6ZGzQvpUiV4CiGE+FMODg68++679OzZk3PnzuHg4ICTkxMxMTEUK1Yso1BEBHX1esxeXhAcTPqtW1y9epWyZcvmbuVfIHlsK4QQ4i8NHDiQ2rVrU6dOHRo0aADA9u3biY2NZdfq1XT+9FN2JyVBeDhoNNh260btli3Zt28fRYsW5fjx4+rjXaPRSKFChXKxNc+H9DyFEEL8rbJly7JgwQL19fHjx3FwcCBw+XJISgKTKeOEokBKCnNcXPjyyy8BaN68ufp4d8eOHblR/edOgqcQQoi/tXbtWnWGbGpqKlu2bKFjx45o7979b+B85I7ZzLYjR/LE2Oafkce2Qggh/lJaWhoLFy5k165dAMydO5eWLVtSrlw5wkqVgnv3uGMyUfpR+fxaLfkqVGDPtm2Eh4fLY1shhBD/PnPnzqVSpUrUqVOHEydOsGTJEubPnw/A/erVSXNw4H2NhnWAVaOhoIMD761bR+HChbFYLFke25r+0FN9FUnwFEII8aesVivBwcEMHTqUu3fv0rt3b7Zu3UqJEiVo2LAhweHhNHVzQylThq716mEsVQr8/MDNDQA3Nzfee+899X4lS5ZUA++rTKMoipLblRBCvDoMBgPXr1/nwoULNGzYkJo1a2Y6bzabiYqKwu3Rl+fT7Nu3j8KFC+Pl5YXVasXX15e3336bIkWKEBkZia2tbZZrTp48yezZs/Hz81OPTZgwAXd3d95+++3n10Dxlx4+fIirq2tuVyPXSc9TCPFULVu2xNvbmxYtWhAYGEjNmjWpX78+bm5uzJgxg1u3bhETEwPA0qVLee+993jzzTepX7++Osvyz0RGRtK6dWvWrl3Lb7/9xqJFiwDQ6/Xo9fqnXmNvb4+TkxMAJpMJq9WKra0ter0eq9VKWlrac2y9+DMSODNIz1MI8VSVKlUiLCyMypUrc+3aNcLDwylXrhxt27Zl+fLlAOTLl49ixYoRERGBvb09b731Fps3b6Z48eKsX7+ecePGUbJkSQCioqKIjIxU73/mzBmMRiOnTp1i6dKlVKhQgcDAQOrVq4fJZKJPnz6MHj0agA4dOvDZZ5/x7bff4uvry6pVq1i6dCkxMTHky5cPV1dX6taty8qVK3P+gxL/SjLbVgjxVFqtVv2vxWKhTZs2/Pbbb+r5GTNm0KpVK3r06EHJkiXV8gDp6enY29szePBgpk+fDkDVqlUhIgLmzCH8xAkavf46jB3L+++/z9mzZylTpgzVqlXj1KlTmeoRFxfH+fPnWb16NZcvX2bBggWMHj2aIUOGMGXKFKpVq0bv3r1z4BMR4r8keAoh/pZWq8Xb25vr168DGZNIQkNDWbp0KQ8ePODNN99Eq9Xy888/06ZNG/R6PePHj890D43FArVrYzAYaG420y04mBm+vpw4epQiZcpkec/09HS0Wi3Hjh1j4MCBNGvWjAcPHtC9e3c6duzI3bt3iYqKIl++fMybNw+LxcKMGTNo165djnwm4t9NgqcQ4qmeXOB+69YtevTowd27d9We4NSpUzl69CjNmjUjKCiIPXv20KlTJzZv3oy7uzs//vhj5hs+eADJyTiZzfwCLLBaOWMwML5NG2wrVwagcOHCNG3aFEVRSE9PZ9KkSbi7u1OrVi3i4+NxcHAgOTmZH3/8EVtbWzQaDdHR0fTu3Rt/f/8c/HTEv50ETyHEU0VFReHp6UlkZCSRkZEcO3YMvV5PXFwcZ8+epUCBAqSlpVG/fn10Oh3Tpk2jfPnyfP7557Ru3ZrChQtnvmFampqJxhkYDLhZLJwvVw4CAv6yLleuXGHVqlXs2bOHMmXKYDAYOHv2LJAxu/f69et4enqycuVK6tev//w/DCH+QIKnEOKpChYsSGBgIBUqVKBx48Y0btwYgLNnzzJq1CjKlSunlh01ahStWrXi1KlTTJs2jSlTptCzZ8/MN7S3B4sFTCaMgAcQrtNxv1o1ajk5ZYyJPhIaGoq/vz9eXl5cuHCBDz/8kFatWtGpUydmzpyJ0Wjk5s2bVKtWLVPPMy+ngxMvF1mqIoTIwmw2U716dQBu3Ljxl2V//vlngoODmTp1KgCFChVi27ZtaDQa1qxZg6enJ56enhidnMDREfR6jgAeGg1OTk7Yffgh9erVUzPQPJ5x+3jJSv369Tl37hxdunRR39NqtdKmTRuio6PVY1qtVt1LUogXTf6mCSGy0Ol07N27N9Ox9PR0Tpw4we3bt3FwcFCP161bl0OHDqHTZX2QNWLECDUgNnn9dbh8GYYOZUWBAnR/9FopWZKLFy+qQdbT05OLFy9m6UUqisLjlXX58uVj8eLFpKenk56e/lL0OE+fPs1PP/2U29UQOUSCpxDimej1eubMmcPgwYMpUqRIpnOPe3wmk0nNW9qjRw8mTJiglvH19QU3N8wLFuDSqRNtVq8GNzfS09Of2vNMT0/P9B5GoxGj0ai+7tSpE9euXcPLy4sOHTo89/YWLVqU5ORkDhw4QP/+/TOds1qtGI1GnlwmHxISoiZ7gIxg/8cyIu+QJAlCiFxlsVhISEigYMGCuV2VTEqXLs2dO3c4fPgwvr6+rF27Vj0XFBTEkCFDsLOz+9Ne7+PguXv3bjVRhMg7ZMKQECJXabXalyZwpqeno9fr/zQg7lq9ml3z5/OdgwOBjRrB2LFqAnTx7yLBUwghHunRowehoaFoNBo1by/AzZs36dy6NalHj/KxomTMGr58mTVr1vC5gwOl/pDkISYmhmHDhvH555/ndBNEDpHgKbIwGo3Y2dmpr0eOHEnHjh1p1aoVkDHeYzKZMpXJrtjYWDQajTp2FhUVRfHixV+KiR/i32v37t3qz6VLl1Z/jouLY1bVqjTSaMBszjhoMqG3WnmnWjVmBQZmus+8efNkrDOPk+ApsmjTpk2msZzQ0FDOnj2r7sGnKArly5dXk4MPGTKEAQMG0Lx5c6Kjo+nevTv79+8nIiKCMWPGsG7dOooVK5bpPRYsWEBYWBjbtm0DwMfHh86dOzN06NAcbKkQz6ZevXo0+u03NcnDY2aLhQ3BwRz29MRqtWK1WtHpdDx48AAfH59cqq3ICTLbVmSxbNmyTDMd7ezs1KTfVquVhIQENXBCxlZRdnZ2WK1W+vTpw6xZs/j1118pXbo0/fv3zzTj0mKxYDKZmDhxInq9nqSkJKKiorh58yaDBw/GbDZjfvybvRAvkwYN4A/bpQ3S67n89tsEBgYyZswY2rZtS2BgIJcvX+aLL77IpYqKnCA9T5GFu7s7n332GaGhoU8936ZNGwACAwPZvHkzANHR0fTt25ef1qwhbdYsqn3/PdNff52B33/PgAED1GsPHTrEuHHj1M2Oq1Spgq2tLYULF6ZRo0ZYrVY++OADhgwZ8oJbKURWZrOZX3/9lePHjxMfH5/55NixsGEDtw0GypjNoNfjb2eHz4EDXHr4UC2mKAotW7akX79+jBo1KodbIHKKBE/xVD/88APt27enzB8mQmzevJnChQtTuXJlFEXBYDCg1+vRarU8jIpCV68e4xMSmGa1sv3IERq99hpVg4PVGYnt2rXLtOvFlClTKF26tARLkevu3LlDlSpVcHd3p1OnTmqGIxsbG+7cuYO5RAmUwEB6Nm7MWCcnYkqV4ps7dzjg54erqytJSUloNBo0Gg29evVS9xudOXMmAOvXryc0NFTdok282iR4iqdyd3dn6dKl6hcIQFpaGhaLhW7dugGoXxTqz+HhzEhIINJqZQnQWlHobDDwRufOjNy9m9KlS2MymTLd82mepYwQz1vp0qUJDg6mQoUKQMYvkOnp6Xh4eJCens5rr73GjRs3sLW1ZYKLCw9/+438+fPTpUsXYmJiSExMVCcctW7dmvnz51O1alUGDRpEaGgoDx48IDU1lWPHjgGwZMkSPDw8cqu54n8kwVNkcvfuXa5du0bz5s05cuQIvXv3xt3dHYA9e/Zw7do1bG1tOXLkCI6OjpmuNT58yF2rlXCg6eNjikJqZCSurq5ARlaYxMRENehevXoVGxsbdQH644Xlp0+fVh/tCpFTHgdO+G9O34IFC3LixIksZadMmYJOp+OLL74gJSUF+3v3sJk3D6ZOpVaDBvy0fj0VmzShb9++6HQ6tm7dSkhICFOmTGHgwIGkpqbmWLvE8yfBU2RiMBgICwvDYDBw//599Ho9YWFhQEZv1N3dnbCwMIxGIzVq1Mh0rZ2rK0vS0qhnMvF4g6mqwOKePeFRLtT9+/er5VNSUqhUqRL58+dnzZo1VKlSJSeaKMRzl//BA6hTB5KSiDeZmHTxItN8fVn8/vvsOHoUrVbL/fv3SUlJ4fDhw1y7do3AwECWLVtGs2bNcrv64h+Q4CkyqVq1KosWLeLs2bPcvXuXVatW4e3tTXBwMImJieTPn5/Q0FDmzZuHjY0NJ0+exGKxcPHiRZzKlgWDAU18PCgK6PVoLJaMiRZ/YLFYeOedd3j77bdp27Yt7dq1Y9u2bdStWzcXWi3E30tPT0en0z1955Y5c1AMBtLNZvIBzlYrXvHxXHjwgFHHj2Nra8vmzZsz9TyHDBlCo0aNcrwd4vmQ3LbiqYYMGUKfPn3Inz8/O3fuJDw8nK+++opKlSrxxRdf0KRJExo1asSdO3eoVKkSRqORsWPHsuKLLyhSpQpVdTpwcuKXpCQSEhMz3fvYsWN8/PHH1K1blxUrVmBjY8PBgwfp168f7dq1o0+fPjRv3jzTzh1C5La33nqLK1euqEMOkZGRaDSajLy1t26hpKVhB1x5VP42UMbLi74VK3L9+nXi4+NJTU2lTJkyxMbG8sMPP0jwfJUpQvzBrFmzlC+//FK5f/++0r9/f2XLli1K165dFS8vL6V58+ZKmTJllJ07d/7p9TVq1FB/LleunGK1WhVFUZTU1FSlfv36StmyZZUtW7ZkuS4qKkoZNmyYUrx4ceX69evPv2EvkfXr1ytHjhx5prJms1n9DMXLIT09XSlZsqRSuXJlJSkpSVE+/FBR9HpFyXjmoiig7NFqldRhw5S0tDTFYrEomzZtUiZPnqwoSsb/0/T09NxthPifSM9TZJGWloa9vT1WqxWLxfJcZ76GhYVRpkyZv5wMZLVa8/SmxikpKVSsWJHDhw9To0YNbt++Tc2aNalcuTKQMe7cqFEjdRLV+vXrWbt2Lf7+/ty4cYM5c+aoSSratGnDtGnT8PLyyq3m/CutXr2a3bt307RpU6Kiovh69GioXRuSksBkwqLTUclq5dDRowwYOxZbW1t1zLNcuXJYLBbeeustRo4cmdtNEf+QjHmKLOzt7YGM9W3PO4hVqlTpb8vk5cAJGXlPjUYj7733HklJSezYsYN69eqxceNGIGNT5QMHDqjldTqdmgPYZDIREhKintPr9TIrOYcFBAQwYcIE/P39qVixIg0bNmRZ5cq8f/kyzJkD58/jX7w4DYFyjRpx6tQptFptpjFPRVGy7FcqXi0SPIXIQcePH8fX15ebN2/i4uICwP379wkJCeGTTz4BIObWLSo+fAheXtCgAaYKFXB2dgZQ0ySKnGc2m/nmm2+YPXs2mzZtombNmkDGEq4WLVpw8uRJPv30U+osXszKHj3o0aMHM2fO5NChQ+h0OmJjY0lJSeHYsWPqkqzHgVW8eiR4CpGDqlatyuzZs2natCmKotC8eXOmTp1KpUqVmDJlCkRFca5tW46lpmaMnAUFEa/T4divX25XPVcZjUZsbW3/ctedP5sNO2HCBNzd3Xn77bef6b2ioqLYtGkTY8aMyXRvT09PihYtytmzZzOtBy1btiw///wzo0ePpnfv3pw/fx47OzvatGlD7969mTRpEpCRdCEkJETNOCRebTLmKUQu8PPzIzAwkClTpnD//n3q1q2bMRZ27Ro1Y2Opb7XyeE+OKTY2aOvXZ+LZs4SFhTFkyBA1S02HDh2YPn16ns9UU65cOWxtbbGxsSEpKYn4+PhMW4ZBRoD9z3/+w65du7h//756/MKFCyQnJ+Pt7a0eK1++PB9//PFT3ysuLo4iRYpw//59XF1d1c0MHj58SIkSJf6ynunp6fIY/V9Cep5C5LCuXbty+fJlUlNT2bhxI5s2baJ69epMnz6dWa1b095qZRbwDhn/QKOsVhrHxuZyrV+MhIQEnJyc/nacOzw8XP35yy+/xGAwMHfu3KeW7devH2vWrKF48eJPPX/r1i0mTZqUKXja2NjQuHFj9XWjRo3o2LEjkPG41mQycf78+b9tjwTOfw8JnkLksB07dmTpeULGnpE3dTpWazTsUhT1H2eQRsOIhg1zr8IvUJcuXejWrRsjRox4pvIWi4UNGzaoM5HNZjM6XeavMRcXF8qWLcuAAQNINxgw3rqFPjkZnbMzSYUKsfenn3j99dczXaPT6QgICFBfb9y4kbi4OD788MP/rYEiz8rb0xqFeImZTCZmz57oC0fQAAAgAElEQVStvk5NTeXLOXNI0mop8CggROp0RGs01Jg1C8hYxpOXRlo0Gk2Wx6+PXbt2jfz58+Pp6an+qVChAnfu3GHEiBF4enrSu3fvLNedOXOGEiVKsG/FClpduYI5Joa9SUkcu3cP/4gILh44wLRp0zJd88eeb0xMDLF5tLcvng/peQqRC27dusU333zD5MmTefDgATdv3qRx48b4+flRe+BAGu/ezcoiRVimKPT19kbzaGs4o9GI0WhU76MoyisdTM1mc+YNBiIiMpZ7nDuH3t2dKuXLExgYCGRk9ClTpoy6/RdAcHAwlStXJiUlhcjISCBjqc/u3bs5vGYN76Sncx+4CpQxmeiRkIDHvHm06d9fneVqsViwtbXl+PHjjBw5Er1eT2xsLGazmX379mGxWOjatas68UcIkOApRK5wdXVl5cqV9O3blzNnzlC+fHlWrVpF6dKl+fq771hQvToFu3VDmT6d0ZMnq9fVrFmTs2fPqq//GExfdkajEb1er/b0Hs+iBSAiAkutWliSkrA1m+HSJVAUkkNDKe7picViQavVYm9vj6OjIzdv3uT8+fO4uLhkyom8d+9eypcvz7YSJfjs3j3eAnoChYGyisK3+fPDE8tDDAYDjo6ONG3alAsXLmBra8vChQuJj49nypQpmM1mLBZLzn1I4pUgwVOIXNC3b1/150aNGmVKigAwevRoAL777ru/vM/hw4eff+VeoJYtWxIbG6sGzxs3btCnT5+MdawxMZjj4+kALAQwmwFInD2blJQU2rdvT4ECBQDo3r07n332mdp7fHLcs127dmzYsIH19+4xW6tlk8VCGrAUGKXRcKtaNco+UaeoqCgqVKiAVqt96ppLnU6XZVxVCBnzFELkmICAAH7//XdCQkK4evUq9vb2dO3alZCQEEIqVyaMR4HzERugSHAwTk5O9OvXD5PJhNlsJi0tDavV+t9yT4xZnjlzBm9vbybOmcNEjQZvrRYfIFarZaqDA50DA7l69apa/uLFi1m21xPi78ivU0KIXHHx4kU8PDwICAggJSWF/A0aQFAQmEwApAFOGg3GunVJvXyZefPmERUVRWxsLDt27CA9PZ033ngDrVarBlKr1YqDgwMLFiygZs2a/BAQQOzXX7Ng3z66tG1Lg6+/JtrfnzfffJPLly9TuHBh9u/fzxtvvPGXiRj+cjsy8a8kSRKEELliwIABNGzYkLi4OBITE5k7cmSm5OpHtVpWa7X4hoURmpJC5cqV6datG/fu3ePgwYM8ePCAsmXLcv/+fTw8PLhz5w4Ay5Ytw9vbG3d3dwwGA23btsXHx4fBgwer752amkq+fPkIDg6mWbNm+Pn58dFHH2FnZ/fU4Gk0Gvnhhx+oXr16jn0+4uUmwVMIkeM2btzI559/zuXLl7GxsaFGjRp8//33vFG5sppcfSrg0rYtPYcOpW7duvz444+EhYURFBREu3btePfdd9m1axd16tT5x/UwGAycO3eON9988/k1TvwryDMIIUSOWrhwIaNGjWLHjh3079+fU6dOsXr1arp168aSXbtInz+fJH9/1sbG0rxLF7y9vVm4cCF16tQhIiICjUZDmzZtWLlyJcOHD/+f6uLk5CSBU/wj0vMUQuSI+Ph4/u///o+4uDh27dpFlSpVWLFiBdeuXWPevHkEBAQwdOhQ8ufPz9KlS9m1axdfffUVv//+O1WqVOHXX3/lrbfeYvbs2ZlS58lMWJEbJHgKIXKMn58frVq1ws7O7qnnFUXh4cOHFCxYMIdrJkT2yGNb8Up6nKz775hMpqcucN+8efMrt0YyL+jQocOfBk7ISNf3sgXO8+fP4+/vn+nYli1bGDJkyN9eO23aNFatWvWiqiZykTzvEK+kH374gfnz56vZacLDwylevDhGo5HU1FR1Rw2LxcLixYszbUcFUKBAATZt2iTjXeJvXbp0iQ8++ICZM2dy584dbG1tefjwIVu2bFGTNqSmpjJ16lRmzJjBjRs31EfJoaGh2Nvbq0kwFEXBbDaza9euXGuPeD7ksa3IE3r06MGUKVMICQkhKCiI6dOnZzrfp08fLly4oH7Z/VFqaiouLi6cPn06J6orXjHz5s2jYsWKjBw5kjt37uDg4EDx4sUxGAy88847lCpVih49euDs7Iy9vT16vR6AWbNmUbx4cQYOHAhkBE+j0Yi9vX0utkY8D9LzFHnbo0Tj2kOHmNewIV2WLwc3tyzFgoKCnnlbLPHvsm/fPsaMGYONjQ1du3Zl+/bt+Pn5sWzZMnx8fJgyZAj5Fy+Grl3Z5OrK0rg4ePRo+nFP9clHt3379uWDDz7IreaI50R6nuKVtX79ej755BPc3Ny4fv06pUqVIjU1ldTUVEqWLEn4jRusM5lobzTym8lEUZ2Owk5OcPlylgCamJjIL7/8QpMmTXKpNeJllJSUxNtvv01ERAQnTpwgX758ALRv356wsDBmf/opXceNUxM7LLGxIcnOjnEhISzZtUv9hWzRokW8++67bNmyhZs3bzJ16tTcbJZ4DqTnKV5ZdnZ29OnTh4ULF9K4cWP27t2Lv7+/+th2oLs7tteugcXCF0CE2YxdfDw0aAAVKmSkhMufH0Dd1uvUqVPPrX5paWno9fqnJhsXrwZHR0f+85//EBISwpEjR9i3bx+//vorXl5e9O3bl/WTJzMjPp4CisIiIL/VSpLRiGbuXH41mQgKCuL27ducOHFCDaSPA7B4tUnwFK+sx3lGb926RVpaGq6urmg0GsyPduPg3j14NNP2P48vUhRwcyPezw8PDw9+/vnnLPfdv38/VapUoWLFigBER0eTlpZGuXLlspQ1GAyULVuWuLi4LOe6du3K6NGjad269f/cVpG7bt68SZUqVShUqBAXL17ExsaG/v37c3fCBEYpChWBUsA5AKuVz7dv55KbGx999BEhISEULVqUAQMGyAS1PESWqohXWnx8PF26dGHyoz0vK1asyPr163FzcyPRxSXTvo0A6PXg5fWX9/T392fgwIFqsvGVK1fi4+Pz1LJ2dnaZNnN2dnbOdE7dq1K8skwmEz4+Pri6utKwYUN++eUXdULQdRcXErRaSj15gY0No9u35+zZswwaNIjRo0fzyy+/sHr16ld643KRmfQ8xSutQIEC+Pr6qltKeXh4EBkZCcDAt96C2FgwGjN26tDrwdERxo79y3t+9dVXLF26FKPRiEaj4bvvvmP//v1PLWtjY5Nppw0nJ6fn1DLxsti1axf16tWjcOHCAJw+fZoPP/wQAI2HB5rwcEhPB5MJRasFW1v+7+JF9M2aERsbS3p6On5+flgsFtq3b68GXvFqk+ApXlmKorBp0yYCAgKeej48PJx+y5fD2bNw/nxGj3PsWNKKFCE6PDzL7hmLFy9m+fLl6pfbunXrSE5O5t69e/Tv3x+z2UyL+vVZ7OgI584xzmKh4bBhAHz99df069cPjUbDwoUL6d69+4ttvMgRZrOZGTNmMGrUKCBjyUrRokV57bXXMgo4OsLixfDzz3D+PKn58kHDhpybNQuA77//npiYGMaPHw/A2rVriY6OzpW2iOdLgqd4ZRmNRnXC0NMMHDgQo4tLxpfbE84cPUq/fv3o3bt3puNDhgxh6NChf/qo1RIejrFOHUhOBpOJMxoNHT/+GFxcuHbtGufOnQPg7t277Nu37zm0ULwMRowYQbt27Th79ixbtmxh9+7d6rm0tDSMzs7q37HU+fPV/Ugh48nI4wxX27ZtY9q0acyYMSNnGyBeCFmqIl5ZZrMZq9Wac+OKI0bAihXql2NxIFinwyt/fsbNmUNkZCRr1qxh2bJlrFu3DpPJxKhRo7JkNxL/TomJiSQnJ1OiRIncrop4DqTnKV5ZL2I3jSZNmpCQkJDl3larlULh4Rx9FDh/B+yAFLOZAmYzTZs25eTJkwA0bdqUXbt2cf/+/edeP/HqcnZ2zjShTLzapOcpxBPi4uJwdHTM0pu1Wq0kvf8+zt9/nzExBHgInNdq+b58ebZcuwZA6dKluXPnDgBdunSRnqcQeZQsVRHiCQULFnzqY2AbGxucv/giY4KIXo8GKKjXs0mr5Y3Bg3O+okKIXCXBU4hHEhIS1LWdT2MtVYrEgACs770HXl783rMne/Llo/cTeUrT09PVn+WhjhB5l4x5CvFI3bp1cXBwyLRu80lmsxmDwcClS5coWLAgc4YMYdyECbi4uKhlhg8frv5sNBoxGo0vvN5CiJwnY55C/EOP0wC+iIlLQoiXmwRPIUSeJ0n6xfMmY55CiJeSoigEBgYCcO3aNX788ce/LG8wGChYsOBTz3Xt2hV/f//nXkfx7yXBUwjxUkpJSaFLly6EhYWxdetWgoKCAKhSpQq1atWiVq1aODg4kJycDEiSfpGzZLBGCPFS0ul0LFq0CEdHR/z8/NiyZQsWiwVbW1t2797NlStX8PX1xcHBAZAk/SJnSc9TCPFS6ty5M/PmzaNq1aqkpqbSs2dP/P391Qlae/bsoVfLljBiBONKlGBPp05gsfD1118TExOjJumPiIjI5ZaIvEh6nkKIl9KBAwcA8Pb2ZuHChXh4eAAwduxYLBYLhw8eZNGPP0JyMmdMJjoeOgSKwrVLlzhXqRIgSfrFiyPBU4g8ymw2oyjK3+4faTKZsLGxyTITdc2aNRQtWpQOHTq8yGo+1cGDB5kwYQJ2dnb89ttvDBo0CL1ez5tvvgmAVqulvp0dx+7epZ3Fwu9ANYsFG8Djzh11olGzZs1Yt25djtdf5H0SPIXIo3744Qfmz5+vTpQJDw+nePHiGI1GUlNTKV68OAAWi4XFixfToEEDdfssyJiw85///CdXgmebNm1o06YNiqJQpEgR9u7dS8mSJQHUnuQSR0caWyz8h0dJ+oECQNP79zn5qKwk6RcvigRPIfIoHx8ffHx81Nc9evRgypQphISEEBQUxPTp0zOVf+ONN7h3716mjEmQEYAAHjx4QP369XO0J3fixAkcHR3p0KED27dvp3z58uq5ok2bUvvyZX5VFC4B54HKGg01vL2pMWwY06dPx9XVlVWrVtGlS5ccq7P4d5DgKcS/WUQEzJkD585hExXFgtmzebNvX27dusWpU6fo06cPGo0GgB9//DFHxw/T0tL46KOP+Pbbb9FqtTRv3pw9e/YAkJyczHsPHnACmKTTUdBsZpNGwxv58sHYsTlWR/HvJcFTiDxs/fr1fPLJJ7i5uXH9+nVCQkJITU0lNTWVA7t3Ex4czDobG9pbLCzS6Sg9fDg0a8aiRYswGAz07dtXvVfdunVxdXXNkXonJiYyYMAA6tSpQ/v27QGYPXs2Tk5OmM1mHBwccHN3x//AAWrt2cPvx4+z5/ffWXT+PLi5AZKkX7xYEjyFyMPs7Ozo06cPCxcupHHjxuzduxd/f/+Mx7YJCQwMDsb20Tjn62YzzvHx6GrWJMJopGTJklSrVg2LxYLJZEKr1ZKWlkZkZOQLr7fRaKR27dpMmjRJPdanTx8gY4ITwMSJEzNOtG6dkaS/Xz9catRQy0uSfvEiSfAUIg97nDTg1q1bpKWl4erqikajyUhqf+4cPNEjiwL0wBxnZwzvvMO0adMAGDNmDCVKlODTTz/NsXoXKVKEL7/88qnnQkNDsxxbvnx5lmOTJ09Wf3687EWI50WCpxB5XHx8PF26dGHKlCkAVKxYkZEjR7IhMZH6Go0aQPWAotPhD+gvXcLX15dKlSqxa9cudenHy0p2thE5Tf7GCZHHFShQAF9fX2o8eqTp4eGR8eg1IoKBlSqBxZLxR69H4+jIwVOnuGW14uPjg7+/P40bN+b69et4enrmckuEeHlI8BQiD1MUhU2bNhEQEPDU8+EODvRr1gyio7lXsybnmjThxOLF7N69m7Jly3LmzBlOnjxJ27ZtqVixIosWLaJBgwY53AohXj4SPIXIw4xGozph6GkGDhyIsUcP6NCBg76+LF68mC5durBv3z4qVKgAQMOGDRk6dCiLFy+mYsWKOVl9IV5ashm2EHmY2WzGarXKdlxCPGcSPIUQQohski3JhBBCiGyS4CmEEEJkkwRPIYQQIpskeAohhBDZJMFTCCGEyCYJnkIIIUQ2SfAUQgghskmCpxBCCJFNEjyFEEKIbJLgKYQQQmSTBE8hhMgF06ZNY9WqVc9U9vTp0/z0008vuEYiO2RXFSGE+Ic6duxInz596Nu379+WHTNmDDdu3FA37g4NDcXe3p4DBw4AGdvHmc1mduzYgclkwtbWFo1GA0BISAg7duygVatWatn09PRMZUTOksTwQgjxDyxbtoy1a9diMpnYvn075cuXz3R+0KBBnD59mnz58mFvb8+UKVMYP348jo6OGAwGDAYDhQsX5vz58wAot29jnDmTkJMnGRIbi12ZMmjs7Z/63oqiYDQa2b17NyVLlnzhbRVZSc9TCCGyaf369SxcuJATJ05w48YN2rRpw9atW/Hw8FDL6PV6VqxYQbVq1ejVqxcBAQHcu3cPjUZDdHQ0dnZ2BAcH07RpUzAa4dIl+ioKH1itBOr1YDbD5cvg5paLLRV/RoKnEEI8o9TUVL788ku2b9/OTz/9RLFixShWrBgrV66kc+fOtGzYkPcVhXo3b6JJTWWovz/5nJwoUKAABoOBihUrsnTpUoYMGYK/vz8dOnSgW7duvHv1KlsuXeKm1ZrxRiYTaxIT+bxaNUq5u2eqQ0xMDMOGDePzzz/PhU9APCbBUwghnsGFCxfo3LkztWrVwsbGhu7du2c6X6daNex37aKJ0chxwKLRsMLBgWpbt9L744+xs7MDQKPREB8fz5UrV3jw4AEnTpxgxK1bYLGQ74n76S0W3nFxYVZgYKb3mTdvHjLalvskeAohxDOoU6cOM2bM4J133sFoNGJnZ6dO1rFarRiHDyff0aNMBEoAKxUFUlNh6VIAbGxsiIqKYtiwYURGRvL2229z+/ZtAAakp/OmVgsWi/p+Zq2WDQYDhz09sVqtWK1WdDodDx48wMfHJ6ebL/5AJgwJIcTz4OUFFy6oL7sA1wB9/vwUqF+fhg0b4ufnx2effYaTkxMHDhxg7969hIeHYwwLY2Pt2sSkpTHeagW9HhwdiTt+nII1a+Lr60twcDCzZs0iMTERZ2fn51btjRs3Ur9+fSpXrozRaOTNN99k69atlChR4rm9R14kPU8hhMiGt956iytXruDk5JTpeGxoKG/b2DD90bhlLHBIp0Pbqxe9b9xAURQKFizIN998g16vJyYmBrPZTNOmTbFYLLR//330p09n9D69vPBv3Bifjh25dOmS+h6KotCyZUv69evHqFGjnrnOj3usLi4uWc7ly5ePli1bsmnTJq5du0ZwcDATJkzI9J62trZ899132fyk8jYJnkIIkQ2PZ9F6e3tnOr5w8mTi58wBiwXFZCISKOnoSMzw4fDxxxiNRgDOnTsHwPfff8/PP//M1KlTKViwIGvXriW6cGEYP55ly5bxzdSpHDhwAFdXV5KSktBoNGg0Gvz8/OjUqRMxMTHMnDnzmepsZ2enjrn+UdeuXalSpQqFChVi0KBB7N+/n+LFi6vnrVYrliceJ4sMEjyFECIbNBoNQ4cOzdrzjI1l8LBhYDZz2t+f8gkJPDxwgG3HjmFnZ4fZbObevXvqeKmzszOnTp3i8OHDaDQapk2bxowZMwBwcXHh+PHjFCtWjE8++YTVq1fj6+sLQLFixfD39yc2NjZbdX5Seno6Op2OmJgYDhw4wMCBAxkxYgQODg58+OGHWa7fsmVLdj+mPE/GPIUQIht69uzJBx98kLXnuXAh9+7d46uvviIgIIDbt2/TqVMn+vbty8iRI2nUqBGDBw8mJiZGvaZkyZKsWrUKs9lMcnLyU8cZU1JSsLe3x8bmn2dTdXR0pFSpUmoQNRqNbFq4kCLbt+OzcycuhQvz3fbtrDl4kIIFC9KgQQNCQ0Pp2bMnTZo0Yffu3RQqVOgfv39eJMFTCCHyOEdHR+7fv4/944xFERFQuzYkJYHJxF2djsKOjkx7+21qN2uGt7c3mzZtYsSIEbi7u3P58mX0er2kAnyCBE8hsiEuLg5XV1f5EhGvlCzBc8QIWLECTCaMQDzwqUbDPjs7ilWoQL58/11xeuXKFapVq8auXbuypCD8N5NdVYTIhs6dO3Po0CH279/PBx98kOlccnIyXl5eQMYki5SUlNyoohB/79w5MJkAOAW8B6xTFF7Pl4+9e/fy6aefMnz4cM6ePUvp0qW5cuWKBM4/kOApRDa4uLig0+lo1qwZBoMB66NlCenp6Wi1WvR6PWlpaWzbto3+/fuzdu1a+vfvT//+/RkwYADx8fG53IK86/Dhw1SpUgUAs9msHo+Ojmb48OGkpaXlVtVePg0aZKwlBfyBrgB6Pbd1OkqUKEHdunWxt7fn3r17FC5cGNOjQCv+Sx7bCvEnDAYDDRo0IH/+/OqxmzdvUrBgQVxcXDAmJZEWHc21KlWYbmPDUa2Wn3/7jRo1apCcnMyGDRtYvnw5np6eeHh4MGjQIC5evJiLLco7/P39GTZsGI6OjphMJgoWLMiMGTP45JNPmDZtGl9++SX79+/H0dGRX3/9lddffx0vLy8aNWrEzp07s0y+mTZtGu3atcul1jxfVqsVs9mMra2teuxpY57mWrXQJCVRzWwmQKejmJMT9UqVwqLVqtumJScnExsbS9u2bdmwYUNuNOelJUtVhPgTiqKQkpLCb7/9ph775JNPeO211xjYsiVKrVpoUlJQLlxggk7HeEdHvCtVol27dtjZ2VGlShVsbW0pU6YMMTExdOjQIRdbk7e0bNmSa9euZToWGBiIXq+nRYsWzJs3jwsXLtCiRQtq1KiBn58fhw4dwsnJiUuXLlGsWDE8PT0BOHPmDBUrVsyNZvxPTCYT+ke9xyedPn2aAQMGZFrXWbp0aTw8PFAURR2vT3dy4vsWLXA9dIhigwbB2LFcfGIHl3PnzjF9+nT69evHF1988eIb9IqR4CnEn3japKCyZcty9+5djDNnUjs+nlPAPeBdsxnbhATuhIaydu1aypYty86dO6lbty4Au3fvZvDgwTnbgDzKarVm2SwawMHBQV2/uHvpUpT582HcOA6VKEGrxYtpNHkyAGFhYTRv3pyePXuiKAq1atVSH/e+rDp37szEiRPVgG8ymahVqxZnz57NkjWodu3aJCQkEBcXl+U+7dq1Y/To0bRu3Vo9dtJohKckUChXrhzvvvtunumRP28SPIX4E4qiEBUVhYeHB/Hx8fTp04eWLVvy/fffE3DxIq5AoUd/TgLnFIURViv7z55V18R98sknAPzyyy+ZHv+Kf+7KlSsMGTJETTzw22+/Ubt2bQB+/fVXmtavj/XSJSxWK/6KwqdAvr172RMYSBEPDzw8PLh06RI9e/bkwoUL6i84LzN7e/tMSRn0ej1t27blypUrNGvWLFNZOzs7HB0d1dfOzs4kJiaq5558nPv42NMUK1aMTp06Pa8m5DkSPF+AlJQU+aLMA1JSUqhQoQJBQUFs3ryZq1ev4uXlhY+PD4qdHe8/2gUjHVgIzAFec3Ghe/fuhIeHM3fuXPVey5YtY/DgwZw4cQKtVptbTcoTPDw8OHjwIKGhoVSoUIEOHToQEBAAQPXq1Qlo2DBjE+lHKeUuAuuBwqtWwZIlNGnShNWrVwOwYcMGunXrlkst+XsWiwWr1ar2sB8+fMicOXOws7PDxcUFf39//P39McfFMV1R4Nw5bOrXx+aJqSx/zIQkng+ZbfsEs9n8TLPKTCZTllyP7o82rLVarZl2kxevrrt371KgQAEg40vMxsYGZ2dnypcvz9m0NHo7OYFejz9wVKOhtFbLsbNnOXbsGAMHDsw0HuXu7o6npycHDx7MpdbkLb///ruayu7q1atUr16d+fPn4+TkxP2AAHUZBmT0EHpYLGge7XhSvXp1Hj58yMWLFzl48CD/93//lxtNeCb79u2jbt267N69m44dO7Jjxw5q1KiBx6MetIeHBx6lS1NzzRpYsYJxFy6wZ8UKuHuXrydNIiYmBo1Gw8KFC4mIiMjt5uQp0vN8wg8//MD8+fPVxxrh4eEUL14co9FIamqqmizZYrEwe/Zsxo8fr5a9ffu2Oh4RGRmZaWxiy5YtVKtWLRdaJP4XJ0+exN3dna1bt7JgwQJGjBjB/fv3uXv3LsVKlUK7aROGmTNpFxREOy8vim7ahPeAAUDG353Fixer90pJScHGxka+wJ4TvV6vzgh1d3cn8NGG0Q8fPmTn6dMM0evVAJoM1ANC69fn8QjpO++8Q5s2bfjqq6/U+7yMOnbsSOvWrXF1dWXfvn1UqlQpa6ERI/j/9u48Lspy///4a2aYYVXAHRQtFBLNX6ioqGh2XI6ahWJlaX7DXI+paZ5cTlouWC5pllh69LiVuXE0lzhoYqaooah4EvcFUVkSFZRtmOX+/QHMcQQ7TacYkM/z8fDxYO575va6YOA913VfC4WFYDBwBHih+IP9xW3biC/+O5Samkp0dHQ5lvzxV3HfNXYwdOhQq01mX3rpJWbMmMG5c+dITEwkIiKiaFmr+fNRPviAjsHBuE+fDj4+zJgxgxkzZgAwa9YsOnXqhF6vJzs7u+w3vKjQFEVh/fr1vPfee/j6+jJv3jwaNGhAz549mTBhAnv37mX8woVcvHaNqfPn8+yzz9Lg0CH2798PwIwZMyxdbgA9evTA29vb8h4Rv6979+5x7do13njjDUI3bWKwqysXcnJ42mhkn0ZDgFqNavJkoOhne/PmTbKysv4zdaMC2717N/n5+URHRzNs2DBLz0bDhg1JS0sjQqdjSPEHhQtAU4q6FANzciwfKjp16sS6devsVofHkYSnLR5YD1JlMNDv+HHWbt7M4IAAcHS0LBSdn59PZGQk/v7+GAwGOnbsSIMGDexbdmGT48ePoygKffr0QaPRcPXqVYKCgvrhT9gAACAASURBVFi4cCHh4eEMHjyYsLAwEhMTLQNOLl68aHkPlNzzLNmG6uDBg49c0q+wsBCDwcD9+/fJzMwkLS2Ny5cvk5iYSFhYmNXIyAddvnyZY8eO8eqrr/7+34AK7Nq1a6xatYoTJ07w6quvkpSURPv27encuTNffPEFL4SFMeziRc7ExTHH05P1isKLw4eDjw+XL1/mL3/5C05OTpw7d46wsDASEhKYNm0adevWtXfVyvTpp5/SqFEjDhw4QFZWFsHBwbzyyitERkYSERGB9sABuHmTCwYDjkAe4AGEtG/PQW9vAEJCQti+fTuZmZn2rMrjRRFW1q1bp9SpU0dp3bq14uHhoTRv3lzx9fVVvLy8lNa1ays1QfkWFAWUbqCs1miU8KZNla1btyqffPKJ8vHHHyuxsbFKjx49FJPJpBw9elQxm832rpb4DR7+ud25c6fU+bt37/7iNbKzsxW9Xv/I85s2bVJ8fX2VDh06KKGhoUrTpk2VXr16KR9//LGyadMmJTEx8ZGvPXv2rNKiRQur8hQUFPxieR4HV69eVUaMGKF8+eWXytmzZxWDwWB13mQyKUOGDFHq16+vZGVlKU2bNlXS09OVadOmKbVr11YiIyMtP9u7d+8qI0aMUFxdXZWzZ8/aozq/aMuWLUqXLl2U559/Xjl69KgSHR2tbN26VZkyZYqiKIoye/Zs5cvFixXF01MxOzgot0H5l0ajvKLVKkpKiqIoilK/fn3L9UJDQ5Xvv//eHlV57EjL8yGOjo689tprLF68mA4dOvDtt98SGxtb1G27Zw/ht25RMtB7FnDBZEKVmcnKlSsZN24ckZGRDBgwAEVRSE5OZurUqezdu9eeVRK/0cMtRU9Pz1LnSwYUPUr16tUfee7UqVOWllCJO3fuUL16dRRFISUlhZSUFL777jv69u2LVqu1DBZ58PohISFA0WC1atWqPfaDkp544gmWL1/+yPNqtZpVq1ZhMpnQaDQkJibi6OjIsGHDGDt2LHXq1LE818PDg+XLlzNr1qwK2fJs2LAhCxYsYMaMGXh6etKmTRsWLlxIs2bN/vOkmjXh1ClU8+dT4+hRNmRn86c33oAHFjwQvz8Jz4eULNt17do1CgoKLDtoGI3GovUgExJAUdhB0dQEo0rF03XqoNVq2bFjBzVq1GDu3Lm4uroSExNDaGioXesjKi43NzcaNWpkNe+uevXq1KpViyeeeKLoQGYmhVu34vjll2hatcL/ySct0zKgqEuvTZs2dOjQoZxLX/GVTAkqmcfYqFGjRz63IgYnYLXRgFI8/WTnzp1ERUVZnmMymfjX6dP4jByJbuxYdgYH89kDmxYUFhZavlZkNdbfjYRnGbKysujbt69lcEfjxo0ZN24c6xWFNg4OYDbzvMnETpWKAa6ubAsKguxsq2t06tSJ2bNnEx8fb4caiMqgcePGNG7cmLFjx3L8+HHUajVXr17lwoULJCYmYi4o4LmkJOaYTGAwcPPMGTSKUnTvvbhVER8fb5kmJR5fer0evV7P1KlTGTJkCLVq1QLA39+fadOmYTQa2bVrF/Pnz2fy5MlWqw699dZbpa4j/neyMPxDoqKiiIuLY/jw4TRv3rzU+fCXX+Z1g4FuaWl0TU1lwqxZnEpNJT4+nkmTJrFw4UKWLVtGbGwsn3zyCceK55YJ8SihoaH4+/vz1FNPsWnTJnx8fOjQoQOJn31GzunTrCn+Fb0CvKFS8VRAAIfMZlxdXblw4QKenp7Url0bk8lEYGAgq1evtm+FxB/GaDSWmlpz7949dDodTk5Olt1kKvL0m8eFfIcfoigKGzZssOoae1BycjKDNmxgv1ZL7WXLSLx5k2bNmnHs2DEmTZpESkoKERERnDhxAgcHB6ZOncpzzz33yBGTQiiKgru7O7Vq1cLJyQk3Nzdq1aqF9uefrbrZ0gEPRWGlmxvEx5Ofn0/Dhg0JCAggJibGfhUQ5aasUHzwvrqEZvmR7/RD9Hq9ZcBQWcLDw9Hr9YSEhODr68vzzz/Pjz/+aFniKykpiVGjRrFp0ybS09N54YUXZEFw8Yv8/PyIiYkhJiaGq1evcv78eU6cOAFqNd3UaiieK5oOPKVWQ/F9sPXr19O9e3dSU1M5fvw4rVu3tmMthKhapNv2IUajEbPZXGrx5EfJyMgoNdhAeWDbHyF+iV6vZ8GCBeh0OtRqNTt27MDb27tohaqsLAoXLmSo0Uhdo5FJajXNnZx449w50hwcCAoKYu/evdy4cYO3336bo0ePWi0ILoT440jL8yG2dnuUNUpPglP8GmazGZPJRNeuXS3vmYSEBPz8/CzTT2jTBt2uXeSePMnmCxf4YfdurhqN9Orenffff5+AgAACAgIICwujc+fOrF+/XgYQCVEOpOUphJ389NNPVnM8f8nLL7/MsWPHmDdvHm3btmXGjBkMHz7c6jlLliwhISGBtWvX/hHFfWzNnj0bLy8vhg0bZu+iiEpEwlOISqKwsBCdTkd2dnapDZDFr/fOO+9w5coVSy/T+fPncXJysswDVRQFo9HI9u3bAVi4cCGfffYZtWvXtrqO0WjExcWFw4cPl28FRIUg3bZCVBIl9+ElOP83M2fOxMnJybJl3Ny5c6lXrx7h4eFAUXg+OBdSp9PRvXt3evbsaXWdrKwsvvrqq3Irt6hYJDyFEFXKrl27WLp0qeXxjRs30Ol0rFy50nJsYK9ejE5Ph/h4FCcn1A0alBoP4eDgICv2VGESnkKIKuX27dv06dOHyZMnExkZydixYwH47LPPGD58OJu++IKr770HxSs7uWo0/AicOH0aHhiFrygKvr6+dqqFsDe1vQsghBAAvXv3Zs+ePVbHIiMjmTlzpuXx1q1bmThxIqbiDZ8Brl+/btMIYxcXF6BoVHxSUhKJiYns2LGDAwcOFO3vGR2Nc/Hm0gBDTSb+rVaT8OyzJCQkWP4dP36cLVu2/C9VFpWYhKcQokLQ6XRW86sPHz7M9OnTad++veVYz549uXz5MrNnz7Ycc3JywtHREZPJRFZW1n/9f0o2f3jvvfc4efIkb7/9NsOHD+f8+fMMHjwYrlyxLEyxH6gFBBkMBK1aRVBQkNW/J554gjlz5vwu9ReVi3TbCiEqnOPHj9OvXz++/PJLegQEwNixEB+PS7t2bF64EEO9ely/fp2JEyda7l9GRUXx/vvvs3v37v/sSvMLJkyYQEREBGvXriU9PZ0pU6ag1+v5undvuHYNzGZ0QEtgokYDXbvCA7uVAOzevdsy8EhULRKeQogKJTU1le7du/PFF1/Q55ln4JlnICeHbIOBngkJfLhmDc+dOUP0jz+iUqksC0wMGDCA5ORkunbtSlxcHF5eXmVev2SQz/PPP49Wq+Xnn3+msLCQXbt2YTKZ6N2xI9ojR8BoRG0wYFSpyHFygt69ISfH6loFBQWWlqyoWiQ8hRB2U7LK0oOtN29vbxISEooG44wdCzk5GAwGqgGfKgpjc3P5LiKCQ87OPP/881bXmzx5MtWqVSu6d/kI+fn5AJbtAlevXk1GRgZTpkwBYM2aNaSPGwe5uZhjY/np6lXm+vrCA6NxS2RmZlpt+SWqDglPIYTdnDp1iv79+6PT6bh58yYnTpzAxcWFy5cv07hx46LuU4MBPbAZaAscVhSUkyfZWtzVajKZMBffo5wwYQKtW7fG09Pzkf9nSXiW8PDwsAxA2rJlC7Nnz+bDDz+EAQMw/PADfVavZs2aNWVea+XKlWRkZPwO3wlR2cgKQ0KICqFv376MHz+eLl26WKaSdNq8GZYvt4x8BeilUrFs8GDyp06ladOmZGRk8NZbbzFhwgT69OnDsWPHaNKkyW8qw71798jNzbV0+RYWFpKfny8LU4hSpLNeCFHhvPXWW4wfP557f/kLuLlBcbdusoMDV1QqGs6eTdOmTYGizRkmT57MSy+9xIoVK35zcELR3pgP3ivV6XQSnKJMEp5CiApl2bJlaDQagoODeXbQIJI2b4aRI6FtW5b/v//H6xMmoGrYECgasLNo0SJ69erF/Pnzeemll+xcelFVSLetEKJCeO6559Dr9Tg4OPDll1/SsGFD5s6dy8yZM+nQoQPbtm3D39+fH374AYClS5eybds22rVrx0cffYS/v7+dayCqEglPIYTdKYqCn58fgwcPZvr06VbTP65cuUJiYiJhYWHcvn2bmjVrkpeXx7Jly+jfv79lNxQhypOEpxCiQrh//z7VqlWzdzGE+FUkPIUQQggbyYAhIYQQwkYSnkIIIYSNJDyFEEIIG0l4ClHBLFu2jFmzZtm7GEKIXyADhoSoAEJDQ8nOzgYgPT2dwsJCGhYvBACwa9cu3Nzc6N69O+np6ZhMJqpXr86CBQt48cUXi9aBBfR6PW5ubhw5csQu9RCiqpCF4YWoAI4dO0ZqaipQvKtH8aLnAE2aNLHMe9RqtWzbto24uDju3LmDk5MTzz77LN988w0Aly5dYujQofaphBBViISnEBVAy5Yt6dKlC/CflmdMTAwAXl5emFNSYOlS1IcPw8yZRN+9y4KlS7l161apa5XsbymE+ONIeAphR2fPnuXUqVMMGTLEcmz//v1kZWXRt2/fogOZmewKCqK5Xg9GI4UbN3LWbKaRWk3p6BRVVUFBAVqtFo1GY++iVAkyYEgIO3JwcMDR0REnJyfLv549e/Lqq6/+59iuXTgWFOBgNAKgMxp5RlGIHj0agB9++IGgoCCCgoLo16+fPasjfoO4uDigaGPwwsJCq3OKoqDX6y2P79+/T40aNcq8Tr9+/YiNjf3jCiqsSMtTCDvy8/PDz8+PoUOHcvbsWXQ6ndV5k8lEjdOn2V68WXOJ+YpC2PffE/nBB6XueQ4bNqzcyi/+N4qiMGbMGP7+97/j7OzMiBEjrFqOJpOJatWqsWfPHgAcHR1xc3OznK9evTr37t2znHv4/SP+OBKeQlQA9+/f5/PPPycwMJB169bh6+tLSEgI6enpDGjdGnJzLRtC3wBOqdWoHvgjKiofU/EHosjISBwdHWnRogVff/01N2/etHpes2bNLF+r1WqrRfNlLWD7kfAUogIwFAcjwPLly5k7dy45OTmo1Wqc/fwgPx9ycsBgwEWjwdnRkZ27d5NsMFi6baFoqkrNmjXtVQ1hg3379jFr1izUajWnT58mPT2d5cuXc+PGDcuG3nv37mXayJH0PHqUyVFRBLdsCSYTixYtYtCgQahUKhYvXkz//v3tXJuqR8JTiApgwYIF6HQ6pkyZgoeHBy4uLrRs2ZKQkBDmLl4MNWvC/PmYv/ySGi+8wIgPPwQfHy7Hx5fqtn3jjTfsXBvxa3Tv3p3u3bsTHR1NbGwsWq0WRVFwd3enVq1aALio1TB6NOj1HDEYeGHPHlAULp48SXxxwKamphIdHW3PqlRJEp5C2FFhYSGjRo3izJkzZGdnM3ToUL755hu0Wi3nzp1j165dDB06lD//+c98uGQJ+jNn4IMPwMcHAB8fH0aMGGG5nre3NwsXLrRXdYSN8vPzeeedd9i5cycAo0ePJi0tzXI+6IcfeKqgAIxGLgBNTSbUQOCNGyQkJADQqVMn1q1bZ4fSV20SnkLYkU6nY/jw4dSrV48nn3zS6pxGoyE0NJQ+ffpY5nM+PJrS29sbb29vy2MXFxeCg4P/+IKL/5nBYGDQoEFcuXKF8PBw5s+fT+/evWnRogUpKSm4uLhQ6+ZNko1G9gGOQB7gAYRkZnKw+OceEhLC9u3byczMtGNtqh6ZqiKEnbVv375UcD5Io9FQr169ciyRKA+bN2+mefPm+Pr68tFHH5GUlESLFi2Ii4vjzTffZMaMGcSFh+MG+AEngTOAn0pF8y5dGDVqFACenp6sXLnSjjWpmqTlKYQQdjBw4EBUKhVbtmyhc+fONGvWjHfffZeQkBBLyzOyWjUK1WpUGg01DAY2qFT8ydkZJk2yd/GrPGl5CiGEHTy8jKKiKKVbnseOoXvySRg5kgstWrBTp+PVo0ct97wfXFRB9vgoX9LyFEIIOyooKMBgMGAwGPjpp58ICQkBiqapREZGklNQAEuWMH/YMCYPGoR78+aW17711luWr/V6vdVqRL+FoiiyNvKvJFuSiSph0aJF5OTk8P7771uOvf766yxZsgRPT89Szy8sLKRNmzacOnUKgICAAM6ePVtu5RVVj9lsJisr65HL7xmLl2d0cPh1bZ4bN26wevVqxo8fX+ZiCgkJCbRq1cpq0YVBgwYxePBgevbs+RtqULVIy1NUCW5ubqU+laelpfGvf/2LgQMHWo6VLDYARXMmSx6npKRYvi4oKODIkSOyuov4XanV6kcGJ/z60CwxZswYXF1dcXJyorCwEK1Wa9WqnDNnDvfv36dr167s3LkTtVpNRkYGhw8fxsvLC51Ox/3799m/f7+818sgLU/xWFMUhaysLP75z3+SlpbGhAkTKCwspEaNGuzbtw8fHx/8/PzIzs7G3d0dvV6Po6MjRqORN9980zJ/bsyYMcyZM8fqOUJUVAsWLODgwYNs27YNjUbDu+++y/379/niiy8sAWo2m9mwYQODBg0iLy+PzZs3k5OTQ5MmTYiLi2P69OnyPv8F0vIUj7WcnBy6dOlCdnY2BoMBb29vPv30U6sFtFUqFbXc3PjX009zcM8eYlxcoG1b/P39MRqNqFQqevfuzejRo/nqq6/knpCo0FatWsXWrVuJjY21LDI/Z84cQkNDGTt2LJGTJ6PMm4f66FEGtWtHSuPG9AgPZ+TIkWi1Wst1unTpwl//+ldZ+u8RpOUpqoQ1a9aQnp7OlClTSE1NxWAw0KhRIy5fvszezZsZuWAB5OQwz2DApFbj6eTEhddeo1Pv3ixZssTyCbxki6gH/zAJUVGsWbOGIUOG0KFDB1xcXMjNzUVRFMt9zSsXL/L6vXu0NxrZbjKx3MGBPsCITz8l19mZ3NxcS8tz4MCB9OjRg2+++cbqdoYoIi1PUSXk5eURHR1NvXr10Gg0HDhwgBUrVvDjjz/y/erVjCxedF0DNDKb2ZKfz8cGA0+GhXHt2jVatGhBy5YtGTNmDBs2bLB3dYQoU7du3YiKiqJp06bUrVsXT09Pqw95KeHhZHz1FW1MJpKB5UYjIzUaln/0EbE3blhdKzY2ln379lkWqRfWpOUpHmuFhYV07NiR9PR0evbsyeLFi8nNzSUwMJCbN28yefJknvnnPxl05QoAHwMNgCSgy1NPcfmdd9i4cSM6nY7bt2+Tm5trWdElICDAnlUTokxDhw7l0KFDZZ7rdPs2Kx5Yxq8AcALW+/qSOmqU1S2JHTt2cODAgT+4tJWXtDzFY02n07F792527NhBeno6rq6uuLq6UrduXRISEjh58iTjOneG69ct+2UCjHJw4B2TiYYXLzJmzBjCwsLsWAshfr20tDSWLVtGly5drI7v37+fRUOGQHY2GAzcAsKBb7Vadmo0+N27Z9VKffnll8uz2JWOhKd47JU1/H/Lli14eXmRmZlJg1WrYPt2y36ZP6vVPGs289m0afx92zarqSxCVHQPDvp5mNrfvyg8c3LYYTDQUa0GNzdo2pTvv//e6rm3b9/mqaeeokePHn90kSslCU/x2Dtz5gyxsbG0bNmSpUuXsnr1apycnDCbzaSlpRHy2mtk1a5NTGgoSmwsdQICuLRyJfsvX+bmzZu0bNnS3lUQ4ldTFIX/+7//w8XFxep4Xl5e0Xv51CmYP591a9ey7IUXYO5cNhYv9/eg1157jfr165dXsSsdCU/x2MvMzMTFxYWXX34ZHx8fqyXNHqaPiIAmTbjj6sq7774r+ySKSsdgMLBu3boyu23nzZsHPj7kfPQR7teuEbB+fanXv//++8TFxaHT6WjWrFk5lbrykQFDQgghLK5du4ZOp8PLy8veRanQJDyFEEIIG8mWZEIIIYSNJDyFEEIIG0l4CiGEEDaS8BRCCCFsJOEphBBC2EjCUwjx2CkoKMBkMtm7GOIxJuEphKiQ4uPjmTlz5iPP379/v8ylFwH69etHbGzsH1U0ISQ8hRAVk7+/P1FRUej1+jLPOzo64ubmZnlcvXp1q3MPbnguxO9NlucTQlQYLVu2xNXV1fLY3d2drl27AmA2m7l37x779++nVq1aqNVqyybPANWqVSv38oqqS8JTiMfM7Nmz8fLyYtiwYf/1uRs3bqRWrVp069atHEr23127do07d+6UffL6dZg/H3r3ZrLJRPCoUQAsWrSIQYMGoVKpWLx4Mf379y/HEouqSsJTiErunXfe4cqVKzg4FP06nz9/HicnJ2JiYoCiXTaMRiPbt28v9VoPDw82bNhQYcLzwc2YrVy/Ds88Y9k27ohKxQsTJ4K7OxcvXiQ+Ph6A1NRUoqOjy7HEoqqS8BSikps5cyZOTk6WfRznzp1LvXr1CA8PB4rCs+S+4WuvvcaxY8fw8PCwukZQUBAA+fn5uLu7c/jw4fKrwANKPgCUMn++JTgBLigKTfPzUatUBAYGkpCQAECnTp1kJxxRLiQ8hajkdu3axdKlSy2Pb9y4gU6nY+XKlZZjA3v1YnR6Opo9e/g4OJi+y5ZBGXs4JiYmMnbs2HIp98OMRiPOzs5ln4yP/09wAo5AntGIh9FISEgIBw8eBCAkJITt27eTmZlZPoUWVZaMthWikrt9+zZ9+vTh4MGDDBgwgOTkZC5cuMArr7zCd999x7CwMDIiImD5cv525w4he/YUdYFev17qWr6+vsydO9cOtSiqx6OmntCuHRS3rP2Ak8AZjQY/b2+aN2/OqOL7n56enlYfGoT4o0jLU4hKzsXFhZycHFQqFUlJSSQmJpKSksKBAweKWpHR0TgXFoLZzDTgutGIY1ZWUSD5+pKXl4eLiwtQ1MULcOjQoXKvR1JSEv7+/mWfnDQJ1q+HnBxUBgM1tFo2qFT86c03y7eQQhST8BSikiuZrvHee+9x8uRJ3n77bc6dO0edOnUYPHgw3a5cAbMZgK0lL1IU8PEha9cuAgMDOXHihH0K/4AVK1bQo0ePsk/6+GBISED7ySdw9CgX/PzYuWsXn40eDRTdq83Ly2PlypW0atXK8iHg+vXr+DzQPT1p0iSCgoLo2LEjgwcPZt++fX94vcTjSbpthXhMTJgwgR9//JEhQ4YwYcIEfvrpJ/7xj3+gPPkkqB/6VddqoW1b+xS0DDk5OaSnpzNw4EAATp8+ze7du62e8/rUqewNDSV33z66/vADLm5uBAcH07BhQxo3bky1atU4ffo0//73vykoKECv1zNq1CjGjRuH2WzGYDDg6OiIVqtFp9Oh1WpRFAVD8b1UIWyhUko+ogkhKqXVq1eTkZHBtm3b0Gq1/PzzzxQWFtKgQQNMJhO9O3ZE+/nnTDEaiwbdaLXg5ganTpFVrRqBgYEkJyfbuxpWjhw5Qp8+fViyZAlbtmzh7t27xMfH065dO8xmM4WFhbRt25bPPvuMuXPn8vPPPxMVFcWFCxfo1q0bt27dwtnZGaPRyIULFxg+fDjnzp3jypUrODs74+rqSnJyMq1ataJNmzZERETYu8qikpFuWyEqufz8fADLXMeSMJ0yZQoAa9asIX3cOMjNhaNHi1qckyZRULs26cnJj55baUft27fn22+/xWQykZycTExMDAaDgS1btrBp0yZMJhMbN25k69at3Lp1CxcXFxRFoW/fvrg5OKDNzWWZTkeN4GCWdu9OdR8fli5dyl//+ldCQkIIDAxk1KhRlrmwQthKwlOISq4kPEt4eHhYdhTZsmULs2fP5sMPP4QBA6yed+T77xk0aBCvvvpquZX11zCZTERERDB+/Hjc3d3RaDRcunSJ+Ph4oqKiaNu2LcHBwXw4cya1cnJootPhUr06OfXqERwQwLQ1a3DIzeXkzZv8+fRp2mi13Hj6aTZu3Mj169eJiYnB1dWV8+fPExISwr179zh58iQajcbeVReViHTbCvEYu3fvHrm5uXh5edm7KL+a0Whk+vTpbN68mbNnz9KhQwfCw8OJiooiMTERd3d3su7epWZuLmfVavoZjTipVKx3d+ft2rX57uJFwoC/ABrgfZWK1h070u2LLxg6dCgHDx5Ep9PRtWtXli1bhp+fn51rLCojCU8hRIV05coVfH19CQoK4tChQ/Tt25eMjAw0Gg2+WVnsvHSJtsB1wAw0Uqm4qlLxgtlMHrAUcAbeA7Lr1GG7ToejoyP16tUDID09HWdnZ8aOHUu/fv2oXbu2vaoqKiEZbSuEqJA2bdpkWVYwMjKScePGUa1aNaZPn476zh1qAVOA54DOwBRFoaNWS2uNhlUUBedF4CvgnE7HqFGjeP3114mLiyMuLg4PDw+ioqI4duwYRqPRTrUUlZWEpxCiwrl//z7/+Mc/gKKdXyZOnEjt2rUxGo28+OKLhLVtSweKWpwWGg14e6NydLSsRrROraaJRkOfN9+kcePGrFq1ipCQEEJCQlAUBS8vL1asWFGpurVFxSDdtkKICmf9+vUkJiZSs2ZNYmNj0Wg0JCUlkZGRwZ/+9CfSUlK4cPYsTYF7FHfbOjhwtW5dPhg/njevXePO4cM0TkrijUGDeKJFC+rVq0dSUhKzZ8+2/D9r1qzBz8+Pjh072quqopKS8BRCVDjPPvss8+bNIzg4GIAdO3YwZ84c+vfvz+nTpwkMDOROcjIRisL87dsp9PZm2pYtTFu+nAYNGjBq1CjOnj3L3/72N7RaLd26dSMoKIjQ0FAaNWoEFC1FePPmTWJjY2ncuLE9qysqIZmqIoSoUNLT07l79y5t27Zlzpw5REVFERwczJ49e3B3d+e7775j/PjxNGzYkJ/XrsXZ3x8XlQp8fKwWOwgICMDHx4dLly7Ru3dvGjRowPUyFsMX4reQlqcQosIxm82o1WoSEhKoX79+qXuSRqORkydP0qZNGzuVUFR1Ep5CCCGEjWS0rRBCCGEjCU8hhBDCRhKeQgghhI0kTf4uRgAAA15JREFUPIUQQggbSXgKIYQQNpLwFEIIIWwk4SmEEELYSMJTCCGEsJGEpxCilK+//pqLFy8CoNfr6dSpE2lpaXYulRAVh6xtK4QoxdnZma5du7JhwwYuXrzI6dOnmTp1quW8oijodDpWrFhhx1IKYT+yPJ8QokxJSUnUrFmTzp07s27dOurVq2c5ZzabMZlM+Pn5AeDg4MDTTz9d5nUuXbrE3r17LTukCPE4kJanEMJKWloaMTExhIeHM3bsWFxdXRkzZkyp523atMnytZOTE4mJiWVer0uXLmiLN6cW4nEh4SmEsJKXl8fatWv55ptvWLFiBatWraJGjRq0a9eO8+fP88orr9AxKAiPjz6Cf/8b2rXDQaP5xWtq/st5ISobCU8hhJXGjRuzf/9+UlNT8fDwIDc3lyZNmlC/fn0OHDgA169z5+RJqp06hWI0okpMBKMRrl8HHx97F1+IciHhKYQoRa/Xo9FoGDZsGNHR0dStWxdnZ2cA1s6ezWWzmSCzme3AkwZD0Yvmz4clS+xXaCHKkYSnEKKUQ4cO8emnn7J9+3bCwsJYtGgR8fHx5OXlMfjzz/G/dYt/P/yio0ftUVQh7ELmeQohSomNjaVfv34ApKSk4OXlRatWrXBycuJWixbUUqkwPPyitm3LvZxC2Iu0PIUQVhRFYfPmzcTFxVket2vXDgeHoj8Xs7Kz+RkIV6lYryig1ZJnMBC4bx8EBpa63qVLlzCZTOVZBSH+cBKeQggrR48exdPTk7p16wJw/Phxy7n4+HgiIiIY1Lcv0woK4OhRClu3pmF0NIlJSWVeb+LEiZb7pUI8LmSRBCFEKXq9HkdHx1LHMzIyiI+Pp1evXjJ3U1RpEp5CCCGEjWTAkBBCCGEjCU8hhBDCRhKeQgghhI0kPIUQQggbSXgKIYQQNpLwFEIIIWwk4SmEEELYSMJTCCGEsJGEpxBCCGEjCU8hhBDCRhKeQgghhI0kPIUQQggbSXgKIYQQNpLwFEIIIWwk4SmEEELYSMJTCCGEsJGEpxBCCGEjCU8hhBDCRhKeQgghhI0kPIUQQggbSXgKIYQQNpLwFEIIIWwk4SmEEELYSMJTCCGEsJGEpxBCCGEjCU8hhBDCRhKeQgghhI0kPIUQQggbSXgKIYQQNvr/t0PkEc9HEk8AAAAASUVORK5CYII\u003d\n",
            "text/plain": [
              "\u003cFigure size 432x288 with 1 Axes\u003e"
            ]
          },
          "metadata": {},
          "output_type": "display_data"
        }
      ],
      "source": [
        "nx.draw(city_graph, city_location, with_labels\u003dTrue, node_size\u003d30)"
      ]
    },
    {
      "cell_type": "code",
      "execution_count": 29,
      "metadata": {
        "pycharm": {}
      },
      "outputs": [],
      "source": [
        "threshold \u003d 500"
      ]
    },
    {
      "cell_type": "code",
      "execution_count": 30,
      "metadata": {
        "pycharm": {}
      },
      "outputs": [],
      "source": [
        "from collections import defaultdict\n",
        "city_connection \u003d defaultdict(list)"
      ]
    },
    {
      "cell_type": "code",
      "execution_count": 31,
      "metadata": {
        "pycharm": {}
      },
      "outputs": [],
      "source": [
        "for i in city_location:\n",
        "    for j in city_location:\n",
        "        if i \u003d\u003d j: continue\n",
        "            \n",
        "        distance \u003d get_geo_distance(i,j)\n",
        "        if distance \u003c threshold:\n",
        "            city_connection[i].append(j)"
      ]
    },
    {
      "cell_type": "code",
      "execution_count": 32,
      "metadata": {
        "pycharm": {}
      },
      "outputs": [
        {
          "data": {
            "text/plain": [
              "defaultdict(list,\n",
              "            {\u0027兰州\u0027: [\u0027西宁\u0027, \u0027银川\u0027],\n",
              "             \u0027嘉峪关\u0027: [\u0027西宁\u0027],\n",
              "             \u0027西宁\u0027: [\u0027兰州\u0027, \u0027嘉峪关\u0027, \u0027银川\u0027],\n",
              "             \u0027成都\u0027: [\u0027重庆\u0027],\n",
              "             \u0027石家庄\u0027: [\u0027郑州\u0027, \u0027济南\u0027, \u0027太原\u0027, \u0027北京\u0027, \u0027天津\u0027, \u0027呼和浩特\u0027],\n",
              "             \u0027拉萨\u0027: [\u0027贵阳\u0027],\n",
              "             \u0027贵阳\u0027: [\u0027拉萨\u0027, \u0027重庆\u0027, \u0027南宁\u0027],\n",
              "             \u0027武汉\u0027: [\u0027郑州\u0027, \u0027南京\u0027, \u0027合肥\u0027, \u0027南昌\u0027, \u0027长沙\u0027],\n",
              "             \u0027郑州\u0027: [\u0027石家庄\u0027, \u0027武汉\u0027, \u0027济南\u0027, \u0027合肥\u0027, \u0027太原\u0027, \u0027西安\u0027],\n",
              "             \u0027济南\u0027: [\u0027石家庄\u0027, \u0027郑州\u0027, \u0027太原\u0027, \u0027北京\u0027, \u0027天津\u0027],\n",
              "             \u0027南京\u0027: [\u0027武汉\u0027, \u0027合肥\u0027, \u0027杭州\u0027, \u0027南昌\u0027, \u0027上海\u0027],\n",
              "             \u0027合肥\u0027: [\u0027武汉\u0027, \u0027郑州\u0027, \u0027南京\u0027, \u0027杭州\u0027, \u0027南昌\u0027, \u0027上海\u0027],\n",
              "             \u0027杭州\u0027: [\u0027南京\u0027, \u0027合肥\u0027, \u0027南昌\u0027, \u0027福州\u0027, \u0027上海\u0027],\n",
              "             \u0027南昌\u0027: [\u0027武汉\u0027, \u0027南京\u0027, \u0027合肥\u0027, \u0027杭州\u0027, \u0027福州\u0027, \u0027长沙\u0027],\n",
              "             \u0027福州\u0027: [\u0027杭州\u0027, \u0027南昌\u0027, \u0027台湾\u0027],\n",
              "             \u0027广州\u0027: [\u0027海口\u0027, \u0027香港\u0027, \u0027澳门\u0027],\n",
              "             \u0027长沙\u0027: [\u0027武汉\u0027, \u0027南昌\u0027],\n",
              "             \u0027海口\u0027: [\u0027广州\u0027, \u0027南宁\u0027, \u0027香港\u0027, \u0027澳门\u0027],\n",
              "             \u0027沈阳\u0027: [\u0027长春\u0027],\n",
              "             \u0027长春\u0027: [\u0027沈阳\u0027, \u0027哈尔滨\u0027],\n",
              "             \u0027哈尔滨\u0027: [\u0027长春\u0027],\n",
              "             \u0027太原\u0027: [\u0027石家庄\u0027, \u0027郑州\u0027, \u0027济南\u0027, \u0027北京\u0027, \u0027天津\u0027, \u0027呼和浩特\u0027],\n",
              "             \u0027西安\u0027: [\u0027郑州\u0027],\n",
              "             \u0027台湾\u0027: [\u0027福州\u0027],\n",
              "             \u0027北京\u0027: [\u0027石家庄\u0027, \u0027济南\u0027, \u0027太原\u0027, \u0027天津\u0027, \u0027呼和浩特\u0027],\n",
              "             \u0027上海\u0027: [\u0027南京\u0027, \u0027合肥\u0027, \u0027杭州\u0027],\n",
              "             \u0027重庆\u0027: [\u0027成都\u0027, \u0027贵阳\u0027],\n",
              "             \u0027天津\u0027: [\u0027石家庄\u0027, \u0027济南\u0027, \u0027太原\u0027, \u0027北京\u0027],\n",
              "             \u0027呼和浩特\u0027: [\u0027石家庄\u0027, \u0027太原\u0027, \u0027北京\u0027],\n",
              "             \u0027南宁\u0027: [\u0027贵阳\u0027, \u0027海口\u0027],\n",
              "             \u0027银川\u0027: [\u0027兰州\u0027, \u0027西宁\u0027],\n",
              "             \u0027香港\u0027: [\u0027广州\u0027, \u0027海口\u0027, \u0027澳门\u0027],\n",
              "             \u0027澳门\u0027: [\u0027广州\u0027, \u0027海口\u0027, \u0027香港\u0027]})"
            ]
          },
          "execution_count": 32,
          "metadata": {},
          "output_type": "execute_result"
        }
      ],
      "source": [
        "city_connection"
      ]
    },
    {
      "cell_type": "code",
      "execution_count": 33,
      "metadata": {
        "pycharm": {}
      },
      "outputs": [
        {
          "data": {
            "text/plain": [
              "433.19457656727053"
            ]
          },
          "execution_count": 33,
          "metadata": {},
          "output_type": "execute_result"
        }
      ],
      "source": [
        "city_with_road \u003dnx.Graph(city_connection)\n",
        "get_geo_distance(\u0027拉萨\u0027,\u0027贵阳\u0027)"
      ]
    },
    {
      "cell_type": "code",
      "execution_count": 34,
      "metadata": {
        "pycharm": {}
      },
      "outputs": [
        {
          "name": "stderr",
          "output_type": "stream",
          "text": [
            "/anaconda3/lib/python3.7/site-packages/networkx/drawing/nx_pylab.py:611: MatplotlibDeprecationWarning: isinstance(..., numbers.Number)\n",
            "  if cb.is_numlike(alpha):\n"
          ]
        },
        {
          "data": {
            "image/png": "[encoded data removed]",
            "text/plain": [
              "\u003cFigure size 432x288 with 1 Axes\u003e"
            ]
          },
          "metadata": {},
          "output_type": "display_data"
        }
      ],
      "source": [
        "nx.draw(city_with_road,city_location,with_labels\u003d\u0027True\u0027,node_size\u003d10)"
      ]
    },
    {
      "cell_type": "code",
      "execution_count": 35,
      "metadata": {
        "pycharm": {}
      },
      "outputs": [],
      "source": [
        "simple_connection_info_src \u003d {\n",
        "    \u0027北京\u0027: [\u0027太原\u0027, \u0027沈阳\u0027],\n",
        "    \u0027太原\u0027: [\u0027北京\u0027, \u0027西安\u0027, \u0027郑州\u0027],\n",
        "    \u0027兰州\u0027: [\u0027西安\u0027],\n",
        "    \u0027郑州\u0027: [\u0027太原\u0027],\n",
        "    \u0027西安\u0027: [\u0027兰州\u0027, \u0027长沙\u0027],\n",
        "    \u0027长沙\u0027: [\u0027福州\u0027, \u0027南宁\u0027],\n",
        "    \u0027沈阳\u0027: [\u0027北京\u0027]\n",
        "}"
      ]
    },
    {
      "cell_type": "code",
      "execution_count": 36,
      "metadata": {
        "pycharm": {}
      },
      "outputs": [
        {
          "data": {
            "image/png": "[encoded data removed]",
            "text/plain": [
              "\u003cFigure size 432x288 with 1 Axes\u003e"
            ]
          },
          "metadata": {},
          "output_type": "display_data"
        }
      ],
      "source": [
        "nx.draw(nx.Graph(simple_connection_info_src),city_location,with_labels\u003d\u0027True\u0027,node_size\u003d10)"
      ]
    },
    {
      "cell_type": "code",
      "execution_count": 51,
      "metadata": {
        "pycharm": {}
      },
      "outputs": [
        {
          "name": "stdout",
          "output_type": "stream",
          "text": [
            "[2, 1]\n",
            "[1, 2]\n"
          ]
        }
      ],
      "source": [
        "a \u003d[1]\n",
        "b\u003d [2]\n",
        "print(b+a)\n",
        "print(a+b)"
      ]
    },
    {
      "cell_type": "markdown",
      "metadata": {
        "pycharm": {}
      },
      "source": [
        "###  DFC BFS算法"
      ]
    },
    {
      "cell_type": "code",
      "execution_count": 52,
      "metadata": {
        "pycharm": {}
      },
      "outputs": [
        {
          "name": "stdout",
          "output_type": "stream",
          "text": [
            "2\n",
            "1\n"
          ]
        }
      ],
      "source": [
        "a\u003d [1,2]\n",
        "while a:\n",
        "    print(a.pop())"
      ]
    },
    {
      "cell_type": "code",
      "execution_count": 53,
      "metadata": {
        "pycharm": {}
      },
      "outputs": [],
      "source": [
        "def bfs(graph, start):\n",
        "    visited \u003d [start]\n",
        "    seen \u003dset()\n",
        "    \n",
        "    while visited:\n",
        "        frontpointer \u003d visited.pop()\n",
        "        \n",
        "        if frontpointer in seen: continue\n",
        "            \n",
        "        for successor in graph[frontpointer]:\n",
        "            if successor in seen: continue\n",
        "            \n",
        "#            visited \u003d [successor] + visited  #depth first\n",
        "            visited \u003d visited + [successor]   #breadth first\n",
        "        seen.add(frontpointer)\n",
        "    return seen\n",
        "        "
      ]
    },
    {
      "cell_type": "code",
      "execution_count": 65,
      "metadata": {
        "pycharm": {}
      },
      "outputs": [],
      "source": [
        "\n",
        "number_grpah \u003d defaultdict(list)\n",
        "\n",
        "number_grpah.update({\n",
        "    1: [2, 3],\n",
        "    2: [1, 4], \n",
        "    3: [1, 5],\n",
        "    4: [2, 6], \n",
        "    5: [3, 7],\n",
        "    7: [5, 8]\n",
        "})"
      ]
    },
    {
      "cell_type": "code",
      "execution_count": 66,
      "metadata": {
        "pycharm": {}
      },
      "outputs": [
        {
          "data": {
            "text/plain": [
              "{1, 2, 3, 4, 5, 6, 7, 8}"
            ]
          },
          "execution_count": 66,
          "metadata": {},
          "output_type": "execute_result"
        }
      ],
      "source": [
        "bfs(number_grpah,1)"
      ]
    },
    {
      "cell_type": "code",
      "execution_count": 67,
      "metadata": {
        "pycharm": {}
      },
      "outputs": [],
      "source": [
        "\n",
        "def search(start, destination, connection_grpah, sort_candidate):\n",
        "    pathes \u003d [[start]]\n",
        "    \n",
        "    visitied \u003d set()\n",
        "    \n",
        "    while pathes: # if we find existing pathes\n",
        "        path \u003d pathes.pop(0)\n",
        "        froninter \u003d path[-1]\n",
        "        \n",
        "        if froninter in visitied: continue\n",
        "            \n",
        "        successors \u003d connection_grpah[froninter]\n",
        "        \n",
        "        for city in successors:\n",
        "            if city in path: continue  # eliminate loop\n",
        "                \n",
        "            new_path \u003d path + [city]\n",
        "            \n",
        "            pathes.append(new_path)\n",
        "            \n",
        "            if city \u003d\u003d destination: return new_path\n",
        "        \n",
        "        visitied.add(froninter)\n",
        "    pathes \u003d sort_candidate(pathes) # 我们可以加一个排序函数 对我们的搜索策略进行控制"
      ]
    },
    {
      "cell_type": "code",
      "execution_count": 71,
      "metadata": {
        "pycharm": {}
      },
      "outputs": [
        {
          "data": {
            "text/plain": [
              "[1, 2, 4, 6]"
            ]
          },
          "execution_count": 71,
          "metadata": {},
          "output_type": "execute_result"
        }
      ],
      "source": [
        "search(1,6,number_grpah,bfs)"
      ]
    },
    {
      "cell_type": "code",
      "execution_count": 79,
      "metadata": {
        "pycharm": {}
      },
      "outputs": [],
      "source": [
        "def printroute():\n",
        "    print(\u0027-\u003e\u0027.join(map(str,search(1,6,number_grpah,bfs))))"
      ]
    },
    {
      "cell_type": "code",
      "execution_count": 80,
      "metadata": {
        "pycharm": {}
      },
      "outputs": [
        {
          "name": "stdout",
          "output_type": "stream",
          "text": [
            "1-\u003e2-\u003e4-\u003e6\n"
          ]
        }
      ],
      "source": [
        "printroute()"
      ]
    },
    {
      "cell_type": "code",
      "execution_count": null,
      "metadata": {
        "pycharm": {}
      },
      "outputs": [],
      "source": []
    },
    {
      "cell_type": "code",
      "execution_count": 84,
      "metadata": {
        "pycharm": {}
      },
      "outputs": [],
      "source": [
        "def transfer_stations_first(pathes): \n",
        "    return sorted(pathes, key\u003dlen)"
      ]
    },
    {
      "cell_type": "code",
      "execution_count": 85,
      "metadata": {
        "pycharm": {
          "name": "#%%\n"
        }
      },
      "outputs": [],
      "source": [
        "def transfer_as_much_possible(pathes):\n",
        "    return sorted(pathes, key\u003dlen, reverse\u003dTrue)"
      ]
    },
    {
      "cell_type": "code",
      "execution_count": 86,
      "metadata": {
        "pycharm": {}
      },
      "outputs": [],
      "source": [
        "def shortest_path_first(pathes):\n",
        "    \n",
        "    if len(pathes) \u003c\u003d 1: return pathes\n",
        "    \n",
        "    def get_path_distnace(path):\n",
        "        distance \u003d 0\n",
        "        for station in path[:-1]:\n",
        "            distance +\u003d get_geo_distance(station, path[-1])\n",
        "            \n",
        "        return distance\n",
        "\n",
        "    return sorted(pathes, key\u003dget_path_distnace)"
      ]
    },
    {
      "cell_type": "code",
      "execution_count": 87,
      "metadata": {
        "pycharm": {}
      },
      "outputs": [
        {
          "data": {
            "text/plain": [
              "[\u0027兰州\u0027, \u0027西安\u0027, \u0027长沙\u0027, \u0027福州\u0027]"
            ]
          },
          "execution_count": 87,
          "metadata": {},
          "output_type": "execute_result"
        }
      ],
      "source": [
        "search(\u0027兰州\u0027, \u0027福州\u0027, nx.Graph(simple_connection_info_src), sort_candidate\u003dtransfer_stations_first)"
      ]
    },
    {
      "cell_type": "code",
      "execution_count": 88,
      "metadata": {
        "pycharm": {}
      },
      "outputs": [],
      "source": [
        "def print_route(citys):\n",
        "    print(\u0027🚗\u0027.join(citys))"
      ]
    },
    {
      "cell_type": "code",
      "execution_count": 89,
      "metadata": {
        "pycharm": {}
      },
      "outputs": [
        {
          "name": "stdout",
          "output_type": "stream",
          "text": [
            "兰州🚗西安🚗长沙🚗福州\n"
          ]
        }
      ],
      "source": [
        "print_route(search(\u0027兰州\u0027, \u0027福州\u0027, nx.Graph(simple_connection_info_src), sort_candidate\u003dtransfer_stations_first))"
      ]
    },
    {
      "cell_type": "code",
      "execution_count": 90,
      "metadata": {
        "pycharm": {}
      },
      "outputs": [],
      "source": [
        "test_join \u003d [1,2,3]"
      ]
    },
    {
      "cell_type": "code",
      "execution_count": 96,
      "metadata": {
        "pycharm": {}
      },
      "outputs": [
        {
          "data": {
            "text/plain": [
              "\u00271-\u003e2-\u003e3\u0027"
            ]
          },
          "execution_count": 96,
          "metadata": {},
          "output_type": "execute_result"
        }
      ],
      "source": [
        "\u0027-\u003e\u0027.join(map(str,test_join))  ##join只能连字符串数组"
      ]
    },
    {
      "cell_type": "code",
      "execution_count": 97,
      "metadata": {
        "pycharm": {}
      },
      "outputs": [],
      "source": [
        "test_append \u003d [1,2]"
      ]
    },
    {
      "cell_type": "code",
      "execution_count": 98,
      "metadata": {
        "pycharm": {}
      },
      "outputs": [],
      "source": [
        "test_append.append(3)"
      ]
    },
    {
      "cell_type": "code",
      "execution_count": 99,
      "metadata": {
        "pycharm": {}
      },
      "outputs": [
        {
          "data": {
            "text/plain": [
              "[1, 2, 3]"
            ]
          },
          "execution_count": 99,
          "metadata": {},
          "output_type": "execute_result"
        }
      ],
      "source": [
        "test_append"
      ]
    },
    {
      "cell_type": "code",
      "execution_count": null,
      "metadata": {
        "pycharm": {}
      },
      "outputs": [],
      "source": []
    }
  ],
  "metadata": {
    "kernelspec": {
      "display_name": "Python 3",
      "language": "python",
      "name": "python3"
    },
    "language_info": {
      "codemirror_mode": {
        "name": "ipython",
        "version": 3
      },
      "file_extension": ".py",
      "mimetype": "text/x-python",
      "name": "python",
      "nbconvert_exporter": "python",
      "pygments_lexer": "ipython3",
      "version": "3.7.3"
    }
  },
  "nbformat": 4,
  "nbformat_minor": 2
}