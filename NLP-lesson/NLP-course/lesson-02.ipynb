{
 "cells": [
  {
   "cell_type": "code",
   "execution_count": 2,
   "metadata": {},
   "outputs": [
    {
     "name": "stdout",
     "output_type": "stream",
     "text": [
      "lesson-01.ipynb lesson-02.ipynb\r\n"
     ]
    }
   ],
   "source": [
    "!ls"
   ]
  },
  {
   "cell_type": "code",
   "execution_count": 3,
   "metadata": {},
   "outputs": [],
   "source": [
    "import matplotlib"
   ]
  },
  {
   "cell_type": "code",
   "execution_count": 4,
   "metadata": {},
   "outputs": [
    {
     "name": "stdout",
     "output_type": "stream",
     "text": [
      "['/anaconda3/lib/python3.7/site-packages/matplotlib']\n"
     ]
    }
   ],
   "source": [
    "print(matplotlib.__path__)"
   ]
  },
  {
   "cell_type": "code",
   "execution_count": 63,
   "metadata": {},
   "outputs": [],
   "source": [
    "number = [1,-2,4,86,3,89,-45,8,3,-4,-46]"
   ]
  },
  {
   "cell_type": "code",
   "execution_count": 64,
   "metadata": {},
   "outputs": [
    {
     "data": {
      "text/plain": [
       "[-46, -45, -4, -2, 1, 3, 3, 4, 8, 86, 89]"
      ]
     },
     "execution_count": 64,
     "metadata": {},
     "output_type": "execute_result"
    }
   ],
   "source": [
    "sorted(number)"
   ]
  },
  {
   "cell_type": "code",
   "execution_count": 7,
   "metadata": {},
   "outputs": [
    {
     "data": {
      "text/plain": [
       "[89, 86, 8, 4, 3, 3, 1, -2, -4, -45, -46]"
      ]
     },
     "execution_count": 7,
     "metadata": {},
     "output_type": "execute_result"
    }
   ],
   "source": [
    "sorted(number,reverse=True)"
   ]
  },
  {
   "cell_type": "code",
   "execution_count": 8,
   "metadata": {},
   "outputs": [
    {
     "data": {
      "text/plain": [
       "[89, 86, 8, 4, 3, 3, 1, -2, -4, -45, -46]"
      ]
     },
     "execution_count": 8,
     "metadata": {},
     "output_type": "execute_result"
    }
   ],
   "source": [
    "sorted(number,key=lambda x: -x)"
   ]
  },
  {
   "cell_type": "code",
   "execution_count": 44,
   "metadata": {},
   "outputs": [],
   "source": [
    "import requests\n",
    "import re\n",
    "import pandas as pd\n",
    "import html5lib\n",
    "import urllib3\n",
    "urllib3.disable_warnings()"
   ]
  },
  {
   "cell_type": "code",
   "execution_count": 39,
   "metadata": {},
   "outputs": [],
   "source": [
    "headers = {'User-Agent': 'Mozilla/5.0 (Macintosh; Intel Mac OS X 10_14_1) AppleWebKit/537.36 (KHTML, like Gecko) Chrome/75.0.3770.100 Safari/537.36'}\n"
   ]
  },
  {
   "cell_type": "code",
   "execution_count": 40,
   "metadata": {},
   "outputs": [],
   "source": [
    "url = 'https://baike.baidu.com/item/%E5%8C%97%E4%BA%AC%E5%9C%B0%E9%93%81/408485?fr=aladdin'"
   ]
  },
  {
   "cell_type": "code",
   "execution_count": 19,
   "metadata": {},
   "outputs": [],
   "source": [
    "html =requests.get(url, headers=headers,verify=False).content.decode(encoding='utf-8')\n",
    "pattern_url = r'<div class=\"para\" label-module=\"para\">\\s*<a target=_blank href=\"(.+?)\">'\n",
    "pattern_name = r'<div class=\"para\" label-module=\"para\">\\s*<a target=_blank href=\".+\">(.+?)</a></div>\\s*</td><td\\s+align=\"center\"\\s+valign=\"center\"><div class=\"para\" label-module=\"para\">(.+?)</div>'\n",
    "\n"
   ]
  },
  {
   "cell_type": "code",
   "execution_count": 48,
   "metadata": {},
   "outputs": [],
   "source": [
    "pattern_table = pd.read_html(url)[0]"
   ]
  },
  {
   "cell_type": "code",
   "execution_count": 53,
   "metadata": {},
   "outputs": [
    {
     "data": {
      "text/html": [
       "<div>\n",
       "<style scoped>\n",
       "    .dataframe tbody tr th:only-of-type {\n",
       "        vertical-align: middle;\n",
       "    }\n",
       "\n",
       "    .dataframe tbody tr th {\n",
       "        vertical-align: top;\n",
       "    }\n",
       "\n",
       "    .dataframe thead th {\n",
       "        text-align: right;\n",
       "    }\n",
       "</style>\n",
       "<table border=\"1\" class=\"dataframe\">\n",
       "  <thead>\n",
       "    <tr style=\"text-align: right;\">\n",
       "      <th></th>\n",
       "      <th>开通日期</th>\n",
       "      <th>开通路线</th>\n",
       "      <th>开通路段</th>\n",
       "      <th>开通区间</th>\n",
       "    </tr>\n",
       "  </thead>\n",
       "  <tbody>\n",
       "    <tr>\n",
       "      <th>0</th>\n",
       "      <td>1969年10月1日</td>\n",
       "      <td>北京地铁一期路线（不开放）</td>\n",
       "      <td>地下铁一期</td>\n",
       "      <td>古城路-北京站</td>\n",
       "    </tr>\n",
       "    <tr>\n",
       "      <th>1</th>\n",
       "      <td>1971年1月15日</td>\n",
       "      <td>北京地铁一期路线</td>\n",
       "      <td>地下铁一期</td>\n",
       "      <td>公主坟-北京站</td>\n",
       "    </tr>\n",
       "    <tr>\n",
       "      <th>2</th>\n",
       "      <td>1971年8月5日</td>\n",
       "      <td>北京地铁一期路线</td>\n",
       "      <td>地下铁一期</td>\n",
       "      <td>玉泉路-公主坟</td>\n",
       "    </tr>\n",
       "    <tr>\n",
       "      <th>3</th>\n",
       "      <td>1971年11月7日</td>\n",
       "      <td>北京地铁一期路线</td>\n",
       "      <td>地下铁一期</td>\n",
       "      <td>古城-玉泉路</td>\n",
       "    </tr>\n",
       "    <tr>\n",
       "      <th>4</th>\n",
       "      <td>1973年4月23日</td>\n",
       "      <td>北京地铁一期路线</td>\n",
       "      <td>地下铁一期</td>\n",
       "      <td>苹果园-古城</td>\n",
       "    </tr>\n",
       "    <tr>\n",
       "      <th>5</th>\n",
       "      <td>1984年9月20日</td>\n",
       "      <td>北京地铁二期路线</td>\n",
       "      <td>地下铁二期</td>\n",
       "      <td>复兴门-北京站（北半环）</td>\n",
       "    </tr>\n",
       "    <tr>\n",
       "      <th>6</th>\n",
       "      <td>1987年12月28日</td>\n",
       "      <td>复兴门折返线</td>\n",
       "      <td>1号线西段</td>\n",
       "      <td>南礼士路-复兴门</td>\n",
       "    </tr>\n",
       "    <tr>\n",
       "      <th>7</th>\n",
       "      <td>1987年12月28日</td>\n",
       "      <td>北京地铁环线</td>\n",
       "      <td>环形贯通</td>\n",
       "      <td>复兴门-长椿街</td>\n",
       "    </tr>\n",
       "    <tr>\n",
       "      <th>8</th>\n",
       "      <td>1992年12月12日</td>\n",
       "      <td>北京地铁1号线</td>\n",
       "      <td>1号线西段</td>\n",
       "      <td>复兴门-西单</td>\n",
       "    </tr>\n",
       "    <tr>\n",
       "      <th>9</th>\n",
       "      <td>1999年9月28日</td>\n",
       "      <td>北京地铁复八线</td>\n",
       "      <td>复八线东段</td>\n",
       "      <td>天安门西-四惠东</td>\n",
       "    </tr>\n",
       "    <tr>\n",
       "      <th>10</th>\n",
       "      <td>2000年6月28日</td>\n",
       "      <td>北京地铁1号线</td>\n",
       "      <td>1号线贯通</td>\n",
       "      <td>西单-天安门西</td>\n",
       "    </tr>\n",
       "    <tr>\n",
       "      <th>11</th>\n",
       "      <td>2002年9月28日</td>\n",
       "      <td>北京地铁13号线</td>\n",
       "      <td>西半部</td>\n",
       "      <td>西直门-霍营</td>\n",
       "    </tr>\n",
       "    <tr>\n",
       "      <th>12</th>\n",
       "      <td>2003年1月28日</td>\n",
       "      <td>北京地铁13号线</td>\n",
       "      <td>东半部</td>\n",
       "      <td>霍营-东直门</td>\n",
       "    </tr>\n",
       "    <tr>\n",
       "      <th>13</th>\n",
       "      <td>2003年12月27日</td>\n",
       "      <td>北京地铁八通线</td>\n",
       "      <td>全线</td>\n",
       "      <td>四惠-土桥</td>\n",
       "    </tr>\n",
       "    <tr>\n",
       "      <th>14</th>\n",
       "      <td>2007年10月7日</td>\n",
       "      <td>北京地铁5号线</td>\n",
       "      <td>全线</td>\n",
       "      <td>天通苑北-宋家庄</td>\n",
       "    </tr>\n",
       "    <tr>\n",
       "      <th>15</th>\n",
       "      <td>2008年7月19日</td>\n",
       "      <td>北京地铁8号线</td>\n",
       "      <td>一期</td>\n",
       "      <td>森林公园南门-北土城</td>\n",
       "    </tr>\n",
       "    <tr>\n",
       "      <th>16</th>\n",
       "      <td>2008年7月19日</td>\n",
       "      <td>北京地铁10号线</td>\n",
       "      <td>一期</td>\n",
       "      <td>巴沟-劲松</td>\n",
       "    </tr>\n",
       "    <tr>\n",
       "      <th>17</th>\n",
       "      <td>2008年7月19日</td>\n",
       "      <td>北京地铁机场线</td>\n",
       "      <td>全线</td>\n",
       "      <td>东直门-首都机场T2/T3航站楼</td>\n",
       "    </tr>\n",
       "    <tr>\n",
       "      <th>18</th>\n",
       "      <td>2009年9月28日</td>\n",
       "      <td>北京地铁4号线</td>\n",
       "      <td>全线</td>\n",
       "      <td>安河桥北-公益西桥</td>\n",
       "    </tr>\n",
       "    <tr>\n",
       "      <th>19</th>\n",
       "      <td>2010年12月30日</td>\n",
       "      <td>北京地铁15号线</td>\n",
       "      <td>一期西段</td>\n",
       "      <td>望京西-后沙峪</td>\n",
       "    </tr>\n",
       "    <tr>\n",
       "      <th>20</th>\n",
       "      <td>2010年12月30日</td>\n",
       "      <td>北京地铁昌平线</td>\n",
       "      <td>一期</td>\n",
       "      <td>南邵-西二旗</td>\n",
       "    </tr>\n",
       "    <tr>\n",
       "      <th>21</th>\n",
       "      <td>2010年12月30日</td>\n",
       "      <td>北京地铁大兴线</td>\n",
       "      <td>全线</td>\n",
       "      <td>新宫-天宫院</td>\n",
       "    </tr>\n",
       "    <tr>\n",
       "      <th>22</th>\n",
       "      <td>2010年12月30日</td>\n",
       "      <td>北京地铁房山线</td>\n",
       "      <td>一期大部分</td>\n",
       "      <td>大葆台-苏庄</td>\n",
       "    </tr>\n",
       "    <tr>\n",
       "      <th>23</th>\n",
       "      <td>2010年12月30日</td>\n",
       "      <td>北京地铁亦庄线</td>\n",
       "      <td>全线</td>\n",
       "      <td>宋家庄-次渠</td>\n",
       "    </tr>\n",
       "    <tr>\n",
       "      <th>24</th>\n",
       "      <td>2011年12月31日</td>\n",
       "      <td>北京地铁8号线</td>\n",
       "      <td>二期北段</td>\n",
       "      <td>回龙观东大街-森林公园南门</td>\n",
       "    </tr>\n",
       "    <tr>\n",
       "      <th>25</th>\n",
       "      <td>2011年12月31日</td>\n",
       "      <td>北京地铁9号线</td>\n",
       "      <td>南段</td>\n",
       "      <td>北京西站-郭公庄</td>\n",
       "    </tr>\n",
       "    <tr>\n",
       "      <th>26</th>\n",
       "      <td>2011年12月31日</td>\n",
       "      <td>北京地铁15号线</td>\n",
       "      <td>一期东段</td>\n",
       "      <td>后沙峪-俸伯</td>\n",
       "    </tr>\n",
       "    <tr>\n",
       "      <th>27</th>\n",
       "      <td>2011年12月31日</td>\n",
       "      <td>北京地铁房山线</td>\n",
       "      <td>一期剩余段</td>\n",
       "      <td>大葆台-郭公庄</td>\n",
       "    </tr>\n",
       "    <tr>\n",
       "      <th>28</th>\n",
       "      <td>2012年12月30日</td>\n",
       "      <td>北京地铁6号线</td>\n",
       "      <td>一期</td>\n",
       "      <td>海淀五路居-草房</td>\n",
       "    </tr>\n",
       "    <tr>\n",
       "      <th>29</th>\n",
       "      <td>2012年12月30日</td>\n",
       "      <td>北京地铁8号线</td>\n",
       "      <td>二期南段</td>\n",
       "      <td>北土城-鼓楼大街</td>\n",
       "    </tr>\n",
       "    <tr>\n",
       "      <th>30</th>\n",
       "      <td>2012年12月30日</td>\n",
       "      <td>北京地铁9号线</td>\n",
       "      <td>北段</td>\n",
       "      <td>国家图书馆-北京西站</td>\n",
       "    </tr>\n",
       "    <tr>\n",
       "      <th>31</th>\n",
       "      <td>2012年12月30日</td>\n",
       "      <td>北京地铁10号线</td>\n",
       "      <td>二期大部分</td>\n",
       "      <td>巴沟-西局；首经贸-劲松</td>\n",
       "    </tr>\n",
       "    <tr>\n",
       "      <th>32</th>\n",
       "      <td>2013年5月5日</td>\n",
       "      <td>北京地铁10号线</td>\n",
       "      <td>二期剩余段</td>\n",
       "      <td>西局-首经贸</td>\n",
       "    </tr>\n",
       "    <tr>\n",
       "      <th>33</th>\n",
       "      <td>2013年5月5日</td>\n",
       "      <td>北京地铁14号线</td>\n",
       "      <td>西段</td>\n",
       "      <td>西局-张郭庄</td>\n",
       "    </tr>\n",
       "    <tr>\n",
       "      <th>34</th>\n",
       "      <td>2013年12月28日</td>\n",
       "      <td>北京地铁8号线</td>\n",
       "      <td>二期南段</td>\n",
       "      <td>鼓楼大街-南锣鼓巷</td>\n",
       "    </tr>\n",
       "    <tr>\n",
       "      <th>35</th>\n",
       "      <td>2013年12月28日</td>\n",
       "      <td>北京地铁8号线</td>\n",
       "      <td>昌八联络线</td>\n",
       "      <td>回龙观东大街-朱辛庄</td>\n",
       "    </tr>\n",
       "    <tr>\n",
       "      <th>36</th>\n",
       "      <td>2014年12月28日</td>\n",
       "      <td>北京地铁6号线</td>\n",
       "      <td>二期</td>\n",
       "      <td>草房-潞城</td>\n",
       "    </tr>\n",
       "    <tr>\n",
       "      <th>37</th>\n",
       "      <td>2014年12月28日</td>\n",
       "      <td>北京地铁7号线</td>\n",
       "      <td>全线</td>\n",
       "      <td>北京西站-焦化厂</td>\n",
       "    </tr>\n",
       "    <tr>\n",
       "      <th>38</th>\n",
       "      <td>2014年12月28日</td>\n",
       "      <td>北京地铁14号线</td>\n",
       "      <td>东段</td>\n",
       "      <td>金台路-善各庄</td>\n",
       "    </tr>\n",
       "    <tr>\n",
       "      <th>39</th>\n",
       "      <td>2014年12月28日</td>\n",
       "      <td>北京地铁15号线</td>\n",
       "      <td>一期西段</td>\n",
       "      <td>清华东路西口-望京西</td>\n",
       "    </tr>\n",
       "    <tr>\n",
       "      <th>40</th>\n",
       "      <td>2015年12月26日</td>\n",
       "      <td>北京地铁14号线</td>\n",
       "      <td>中段大部分</td>\n",
       "      <td>北京南站-金台路</td>\n",
       "    </tr>\n",
       "    <tr>\n",
       "      <th>41</th>\n",
       "      <td>2015年12月26日</td>\n",
       "      <td>北京地铁昌平线</td>\n",
       "      <td>二期</td>\n",
       "      <td>南邵-昌平西山口</td>\n",
       "    </tr>\n",
       "    <tr>\n",
       "      <th>42</th>\n",
       "      <td>2016年12月31日</td>\n",
       "      <td>北京地铁16号线</td>\n",
       "      <td>山后线段</td>\n",
       "      <td>北安河-西苑</td>\n",
       "    </tr>\n",
       "    <tr>\n",
       "      <th>43</th>\n",
       "      <td>2017年12月30日</td>\n",
       "      <td>北京地铁西郊线</td>\n",
       "      <td>全线</td>\n",
       "      <td>巴沟-香山</td>\n",
       "    </tr>\n",
       "    <tr>\n",
       "      <th>44</th>\n",
       "      <td>2017年12月30日</td>\n",
       "      <td>北京地铁S1线</td>\n",
       "      <td>全线</td>\n",
       "      <td>金安桥-石厂</td>\n",
       "    </tr>\n",
       "    <tr>\n",
       "      <th>45</th>\n",
       "      <td>2017年12月30日</td>\n",
       "      <td>北京地铁燕房线</td>\n",
       "      <td>主线</td>\n",
       "      <td>阎村东-燕山</td>\n",
       "    </tr>\n",
       "    <tr>\n",
       "      <th>46</th>\n",
       "      <td>2017年12月30日</td>\n",
       "      <td>北京地铁房山线</td>\n",
       "      <td>西延</td>\n",
       "      <td>苏庄-阎村东</td>\n",
       "    </tr>\n",
       "    <tr>\n",
       "      <th>47</th>\n",
       "      <td>2018年12月30日</td>\n",
       "      <td>北京地铁6号线</td>\n",
       "      <td>西延</td>\n",
       "      <td>金安桥-海淀五路居</td>\n",
       "    </tr>\n",
       "    <tr>\n",
       "      <th>48</th>\n",
       "      <td>2018年12月30日</td>\n",
       "      <td>北京地铁8号线</td>\n",
       "      <td>二期剩余段</td>\n",
       "      <td>南锣鼓巷-中国美术馆</td>\n",
       "    </tr>\n",
       "    <tr>\n",
       "      <th>49</th>\n",
       "      <td>2018年12月30日</td>\n",
       "      <td>北京地铁8号线</td>\n",
       "      <td>三期南段、四期</td>\n",
       "      <td>珠市口-瀛海</td>\n",
       "    </tr>\n",
       "    <tr>\n",
       "      <th>50</th>\n",
       "      <td>2018年12月30日</td>\n",
       "      <td>北京地铁亦庄线</td>\n",
       "      <td>剩余段</td>\n",
       "      <td>次渠-亦庄火车站</td>\n",
       "    </tr>\n",
       "  </tbody>\n",
       "</table>\n",
       "</div>"
      ],
      "text/plain": [
       "           开通日期           开通路线     开通路段              开通区间\n",
       "0    1969年10月1日  北京地铁一期路线（不开放）    地下铁一期           古城路-北京站\n",
       "1    1971年1月15日       北京地铁一期路线    地下铁一期           公主坟-北京站\n",
       "2     1971年8月5日       北京地铁一期路线    地下铁一期           玉泉路-公主坟\n",
       "3    1971年11月7日       北京地铁一期路线    地下铁一期            古城-玉泉路\n",
       "4    1973年4月23日       北京地铁一期路线    地下铁一期            苹果园-古城\n",
       "5    1984年9月20日       北京地铁二期路线    地下铁二期      复兴门-北京站（北半环）\n",
       "6   1987年12月28日         复兴门折返线    1号线西段          南礼士路-复兴门\n",
       "7   1987年12月28日         北京地铁环线     环形贯通           复兴门-长椿街\n",
       "8   1992年12月12日        北京地铁1号线    1号线西段            复兴门-西单\n",
       "9    1999年9月28日        北京地铁复八线    复八线东段          天安门西-四惠东\n",
       "10   2000年6月28日        北京地铁1号线    1号线贯通           西单-天安门西\n",
       "11   2002年9月28日       北京地铁13号线      西半部            西直门-霍营\n",
       "12   2003年1月28日       北京地铁13号线      东半部            霍营-东直门\n",
       "13  2003年12月27日        北京地铁八通线       全线             四惠-土桥\n",
       "14   2007年10月7日        北京地铁5号线       全线          天通苑北-宋家庄\n",
       "15   2008年7月19日        北京地铁8号线       一期        森林公园南门-北土城\n",
       "16   2008年7月19日       北京地铁10号线       一期             巴沟-劲松\n",
       "17   2008年7月19日        北京地铁机场线       全线  东直门-首都机场T2/T3航站楼\n",
       "18   2009年9月28日        北京地铁4号线       全线         安河桥北-公益西桥\n",
       "19  2010年12月30日       北京地铁15号线     一期西段           望京西-后沙峪\n",
       "20  2010年12月30日        北京地铁昌平线       一期            南邵-西二旗\n",
       "21  2010年12月30日        北京地铁大兴线       全线            新宫-天宫院\n",
       "22  2010年12月30日        北京地铁房山线    一期大部分            大葆台-苏庄\n",
       "23  2010年12月30日        北京地铁亦庄线       全线            宋家庄-次渠\n",
       "24  2011年12月31日        北京地铁8号线     二期北段     回龙观东大街-森林公园南门\n",
       "25  2011年12月31日        北京地铁9号线       南段          北京西站-郭公庄\n",
       "26  2011年12月31日       北京地铁15号线     一期东段            后沙峪-俸伯\n",
       "27  2011年12月31日        北京地铁房山线    一期剩余段           大葆台-郭公庄\n",
       "28  2012年12月30日        北京地铁6号线       一期          海淀五路居-草房\n",
       "29  2012年12月30日        北京地铁8号线     二期南段          北土城-鼓楼大街\n",
       "30  2012年12月30日        北京地铁9号线       北段        国家图书馆-北京西站\n",
       "31  2012年12月30日       北京地铁10号线    二期大部分      巴沟-西局；首经贸-劲松\n",
       "32    2013年5月5日       北京地铁10号线    二期剩余段            西局-首经贸\n",
       "33    2013年5月5日       北京地铁14号线       西段            西局-张郭庄\n",
       "34  2013年12月28日        北京地铁8号线     二期南段         鼓楼大街-南锣鼓巷\n",
       "35  2013年12月28日        北京地铁8号线    昌八联络线        回龙观东大街-朱辛庄\n",
       "36  2014年12月28日        北京地铁6号线       二期             草房-潞城\n",
       "37  2014年12月28日        北京地铁7号线       全线          北京西站-焦化厂\n",
       "38  2014年12月28日       北京地铁14号线       东段           金台路-善各庄\n",
       "39  2014年12月28日       北京地铁15号线     一期西段        清华东路西口-望京西\n",
       "40  2015年12月26日       北京地铁14号线    中段大部分          北京南站-金台路\n",
       "41  2015年12月26日        北京地铁昌平线       二期          南邵-昌平西山口\n",
       "42  2016年12月31日       北京地铁16号线     山后线段            北安河-西苑\n",
       "43  2017年12月30日        北京地铁西郊线       全线             巴沟-香山\n",
       "44  2017年12月30日        北京地铁S1线       全线            金安桥-石厂\n",
       "45  2017年12月30日        北京地铁燕房线       主线            阎村东-燕山\n",
       "46  2017年12月30日        北京地铁房山线       西延            苏庄-阎村东\n",
       "47  2018年12月30日        北京地铁6号线       西延         金安桥-海淀五路居\n",
       "48  2018年12月30日        北京地铁8号线    二期剩余段        南锣鼓巷-中国美术馆\n",
       "49  2018年12月30日        北京地铁8号线  三期南段、四期            珠市口-瀛海\n",
       "50  2018年12月30日        北京地铁亦庄线      剩余段          次渠-亦庄火车站"
      ]
     },
     "execution_count": 53,
     "metadata": {},
     "output_type": "execute_result"
    }
   ],
   "source": [
    "pattern_table"
   ]
  },
  {
   "cell_type": "code",
   "execution_count": 55,
   "metadata": {},
   "outputs": [],
   "source": [
    "from pandas import Series"
   ]
  },
  {
   "cell_type": "code",
   "execution_count": 59,
   "metadata": {},
   "outputs": [
    {
     "data": {
      "text/plain": [
       "0    1\n",
       "1    4\n",
       "2    5\n",
       "3   -3\n",
       "4    7\n",
       "dtype: int64"
      ]
     },
     "execution_count": 59,
     "metadata": {},
     "output_type": "execute_result"
    }
   ],
   "source": [
    "Series([1,4,5,-3,7])"
   ]
  },
  {
   "cell_type": "code",
   "execution_count": 12,
   "metadata": {},
   "outputs": [
    {
     "name": "stdout",
     "output_type": "stream",
     "text": [
      "[<a data-lemmaid=\"1122445\" href=\"/item/%E4%B8%AD%E5%9B%BD/1122445\" target=\"_blank\">ä¸­å½</a>, <a data-lemmaid=\"126069\" href=\"/item/%E5%8C%97%E4%BA%AC%E5%B8%82/126069\" target=\"_blank\">åäº¬å¸</a>, <a data-lemmaid=\"6853691\" href=\"/item/%E5%9F%8E%E5%B8%82%E8%BD%A8%E9%81%93%E4%BA%A4%E9%80%9A%E7%B3%BB%E7%BB%9F/6853691\" target=\"_blank\">åå¸è½¨éäº¤éç³»ç»</a>, <a data-lemmaid=\"6017906\" href=\"/item/%E5%9B%BD%E9%99%85%E5%9C%B0%E9%93%81%E8%81%94%E7%9B%9F/6017906\" target=\"_blank\">å½é",
      "å°éèç</a>, <a class=\"sup-anchor\" name=\"ref_[1]_14765801\"> </a>, <a class=\"sup-anchor\" name=\"ref_[2]_14765801\"> </a>, <a class=\"sup-anchor\" name=\"ref_[3]_14765801\"> </a>, <a class=\"sup-anchor\" name=\"ref_[4-6]_14765801\"> </a>, <a class=\"sup-anchor\" name=\"ref_[6-7]_14765801\"> </a>, <a class=\"sup-anchor\" name=\"ref_[8]_14765801\"> </a>, <a class=\"sup-anchor\" name=\"ref_[9]_14765801\"> </a>, <a class=\"sup-anchor\" name=\"ref_[10]_14765801\"> </a>, <a class=\"sup-anchor\" name=\"ref_[11]_14765801\"> </a>, <a class=\"sup-anchor\" name=\"ref_[12]_14765801\"> </a>, <a class=\"sup-anchor\" name=\"ref_[13]_14765801\"> </a>, <a name=\"ref_13\"></a>, <a name=\"ref_13\"></a>, <a class=\"sup-anchor\" name=\"ref_[13]_14765801\"> </a>, <a name=\"ref_13\"></a>, <a name=\"ref_13\"></a>, <a class=\"sup-anchor\" name=\"ref_[13]_14765801\"> </a>, <a name=\"ref_13\"></a>, <a name=\"ref_13\"></a>, <a href=\"/item/%E8%8B%8F%E8%81%94\" target=\"_blank\">èè</a>, <a class=\"sup-anchor\" name=\"ref_[14]_14765801\"> </a>, <a class=\"sup-anchor\" name=\"ref_[15]_14765801\"> </a>, <a class=\"sup-anchor\" name=\"ref_[16]_14765801\"> </a>, <a class=\"sup-anchor\" name=\"ref_[17]_14765801\"> </a>, <a class=\"sup-anchor\" name=\"ref_[18]_14765801\"> </a>, <a href=\"/item/%E6%9C%B1%E5%BE%B7\" target=\"_blank\">æ±å¾·</a>, <a href=\"/item/%E9%82%93%E5%B0%8F%E5%B9%B3\" target=\"_blank\">éå°å¹³</a>, <a href=\"/item/%E5%BD%AD%E7%9C%9F\" target=\"_blank\">å½­ç</a>, <a class=\"sup-anchor\" name=\"ref_[19]_14765801\"> </a>, <a href=\"/item/%E5%9B%BD%E5%BA%86%E8%8A%82\" target=\"_blank\">å½åºè</a>, <a href=\"/item/%E4%B8%AD%E5%9B%BD%E5%A4%A7%E9%99%86\" target=\"_blank\">ä¸­å½å¤§é</a>, <a data-lemmaid=\"128775\" href=\"/item/%E9%A6%99%E6%B8%AF/128775\" target=\"_blank\">é¦æ¸¯</a>, <a data-lemmaid=\"61723\" href=\"/item/%E9%A6%96%E5%B0%94/61723\" target=\"_blank\">é¦å°</a>, <a href=\"/item/%E6%96%B0%E5%8A%A0%E5%9D%A1\" target=\"_blank\">æ°å å¡</a>, <a href=\"/item/%E6%97%A7%E9%87%91%E5%B1%B1\" target=\"_blank\">æ§éå±±</a>, <a data-lemmaid=\"374\" href=\"/item/%E5%8D%8E%E7%9B%9B%E9%A1%BF/374\" target=\"_blank\">åçé¡¿</a>, <a class=\"sup-anchor\" name=\"ref_[19]_14765801\"> </a>, <a class=\"sup-anchor\" name=\"ref_[20]_14765801\"> </a>, <a class=\"lemma-album layout-right nslog:10000206\" href=\"/pic/%E5%8C%97%E4%BA%AC%E5%9C%B0%E9%93%81/408485/11660827/fcfaaf51f3deb48fb568cc11f11f3a292cf578ff?fr=lemma&amp;ct=cover\" nslog-type=\"10000206\" style=\"width:203px;\" target=\"_blank\" title=\"åäº¬å°éå¼å·¥å¥ åº\">\n",
      "<div class=\"album-wrap\" style=\"width:201px;height:220px;\">\n",
      "<img alt=\"åäº¬å°éå¼å·¥å¥ åº\" class=\"picture\" src=\"https://gss1.bdstatic.com/9vo3dSag_xI4khGkpoWK1HF6hhy/baike/s%3D220/sign=ff6048c75243fbf2c12ca121807fca1e/fcfaaf51f3deb48fb568cc11f11f3a292cf578ff.jpg\" style=\"width:201px;height:220px;\"/>\n",
      "</div>\n",
      "<div class=\"description\">\n",
      "åäº¬å°éå¼å·¥å¥ åº<span class=\"number\">(3å¼ )</span>\n",
      "</div>\n",
      "<div class=\"albumBg\">\n",
      "<div class=\"albumBgFir\" style=\"width:195px;\"></div>\n",
      "<div class=\"albumBgSec\" style=\"width:189px;\"></div>\n",
      "</div>\n",
      "</a>, <a class=\"sup-anchor\" name=\"ref_[19]_14765801\"> </a>, <a class=\"sup-anchor\" name=\"ref_[21]_14765801\"> </a>, <a class=\"sup-anchor\" name=\"ref_[22]_14765801\"> </a>, <a class=\"sup-anchor\" name=\"ref_[23]_14765801\"> </a>, <a class=\"sup-anchor\" name=\"ref_[25]_14765801\"> </a>, <a class=\"sup-anchor\" name=\"ref_[26]_14765801\"> </a>, <a class=\"sup-anchor\" name=\"ref_[27]_14765801\"> </a>, <a name=\"ref_27\"></a>, <a class=\"sup-anchor\" name=\"ref_[27]_14765801\"> </a>, <a name=\"ref_27\"></a>, <a class=\"sup-anchor\" name=\"ref_[28]_14765801\"> </a>, <a class=\"sup-anchor\" name=\"ref_[29]_14765801\"> </a>, <a class=\"sup-anchor\" name=\"ref_[30]_14765801\"> </a>, <a name=\"ref_30\"></a>, <a class=\"sup-anchor\" name=\"ref_[30]_14765801\"> </a>, <a name=\"ref_30\"></a>, <a class=\"sup-anchor\" name=\"ref_[31]_14765801\"> </a>, <a class=\"sup-anchor\" name=\"ref_[32]_14765801\"> </a>, <a class=\"sup-anchor\" name=\"ref_[33]_14765801\"> </a>, <a class=\"sup-anchor\" name=\"ref_[34]_14765801\"> </a>, <a class=\"sup-anchor\" name=\"ref_[33]_14765801\"> </a>, <a class=\"sup-anchor\" name=\"ref_[35]_14765801\"> </a>, <a class=\"sup-anchor\" name=\"ref_[36]_14765801\"> </a>, <a class=\"lemma-album layout-right nslog:10000206\" href=\"/pic/%E5%8C%97%E4%BA%AC%E5%9C%B0%E9%93%81/408485/17764615/96dda144ad345982a0c28b5d0df431adcaef84b0?fr=lemma&amp;ct=cover\" nslog-type=\"10000206\" style=\"width:222px;\" target=\"_blank\" title=\"21ä¸çºªåæ\">\n",
      "<div class=\"album-wrap\" style=\"width:220px;height:146px;\">\n",
      "<img alt=\"21ä¸çºªåæ\" class=\"picture\" src=\"https://gss2.bdstatic.com/9fo3dSag_xI4khGkpoWK1HF6hhy/baike/s%3D220/sign=1b82cbad9922720e7fcee5f84bca0a3a/96dda144ad345982a0c28b5d0df431adcaef84b0.jpg\" style=\"width:220px;height:146px;\"/>\n",
      "</div>\n",
      "<div class=\"description\">\n",
      "21ä¸çºªåæ<span class=\"number\">(5å¼ )</span>\n",
      "</div>\n",
      "<div class=\"albumBg\">\n",
      "<div class=\"albumBgFir\" style=\"width:214px;\"></div>\n",
      "<div class=\"albumBgSec\" style=\"width:208px;\"></div>\n",
      "</div>\n",
      "</a>, <a class=\"sup-anchor\" name=\"ref_[37]_14765801\"> </a>, <a class=\"sup-anchor\" name=\"ref_[38]_14765801\"> </a>, <a class=\"sup-anchor\" name=\"ref_[39]_14765801\"> </a>, <a class=\"sup-anchor\" name=\"ref_[40]_14765801\"> </a>, <a class=\"lemma-album layout-right nslog:10000206\" href=\"/pic/%E5%8C%97%E4%BA%AC%E5%9C%B0%E9%93%81/408485/7768432/dcc451da81cb39dbc7283a99d1160924aa183010?fr=lemma&amp;ct=cover\" nslog-type=\"10000206\" style=\"width:222px;\" target=\"_blank\" title=\"2010å¹´å\">\n",
      "<div class=\"album-wrap\" style=\"width:220px;height:141px;\">\n",
      "<img alt=\"2010å¹´å\" class=\"picture\" src=\"https://gss1.bdstatic.com/9vo3dSag_xI4khGkpoWK1HF6hhy/baike/s%3D220/sign=a08da4406d81800a6ae58e0c813733d6/dcc451da81cb39dbc7283a99d1160924aa183010.jpg\" style=\"width:220px;height:141px;\"/>\n",
      "</div>\n",
      "<div class=\"description\">\n",
      "2010å¹´å<span class=\"number\">(4å¼ )</span>\n",
      "</div>\n",
      "<div class=\"albumBg\">\n",
      "<div class=\"albumBgFir\" style=\"width:214px;\"></div>\n",
      "<div class=\"albumBgSec\" style=\"width:208px;\"></div>\n",
      "</div>\n",
      "</a>, <a class=\"sup-anchor\" name=\"ref_[41]_14765801\"> </a>, <a class=\"sup-anchor\" name=\"ref_[42]_14765801\"> </a>, <a class=\"sup-anchor\" name=\"ref_[43]_14765801\"> </a>, <a class=\"sup-anchor\" name=\"ref_[44]_14765801\"> </a>, <a class=\"sup-anchor\" name=\"ref_[45]_14765801\"> </a>, <a class=\"sup-anchor\" name=\"ref_[6]_14765801\"> </a>, <a class=\"sup-anchor\" name=\"ref_[46]_14765801\"> </a>, <a class=\"sup-anchor\" name=\"ref_[47-48]_14765801\"> </a>, <a class=\"sup-anchor\" name=\"ref_[11]_14765801\"> </a>, <a class=\"sup-anchor\" name=\"ref_[10]_14765801\"> </a>, <a class=\"sup-anchor\" name=\"ref_[49]_14765801\"> </a>, <a href=\"/item/%E5%8C%97%E4%BA%AC%E5%9C%B0%E9%93%811%E5%8F%B7%E7%BA%BF\" target=\"_blank\">åäº¬å°é1å·çº¿</a>, <a href=\"/item/%E5%A4%8D%E5%85%AB%E7%BA%BF\" target=\"_blank\">å¤å",
      "«çº¿</a>, <a href=\"/item/%E5%A4%8D%E5%85%AB%E7%BA%BF\" target=\"_blank\">å¤å",
      "«çº¿</a>, <a href=\"/item/%E5%8C%97%E4%BA%AC%E5%9C%B0%E9%93%811%E5%8F%B7%E7%BA%BF\" target=\"_blank\">åäº¬å°é1å·çº¿</a>, <a href=\"/item/%E5%8C%97%E4%BA%AC%E5%9C%B0%E9%93%8113%E5%8F%B7%E7%BA%BF\" target=\"_blank\">åäº¬å°é13å·çº¿</a>, <a href=\"/item/%E5%8C%97%E4%BA%AC%E5%9C%B0%E9%93%8113%E5%8F%B7%E7%BA%BF\" target=\"_blank\">åäº¬å°é13å·çº¿</a>, <a href=\"/item/%E5%8C%97%E4%BA%AC%E5%9C%B0%E9%93%81%E5%85%AB%E9%80%9A%E7%BA%BF\" target=\"_blank\">åäº¬å°éå",
      "«éçº¿</a>, <a href=\"/item/%E5%8C%97%E4%BA%AC%E5%9C%B0%E9%93%815%E5%8F%B7%E7%BA%BF\" target=\"_blank\">åäº¬å°é5å·çº¿</a>, <a href=\"/item/%E5%8C%97%E4%BA%AC%E5%9C%B0%E9%93%818%E5%8F%B7%E7%BA%BF\" target=\"_blank\">åäº¬å°é8å·çº¿</a>, <a href=\"/item/%E5%8C%97%E4%BA%AC%E5%9C%B0%E9%93%8110%E5%8F%B7%E7%BA%BF\" target=\"_blank\">åäº¬å°é10å·çº¿</a>, <a href=\"/item/%E5%8C%97%E4%BA%AC%E5%9C%B0%E9%93%81%E6%9C%BA%E5%9C%BA%E7%BA%BF\" target=\"_blank\">åäº¬å°éæºåºçº¿</a>, <a href=\"/item/%E5%8C%97%E4%BA%AC%E5%9C%B0%E9%93%814%E5%8F%B7%E7%BA%BF\" target=\"_blank\">åäº¬å°é4å·çº¿</a>, <a href=\"/item/%E5%8C%97%E4%BA%AC%E5%9C%B0%E9%93%8115%E5%8F%B7%E7%BA%BF\" target=\"_blank\">åäº¬å°é15å·çº¿</a>, <a href=\"/item/%E5%8C%97%E4%BA%AC%E5%9C%B0%E9%93%81%E6%98%8C%E5%B9%B3%E7%BA%BF\" target=\"_blank\">åäº¬å°éæå¹³çº¿</a>, <a href=\"/item/%E5%8C%97%E4%BA%AC%E5%9C%B0%E9%93%81%E5%A4%A7%E5%85%B4%E7%BA%BF\" target=\"_blank\">åäº¬å°éå¤§å",
      "´çº¿</a>, <a href=\"/item/%E5%8C%97%E4%BA%AC%E5%9C%B0%E9%93%81%E6%88%BF%E5%B1%B1%E7%BA%BF\" target=\"_blank\">åäº¬å°éæ¿å±±çº¿</a>, <a href=\"/item/%E5%8C%97%E4%BA%AC%E5%9C%B0%E9%93%81%E4%BA%A6%E5%BA%84%E7%BA%BF\" target=\"_blank\">åäº¬å°éäº¦åºçº¿</a>, <a href=\"/item/%E5%8C%97%E4%BA%AC%E5%9C%B0%E9%93%818%E5%8F%B7%E7%BA%BF\" target=\"_blank\">åäº¬å°é8å·çº¿</a>, <a href=\"/item/%E5%8C%97%E4%BA%AC%E5%9C%B0%E9%93%819%E5%8F%B7%E7%BA%BF\" target=\"_blank\">åäº¬å°é9å·çº¿</a>, <a href=\"/item/%E5%8C%97%E4%BA%AC%E5%9C%B0%E9%93%8115%E5%8F%B7%E7%BA%BF\" target=\"_blank\">åäº¬å°é15å·çº¿</a>, <a href=\"/item/%E5%8C%97%E4%BA%AC%E5%9C%B0%E9%93%81%E6%88%BF%E5%B1%B1%E7%BA%BF\" target=\"_blank\">åäº¬å°éæ¿å±±çº¿</a>, <a href=\"/item/%E5%8C%97%E4%BA%AC%E5%9C%B0%E9%93%816%E5%8F%B7%E7%BA%BF\" target=\"_blank\">åäº¬å°é6å·çº¿</a>, <a href=\"/item/%E5%8C%97%E4%BA%AC%E5%9C%B0%E9%93%818%E5%8F%B7%E7%BA%BF\" target=\"_blank\">åäº¬å°é8å·çº¿</a>, <a href=\"/item/%E5%8C%97%E4%BA%AC%E5%9C%B0%E9%93%819%E5%8F%B7%E7%BA%BF\" target=\"_blank\">åäº¬å°é9å·çº¿</a>, <a href=\"/item/%E5%8C%97%E4%BA%AC%E5%9C%B0%E9%93%8110%E5%8F%B7%E7%BA%BF\" target=\"_blank\">åäº¬å°é10å·çº¿</a>, <a href=\"/item/%E5%8C%97%E4%BA%AC%E5%9C%B0%E9%93%8110%E5%8F%B7%E7%BA%BF\" target=\"_blank\">åäº¬å°é10å·çº¿</a>, <a href=\"/item/%E5%8C%97%E4%BA%AC%E5%9C%B0%E9%93%8114%E5%8F%B7%E7%BA%BF\" target=\"_blank\">åäº¬å°é14å·çº¿</a>, <a href=\"/item/%E5%8C%97%E4%BA%AC%E5%9C%B0%E9%93%818%E5%8F%B7%E7%BA%BF\" target=\"_blank\">åäº¬å°é8å·çº¿</a>, <a href=\"/item/%E5%8C%97%E4%BA%AC%E5%9C%B0%E9%93%816%E5%8F%B7%E7%BA%BF\" target=\"_blank\">åäº¬å°é6å·çº¿</a>, <a href=\"/item/%E5%8F%A4%E5%9F%8E%E8%BD%A6%E8%BE%86%E6%AE%B5\" target=\"_blank\">å¤åè½¦è¾æ®µ</a>, <a href=\"/item/%E5%9B%9B%E6%83%A0%E8%BD%A6%E8%BE%86%E6%AE%B5\" target=\"_blank\">åæ è½¦è¾æ®µ</a>, <a data-lemmaid=\"2610120\" href=\"/item/%E7%A7%AF%E6%B0%B4%E6%BD%AD%E7%AB%99/2610120\" target=\"_blank\">ç§¯æ°´æ½­ç«</a>, <a data-lemmaid=\"2612279\" href=\"/item/%E8%A5%BF%E7%9B%B4%E9%97%A8%E7%AB%99/2612279\" target=\"_blank\">è¥¿ç´é¨ç«</a>, <a data-lemmaid=\"5419324\" href=\"/item/%E5%AE%89%E6%B2%B3%E6%A1%A5%E5%8C%97%E7%AB%99/5419324\" target=\"_blank\">å®æ²³æ¡¥åç«</a>, <a data-lemmaid=\"8550514\" href=\"/item/%E5%A4%A9%E5%AE%AB%E9%99%A2%E7%AB%99/8550514\" target=\"_blank\">å¤©å®«é¢ç«</a>, <a href=\"/item/%E9%BE%99%E8%83%8C%E6%9D%91%E5%81%9C%E8%BD%A6%E5%9C%BA\" target=\"_blank\">é¾èæåè½¦åº</a>, <a href=\"/item/%E9%A9%AC%E5%AE%B6%E5%A0%A1%E8%BD%A6%E8%BE%86%E6%AE%B5\" target=\"_blank\">é©¬å®¶å ¡è½¦è¾æ®µ</a>, <a href=\"/item/%E5%AE%8B%E5%AE%B6%E5%BA%84%E5%81%9C%E8%BD%A6%E5%9C%BA\" target=\"_blank\">å®å®¶åºåè½¦åº</a>, <a href=\"/item/%E5%A4%AA%E5%B9%B3%E5%BA%84%E8%BD%A6%E8%BE%86%E6%AE%B5\" target=\"_blank\">å¤ªå¹³åºè½¦è¾æ®µ</a>, <a href=\"/item/%E4%BA%94%E9%87%8C%E6%A1%A5%E8%BD%A6%E8%BE%86%E6%AE%B5\" target=\"_blank\">äºéæ¡¥è½¦è¾æ®µ</a>, <a href=\"/item/%E5%B9%B3%E8%A5%BF%E5%BA%9C%E8%BD%A6%E8%BE%86%E6%AE%B5\" target=\"_blank\">å¹³è¥¿åºè½¦è¾æ®µ</a>, <a data-lemmaid=\"22907405\" href=\"/item/%E7%80%9B%E6%B5%B7%E8%BD%A6%E8%BE%86%E6%AE%B5/22907405\" target=\"_blank\">çæµ·è½¦è¾æ®µ</a>, <a data-lemmaid=\"4337043\" href=\"/item/%E5%B7%B4%E6%B2%9F%E7%AB%99/4337043\" target=\"_blank\">å·´æ²ç«</a>, <a data-lemmaid=\"9515295\" href=\"/item/%E8%BD%A6%E9%81%93%E6%B2%9F%E7%AB%99/9515295\" target=\"_blank\">è½¦éæ²ç«</a>, <a data-lemmaid=\"75170\" href=\"/item/%E5%AE%8B%E5%AE%B6%E5%BA%84%E7%AB%99/75170\" target=\"_blank\">å®å®¶åºç«</a>, <a data-lemmaid=\"2687604\" href=\"/item/%E6%88%90%E5%AF%BF%E5%AF%BA%E7%AB%99/2687604\" target=\"_blank\">æå¯¿å¯ºç«</a>, <a href=\"/item/%E4%B8%87%E6%9F%B3%E8%BD%A6%E8%BE%86%E6%AE%B5\" target=\"_blank\">ä¸æ³è½¦è¾æ®µ</a>, <a href=\"/item/%E9%A9%AC%E6%B3%89%E8%90%A5%E8%BD%A6%E8%BE%86%E6%AE%B5\" target=\"_blank\">é©¬æ³è¥è½¦è¾æ®µ</a>, <a href=\"/item/%E5%9C%9F%E6%A1%A5%E8%BD%A6%E8%BE%86%E6%AE%B5\" target=\"_blank\">åæ¡¥è½¦è¾æ®µ</a>, <a href=\"/item/%E5%AE%9A%E6%B3%97%E8%B7%AF%E5%81%9C%E8%BD%A6%E5%9C%BA\" target=\"_blank\">å®æ³è·¯åè½¦åº</a>, <a href=\"/item/%E5%8D%81%E4%B8%89%E9%99%B5%E6%99%AF%E5%8C%BA%E8%BD%A6%E8%BE%86%E6%AE%B5\" target=\"_blank\">åä¸éµæ¯åºè½¦è¾æ®µ</a>, <a href=\"/item/%E9%98%8E%E6%9D%91%E8%BD%A6%E8%BE%86%E6%AE%B5\" target=\"_blank\">éæè½¦è¾æ®µ</a>, <a href=\"/item/%E5%8F%B0%E6%B9%96%E8%BD%A6%E8%BE%86%E6%AE%B5\" target=\"_blank\">å°æ¹è½¦è¾æ®µ</a>, <a data-lemmaid=\"4413864\" href=\"/item/%E4%B8%9C%E7%9B%B4%E9%97%A8%E7%AB%99/4413864\" target=\"_blank\">ä¸ç´é¨ç«</a>, <a data-lemmaid=\"2662271\" href=\"/item/2%E5%8F%B7%E8%88%AA%E7%AB%99%E6%A5%BC%E7%AB%99/2662271\" target=\"_blank\">2å·èªç«æ¥¼ç«</a>, <a data-lemmaid=\"2662103\" href=\"/item/3%E5%8F%B7%E8%88%AA%E7%AB%99%E6%A5%BC%E7%AB%99/2662103\" target=\"_blank\">3å·èªç«æ¥¼ç«</a>, <a href=\"/item/%E5%8C%97%E4%BA%AC%E5%B8%82%E8%BD%A8%E9%81%93%E4%BA%A4%E9%80%9A%E8%BF%90%E8%90%A5%E5%AE%89%E5%85%A8%E6%9D%A1%E4%BE%8B\" target=\"_blank\">åäº¬å¸è½¨éäº¤éè¿è¥å®å",
      "¨æ¡ä¾</a>, <a class=\"sup-anchor\" name=\"ref_[80]_14765801\"> </a>, <a class=\"sup-anchor\" name=\"ref_[81]_14765801\"> </a>, <a class=\"sup-anchor\" name=\"ref_[82]_14765801\"> </a>, <a class=\"sup-anchor\" name=\"ref_[83]_14765801\"> </a>, <a class=\"sup-anchor\" name=\"ref_[84]_14765801\"> </a>, <a class=\"sup-anchor\" name=\"ref_[85]_14765801\"> </a>, <a class=\"sup-anchor\" name=\"ref_[86]_14765801\"> </a>, <a href=\"/item/ATC%E7%B3%BB%E7%BB%9F\" target=\"_blank\">ATCç³»ç»</a>, <a class=\"sup-anchor\" name=\"ref_[94]_14765801\"> </a>, <a class=\"sup-anchor\" name=\"ref_[95]_14765801\"> </a>, <a class=\"sup-anchor\" name=\"ref_[95]_14765801\"> </a>, <a class=\"sup-anchor\" name=\"ref_[95]_14765801\"> </a>, <a class=\"sup-anchor\" name=\"ref_[95]_14765801\"> </a>, <a class=\"lemma-album layout-right nslog:10000206\" href=\"/pic/%E5%8C%97%E4%BA%AC%E5%9C%B0%E9%93%81/408485/22388124/7a899e510fb30f243896baddc295d143ac4b03db?fr=lemma&amp;ct=cover\" nslog-type=\"10000206\" style=\"width:150px;\" target=\"_blank\" title=\"è¿ç«\">\n",
      "<div class=\"album-wrap\" style=\"width:148px;height:220px;\">\n",
      "<img alt=\"è¿ç«\" class=\"picture\" src=\"https://gss2.bdstatic.com/9fo3dSag_xI4khGkpoWK1HF6hhy/baike/s%3D220/sign=ed3b53a02f1f95caa2f595b4f9167fc5/7a899e510fb30f243896baddc295d143ac4b03db.jpg\" style=\"width:148px;height:220px;\"/>\n",
      "</div>\n",
      "<div class=\"description\">\n",
      "è¿ç«<span class=\"number\">(2å¼ )</span>\n",
      "</div>\n",
      "<div class=\"albumBg\">\n",
      "<div class=\"albumBgFir\" style=\"width:142px;\"></div>\n",
      "<div class=\"albumBgSec\" style=\"width:136px;\"></div>\n",
      "</div>\n",
      "</a>, <a class=\"sup-anchor\" name=\"ref_[96]_14765801\"> </a>, <a class=\"sup-anchor\" name=\"ref_[97]_14765801\"> </a>, <a class=\"lemma-album layout-right nslog:10000206\" href=\"/pic/%E5%8C%97%E4%BA%AC%E5%9C%B0%E9%93%81/408485/22388125/4bed2e738bd4b31c2483c4658dd6277f9f2ff8b5?fr=lemma&amp;ct=cover\" nslog-type=\"10000206\" style=\"width:222px;\" target=\"_blank\" title=\"å¯¼å¼æ è¯\">\n",
      "<div class=\"album-wrap\" style=\"width:220px;height:146px;\">\n",
      "<img alt=\"å¯¼å¼æ è¯\" class=\"picture\" src=\"https://gss3.bdstatic.com/-Po3dSag_xI4khGkpoWK1HF6hhy/baike/s%3D220/sign=34a9b1e93ffae6cd08b4ac633fb20f9e/4bed2e738bd4b31c2483c4658dd6277f9f2ff8b5.jpg\" style=\"width:220px;height:146px;\"/>\n",
      "</div>\n",
      "<div class=\"description\">\n",
      "å¯¼å¼æ è¯<span class=\"number\">(3å¼ )</span>\n",
      "</div>\n",
      "<div class=\"albumBg\">\n",
      "<div class=\"albumBgFir\" style=\"width:214px;\"></div>\n",
      "<div class=\"albumBgSec\" style=\"width:208px;\"></div>\n",
      "</div>\n",
      "</a>, <a class=\"sup-anchor\" name=\"ref_[98]_14765801\"> </a>, <a class=\"lemma-album layout-right nslog:10000206\" href=\"/pic/%E5%8C%97%E4%BA%AC%E5%9C%B0%E9%93%81/408485/22356211/d0c8a786c9177f3e5b76bfdd7acf3bc79e3d569b?fr=lemma&amp;ct=cover\" nslog-type=\"10000206\" style=\"width:222px;\" target=\"_blank\" title=\"åç¨ç¥¨\">\n",
      "<div class=\"album-wrap\" style=\"width:220px;height:139px;\">\n",
      "<img alt=\"åç¨ç¥¨\" class=\"picture\" src=\"https://gss0.bdstatic.com/-4o3dSag_xI4khGkpoWK1HF6hhy/baike/s%3D220/sign=ac900026adefce1bee2bcfc89f50f3e8/d0c8a786c9177f3e5b76bfdd7acf3bc79e3d569b.jpg\" style=\"width:220px;height:139px;\"/>\n",
      "</div>\n",
      "<div class=\"description\">\n",
      "åç¨ç¥¨<span class=\"number\">(2å¼ )</span>\n",
      "</div>\n",
      "<div class=\"albumBg\">\n",
      "<div class=\"albumBgFir\" style=\"width:214px;\"></div>\n",
      "<div class=\"albumBgSec\" style=\"width:208px;\"></div>\n",
      "</div>\n",
      "</a>, <a class=\"sup-anchor\" name=\"ref_[99]_14765801\"> </a>, <a name=\"ref_99\"></a>, <a class=\"sup-anchor\" name=\"ref_[100]_14765801\"> </a>, <a href=\"/item/%E5%8C%97%E4%BA%AC%E9%80%9A-%E6%B0%91%E6%94%BF%E4%B8%80%E5%8D%A1%E9%80%9A\" target=\"_blank\">åäº¬é-æ°æ¿ä¸å¡é</a>, <a class=\"sup-anchor\" name=\"ref_[101]_14765801\"> </a>, <a href=\"/item/%E5%B8%82%E6%94%BF%E4%BA%A4%E9%80%9A%E4%B8%80%E5%8D%A1%E9%80%9A\" target=\"_blank\">å¸æ¿äº¤éä¸å¡é</a>, <a class=\"sup-anchor\" name=\"ref_[102]_14765801\"> </a>, <a class=\"sup-anchor\" name=\"ref_[103]_14765801\"> </a>, <a class=\"sup-anchor\" name=\"ref_[104]_14765801\"> </a>, <a class=\"sup-anchor\" name=\"ref_[48]_14765801\"> </a>, <a class=\"sup-anchor\" name=\"ref_[105]_14765801\"> </a>, <a class=\"sup-anchor\" name=\"ref_[106]_14765801\"> </a>, <a class=\"sup-anchor\" name=\"ref_[107]_14765801\"> </a>, <a class=\"sup-anchor\" name=\"ref_[108-109]_14765801\"> </a>, <a class=\"sup-anchor\" name=\"ref_[110]_14765801\"> </a>, <a class=\"sup-anchor\" name=\"ref_[111]_14765801\"> </a>, <a class=\"sup-anchor\" name=\"ref_[99]_14765801\"> </a>, <a name=\"ref_99\"></a>, <a class=\"sup-anchor\" name=\"ref_[112]_14765801\"> </a>, <a class=\"sup-anchor\" name=\"ref_[113]_14765801\"> </a>, <a class=\"sup-anchor\" name=\"ref_[114]_14765801\"> </a>, <a class=\"sup-anchor\" name=\"ref_[115]_14765801\"> </a>, <a class=\"sup-anchor\" name=\"ref_[116]_14765801\"> </a>, <a class=\"lemma-album layout-right nslog:10000206\" href=\"/pic/%E5%8C%97%E4%BA%AC%E5%9C%B0%E9%93%81/408485/22388126/e61190ef76c6a7ef8ce3ddf8f7faaf51f2de6622?fr=lemma&amp;ct=cover\" nslog-type=\"10000206\" style=\"width:222px;\" target=\"_blank\" title=\"ç¹è²ç«ç¹\">\n",
      "<div class=\"album-wrap\" style=\"width:220px;height:125px;\">\n",
      "<img alt=\"ç¹è²ç«ç¹\" class=\"picture\" src=\"https://gss2.bdstatic.com/9fo3dSag_xI4khGkpoWK1HF6hhy/baike/s%3D220/sign=97c1f6ee30f33a879a6d0718f65e1018/e61190ef76c6a7ef8ce3ddf8f7faaf51f2de6622.jpg\" style=\"width:220px;height:125px;\"/>\n",
      "</div>\n",
      "<div class=\"description\">\n",
      "ç¹è²ç«ç¹<span class=\"number\">(4å¼ )</span>\n",
      "</div>\n",
      "<div class=\"albumBg\">\n",
      "<div class=\"albumBgFir\" style=\"width:214px;\"></div>\n",
      "<div class=\"albumBgSec\" style=\"width:208px;\"></div>\n",
      "</div>\n",
      "</a>, <a class=\"sup-anchor\" name=\"ref_[132]_14765801\"> </a>, <a class=\"sup-anchor\" name=\"ref_[133]_14765801\"> </a>, <a class=\"sup-anchor\" name=\"ref_[134]_14765801\"> </a>, <a class=\"sup-anchor\" name=\"ref_[135]_14765801\"> </a>, <a class=\"sup-anchor\" name=\"ref_[136]_14765801\"> </a>]\n"
     ]
    }
   ],
   "source": [
    "print(metro)"
   ]
  },
  {
   "cell_type": "code",
   "execution_count": 60,
   "metadata": {},
   "outputs": [
    {
     "data": {
      "text/plain": [
       "A    1\n",
       "B    2\n",
       "c    3\n",
       "D    4\n",
       "E    5\n",
       "dtype: int64"
      ]
     },
     "execution_count": 60,
     "metadata": {},
     "output_type": "execute_result"
    }
   ],
   "source": [
    "Series([1,2,3,4,5],index=['A','B',\"c\",\"D\",\"E\"])"
   ]
  },
  {
   "cell_type": "code",
   "execution_count": 61,
   "metadata": {},
   "outputs": [],
   "source": [
    "from pandas import DataFrame"
   ]
  },
  {
   "cell_type": "code",
   "execution_count": 62,
   "metadata": {},
   "outputs": [],
   "source": [
    "data = {'score':[98,61,78,81],'name':[\"xiaoming\",\"zhihong\",\"wangyue\",\"xijian\"],\n",
    "       'sex':['female','male','male','female']}"
   ]
  },
  {
   "cell_type": "code",
   "execution_count": 63,
   "metadata": {},
   "outputs": [
    {
     "data": {
      "text/plain": [
       "{'score': [98, 61, 78, 81],\n",
       " 'name': ['xiaoming', 'zhihong', 'wangyue', 'xijian'],\n",
       " 'sex': ['female', 'male', 'male', 'female']}"
      ]
     },
     "execution_count": 63,
     "metadata": {},
     "output_type": "execute_result"
    }
   ],
   "source": [
    "data"
   ]
  },
  {
   "cell_type": "code",
   "execution_count": 64,
   "metadata": {},
   "outputs": [],
   "source": [
    "frame = DataFrame(data)"
   ]
  },
  {
   "cell_type": "code",
   "execution_count": 66,
   "metadata": {},
   "outputs": [
    {
     "data": {
      "text/html": [
       "<div>\n",
       "<style scoped>\n",
       "    .dataframe tbody tr th:only-of-type {\n",
       "        vertical-align: middle;\n",
       "    }\n",
       "\n",
       "    .dataframe tbody tr th {\n",
       "        vertical-align: top;\n",
       "    }\n",
       "\n",
       "    .dataframe thead th {\n",
       "        text-align: right;\n",
       "    }\n",
       "</style>\n",
       "<table border=\"1\" class=\"dataframe\">\n",
       "  <thead>\n",
       "    <tr style=\"text-align: right;\">\n",
       "      <th></th>\n",
       "      <th>score</th>\n",
       "      <th>name</th>\n",
       "      <th>sex</th>\n",
       "    </tr>\n",
       "  </thead>\n",
       "  <tbody>\n",
       "    <tr>\n",
       "      <th>0</th>\n",
       "      <td>98</td>\n",
       "      <td>xiaoming</td>\n",
       "      <td>female</td>\n",
       "    </tr>\n",
       "    <tr>\n",
       "      <th>1</th>\n",
       "      <td>61</td>\n",
       "      <td>zhihong</td>\n",
       "      <td>male</td>\n",
       "    </tr>\n",
       "    <tr>\n",
       "      <th>2</th>\n",
       "      <td>78</td>\n",
       "      <td>wangyue</td>\n",
       "      <td>male</td>\n",
       "    </tr>\n",
       "    <tr>\n",
       "      <th>3</th>\n",
       "      <td>81</td>\n",
       "      <td>xijian</td>\n",
       "      <td>female</td>\n",
       "    </tr>\n",
       "  </tbody>\n",
       "</table>\n",
       "</div>"
      ],
      "text/plain": [
       "   score      name     sex\n",
       "0     98  xiaoming  female\n",
       "1     61   zhihong    male\n",
       "2     78   wangyue    male\n",
       "3     81    xijian  female"
      ]
     },
     "execution_count": 66,
     "metadata": {},
     "output_type": "execute_result"
    }
   ],
   "source": [
    "frame"
   ]
  },
  {
   "cell_type": "code",
   "execution_count": 67,
   "metadata": {},
   "outputs": [
    {
     "data": {
      "text/html": [
       "<div>\n",
       "<style scoped>\n",
       "    .dataframe tbody tr th:only-of-type {\n",
       "        vertical-align: middle;\n",
       "    }\n",
       "\n",
       "    .dataframe tbody tr th {\n",
       "        vertical-align: top;\n",
       "    }\n",
       "\n",
       "    .dataframe thead th {\n",
       "        text-align: right;\n",
       "    }\n",
       "</style>\n",
       "<table border=\"1\" class=\"dataframe\">\n",
       "  <thead>\n",
       "    <tr style=\"text-align: right;\">\n",
       "      <th></th>\n",
       "      <th>name</th>\n",
       "      <th>sex</th>\n",
       "      <th>score</th>\n",
       "    </tr>\n",
       "  </thead>\n",
       "  <tbody>\n",
       "    <tr>\n",
       "      <th>0</th>\n",
       "      <td>xiaoming</td>\n",
       "      <td>female</td>\n",
       "      <td>98</td>\n",
       "    </tr>\n",
       "    <tr>\n",
       "      <th>1</th>\n",
       "      <td>zhihong</td>\n",
       "      <td>male</td>\n",
       "      <td>61</td>\n",
       "    </tr>\n",
       "    <tr>\n",
       "      <th>2</th>\n",
       "      <td>wangyue</td>\n",
       "      <td>male</td>\n",
       "      <td>78</td>\n",
       "    </tr>\n",
       "    <tr>\n",
       "      <th>3</th>\n",
       "      <td>xijian</td>\n",
       "      <td>female</td>\n",
       "      <td>81</td>\n",
       "    </tr>\n",
       "  </tbody>\n",
       "</table>\n",
       "</div>"
      ],
      "text/plain": [
       "       name     sex  score\n",
       "0  xiaoming  female     98\n",
       "1   zhihong    male     61\n",
       "2   wangyue    male     78\n",
       "3    xijian  female     81"
      ]
     },
     "execution_count": 67,
     "metadata": {},
     "output_type": "execute_result"
    }
   ],
   "source": [
    "DataFrame(data, columns=['name','sex','score'])"
   ]
  },
  {
   "cell_type": "code",
   "execution_count": 68,
   "metadata": {},
   "outputs": [
    {
     "data": {
      "text/plain": [
       "0    xiaoming\n",
       "1     zhihong\n",
       "2     wangyue\n",
       "3      xijian\n",
       "Name: name, dtype: object"
      ]
     },
     "execution_count": 68,
     "metadata": {},
     "output_type": "execute_result"
    }
   ],
   "source": [
    "frame['name']"
   ]
  },
  {
   "cell_type": "code",
   "execution_count": 74,
   "metadata": {},
   "outputs": [],
   "source": [
    "np.full?"
   ]
  },
  {
   "cell_type": "code",
   "execution_count": 78,
   "metadata": {},
   "outputs": [],
   "source": [
    "import numpy as np\n",
    "frame['score']= np.full((4,1),5)"
   ]
  },
  {
   "cell_type": "code",
   "execution_count": 79,
   "metadata": {},
   "outputs": [
    {
     "data": {
      "text/html": [
       "<div>\n",
       "<style scoped>\n",
       "    .dataframe tbody tr th:only-of-type {\n",
       "        vertical-align: middle;\n",
       "    }\n",
       "\n",
       "    .dataframe tbody tr th {\n",
       "        vertical-align: top;\n",
       "    }\n",
       "\n",
       "    .dataframe thead th {\n",
       "        text-align: right;\n",
       "    }\n",
       "</style>\n",
       "<table border=\"1\" class=\"dataframe\">\n",
       "  <thead>\n",
       "    <tr style=\"text-align: right;\">\n",
       "      <th></th>\n",
       "      <th>score</th>\n",
       "      <th>name</th>\n",
       "      <th>sex</th>\n",
       "    </tr>\n",
       "  </thead>\n",
       "  <tbody>\n",
       "    <tr>\n",
       "      <th>0</th>\n",
       "      <td>5</td>\n",
       "      <td>xiaoming</td>\n",
       "      <td>female</td>\n",
       "    </tr>\n",
       "    <tr>\n",
       "      <th>1</th>\n",
       "      <td>5</td>\n",
       "      <td>zhihong</td>\n",
       "      <td>male</td>\n",
       "    </tr>\n",
       "    <tr>\n",
       "      <th>2</th>\n",
       "      <td>5</td>\n",
       "      <td>wangyue</td>\n",
       "      <td>male</td>\n",
       "    </tr>\n",
       "    <tr>\n",
       "      <th>3</th>\n",
       "      <td>5</td>\n",
       "      <td>xijian</td>\n",
       "      <td>female</td>\n",
       "    </tr>\n",
       "  </tbody>\n",
       "</table>\n",
       "</div>"
      ],
      "text/plain": [
       "   score      name     sex\n",
       "0      5  xiaoming  female\n",
       "1      5   zhihong    male\n",
       "2      5   wangyue    male\n",
       "3      5    xijian  female"
      ]
     },
     "execution_count": 79,
     "metadata": {},
     "output_type": "execute_result"
    }
   ],
   "source": [
    "frame"
   ]
  },
  {
   "cell_type": "code",
   "execution_count": 85,
   "metadata": {},
   "outputs": [],
   "source": [
    "frame['address'] = 'beijing'"
   ]
  },
  {
   "cell_type": "code",
   "execution_count": 86,
   "metadata": {},
   "outputs": [
    {
     "data": {
      "text/html": [
       "<div>\n",
       "<style scoped>\n",
       "    .dataframe tbody tr th:only-of-type {\n",
       "        vertical-align: middle;\n",
       "    }\n",
       "\n",
       "    .dataframe tbody tr th {\n",
       "        vertical-align: top;\n",
       "    }\n",
       "\n",
       "    .dataframe thead th {\n",
       "        text-align: right;\n",
       "    }\n",
       "</style>\n",
       "<table border=\"1\" class=\"dataframe\">\n",
       "  <thead>\n",
       "    <tr style=\"text-align: right;\">\n",
       "      <th></th>\n",
       "      <th>score</th>\n",
       "      <th>name</th>\n",
       "      <th>sex</th>\n",
       "      <th>address</th>\n",
       "    </tr>\n",
       "  </thead>\n",
       "  <tbody>\n",
       "    <tr>\n",
       "      <th>0</th>\n",
       "      <td>5</td>\n",
       "      <td>xiaoming</td>\n",
       "      <td>female</td>\n",
       "      <td>beijing</td>\n",
       "    </tr>\n",
       "    <tr>\n",
       "      <th>1</th>\n",
       "      <td>5</td>\n",
       "      <td>zhihong</td>\n",
       "      <td>male</td>\n",
       "      <td>beijing</td>\n",
       "    </tr>\n",
       "    <tr>\n",
       "      <th>2</th>\n",
       "      <td>5</td>\n",
       "      <td>wangyue</td>\n",
       "      <td>male</td>\n",
       "      <td>beijing</td>\n",
       "    </tr>\n",
       "    <tr>\n",
       "      <th>3</th>\n",
       "      <td>5</td>\n",
       "      <td>xijian</td>\n",
       "      <td>female</td>\n",
       "      <td>beijing</td>\n",
       "    </tr>\n",
       "  </tbody>\n",
       "</table>\n",
       "</div>"
      ],
      "text/plain": [
       "   score      name     sex  address\n",
       "0      5  xiaoming  female  beijing\n",
       "1      5   zhihong    male  beijing\n",
       "2      5   wangyue    male  beijing\n",
       "3      5    xijian  female  beijing"
      ]
     },
     "execution_count": 86,
     "metadata": {},
     "output_type": "execute_result"
    }
   ],
   "source": [
    "frame"
   ]
  },
  {
   "cell_type": "code",
   "execution_count": 88,
   "metadata": {},
   "outputs": [],
   "source": [
    "del frame['address']"
   ]
  },
  {
   "cell_type": "code",
   "execution_count": 89,
   "metadata": {},
   "outputs": [
    {
     "data": {
      "text/html": [
       "<div>\n",
       "<style scoped>\n",
       "    .dataframe tbody tr th:only-of-type {\n",
       "        vertical-align: middle;\n",
       "    }\n",
       "\n",
       "    .dataframe tbody tr th {\n",
       "        vertical-align: top;\n",
       "    }\n",
       "\n",
       "    .dataframe thead th {\n",
       "        text-align: right;\n",
       "    }\n",
       "</style>\n",
       "<table border=\"1\" class=\"dataframe\">\n",
       "  <thead>\n",
       "    <tr style=\"text-align: right;\">\n",
       "      <th></th>\n",
       "      <th>score</th>\n",
       "      <th>name</th>\n",
       "      <th>sex</th>\n",
       "    </tr>\n",
       "  </thead>\n",
       "  <tbody>\n",
       "    <tr>\n",
       "      <th>0</th>\n",
       "      <td>5</td>\n",
       "      <td>xiaoming</td>\n",
       "      <td>female</td>\n",
       "    </tr>\n",
       "    <tr>\n",
       "      <th>1</th>\n",
       "      <td>5</td>\n",
       "      <td>zhihong</td>\n",
       "      <td>male</td>\n",
       "    </tr>\n",
       "    <tr>\n",
       "      <th>2</th>\n",
       "      <td>5</td>\n",
       "      <td>wangyue</td>\n",
       "      <td>male</td>\n",
       "    </tr>\n",
       "    <tr>\n",
       "      <th>3</th>\n",
       "      <td>5</td>\n",
       "      <td>xijian</td>\n",
       "      <td>female</td>\n",
       "    </tr>\n",
       "  </tbody>\n",
       "</table>\n",
       "</div>"
      ],
      "text/plain": [
       "   score      name     sex\n",
       "0      5  xiaoming  female\n",
       "1      5   zhihong    male\n",
       "2      5   wangyue    male\n",
       "3      5    xijian  female"
      ]
     },
     "execution_count": 89,
     "metadata": {},
     "output_type": "execute_result"
    }
   ],
   "source": [
    "frame"
   ]
  },
  {
   "cell_type": "code",
   "execution_count": 90,
   "metadata": {},
   "outputs": [
    {
     "data": {
      "text/html": [
       "<div>\n",
       "<style scoped>\n",
       "    .dataframe tbody tr th:only-of-type {\n",
       "        vertical-align: middle;\n",
       "    }\n",
       "\n",
       "    .dataframe tbody tr th {\n",
       "        vertical-align: top;\n",
       "    }\n",
       "\n",
       "    .dataframe thead th {\n",
       "        text-align: right;\n",
       "    }\n",
       "</style>\n",
       "<table border=\"1\" class=\"dataframe\">\n",
       "  <thead>\n",
       "    <tr style=\"text-align: right;\">\n",
       "      <th></th>\n",
       "      <th>0</th>\n",
       "      <th>1</th>\n",
       "      <th>2</th>\n",
       "      <th>3</th>\n",
       "    </tr>\n",
       "  </thead>\n",
       "  <tbody>\n",
       "    <tr>\n",
       "      <th>score</th>\n",
       "      <td>5</td>\n",
       "      <td>5</td>\n",
       "      <td>5</td>\n",
       "      <td>5</td>\n",
       "    </tr>\n",
       "    <tr>\n",
       "      <th>name</th>\n",
       "      <td>xiaoming</td>\n",
       "      <td>zhihong</td>\n",
       "      <td>wangyue</td>\n",
       "      <td>xijian</td>\n",
       "    </tr>\n",
       "    <tr>\n",
       "      <th>sex</th>\n",
       "      <td>female</td>\n",
       "      <td>male</td>\n",
       "      <td>male</td>\n",
       "      <td>female</td>\n",
       "    </tr>\n",
       "  </tbody>\n",
       "</table>\n",
       "</div>"
      ],
      "text/plain": [
       "              0        1        2       3\n",
       "score         5        5        5       5\n",
       "name   xiaoming  zhihong  wangyue  xijian\n",
       "sex      female     male     male  female"
      ]
     },
     "execution_count": 90,
     "metadata": {},
     "output_type": "execute_result"
    }
   ],
   "source": [
    "frame.T"
   ]
  },
  {
   "cell_type": "code",
   "execution_count": 93,
   "metadata": {},
   "outputs": [
    {
     "data": {
      "text/html": [
       "<div>\n",
       "<style scoped>\n",
       "    .dataframe tbody tr th:only-of-type {\n",
       "        vertical-align: middle;\n",
       "    }\n",
       "\n",
       "    .dataframe tbody tr th {\n",
       "        vertical-align: top;\n",
       "    }\n",
       "\n",
       "    .dataframe thead th {\n",
       "        text-align: right;\n",
       "    }\n",
       "</style>\n",
       "<table border=\"1\" class=\"dataframe\">\n",
       "  <thead>\n",
       "    <tr style=\"text-align: right;\">\n",
       "      <th></th>\n",
       "      <th>score</th>\n",
       "      <th>name</th>\n",
       "      <th>sex</th>\n",
       "    </tr>\n",
       "  </thead>\n",
       "  <tbody>\n",
       "    <tr>\n",
       "      <th>0</th>\n",
       "      <td>5.0</td>\n",
       "      <td>xiaoming</td>\n",
       "      <td>female</td>\n",
       "    </tr>\n",
       "    <tr>\n",
       "      <th>1</th>\n",
       "      <td>5.0</td>\n",
       "      <td>zhihong</td>\n",
       "      <td>male</td>\n",
       "    </tr>\n",
       "    <tr>\n",
       "      <th>2</th>\n",
       "      <td>5.0</td>\n",
       "      <td>wangyue</td>\n",
       "      <td>male</td>\n",
       "    </tr>\n",
       "    <tr>\n",
       "      <th>3</th>\n",
       "      <td>5.0</td>\n",
       "      <td>xijian</td>\n",
       "      <td>female</td>\n",
       "    </tr>\n",
       "    <tr>\n",
       "      <th>4</th>\n",
       "      <td>NaN</td>\n",
       "      <td>NaN</td>\n",
       "      <td>NaN</td>\n",
       "    </tr>\n",
       "  </tbody>\n",
       "</table>\n",
       "</div>"
      ],
      "text/plain": [
       "   score      name     sex\n",
       "0    5.0  xiaoming  female\n",
       "1    5.0   zhihong    male\n",
       "2    5.0   wangyue    male\n",
       "3    5.0    xijian  female\n",
       "4    NaN       NaN     NaN"
      ]
     },
     "execution_count": 93,
     "metadata": {},
     "output_type": "execute_result"
    }
   ],
   "source": [
    "frame.reindex(np.arange(5))"
   ]
  },
  {
   "cell_type": "code",
   "execution_count": 95,
   "metadata": {},
   "outputs": [
    {
     "data": {
      "text/html": [
       "<div>\n",
       "<style scoped>\n",
       "    .dataframe tbody tr th:only-of-type {\n",
       "        vertical-align: middle;\n",
       "    }\n",
       "\n",
       "    .dataframe tbody tr th {\n",
       "        vertical-align: top;\n",
       "    }\n",
       "\n",
       "    .dataframe thead th {\n",
       "        text-align: right;\n",
       "    }\n",
       "</style>\n",
       "<table border=\"1\" class=\"dataframe\">\n",
       "  <thead>\n",
       "    <tr style=\"text-align: right;\">\n",
       "      <th></th>\n",
       "      <th>score</th>\n",
       "      <th>name</th>\n",
       "      <th>sex</th>\n",
       "    </tr>\n",
       "  </thead>\n",
       "  <tbody>\n",
       "    <tr>\n",
       "      <th>0</th>\n",
       "      <td>5</td>\n",
       "      <td>xiaoming</td>\n",
       "      <td>female</td>\n",
       "    </tr>\n",
       "    <tr>\n",
       "      <th>1</th>\n",
       "      <td>5</td>\n",
       "      <td>zhihong</td>\n",
       "      <td>male</td>\n",
       "    </tr>\n",
       "    <tr>\n",
       "      <th>2</th>\n",
       "      <td>5</td>\n",
       "      <td>wangyue</td>\n",
       "      <td>male</td>\n",
       "    </tr>\n",
       "    <tr>\n",
       "      <th>3</th>\n",
       "      <td>5</td>\n",
       "      <td>xijian</td>\n",
       "      <td>female</td>\n",
       "    </tr>\n",
       "    <tr>\n",
       "      <th>4</th>\n",
       "      <td>1</td>\n",
       "      <td>1</td>\n",
       "      <td>1</td>\n",
       "    </tr>\n",
       "  </tbody>\n",
       "</table>\n",
       "</div>"
      ],
      "text/plain": [
       "   score      name     sex\n",
       "0      5  xiaoming  female\n",
       "1      5   zhihong    male\n",
       "2      5   wangyue    male\n",
       "3      5    xijian  female\n",
       "4      1         1       1"
      ]
     },
     "execution_count": 95,
     "metadata": {},
     "output_type": "execute_result"
    }
   ],
   "source": [
    "frame.reindex(np.arange(5),fill_value=1)"
   ]
  },
  {
   "cell_type": "code",
   "execution_count": 96,
   "metadata": {},
   "outputs": [
    {
     "data": {
      "text/html": [
       "<div>\n",
       "<style scoped>\n",
       "    .dataframe tbody tr th:only-of-type {\n",
       "        vertical-align: middle;\n",
       "    }\n",
       "\n",
       "    .dataframe tbody tr th {\n",
       "        vertical-align: top;\n",
       "    }\n",
       "\n",
       "    .dataframe thead th {\n",
       "        text-align: right;\n",
       "    }\n",
       "</style>\n",
       "<table border=\"1\" class=\"dataframe\">\n",
       "  <thead>\n",
       "    <tr style=\"text-align: right;\">\n",
       "      <th></th>\n",
       "      <th>score</th>\n",
       "      <th>name</th>\n",
       "      <th>sex</th>\n",
       "    </tr>\n",
       "  </thead>\n",
       "  <tbody>\n",
       "    <tr>\n",
       "      <th>0</th>\n",
       "      <td>5</td>\n",
       "      <td>xiaoming</td>\n",
       "      <td>female</td>\n",
       "    </tr>\n",
       "    <tr>\n",
       "      <th>1</th>\n",
       "      <td>5</td>\n",
       "      <td>zhihong</td>\n",
       "      <td>male</td>\n",
       "    </tr>\n",
       "    <tr>\n",
       "      <th>2</th>\n",
       "      <td>5</td>\n",
       "      <td>wangyue</td>\n",
       "      <td>male</td>\n",
       "    </tr>\n",
       "    <tr>\n",
       "      <th>3</th>\n",
       "      <td>5</td>\n",
       "      <td>xijian</td>\n",
       "      <td>female</td>\n",
       "    </tr>\n",
       "    <tr>\n",
       "      <th>4</th>\n",
       "      <td>5</td>\n",
       "      <td>xijian</td>\n",
       "      <td>female</td>\n",
       "    </tr>\n",
       "  </tbody>\n",
       "</table>\n",
       "</div>"
      ],
      "text/plain": [
       "   score      name     sex\n",
       "0      5  xiaoming  female\n",
       "1      5   zhihong    male\n",
       "2      5   wangyue    male\n",
       "3      5    xijian  female\n",
       "4      5    xijian  female"
      ]
     },
     "execution_count": 96,
     "metadata": {},
     "output_type": "execute_result"
    }
   ],
   "source": [
    "frame.reindex(np.arange(5),method='ffill')"
   ]
  },
  {
   "cell_type": "code",
   "execution_count": 98,
   "metadata": {},
   "outputs": [],
   "source": [
    "a =np.arange(16).reshape(4,-1)"
   ]
  },
  {
   "cell_type": "code",
   "execution_count": 99,
   "metadata": {},
   "outputs": [
    {
     "data": {
      "text/plain": [
       "array([[ 0,  1,  2,  3],\n",
       "       [ 4,  5,  6,  7],\n",
       "       [ 8,  9, 10, 11],\n",
       "       [12, 13, 14, 15]])"
      ]
     },
     "execution_count": 99,
     "metadata": {},
     "output_type": "execute_result"
    }
   ],
   "source": [
    "a"
   ]
  },
  {
   "cell_type": "code",
   "execution_count": 100,
   "metadata": {},
   "outputs": [
    {
     "data": {
      "text/plain": [
       "array([0, 1, 2, 3])"
      ]
     },
     "execution_count": 100,
     "metadata": {},
     "output_type": "execute_result"
    }
   ],
   "source": [
    "a[0]"
   ]
  },
  {
   "cell_type": "code",
   "execution_count": 101,
   "metadata": {},
   "outputs": [
    {
     "data": {
      "text/plain": [
       "array([[ 0,  0,  0,  0],\n",
       "       [ 4,  4,  4,  4],\n",
       "       [ 8,  8,  8,  8],\n",
       "       [12, 12, 12, 12]])"
      ]
     },
     "execution_count": 101,
     "metadata": {},
     "output_type": "execute_result"
    }
   ],
   "source": [
    "a-a[0]"
   ]
  },
  {
   "cell_type": "code",
   "execution_count": 102,
   "metadata": {},
   "outputs": [
    {
     "data": {
      "text/plain": [
       "array([[ 0,  1,  2,  3],\n",
       "       [ 4,  5,  6,  7],\n",
       "       [ 8,  9, 10, 11],\n",
       "       [12, 13, 14, 15]])"
      ]
     },
     "execution_count": 102,
     "metadata": {},
     "output_type": "execute_result"
    }
   ],
   "source": [
    "a"
   ]
  },
  {
   "cell_type": "code",
   "execution_count": 103,
   "metadata": {},
   "outputs": [
    {
     "data": {
      "text/plain": [
       "array([[-1,  0,  1,  2],\n",
       "       [ 3,  4,  5,  6],\n",
       "       [ 7,  8,  9, 10],\n",
       "       [11, 12, 13, 14]])"
      ]
     },
     "execution_count": 103,
     "metadata": {},
     "output_type": "execute_result"
    }
   ],
   "source": [
    "a-1"
   ]
  },
  {
   "cell_type": "code",
   "execution_count": 106,
   "metadata": {},
   "outputs": [
    {
     "data": {
      "text/html": [
       "<div>\n",
       "<style scoped>\n",
       "    .dataframe tbody tr th:only-of-type {\n",
       "        vertical-align: middle;\n",
       "    }\n",
       "\n",
       "    .dataframe tbody tr th {\n",
       "        vertical-align: top;\n",
       "    }\n",
       "\n",
       "    .dataframe thead th {\n",
       "        text-align: right;\n",
       "    }\n",
       "</style>\n",
       "<table border=\"1\" class=\"dataframe\">\n",
       "  <thead>\n",
       "    <tr style=\"text-align: right;\">\n",
       "      <th></th>\n",
       "      <th>开通日期</th>\n",
       "      <th>开通路线</th>\n",
       "      <th>开通路段</th>\n",
       "      <th>开通区间</th>\n",
       "    </tr>\n",
       "  </thead>\n",
       "  <tbody>\n",
       "    <tr>\n",
       "      <th>0</th>\n",
       "      <td>1969年10月1日</td>\n",
       "      <td>北京地铁一期路线（不开放）</td>\n",
       "      <td>地下铁一期</td>\n",
       "      <td>古城路-北京站</td>\n",
       "    </tr>\n",
       "    <tr>\n",
       "      <th>1</th>\n",
       "      <td>1971年1月15日</td>\n",
       "      <td>北京地铁一期路线</td>\n",
       "      <td>地下铁一期</td>\n",
       "      <td>公主坟-北京站</td>\n",
       "    </tr>\n",
       "    <tr>\n",
       "      <th>2</th>\n",
       "      <td>1971年8月5日</td>\n",
       "      <td>北京地铁一期路线</td>\n",
       "      <td>地下铁一期</td>\n",
       "      <td>玉泉路-公主坟</td>\n",
       "    </tr>\n",
       "    <tr>\n",
       "      <th>3</th>\n",
       "      <td>1971年11月7日</td>\n",
       "      <td>北京地铁一期路线</td>\n",
       "      <td>地下铁一期</td>\n",
       "      <td>古城-玉泉路</td>\n",
       "    </tr>\n",
       "    <tr>\n",
       "      <th>4</th>\n",
       "      <td>1973年4月23日</td>\n",
       "      <td>北京地铁一期路线</td>\n",
       "      <td>地下铁一期</td>\n",
       "      <td>苹果园-古城</td>\n",
       "    </tr>\n",
       "    <tr>\n",
       "      <th>5</th>\n",
       "      <td>1984年9月20日</td>\n",
       "      <td>北京地铁二期路线</td>\n",
       "      <td>地下铁二期</td>\n",
       "      <td>复兴门-北京站（北半环）</td>\n",
       "    </tr>\n",
       "    <tr>\n",
       "      <th>6</th>\n",
       "      <td>1987年12月28日</td>\n",
       "      <td>复兴门折返线</td>\n",
       "      <td>1号线西段</td>\n",
       "      <td>南礼士路-复兴门</td>\n",
       "    </tr>\n",
       "    <tr>\n",
       "      <th>7</th>\n",
       "      <td>1987年12月28日</td>\n",
       "      <td>北京地铁环线</td>\n",
       "      <td>环形贯通</td>\n",
       "      <td>复兴门-长椿街</td>\n",
       "    </tr>\n",
       "    <tr>\n",
       "      <th>8</th>\n",
       "      <td>1992年12月12日</td>\n",
       "      <td>北京地铁1号线</td>\n",
       "      <td>1号线西段</td>\n",
       "      <td>复兴门-西单</td>\n",
       "    </tr>\n",
       "    <tr>\n",
       "      <th>9</th>\n",
       "      <td>1999年9月28日</td>\n",
       "      <td>北京地铁复八线</td>\n",
       "      <td>复八线东段</td>\n",
       "      <td>天安门西-四惠东</td>\n",
       "    </tr>\n",
       "    <tr>\n",
       "      <th>10</th>\n",
       "      <td>2000年6月28日</td>\n",
       "      <td>北京地铁1号线</td>\n",
       "      <td>1号线贯通</td>\n",
       "      <td>西单-天安门西</td>\n",
       "    </tr>\n",
       "    <tr>\n",
       "      <th>11</th>\n",
       "      <td>2002年9月28日</td>\n",
       "      <td>北京地铁13号线</td>\n",
       "      <td>西半部</td>\n",
       "      <td>西直门-霍营</td>\n",
       "    </tr>\n",
       "    <tr>\n",
       "      <th>12</th>\n",
       "      <td>2003年1月28日</td>\n",
       "      <td>北京地铁13号线</td>\n",
       "      <td>东半部</td>\n",
       "      <td>霍营-东直门</td>\n",
       "    </tr>\n",
       "    <tr>\n",
       "      <th>13</th>\n",
       "      <td>2003年12月27日</td>\n",
       "      <td>北京地铁八通线</td>\n",
       "      <td>全线</td>\n",
       "      <td>四惠-土桥</td>\n",
       "    </tr>\n",
       "    <tr>\n",
       "      <th>14</th>\n",
       "      <td>2007年10月7日</td>\n",
       "      <td>北京地铁5号线</td>\n",
       "      <td>全线</td>\n",
       "      <td>天通苑北-宋家庄</td>\n",
       "    </tr>\n",
       "    <tr>\n",
       "      <th>15</th>\n",
       "      <td>2008年7月19日</td>\n",
       "      <td>北京地铁8号线</td>\n",
       "      <td>一期</td>\n",
       "      <td>森林公园南门-北土城</td>\n",
       "    </tr>\n",
       "    <tr>\n",
       "      <th>16</th>\n",
       "      <td>2008年7月19日</td>\n",
       "      <td>北京地铁10号线</td>\n",
       "      <td>一期</td>\n",
       "      <td>巴沟-劲松</td>\n",
       "    </tr>\n",
       "    <tr>\n",
       "      <th>17</th>\n",
       "      <td>2008年7月19日</td>\n",
       "      <td>北京地铁机场线</td>\n",
       "      <td>全线</td>\n",
       "      <td>东直门-首都机场T2/T3航站楼</td>\n",
       "    </tr>\n",
       "    <tr>\n",
       "      <th>18</th>\n",
       "      <td>2009年9月28日</td>\n",
       "      <td>北京地铁4号线</td>\n",
       "      <td>全线</td>\n",
       "      <td>安河桥北-公益西桥</td>\n",
       "    </tr>\n",
       "    <tr>\n",
       "      <th>19</th>\n",
       "      <td>2010年12月30日</td>\n",
       "      <td>北京地铁15号线</td>\n",
       "      <td>一期西段</td>\n",
       "      <td>望京西-后沙峪</td>\n",
       "    </tr>\n",
       "    <tr>\n",
       "      <th>20</th>\n",
       "      <td>2010年12月30日</td>\n",
       "      <td>北京地铁昌平线</td>\n",
       "      <td>一期</td>\n",
       "      <td>南邵-西二旗</td>\n",
       "    </tr>\n",
       "    <tr>\n",
       "      <th>21</th>\n",
       "      <td>2010年12月30日</td>\n",
       "      <td>北京地铁大兴线</td>\n",
       "      <td>全线</td>\n",
       "      <td>新宫-天宫院</td>\n",
       "    </tr>\n",
       "    <tr>\n",
       "      <th>22</th>\n",
       "      <td>2010年12月30日</td>\n",
       "      <td>北京地铁房山线</td>\n",
       "      <td>一期大部分</td>\n",
       "      <td>大葆台-苏庄</td>\n",
       "    </tr>\n",
       "    <tr>\n",
       "      <th>23</th>\n",
       "      <td>2010年12月30日</td>\n",
       "      <td>北京地铁亦庄线</td>\n",
       "      <td>全线</td>\n",
       "      <td>宋家庄-次渠</td>\n",
       "    </tr>\n",
       "    <tr>\n",
       "      <th>24</th>\n",
       "      <td>2011年12月31日</td>\n",
       "      <td>北京地铁8号线</td>\n",
       "      <td>二期北段</td>\n",
       "      <td>回龙观东大街-森林公园南门</td>\n",
       "    </tr>\n",
       "    <tr>\n",
       "      <th>25</th>\n",
       "      <td>2011年12月31日</td>\n",
       "      <td>北京地铁9号线</td>\n",
       "      <td>南段</td>\n",
       "      <td>北京西站-郭公庄</td>\n",
       "    </tr>\n",
       "    <tr>\n",
       "      <th>26</th>\n",
       "      <td>2011年12月31日</td>\n",
       "      <td>北京地铁15号线</td>\n",
       "      <td>一期东段</td>\n",
       "      <td>后沙峪-俸伯</td>\n",
       "    </tr>\n",
       "    <tr>\n",
       "      <th>27</th>\n",
       "      <td>2011年12月31日</td>\n",
       "      <td>北京地铁房山线</td>\n",
       "      <td>一期剩余段</td>\n",
       "      <td>大葆台-郭公庄</td>\n",
       "    </tr>\n",
       "    <tr>\n",
       "      <th>28</th>\n",
       "      <td>2012年12月30日</td>\n",
       "      <td>北京地铁6号线</td>\n",
       "      <td>一期</td>\n",
       "      <td>海淀五路居-草房</td>\n",
       "    </tr>\n",
       "    <tr>\n",
       "      <th>29</th>\n",
       "      <td>2012年12月30日</td>\n",
       "      <td>北京地铁8号线</td>\n",
       "      <td>二期南段</td>\n",
       "      <td>北土城-鼓楼大街</td>\n",
       "    </tr>\n",
       "    <tr>\n",
       "      <th>30</th>\n",
       "      <td>2012年12月30日</td>\n",
       "      <td>北京地铁9号线</td>\n",
       "      <td>北段</td>\n",
       "      <td>国家图书馆-北京西站</td>\n",
       "    </tr>\n",
       "    <tr>\n",
       "      <th>31</th>\n",
       "      <td>2012年12月30日</td>\n",
       "      <td>北京地铁10号线</td>\n",
       "      <td>二期大部分</td>\n",
       "      <td>巴沟-西局；首经贸-劲松</td>\n",
       "    </tr>\n",
       "    <tr>\n",
       "      <th>32</th>\n",
       "      <td>2013年5月5日</td>\n",
       "      <td>北京地铁10号线</td>\n",
       "      <td>二期剩余段</td>\n",
       "      <td>西局-首经贸</td>\n",
       "    </tr>\n",
       "    <tr>\n",
       "      <th>33</th>\n",
       "      <td>2013年5月5日</td>\n",
       "      <td>北京地铁14号线</td>\n",
       "      <td>西段</td>\n",
       "      <td>西局-张郭庄</td>\n",
       "    </tr>\n",
       "    <tr>\n",
       "      <th>34</th>\n",
       "      <td>2013年12月28日</td>\n",
       "      <td>北京地铁8号线</td>\n",
       "      <td>二期南段</td>\n",
       "      <td>鼓楼大街-南锣鼓巷</td>\n",
       "    </tr>\n",
       "    <tr>\n",
       "      <th>35</th>\n",
       "      <td>2013年12月28日</td>\n",
       "      <td>北京地铁8号线</td>\n",
       "      <td>昌八联络线</td>\n",
       "      <td>回龙观东大街-朱辛庄</td>\n",
       "    </tr>\n",
       "    <tr>\n",
       "      <th>36</th>\n",
       "      <td>2014年12月28日</td>\n",
       "      <td>北京地铁6号线</td>\n",
       "      <td>二期</td>\n",
       "      <td>草房-潞城</td>\n",
       "    </tr>\n",
       "    <tr>\n",
       "      <th>37</th>\n",
       "      <td>2014年12月28日</td>\n",
       "      <td>北京地铁7号线</td>\n",
       "      <td>全线</td>\n",
       "      <td>北京西站-焦化厂</td>\n",
       "    </tr>\n",
       "    <tr>\n",
       "      <th>38</th>\n",
       "      <td>2014年12月28日</td>\n",
       "      <td>北京地铁14号线</td>\n",
       "      <td>东段</td>\n",
       "      <td>金台路-善各庄</td>\n",
       "    </tr>\n",
       "    <tr>\n",
       "      <th>39</th>\n",
       "      <td>2014年12月28日</td>\n",
       "      <td>北京地铁15号线</td>\n",
       "      <td>一期西段</td>\n",
       "      <td>清华东路西口-望京西</td>\n",
       "    </tr>\n",
       "    <tr>\n",
       "      <th>40</th>\n",
       "      <td>2015年12月26日</td>\n",
       "      <td>北京地铁14号线</td>\n",
       "      <td>中段大部分</td>\n",
       "      <td>北京南站-金台路</td>\n",
       "    </tr>\n",
       "    <tr>\n",
       "      <th>41</th>\n",
       "      <td>2015年12月26日</td>\n",
       "      <td>北京地铁昌平线</td>\n",
       "      <td>二期</td>\n",
       "      <td>南邵-昌平西山口</td>\n",
       "    </tr>\n",
       "    <tr>\n",
       "      <th>42</th>\n",
       "      <td>2016年12月31日</td>\n",
       "      <td>北京地铁16号线</td>\n",
       "      <td>山后线段</td>\n",
       "      <td>北安河-西苑</td>\n",
       "    </tr>\n",
       "    <tr>\n",
       "      <th>43</th>\n",
       "      <td>2017年12月30日</td>\n",
       "      <td>北京地铁西郊线</td>\n",
       "      <td>全线</td>\n",
       "      <td>巴沟-香山</td>\n",
       "    </tr>\n",
       "    <tr>\n",
       "      <th>44</th>\n",
       "      <td>2017年12月30日</td>\n",
       "      <td>北京地铁S1线</td>\n",
       "      <td>全线</td>\n",
       "      <td>金安桥-石厂</td>\n",
       "    </tr>\n",
       "    <tr>\n",
       "      <th>45</th>\n",
       "      <td>2017年12月30日</td>\n",
       "      <td>北京地铁燕房线</td>\n",
       "      <td>主线</td>\n",
       "      <td>阎村东-燕山</td>\n",
       "    </tr>\n",
       "    <tr>\n",
       "      <th>46</th>\n",
       "      <td>2017年12月30日</td>\n",
       "      <td>北京地铁房山线</td>\n",
       "      <td>西延</td>\n",
       "      <td>苏庄-阎村东</td>\n",
       "    </tr>\n",
       "    <tr>\n",
       "      <th>47</th>\n",
       "      <td>2018年12月30日</td>\n",
       "      <td>北京地铁6号线</td>\n",
       "      <td>西延</td>\n",
       "      <td>金安桥-海淀五路居</td>\n",
       "    </tr>\n",
       "    <tr>\n",
       "      <th>48</th>\n",
       "      <td>2018年12月30日</td>\n",
       "      <td>北京地铁8号线</td>\n",
       "      <td>二期剩余段</td>\n",
       "      <td>南锣鼓巷-中国美术馆</td>\n",
       "    </tr>\n",
       "    <tr>\n",
       "      <th>49</th>\n",
       "      <td>2018年12月30日</td>\n",
       "      <td>北京地铁8号线</td>\n",
       "      <td>三期南段、四期</td>\n",
       "      <td>珠市口-瀛海</td>\n",
       "    </tr>\n",
       "    <tr>\n",
       "      <th>50</th>\n",
       "      <td>2018年12月30日</td>\n",
       "      <td>北京地铁亦庄线</td>\n",
       "      <td>剩余段</td>\n",
       "      <td>次渠-亦庄火车站</td>\n",
       "    </tr>\n",
       "  </tbody>\n",
       "</table>\n",
       "</div>"
      ],
      "text/plain": [
       "           开通日期           开通路线     开通路段              开通区间\n",
       "0    1969年10月1日  北京地铁一期路线（不开放）    地下铁一期           古城路-北京站\n",
       "1    1971年1月15日       北京地铁一期路线    地下铁一期           公主坟-北京站\n",
       "2     1971年8月5日       北京地铁一期路线    地下铁一期           玉泉路-公主坟\n",
       "3    1971年11月7日       北京地铁一期路线    地下铁一期            古城-玉泉路\n",
       "4    1973年4月23日       北京地铁一期路线    地下铁一期            苹果园-古城\n",
       "5    1984年9月20日       北京地铁二期路线    地下铁二期      复兴门-北京站（北半环）\n",
       "6   1987年12月28日         复兴门折返线    1号线西段          南礼士路-复兴门\n",
       "7   1987年12月28日         北京地铁环线     环形贯通           复兴门-长椿街\n",
       "8   1992年12月12日        北京地铁1号线    1号线西段            复兴门-西单\n",
       "9    1999年9月28日        北京地铁复八线    复八线东段          天安门西-四惠东\n",
       "10   2000年6月28日        北京地铁1号线    1号线贯通           西单-天安门西\n",
       "11   2002年9月28日       北京地铁13号线      西半部            西直门-霍营\n",
       "12   2003年1月28日       北京地铁13号线      东半部            霍营-东直门\n",
       "13  2003年12月27日        北京地铁八通线       全线             四惠-土桥\n",
       "14   2007年10月7日        北京地铁5号线       全线          天通苑北-宋家庄\n",
       "15   2008年7月19日        北京地铁8号线       一期        森林公园南门-北土城\n",
       "16   2008年7月19日       北京地铁10号线       一期             巴沟-劲松\n",
       "17   2008年7月19日        北京地铁机场线       全线  东直门-首都机场T2/T3航站楼\n",
       "18   2009年9月28日        北京地铁4号线       全线         安河桥北-公益西桥\n",
       "19  2010年12月30日       北京地铁15号线     一期西段           望京西-后沙峪\n",
       "20  2010年12月30日        北京地铁昌平线       一期            南邵-西二旗\n",
       "21  2010年12月30日        北京地铁大兴线       全线            新宫-天宫院\n",
       "22  2010年12月30日        北京地铁房山线    一期大部分            大葆台-苏庄\n",
       "23  2010年12月30日        北京地铁亦庄线       全线            宋家庄-次渠\n",
       "24  2011年12月31日        北京地铁8号线     二期北段     回龙观东大街-森林公园南门\n",
       "25  2011年12月31日        北京地铁9号线       南段          北京西站-郭公庄\n",
       "26  2011年12月31日       北京地铁15号线     一期东段            后沙峪-俸伯\n",
       "27  2011年12月31日        北京地铁房山线    一期剩余段           大葆台-郭公庄\n",
       "28  2012年12月30日        北京地铁6号线       一期          海淀五路居-草房\n",
       "29  2012年12月30日        北京地铁8号线     二期南段          北土城-鼓楼大街\n",
       "30  2012年12月30日        北京地铁9号线       北段        国家图书馆-北京西站\n",
       "31  2012年12月30日       北京地铁10号线    二期大部分      巴沟-西局；首经贸-劲松\n",
       "32    2013年5月5日       北京地铁10号线    二期剩余段            西局-首经贸\n",
       "33    2013年5月5日       北京地铁14号线       西段            西局-张郭庄\n",
       "34  2013年12月28日        北京地铁8号线     二期南段         鼓楼大街-南锣鼓巷\n",
       "35  2013年12月28日        北京地铁8号线    昌八联络线        回龙观东大街-朱辛庄\n",
       "36  2014年12月28日        北京地铁6号线       二期             草房-潞城\n",
       "37  2014年12月28日        北京地铁7号线       全线          北京西站-焦化厂\n",
       "38  2014年12月28日       北京地铁14号线       东段           金台路-善各庄\n",
       "39  2014年12月28日       北京地铁15号线     一期西段        清华东路西口-望京西\n",
       "40  2015年12月26日       北京地铁14号线    中段大部分          北京南站-金台路\n",
       "41  2015年12月26日        北京地铁昌平线       二期          南邵-昌平西山口\n",
       "42  2016年12月31日       北京地铁16号线     山后线段            北安河-西苑\n",
       "43  2017年12月30日        北京地铁西郊线       全线             巴沟-香山\n",
       "44  2017年12月30日        北京地铁S1线       全线            金安桥-石厂\n",
       "45  2017年12月30日        北京地铁燕房线       主线            阎村东-燕山\n",
       "46  2017年12月30日        北京地铁房山线       西延            苏庄-阎村东\n",
       "47  2018年12月30日        北京地铁6号线       西延         金安桥-海淀五路居\n",
       "48  2018年12月30日        北京地铁8号线    二期剩余段        南锣鼓巷-中国美术馆\n",
       "49  2018年12月30日        北京地铁8号线  三期南段、四期            珠市口-瀛海\n",
       "50  2018年12月30日        北京地铁亦庄线      剩余段          次渠-亦庄火车站"
      ]
     },
     "execution_count": 106,
     "metadata": {},
     "output_type": "execute_result"
    }
   ],
   "source": [
    "pattern_table"
   ]
  },
  {
   "cell_type": "code",
   "execution_count": 2,
   "metadata": {},
   "outputs": [],
   "source": [
    "coordination_source = \"\"\"\n",
    "{name:'兰州', geoCoord:[103.73, 36.03]},\n",
    "{name:'嘉峪关', geoCoord:[98.17, 39.47]},\n",
    "{name:'西宁', geoCoord:[101.74, 36.56]},\n",
    "{name:'成都', geoCoord:[104.06, 30.67]},\n",
    "{name:'石家庄', geoCoord:[114.48, 38.03]},\n",
    "{name:'拉萨', geoCoord:[102.73, 25.04]},\n",
    "{name:'贵阳', geoCoord:[106.71, 26.57]},\n",
    "{name:'武汉', geoCoord:[114.31, 30.52]},\n",
    "{name:'郑州', geoCoord:[113.65, 34.76]},\n",
    "{name:'济南', geoCoord:[117, 36.65]},\n",
    "{name:'南京', geoCoord:[118.78, 32.04]},\n",
    "{name:'合肥', geoCoord:[117.27, 31.86]},\n",
    "{name:'杭州', geoCoord:[120.19, 30.26]},\n",
    "{name:'南昌', geoCoord:[115.89, 28.68]},\n",
    "{name:'福州', geoCoord:[119.3, 26.08]},\n",
    "{name:'广州', geoCoord:[113.23, 23.16]},\n",
    "{name:'长沙', geoCoord:[113, 28.21]},\n",
    "//{name:'海口', geoCoord:[110.35, 20.02]},\n",
    "{name:'沈阳', geoCoord:[123.38, 41.8]},\n",
    "{name:'长春', geoCoord:[125.35, 43.88]},\n",
    "{name:'哈尔滨', geoCoord:[126.63, 45.75]},\n",
    "{name:'太原', geoCoord:[112.53, 37.87]},\n",
    "{name:'西安', geoCoord:[108.95, 34.27]},\n",
    "//{name:'台湾', geoCoord:[121.30, 25.03]},\n",
    "{name:'北京', geoCoord:[116.46, 39.92]},\n",
    "{name:'上海', geoCoord:[121.48, 31.22]},\n",
    "{name:'重庆', geoCoord:[106.54, 29.59]},\n",
    "{name:'天津', geoCoord:[117.2, 39.13]},\n",
    "{name:'呼和浩特', geoCoord:[111.65, 40.82]},\n",
    "{name:'南宁', geoCoord:[108.33, 22.84]},\n",
    "//{name:'西藏', geoCoord:[91.11, 29.97]},\n",
    "{name:'银川', geoCoord:[106.27, 38.47]},\n",
    "{name:'乌鲁木齐', geoCoord:[87.68, 43.77]},\n",
    "{name:'香港', geoCoord:[114.17, 22.28]},\n",
    "{name:'澳门', geoCoord:[113.54, 22.19]}\n",
    "\"\"\""
   ]
  },
  {
   "cell_type": "code",
   "execution_count": 3,
   "metadata": {},
   "outputs": [],
   "source": [
    "import re"
   ]
  },
  {
   "cell_type": "code",
   "execution_count": 4,
   "metadata": {},
   "outputs": [
    {
     "data": {
      "text/plain": [
       "\"\\n{name:'兰州', geoCoord:[103.73, 36.03]},\\n{name:'嘉峪关', geoCoord:[98.17, 39.47]},\\n{name:'西宁', geoCoord:[101.74, 36.56]},\\n{name:'成都', geoCoord:[104.06, 30.67]},\\n{name:'石家庄', geoCoord:[114.48, 38.03]},\\n{name:'拉萨', geoCoord:[102.73, 25.04]},\\n{name:'贵阳', geoCoord:[106.71, 26.57]},\\n{name:'武汉', geoCoord:[114.31, 30.52]},\\n{name:'郑州', geoCoord:[113.65, 34.76]},\\n{name:'济南', geoCoord:[117, 36.65]},\\n{name:'南京', geoCoord:[118.78, 32.04]},\\n{name:'合肥', geoCoord:[117.27, 31.86]},\\n{name:'杭州', geoCoord:[120.19, 30.26]},\\n{name:'南昌', geoCoord:[115.89, 28.68]},\\n{name:'福州', geoCoord:[119.3, 26.08]},\\n{name:'广州', geoCoord:[113.23, 23.16]},\\n{name:'长沙', geoCoord:[113, 28.21]},\\n//{name:'海口', geoCoord:[110.35, 20.02]},\\n{name:'沈阳', geoCoord:[123.38, 41.8]},\\n{name:'长春', geoCoord:[125.35, 43.88]},\\n{name:'哈尔滨', geoCoord:[126.63, 45.75]},\\n{name:'太原', geoCoord:[112.53, 37.87]},\\n{name:'西安', geoCoord:[108.95, 34.27]},\\n//{name:'台湾', geoCoord:[121.30, 25.03]},\\n{name:'北京', geoCoord:[116.46, 39.92]},\\n{name:'上海', geoCoord:[121.48, 31.22]},\\n{name:'重庆', geoCoord:[106.54, 29.59]},\\n{name:'天津', geoCoord:[117.2, 39.13]},\\n{name:'呼和浩特', geoCoord:[111.65, 40.82]},\\n{name:'南宁', geoCoord:[108.33, 22.84]},\\n//{name:'西藏', geoCoord:[91.11, 29.97]},\\n{name:'银川', geoCoord:[106.27, 38.47]},\\n{name:'乌鲁木齐', geoCoord:[87.68, 43.77]},\\n{name:'香港', geoCoord:[114.17, 22.28]},\\n{name:'澳门', geoCoord:[113.54, 22.19]}\\n\""
      ]
     },
     "execution_count": 4,
     "metadata": {},
     "output_type": "execute_result"
    }
   ],
   "source": [
    "coordination_source"
   ]
  },
  {
   "cell_type": "code",
   "execution_count": 5,
   "metadata": {},
   "outputs": [],
   "source": [
    "pattern = r'{name:\\'(.+)\\',\\s*\\w*:\\[(\\d+.\\d+,\\s*\\d+.\\d+)\\]'"
   ]
  },
  {
   "cell_type": "code",
   "execution_count": 6,
   "metadata": {},
   "outputs": [],
   "source": [
    "a =re.findall(pattern, coordination_source)"
   ]
  },
  {
   "cell_type": "code",
   "execution_count": 7,
   "metadata": {},
   "outputs": [
    {
     "data": {
      "text/plain": [
       "[('兰州', '103.73, 36.03'),\n",
       " ('嘉峪关', '98.17, 39.47'),\n",
       " ('西宁', '101.74, 36.56'),\n",
       " ('成都', '104.06, 30.67'),\n",
       " ('石家庄', '114.48, 38.03'),\n",
       " ('拉萨', '102.73, 25.04'),\n",
       " ('贵阳', '106.71, 26.57'),\n",
       " ('武汉', '114.31, 30.52'),\n",
       " ('郑州', '113.65, 34.76'),\n",
       " ('济南', '117, 36.65'),\n",
       " ('南京', '118.78, 32.04'),\n",
       " ('合肥', '117.27, 31.86'),\n",
       " ('杭州', '120.19, 30.26'),\n",
       " ('南昌', '115.89, 28.68'),\n",
       " ('福州', '119.3, 26.08'),\n",
       " ('广州', '113.23, 23.16'),\n",
       " ('长沙', '113, 28.21'),\n",
       " ('海口', '110.35, 20.02'),\n",
       " ('沈阳', '123.38, 41.8'),\n",
       " ('长春', '125.35, 43.88'),\n",
       " ('哈尔滨', '126.63, 45.75'),\n",
       " ('太原', '112.53, 37.87'),\n",
       " ('西安', '108.95, 34.27'),\n",
       " ('台湾', '121.30, 25.03'),\n",
       " ('北京', '116.46, 39.92'),\n",
       " ('上海', '121.48, 31.22'),\n",
       " ('重庆', '106.54, 29.59'),\n",
       " ('天津', '117.2, 39.13'),\n",
       " ('呼和浩特', '111.65, 40.82'),\n",
       " ('南宁', '108.33, 22.84'),\n",
       " ('西藏', '91.11, 29.97'),\n",
       " ('银川', '106.27, 38.47'),\n",
       " ('乌鲁木齐', '87.68, 43.77'),\n",
       " ('香港', '114.17, 22.28'),\n",
       " ('澳门', '113.54, 22.19')]"
      ]
     },
     "execution_count": 7,
     "metadata": {},
     "output_type": "execute_result"
    }
   ],
   "source": [
    "a"
   ]
  },
  {
   "cell_type": "code",
   "execution_count": 8,
   "metadata": {},
   "outputs": [],
   "source": [
    "c = list(range(3))"
   ]
  },
  {
   "cell_type": "code",
   "execution_count": 9,
   "metadata": {},
   "outputs": [
    {
     "data": {
      "text/plain": [
       "[0, 1, 2]"
      ]
     },
     "execution_count": 9,
     "metadata": {},
     "output_type": "execute_result"
    }
   ],
   "source": [
    "c"
   ]
  },
  {
   "cell_type": "code",
   "execution_count": 10,
   "metadata": {},
   "outputs": [],
   "source": [
    "x,y,z =c"
   ]
  },
  {
   "cell_type": "code",
   "execution_count": 11,
   "metadata": {},
   "outputs": [
    {
     "name": "stdout",
     "output_type": "stream",
     "text": [
      "x-0,y-1,z-2\n"
     ]
    }
   ],
   "source": [
    "print('x-{},y-{},z-{}'.format(x,y,z))"
   ]
  },
  {
   "cell_type": "code",
   "execution_count": 14,
   "metadata": {},
   "outputs": [],
   "source": [
    "city_location = {}\n",
    "for d in a:\n",
    "    city_location[d[0]] = tuple([float(i) for i in d[1].split(',')])"
   ]
  },
  {
   "cell_type": "code",
   "execution_count": 15,
   "metadata": {},
   "outputs": [
    {
     "data": {
      "text/plain": [
       "{'兰州': (103.73, 36.03),\n",
       " '嘉峪关': (98.17, 39.47),\n",
       " '西宁': (101.74, 36.56),\n",
       " '成都': (104.06, 30.67),\n",
       " '石家庄': (114.48, 38.03),\n",
       " '拉萨': (102.73, 25.04),\n",
       " '贵阳': (106.71, 26.57),\n",
       " '武汉': (114.31, 30.52),\n",
       " '郑州': (113.65, 34.76),\n",
       " '济南': (117.0, 36.65),\n",
       " '南京': (118.78, 32.04),\n",
       " '合肥': (117.27, 31.86),\n",
       " '杭州': (120.19, 30.26),\n",
       " '南昌': (115.89, 28.68),\n",
       " '福州': (119.3, 26.08),\n",
       " '广州': (113.23, 23.16),\n",
       " '长沙': (113.0, 28.21),\n",
       " '海口': (110.35, 20.02),\n",
       " '沈阳': (123.38, 41.8),\n",
       " '长春': (125.35, 43.88),\n",
       " '哈尔滨': (126.63, 45.75),\n",
       " '太原': (112.53, 37.87),\n",
       " '西安': (108.95, 34.27),\n",
       " '台湾': (121.3, 25.03),\n",
       " '北京': (116.46, 39.92),\n",
       " '上海': (121.48, 31.22),\n",
       " '重庆': (106.54, 29.59),\n",
       " '天津': (117.2, 39.13),\n",
       " '呼和浩特': (111.65, 40.82),\n",
       " '南宁': (108.33, 22.84),\n",
       " '西藏': (91.11, 29.97),\n",
       " '银川': (106.27, 38.47),\n",
       " '乌鲁木齐': (87.68, 43.77),\n",
       " '香港': (114.17, 22.28),\n",
       " '澳门': (113.54, 22.19)}"
      ]
     },
     "execution_count": 15,
     "metadata": {},
     "output_type": "execute_result"
    }
   ],
   "source": [
    "city_location"
   ]
  },
  {
   "cell_type": "code",
   "execution_count": 16,
   "metadata": {},
   "outputs": [],
   "source": [
    "import math\n",
    "def geo_distance(origin,destination):\n",
    "    lon1,lat1 = origin\n",
    "    lon2,lat2 = destination\n",
    "    radius = 6371  # km\n",
    "\n",
    "    dlat = math.radians(lat2 - lat1)\n",
    "    dlon = math.radians(lon2 - lon1)\n",
    "    a = (math.sin(dlat / 2) * math.sin(dlat / 2) +\n",
    "         math.cos(math.radians(lat1)) * math.cos(math.radians(lat2)) *\n",
    "         math.sin(dlon / 2) * math.sin(dlon / 2))\n",
    "    c = 2 * math.atan2(math.sqrt(a), math.sqrt(1 - a))\n",
    "    d = radius * c\n",
    "    \n",
    "    return d"
   ]
  },
  {
   "cell_type": "code",
   "execution_count": 17,
   "metadata": {},
   "outputs": [
    {
     "data": {
      "text/plain": [
       "(121.48, 31.22)"
      ]
     },
     "execution_count": 17,
     "metadata": {},
     "output_type": "execute_result"
    }
   ],
   "source": [
    "city_location['上海']"
   ]
  },
  {
   "cell_type": "code",
   "execution_count": 18,
   "metadata": {},
   "outputs": [],
   "source": [
    "def get_geo_distance(city1,city2):\n",
    "    return geo_distance(city_location[city1],city_location[city2])"
   ]
  },
  {
   "cell_type": "code",
   "execution_count": 19,
   "metadata": {},
   "outputs": [
    {
     "data": {
      "text/plain": [
       "163.0760821403945"
      ]
     },
     "execution_count": 19,
     "metadata": {},
     "output_type": "execute_result"
    }
   ],
   "source": [
    "get_geo_distance('上海','杭州')"
   ]
  },
  {
   "cell_type": "markdown",
   "metadata": {},
   "source": [
    "### 以上是求两个城市间的距离\n",
    "### 下面开始画图"
   ]
  },
  {
   "cell_type": "code",
   "execution_count": 20,
   "metadata": {},
   "outputs": [],
   "source": [
    "import networkx as nx"
   ]
  },
  {
   "cell_type": "code",
   "execution_count": 21,
   "metadata": {},
   "outputs": [],
   "source": [
    "city_graph =nx.Graph()"
   ]
  },
  {
   "cell_type": "code",
   "execution_count": 22,
   "metadata": {},
   "outputs": [],
   "source": [
    "city_graph.add_nodes_from(list(city_location.keys()))"
   ]
  },
  {
   "cell_type": "code",
   "execution_count": 23,
   "metadata": {},
   "outputs": [],
   "source": [
    "import matplotlib.pyplot as plt"
   ]
  },
  {
   "cell_type": "code",
   "execution_count": 24,
   "metadata": {},
   "outputs": [],
   "source": [
    "import matplotlib"
   ]
  },
  {
   "cell_type": "code",
   "execution_count": 25,
   "metadata": {},
   "outputs": [],
   "source": [
    "%matplotlib inline"
   ]
  },
  {
   "cell_type": "code",
   "execution_count": 26,
   "metadata": {},
   "outputs": [
    {
     "name": "stdout",
     "output_type": "stream",
     "text": [
      "['/anaconda3/lib/python3.7/site-packages/matplotlib']\n"
     ]
    }
   ],
   "source": [
    "print(matplotlib.__path__)"
   ]
  },
  {
   "cell_type": "code",
   "execution_count": 27,
   "metadata": {},
   "outputs": [],
   "source": [
    "plt.rcParams['font.sans-serif'] = ['SimHei']\n",
    "plt.rcParams['axes.unicode_minus'] = False"
   ]
  },
  {
   "cell_type": "code",
   "execution_count": 28,
   "metadata": {},
   "outputs": [
    {
     "data": {
      "image/png": "[encoded data removed]",
      "text/plain": [
       "<Figure size 432x288 with 1 Axes>"
      ]
     },
     "metadata": {},
     "output_type": "display_data"
    }
   ],
   "source": [
    "nx.draw(city_graph, city_location, with_labels=True, node_size=30)"
   ]
  },
  {
   "cell_type": "code",
   "execution_count": 29,
   "metadata": {},
   "outputs": [],
   "source": [
    "threshold = 500"
   ]
  },
  {
   "cell_type": "code",
   "execution_count": 30,
   "metadata": {},
   "outputs": [],
   "source": [
    "from collections import defaultdict\n",
    "city_connection = defaultdict(list)"
   ]
  },
  {
   "cell_type": "code",
   "execution_count": 31,
   "metadata": {},
   "outputs": [],
   "source": [
    "for i in city_location:\n",
    "    for j in city_location:\n",
    "        if i == j: continue\n",
    "            \n",
    "        distance = get_geo_distance(i,j)\n",
    "        if distance < threshold:\n",
    "            city_connection[i].append(j)"
   ]
  },
  {
   "cell_type": "code",
   "execution_count": 32,
   "metadata": {},
   "outputs": [
    {
     "data": {
      "text/plain": [
       "defaultdict(list,\n",
       "            {'兰州': ['西宁', '银川'],\n",
       "             '嘉峪关': ['西宁'],\n",
       "             '西宁': ['兰州', '嘉峪关', '银川'],\n",
       "             '成都': ['重庆'],\n",
       "             '石家庄': ['郑州', '济南', '太原', '北京', '天津', '呼和浩特'],\n",
       "             '拉萨': ['贵阳'],\n",
       "             '贵阳': ['拉萨', '重庆', '南宁'],\n",
       "             '武汉': ['郑州', '南京', '合肥', '南昌', '长沙'],\n",
       "             '郑州': ['石家庄', '武汉', '济南', '合肥', '太原', '西安'],\n",
       "             '济南': ['石家庄', '郑州', '太原', '北京', '天津'],\n",
       "             '南京': ['武汉', '合肥', '杭州', '南昌', '上海'],\n",
       "             '合肥': ['武汉', '郑州', '南京', '杭州', '南昌', '上海'],\n",
       "             '杭州': ['南京', '合肥', '南昌', '福州', '上海'],\n",
       "             '南昌': ['武汉', '南京', '合肥', '杭州', '福州', '长沙'],\n",
       "             '福州': ['杭州', '南昌', '台湾'],\n",
       "             '广州': ['海口', '香港', '澳门'],\n",
       "             '长沙': ['武汉', '南昌'],\n",
       "             '海口': ['广州', '南宁', '香港', '澳门'],\n",
       "             '沈阳': ['长春'],\n",
       "             '长春': ['沈阳', '哈尔滨'],\n",
       "             '哈尔滨': ['长春'],\n",
       "             '太原': ['石家庄', '郑州', '济南', '北京', '天津', '呼和浩特'],\n",
       "             '西安': ['郑州'],\n",
       "             '台湾': ['福州'],\n",
       "             '北京': ['石家庄', '济南', '太原', '天津', '呼和浩特'],\n",
       "             '上海': ['南京', '合肥', '杭州'],\n",
       "             '重庆': ['成都', '贵阳'],\n",
       "             '天津': ['石家庄', '济南', '太原', '北京'],\n",
       "             '呼和浩特': ['石家庄', '太原', '北京'],\n",
       "             '南宁': ['贵阳', '海口'],\n",
       "             '银川': ['兰州', '西宁'],\n",
       "             '香港': ['广州', '海口', '澳门'],\n",
       "             '澳门': ['广州', '海口', '香港']})"
      ]
     },
     "execution_count": 32,
     "metadata": {},
     "output_type": "execute_result"
    }
   ],
   "source": [
    "city_connection"
   ]
  },
  {
   "cell_type": "code",
   "execution_count": 33,
   "metadata": {},
   "outputs": [
    {
     "data": {
      "text/plain": [
       "433.19457656727053"
      ]
     },
     "execution_count": 33,
     "metadata": {},
     "output_type": "execute_result"
    }
   ],
   "source": [
    "city_with_road =nx.Graph(city_connection)\n",
    "get_geo_distance('拉萨','贵阳')"
   ]
  },
  {
   "cell_type": "code",
   "execution_count": 34,
   "metadata": {},
   "outputs": [
    {
     "name": "stderr",
     "output_type": "stream",
     "text": [
      "/anaconda3/lib/python3.7/site-packages/networkx/drawing/nx_pylab.py:611: MatplotlibDeprecationWarning: isinstance(..., numbers.Number)\n",
      "  if cb.is_numlike(alpha):\n"
     ]
    },
    {
     "data": {
      "image/png": "[encoded data removed]",
      "text/plain": [
       "<Figure size 432x288 with 1 Axes>"
      ]
     },
     "metadata": {},
     "output_type": "display_data"
    }
   ],
   "source": [
    "nx.draw(city_with_road,city_location,with_labels='True',node_size=10)"
   ]
  },
  {
   "cell_type": "code",
   "execution_count": 35,
   "metadata": {},
   "outputs": [],
   "source": [
    "simple_connection_info_src = {\n",
    "    '北京': ['太原', '沈阳'],\n",
    "    '太原': ['北京', '西安', '郑州'],\n",
    "    '兰州': ['西安'],\n",
    "    '郑州': ['太原'],\n",
    "    '西安': ['兰州', '长沙'],\n",
    "    '长沙': ['福州', '南宁'],\n",
    "    '沈阳': ['北京']\n",
    "}"
   ]
  },
  {
   "cell_type": "code",
   "execution_count": 36,
   "metadata": {},
   "outputs": [
    {
     "data": {
      "image/png": "[encoded data removed]",
      "text/plain": [
       "<Figure size 432x288 with 1 Axes>"
      ]
     },
     "metadata": {},
     "output_type": "display_data"
    }
   ],
   "source": [
    "nx.draw(nx.Graph(simple_connection_info_src),city_location,with_labels='True',node_size=10)"
   ]
  },
  {
   "cell_type": "code",
   "execution_count": 51,
   "metadata": {},
   "outputs": [
    {
     "name": "stdout",
     "output_type": "stream",
     "text": [
      "[2, 1]\n",
      "[1, 2]\n"
     ]
    }
   ],
   "source": [
    "a =[1]\n",
    "b= [2]\n",
    "print(b+a)\n",
    "print(a+b)"
   ]
  },
  {
   "cell_type": "markdown",
   "metadata": {},
   "source": [
    "###  DFC BFS算法"
   ]
  },
  {
   "cell_type": "code",
   "execution_count": 52,
   "metadata": {},
   "outputs": [
    {
     "name": "stdout",
     "output_type": "stream",
     "text": [
      "2\n",
      "1\n"
     ]
    }
   ],
   "source": [
    "a= [1,2]\n",
    "while a:\n",
    "    print(a.pop())"
   ]
  },
  {
   "cell_type": "code",
   "execution_count": 53,
   "metadata": {},
   "outputs": [],
   "source": [
    "def bfs(graph, start):\n",
    "    visited = [start]\n",
    "    seen =set()\n",
    "    \n",
    "    while visited:\n",
    "        frontpointer = visited.pop()\n",
    "        \n",
    "        if frontpointer in seen: continue\n",
    "            \n",
    "        for successor in graph[frontpointer]:\n",
    "            if successor in seen: continue\n",
    "            \n",
    "#            visited = [successor] + visited  #depth first\n",
    "            visited = visited + [successor]   #breadth first\n",
    "        seen.add(frontpointer)\n",
    "    return seen\n",
    "        "
   ]
  },
  {
   "cell_type": "code",
   "execution_count": 65,
   "metadata": {},
   "outputs": [],
   "source": [
    "\n",
    "number_grpah = defaultdict(list)\n",
    "\n",
    "number_grpah.update({\n",
    "    1: [2, 3],\n",
    "    2: [1, 4], \n",
    "    3: [1, 5],\n",
    "    4: [2, 6], \n",
    "    5: [3, 7],\n",
    "    7: [5, 8]\n",
    "})"
   ]
  },
  {
   "cell_type": "code",
   "execution_count": 66,
   "metadata": {},
   "outputs": [
    {
     "data": {
      "text/plain": [
       "{1, 2, 3, 4, 5, 6, 7, 8}"
      ]
     },
     "execution_count": 66,
     "metadata": {},
     "output_type": "execute_result"
    }
   ],
   "source": [
    "bfs(number_grpah,1)"
   ]
  },
  {
   "cell_type": "code",
   "execution_count": 67,
   "metadata": {},
   "outputs": [],
   "source": [
    "\n",
    "def search(start, destination, connection_grpah, sort_candidate):\n",
    "    pathes = [[start]]\n",
    "    \n",
    "    visitied = set()\n",
    "    \n",
    "    while pathes: # if we find existing pathes\n",
    "        path = pathes.pop(0)\n",
    "        froninter = path[-1]\n",
    "        \n",
    "        if froninter in visitied: continue\n",
    "            \n",
    "        successors = connection_grpah[froninter]\n",
    "        \n",
    "        for city in successors:\n",
    "            if city in path: continue  # eliminate loop\n",
    "                \n",
    "            new_path = path + [city]\n",
    "            \n",
    "            pathes.append(new_path)\n",
    "            \n",
    "            if city == destination: return new_path\n",
    "        \n",
    "        visitied.add(froninter)\n",
    "    pathes = sort_candidate(pathes) # 我们可以加一个排序函数 对我们的搜索策略进行控制"
   ]
  },
  {
   "cell_type": "code",
   "execution_count": 71,
   "metadata": {},
   "outputs": [
    {
     "data": {
      "text/plain": [
       "[1, 2, 4, 6]"
      ]
     },
     "execution_count": 71,
     "metadata": {},
     "output_type": "execute_result"
    }
   ],
   "source": [
    "search(1,6,number_grpah,bfs)"
   ]
  },
  {
   "cell_type": "code",
   "execution_count": 79,
   "metadata": {},
   "outputs": [],
   "source": [
    "def printroute():\n",
    "    print('->'.join(map(str,search(1,6,number_grpah,bfs))))"
   ]
  },
  {
   "cell_type": "code",
   "execution_count": 80,
   "metadata": {},
   "outputs": [
    {
     "name": "stdout",
     "output_type": "stream",
     "text": [
      "1->2->4->6\n"
     ]
    }
   ],
   "source": [
    "printroute()"
   ]
  },
  {
   "cell_type": "code",
   "execution_count": null,
   "metadata": {},
   "outputs": [],
   "source": []
  },
  {
   "cell_type": "code",
   "execution_count": 84,
   "metadata": {},
   "outputs": [],
   "source": [
    "def transfer_stations_first(pathes): \n",
    "    return sorted(pathes, key=len)"
   ]
  },
  {
   "cell_type": "code",
   "execution_count": 85,
   "metadata": {},
   "outputs": [],
   "source": [
    "def transfer_as_much_possible(pathes):\n",
    "    return sorted(pathes, key=len, reverse=True)"
   ]
  },
  {
   "cell_type": "code",
   "execution_count": 86,
   "metadata": {},
   "outputs": [],
   "source": [
    "def shortest_path_first(pathes):\n",
    "    \n",
    "    if len(pathes) <= 1: return pathes\n",
    "    \n",
    "    def get_path_distnace(path):\n",
    "        distance = 0\n",
    "        for station in path[:-1]:\n",
    "            distance += get_geo_distance(station, path[-1])\n",
    "            \n",
    "        return distance\n",
    "\n",
    "    return sorted(pathes, key=get_path_distnace)"
   ]
  },
  {
   "cell_type": "code",
   "execution_count": 87,
   "metadata": {},
   "outputs": [
    {
     "data": {
      "text/plain": [
       "['兰州', '西安', '长沙', '福州']"
      ]
     },
     "execution_count": 87,
     "metadata": {},
     "output_type": "execute_result"
    }
   ],
   "source": [
    "search('兰州', '福州', nx.Graph(simple_connection_info_src), sort_candidate=transfer_stations_first)"
   ]
  },
  {
   "cell_type": "code",
   "execution_count": 88,
   "metadata": {},
   "outputs": [],
   "source": [
    "def print_route(citys):\n",
    "    print('🚗'.join(citys))"
   ]
  },
  {
   "cell_type": "code",
   "execution_count": 89,
   "metadata": {},
   "outputs": [
    {
     "name": "stdout",
     "output_type": "stream",
     "text": [
      "兰州🚗西安🚗长沙🚗福州\n"
     ]
    }
   ],
   "source": [
    "print_route(search('兰州', '福州', nx.Graph(simple_connection_info_src), sort_candidate=transfer_stations_first))"
   ]
  },
  {
   "cell_type": "code",
   "execution_count": 90,
   "metadata": {},
   "outputs": [],
   "source": [
    "test_join = [1,2,3]"
   ]
  },
  {
   "cell_type": "code",
   "execution_count": 96,
   "metadata": {},
   "outputs": [
    {
     "data": {
      "text/plain": [
       "'1->2->3'"
      ]
     },
     "execution_count": 96,
     "metadata": {},
     "output_type": "execute_result"
    }
   ],
   "source": [
    "'->'.join(map(str,test_join))  ##join只能连字符串数组"
   ]
  },
  {
   "cell_type": "code",
   "execution_count": 97,
   "metadata": {},
   "outputs": [],
   "source": [
    "test_append = [1,2]"
   ]
  },
  {
   "cell_type": "code",
   "execution_count": 98,
   "metadata": {},
   "outputs": [],
   "source": [
    "test_append.append(3)"
   ]
  },
  {
   "cell_type": "code",
   "execution_count": 99,
   "metadata": {},
   "outputs": [
    {
     "data": {
      "text/plain": [
       "[1, 2, 3]"
      ]
     },
     "execution_count": 99,
     "metadata": {},
     "output_type": "execute_result"
    }
   ],
   "source": [
    "test_append"
   ]
  },
  {
   "cell_type": "markdown",
   "metadata": {},
   "source": [
    "## machine learning"
   ]
  },
  {
   "cell_type": "code",
   "execution_count": 2,
   "metadata": {},
   "outputs": [],
   "source": [
    "from sklearn.datasets import load_boston"
   ]
  },
  {
   "cell_type": "code",
   "execution_count": 3,
   "metadata": {},
   "outputs": [],
   "source": [
    "data = load_boston()"
   ]
  },
  {
   "cell_type": "code",
   "execution_count": 4,
   "metadata": {},
   "outputs": [],
   "source": [
    "X,y = data['data'],data['target']"
   ]
  },
  {
   "cell_type": "code",
   "execution_count": 5,
   "metadata": {},
   "outputs": [
    {
     "data": {
      "text/plain": [
       "array([2.7310e-02, 0.0000e+00, 7.0700e+00, 0.0000e+00, 4.6900e-01,\n",
       "       6.4210e+00, 7.8900e+01, 4.9671e+00, 2.0000e+00, 2.4200e+02,\n",
       "       1.7800e+01, 3.9690e+02, 9.1400e+00])"
      ]
     },
     "execution_count": 5,
     "metadata": {},
     "output_type": "execute_result"
    }
   ],
   "source": [
    "X[1]"
   ]
  },
  {
   "cell_type": "code",
   "execution_count": 6,
   "metadata": {},
   "outputs": [
    {
     "data": {
      "text/plain": [
       "array([2.7310e-02, 0.0000e+00, 7.0700e+00, 0.0000e+00, 4.6900e-01,\n",
       "       6.4210e+00, 7.8900e+01, 4.9671e+00, 2.0000e+00, 2.4200e+02,\n",
       "       1.7800e+01, 3.9690e+02, 9.1400e+00])"
      ]
     },
     "execution_count": 6,
     "metadata": {},
     "output_type": "execute_result"
    }
   ],
   "source": [
    "X[1]"
   ]
  },
  {
   "cell_type": "code",
   "execution_count": 7,
   "metadata": {},
   "outputs": [
    {
     "data": {
      "text/plain": [
       "array([[6.3200e-03, 1.8000e+01, 2.3100e+00, ..., 1.5300e+01, 3.9690e+02,\n",
       "        4.9800e+00],\n",
       "       [2.7310e-02, 0.0000e+00, 7.0700e+00, ..., 1.7800e+01, 3.9690e+02,\n",
       "        9.1400e+00],\n",
       "       [2.7290e-02, 0.0000e+00, 7.0700e+00, ..., 1.7800e+01, 3.9283e+02,\n",
       "        4.0300e+00],\n",
       "       ...,\n",
       "       [6.0760e-02, 0.0000e+00, 1.1930e+01, ..., 2.1000e+01, 3.9690e+02,\n",
       "        5.6400e+00],\n",
       "       [1.0959e-01, 0.0000e+00, 1.1930e+01, ..., 2.1000e+01, 3.9345e+02,\n",
       "        6.4800e+00],\n",
       "       [4.7410e-02, 0.0000e+00, 1.1930e+01, ..., 2.1000e+01, 3.9690e+02,\n",
       "        7.8800e+00]])"
      ]
     },
     "execution_count": 7,
     "metadata": {},
     "output_type": "execute_result"
    }
   ],
   "source": [
    "X"
   ]
  },
  {
   "cell_type": "code",
   "execution_count": 8,
   "metadata": {},
   "outputs": [
    {
     "data": {
      "text/plain": [
       "21.6"
      ]
     },
     "execution_count": 8,
     "metadata": {},
     "output_type": "execute_result"
    }
   ],
   "source": [
    "y[1]"
   ]
  },
  {
   "cell_type": "code",
   "execution_count": 9,
   "metadata": {},
   "outputs": [],
   "source": [
    "import matplotlib.pyplot as plt"
   ]
  },
  {
   "cell_type": "code",
   "execution_count": 10,
   "metadata": {},
   "outputs": [
    {
     "data": {
      "text/plain": [
       "<matplotlib.collections.PathCollection at 0x1a14c70e10>"
      ]
     },
     "execution_count": 10,
     "metadata": {},
     "output_type": "execute_result"
    },
    {
     "data": {
      "image/png": "[encoded data removed]",
      "text/plain": [
       "<Figure size 432x288 with 1 Axes>"
      ]
     },
     "metadata": {
      "needs_background": "light"
     },
     "output_type": "display_data"
    }
   ],
   "source": [
    "plt.scatter(X[:, 5],y)"
   ]
  },
  {
   "cell_type": "code",
   "execution_count": 11,
   "metadata": {},
   "outputs": [
    {
     "data": {
      "text/plain": [
       "<matplotlib.collections.PathCollection at 0x1a14fc1d30>"
      ]
     },
     "execution_count": 11,
     "metadata": {},
     "output_type": "execute_result"
    },
    {
     "data": {
      "image/png": "[encoded data removed]",
      "text/plain": [
       "<Figure size 432x288 with 1 Axes>"
      ]
     },
     "metadata": {
      "needs_background": "light"
     },
     "output_type": "display_data"
    }
   ],
   "source": [
    "plt.scatter(X[:,1],y)"
   ]
  },
  {
   "cell_type": "raw",
   "metadata": {},
   "source": [
    "plt.scatter(X[:,5],y)"
   ]
  },
  {
   "cell_type": "code",
   "execution_count": null,
   "metadata": {},
   "outputs": [],
   "source": []
  },
  {
   "cell_type": "code",
   "execution_count": 12,
   "metadata": {},
   "outputs": [],
   "source": [
    "import random"
   ]
  },
  {
   "cell_type": "code",
   "execution_count": 13,
   "metadata": {},
   "outputs": [],
   "source": [
    "def price(k, rm ,b):\n",
    "    return k * rm + b"
   ]
  },
  {
   "cell_type": "code",
   "execution_count": 14,
   "metadata": {},
   "outputs": [],
   "source": [
    "X_rm = X[:, 5]\n",
    "k = random.randint(-100,100)\n",
    "b = random.randint(-100,100)"
   ]
  },
  {
   "cell_type": "code",
   "execution_count": 15,
   "metadata": {},
   "outputs": [],
   "source": [
    "y_rm = [price(k,r,b) for r in X_rm]"
   ]
  },
  {
   "cell_type": "code",
   "execution_count": 16,
   "metadata": {
    "scrolled": true
   },
   "outputs": [
    {
     "data": {
      "text/plain": [
       "<matplotlib.collections.PathCollection at 0x1a150c7198>"
      ]
     },
     "execution_count": 16,
     "metadata": {},
     "output_type": "execute_result"
    },
    {
     "data": {
      "image/png": "[encoded data removed]",
      "text/plain": [
       "<Figure size 432x288 with 1 Axes>"
      ]
     },
     "metadata": {
      "needs_background": "light"
     },
     "output_type": "display_data"
    }
   ],
   "source": [
    "plt.scatter(X[:, 5],y)\n",
    "plt.scatter(X_rm,y_rm)"
   ]
  },
  {
   "cell_type": "code",
   "execution_count": null,
   "metadata": {
    "scrolled": true
   },
   "outputs": [],
   "source": []
  },
  {
   "cell_type": "code",
   "execution_count": 17,
   "metadata": {},
   "outputs": [
    {
     "data": {
      "text/plain": [
       "[24.0,\n",
       " 21.6,\n",
       " 34.7,\n",
       " 33.4,\n",
       " 36.2,\n",
       " 28.7,\n",
       " 22.9,\n",
       " 27.1,\n",
       " 16.5,\n",
       " 18.9,\n",
       " 15.0,\n",
       " 18.9,\n",
       " 21.7,\n",
       " 20.4,\n",
       " 18.2,\n",
       " 19.9,\n",
       " 23.1,\n",
       " 17.5,\n",
       " 20.2,\n",
       " 18.2,\n",
       " 13.6,\n",
       " 19.6,\n",
       " 15.2,\n",
       " 14.5,\n",
       " 15.6,\n",
       " 13.9,\n",
       " 16.6,\n",
       " 14.8,\n",
       " 18.4,\n",
       " 21.0,\n",
       " 12.7,\n",
       " 14.5,\n",
       " 13.2,\n",
       " 13.1,\n",
       " 13.5,\n",
       " 18.9,\n",
       " 20.0,\n",
       " 21.0,\n",
       " 24.7,\n",
       " 30.8,\n",
       " 34.9,\n",
       " 26.6,\n",
       " 25.3,\n",
       " 24.7,\n",
       " 21.2,\n",
       " 19.3,\n",
       " 20.0,\n",
       " 16.6,\n",
       " 14.4,\n",
       " 19.4,\n",
       " 19.7,\n",
       " 20.5,\n",
       " 25.0,\n",
       " 23.4,\n",
       " 18.9,\n",
       " 35.4,\n",
       " 24.7,\n",
       " 31.6,\n",
       " 23.3,\n",
       " 19.6,\n",
       " 18.7,\n",
       " 16.0,\n",
       " 22.2,\n",
       " 25.0,\n",
       " 33.0,\n",
       " 23.5,\n",
       " 19.4,\n",
       " 22.0,\n",
       " 17.4,\n",
       " 20.9,\n",
       " 24.2,\n",
       " 21.7,\n",
       " 22.8,\n",
       " 23.4,\n",
       " 24.1,\n",
       " 21.4,\n",
       " 20.0,\n",
       " 20.8,\n",
       " 21.2,\n",
       " 20.3,\n",
       " 28.0,\n",
       " 23.9,\n",
       " 24.8,\n",
       " 22.9,\n",
       " 23.9,\n",
       " 26.6,\n",
       " 22.5,\n",
       " 22.2,\n",
       " 23.6,\n",
       " 28.7,\n",
       " 22.6,\n",
       " 22.0,\n",
       " 22.9,\n",
       " 25.0,\n",
       " 20.6,\n",
       " 28.4,\n",
       " 21.4,\n",
       " 38.7,\n",
       " 43.8,\n",
       " 33.2,\n",
       " 27.5,\n",
       " 26.5,\n",
       " 18.6,\n",
       " 19.3,\n",
       " 20.1,\n",
       " 19.5,\n",
       " 19.5,\n",
       " 20.4,\n",
       " 19.8,\n",
       " 19.4,\n",
       " 21.7,\n",
       " 22.8,\n",
       " 18.8,\n",
       " 18.7,\n",
       " 18.5,\n",
       " 18.3,\n",
       " 21.2,\n",
       " 19.2,\n",
       " 20.4,\n",
       " 19.3,\n",
       " 22.0,\n",
       " 20.3,\n",
       " 20.5,\n",
       " 17.3,\n",
       " 18.8,\n",
       " 21.4,\n",
       " 15.7,\n",
       " 16.2,\n",
       " 18.0,\n",
       " 14.3,\n",
       " 19.2,\n",
       " 19.6,\n",
       " 23.0,\n",
       " 18.4,\n",
       " 15.6,\n",
       " 18.1,\n",
       " 17.4,\n",
       " 17.1,\n",
       " 13.3,\n",
       " 17.8,\n",
       " 14.0,\n",
       " 14.4,\n",
       " 13.4,\n",
       " 15.6,\n",
       " 11.8,\n",
       " 13.8,\n",
       " 15.6,\n",
       " 14.6,\n",
       " 17.8,\n",
       " 15.4,\n",
       " 21.5,\n",
       " 19.6,\n",
       " 15.3,\n",
       " 19.4,\n",
       " 17.0,\n",
       " 15.6,\n",
       " 13.1,\n",
       " 41.3,\n",
       " 24.3,\n",
       " 23.3,\n",
       " 27.0,\n",
       " 50.0,\n",
       " 50.0,\n",
       " 50.0,\n",
       " 22.7,\n",
       " 25.0,\n",
       " 50.0,\n",
       " 23.8,\n",
       " 23.8,\n",
       " 22.3,\n",
       " 17.4,\n",
       " 19.1,\n",
       " 23.1,\n",
       " 23.6,\n",
       " 22.6,\n",
       " 29.4,\n",
       " 23.2,\n",
       " 24.6,\n",
       " 29.9,\n",
       " 37.2,\n",
       " 39.8,\n",
       " 36.2,\n",
       " 37.9,\n",
       " 32.5,\n",
       " 26.4,\n",
       " 29.6,\n",
       " 50.0,\n",
       " 32.0,\n",
       " 29.8,\n",
       " 34.9,\n",
       " 37.0,\n",
       " 30.5,\n",
       " 36.4,\n",
       " 31.1,\n",
       " 29.1,\n",
       " 50.0,\n",
       " 33.3,\n",
       " 30.3,\n",
       " 34.6,\n",
       " 34.9,\n",
       " 32.9,\n",
       " 24.1,\n",
       " 42.3,\n",
       " 48.5,\n",
       " 50.0,\n",
       " 22.6,\n",
       " 24.4,\n",
       " 22.5,\n",
       " 24.4,\n",
       " 20.0,\n",
       " 21.7,\n",
       " 19.3,\n",
       " 22.4,\n",
       " 28.1,\n",
       " 23.7,\n",
       " 25.0,\n",
       " 23.3,\n",
       " 28.7,\n",
       " 21.5,\n",
       " 23.0,\n",
       " 26.7,\n",
       " 21.7,\n",
       " 27.5,\n",
       " 30.1,\n",
       " 44.8,\n",
       " 50.0,\n",
       " 37.6,\n",
       " 31.6,\n",
       " 46.7,\n",
       " 31.5,\n",
       " 24.3,\n",
       " 31.7,\n",
       " 41.7,\n",
       " 48.3,\n",
       " 29.0,\n",
       " 24.0,\n",
       " 25.1,\n",
       " 31.5,\n",
       " 23.7,\n",
       " 23.3,\n",
       " 22.0,\n",
       " 20.1,\n",
       " 22.2,\n",
       " 23.7,\n",
       " 17.6,\n",
       " 18.5,\n",
       " 24.3,\n",
       " 20.5,\n",
       " 24.5,\n",
       " 26.2,\n",
       " 24.4,\n",
       " 24.8,\n",
       " 29.6,\n",
       " 42.8,\n",
       " 21.9,\n",
       " 20.9,\n",
       " 44.0,\n",
       " 50.0,\n",
       " 36.0,\n",
       " 30.1,\n",
       " 33.8,\n",
       " 43.1,\n",
       " 48.8,\n",
       " 31.0,\n",
       " 36.5,\n",
       " 22.8,\n",
       " 30.7,\n",
       " 50.0,\n",
       " 43.5,\n",
       " 20.7,\n",
       " 21.1,\n",
       " 25.2,\n",
       " 24.4,\n",
       " 35.2,\n",
       " 32.4,\n",
       " 32.0,\n",
       " 33.2,\n",
       " 33.1,\n",
       " 29.1,\n",
       " 35.1,\n",
       " 45.4,\n",
       " 35.4,\n",
       " 46.0,\n",
       " 50.0,\n",
       " 32.2,\n",
       " 22.0,\n",
       " 20.1,\n",
       " 23.2,\n",
       " 22.3,\n",
       " 24.8,\n",
       " 28.5,\n",
       " 37.3,\n",
       " 27.9,\n",
       " 23.9,\n",
       " 21.7,\n",
       " 28.6,\n",
       " 27.1,\n",
       " 20.3,\n",
       " 22.5,\n",
       " 29.0,\n",
       " 24.8,\n",
       " 22.0,\n",
       " 26.4,\n",
       " 33.1,\n",
       " 36.1,\n",
       " 28.4,\n",
       " 33.4,\n",
       " 28.2,\n",
       " 22.8,\n",
       " 20.3,\n",
       " 16.1,\n",
       " 22.1,\n",
       " 19.4,\n",
       " 21.6,\n",
       " 23.8,\n",
       " 16.2,\n",
       " 17.8,\n",
       " 19.8,\n",
       " 23.1,\n",
       " 21.0,\n",
       " 23.8,\n",
       " 23.1,\n",
       " 20.4,\n",
       " 18.5,\n",
       " 25.0,\n",
       " 24.6,\n",
       " 23.0,\n",
       " 22.2,\n",
       " 19.3,\n",
       " 22.6,\n",
       " 19.8,\n",
       " 17.1,\n",
       " 19.4,\n",
       " 22.2,\n",
       " 20.7,\n",
       " 21.1,\n",
       " 19.5,\n",
       " 18.5,\n",
       " 20.6,\n",
       " 19.0,\n",
       " 18.7,\n",
       " 32.7,\n",
       " 16.5,\n",
       " 23.9,\n",
       " 31.2,\n",
       " 17.5,\n",
       " 17.2,\n",
       " 23.1,\n",
       " 24.5,\n",
       " 26.6,\n",
       " 22.9,\n",
       " 24.1,\n",
       " 18.6,\n",
       " 30.1,\n",
       " 18.2,\n",
       " 20.6,\n",
       " 17.8,\n",
       " 21.7,\n",
       " 22.7,\n",
       " 22.6,\n",
       " 25.0,\n",
       " 19.9,\n",
       " 20.8,\n",
       " 16.8,\n",
       " 21.9,\n",
       " 27.5,\n",
       " 21.9,\n",
       " 23.1,\n",
       " 50.0,\n",
       " 50.0,\n",
       " 50.0,\n",
       " 50.0,\n",
       " 50.0,\n",
       " 13.8,\n",
       " 13.8,\n",
       " 15.0,\n",
       " 13.9,\n",
       " 13.3,\n",
       " 13.1,\n",
       " 10.2,\n",
       " 10.4,\n",
       " 10.9,\n",
       " 11.3,\n",
       " 12.3,\n",
       " 8.8,\n",
       " 7.2,\n",
       " 10.5,\n",
       " 7.4,\n",
       " 10.2,\n",
       " 11.5,\n",
       " 15.1,\n",
       " 23.2,\n",
       " 9.7,\n",
       " 13.8,\n",
       " 12.7,\n",
       " 13.1,\n",
       " 12.5,\n",
       " 8.5,\n",
       " 5.0,\n",
       " 6.3,\n",
       " 5.6,\n",
       " 7.2,\n",
       " 12.1,\n",
       " 8.3,\n",
       " 8.5,\n",
       " 5.0,\n",
       " 11.9,\n",
       " 27.9,\n",
       " 17.2,\n",
       " 27.5,\n",
       " 15.0,\n",
       " 17.2,\n",
       " 17.9,\n",
       " 16.3,\n",
       " 7.0,\n",
       " 7.2,\n",
       " 7.5,\n",
       " 10.4,\n",
       " 8.8,\n",
       " 8.4,\n",
       " 16.7,\n",
       " 14.2,\n",
       " 20.8,\n",
       " 13.4,\n",
       " 11.7,\n",
       " 8.3,\n",
       " 10.2,\n",
       " 10.9,\n",
       " 11.0,\n",
       " 9.5,\n",
       " 14.5,\n",
       " 14.1,\n",
       " 16.1,\n",
       " 14.3,\n",
       " 11.7,\n",
       " 13.4,\n",
       " 9.6,\n",
       " 8.7,\n",
       " 8.4,\n",
       " 12.8,\n",
       " 10.5,\n",
       " 17.1,\n",
       " 18.4,\n",
       " 15.4,\n",
       " 10.8,\n",
       " 11.8,\n",
       " 14.9,\n",
       " 12.6,\n",
       " 14.1,\n",
       " 13.0,\n",
       " 13.4,\n",
       " 15.2,\n",
       " 16.1,\n",
       " 17.8,\n",
       " 14.9,\n",
       " 14.1,\n",
       " 12.7,\n",
       " 13.5,\n",
       " 14.9,\n",
       " 20.0,\n",
       " 16.4,\n",
       " 17.7,\n",
       " 19.5,\n",
       " 20.2,\n",
       " 21.4,\n",
       " 19.9,\n",
       " 19.0,\n",
       " 19.1,\n",
       " 19.1,\n",
       " 20.1,\n",
       " 19.9,\n",
       " 19.6,\n",
       " 23.2,\n",
       " 29.8,\n",
       " 13.8,\n",
       " 13.3,\n",
       " 16.7,\n",
       " 12.0,\n",
       " 14.6,\n",
       " 21.4,\n",
       " 23.0,\n",
       " 23.7,\n",
       " 25.0,\n",
       " 21.8,\n",
       " 20.6,\n",
       " 21.2,\n",
       " 19.1,\n",
       " 20.6,\n",
       " 15.2,\n",
       " 7.0,\n",
       " 8.1,\n",
       " 13.6,\n",
       " 20.1,\n",
       " 21.8,\n",
       " 24.5,\n",
       " 23.1,\n",
       " 19.7,\n",
       " 18.3,\n",
       " 21.2,\n",
       " 17.5,\n",
       " 16.8,\n",
       " 22.4,\n",
       " 20.6,\n",
       " 23.9,\n",
       " 22.0,\n",
       " 11.9]"
      ]
     },
     "execution_count": 17,
     "metadata": {},
     "output_type": "execute_result"
    }
   ],
   "source": [
    "list(y)"
   ]
  },
  {
   "cell_type": "code",
   "execution_count": 18,
   "metadata": {},
   "outputs": [],
   "source": [
    "load_boston?"
   ]
  },
  {
   "cell_type": "code",
   "execution_count": 19,
   "metadata": {},
   "outputs": [
    {
     "data": {
      "text/plain": [
       "506"
      ]
     },
     "execution_count": 19,
     "metadata": {},
     "output_type": "execute_result"
    }
   ],
   "source": [
    "len(X)"
   ]
  },
  {
   "cell_type": "code",
   "execution_count": 20,
   "metadata": {},
   "outputs": [
    {
     "data": {
      "text/plain": [
       "506"
      ]
     },
     "execution_count": 20,
     "metadata": {},
     "output_type": "execute_result"
    }
   ],
   "source": [
    "len(y)"
   ]
  },
  {
   "cell_type": "code",
   "execution_count": 21,
   "metadata": {},
   "outputs": [
    {
     "data": {
      "text/plain": [
       "array(['CRIM', 'ZN', 'INDUS', 'CHAS', 'NOX', 'RM', 'AGE', 'DIS', 'RAD',\n",
       "       'TAX', 'PTRATIO', 'B', 'LSTAT'], dtype='<U7')"
      ]
     },
     "execution_count": 21,
     "metadata": {},
     "output_type": "execute_result"
    }
   ],
   "source": [
    "data['feature_names']"
   ]
  },
  {
   "cell_type": "code",
   "execution_count": 22,
   "metadata": {},
   "outputs": [
    {
     "data": {
      "text/plain": [
       "\".. _boston_dataset:\\n\\nBoston house prices dataset\\n---------------------------\\n\\n**Data Set Characteristics:**  \\n\\n    :Number of Instances: 506 \\n\\n    :Number of Attributes: 13 numeric/categorical predictive. Median Value (attribute 14) is usually the target.\\n\\n    :Attribute Information (in order):\\n        - CRIM     per capita crime rate by town\\n        - ZN       proportion of residential land zoned for lots over 25,000 sq.ft.\\n        - INDUS    proportion of non-retail business acres per town\\n        - CHAS     Charles River dummy variable (= 1 if tract bounds river; 0 otherwise)\\n        - NOX      nitric oxides concentration (parts per 10 million)\\n        - RM       average number of rooms per dwelling\\n        - AGE      proportion of owner-occupied units built prior to 1940\\n        - DIS      weighted distances to five Boston employment centres\\n        - RAD      index of accessibility to radial highways\\n        - TAX      full-value property-tax rate per $10,000\\n        - PTRATIO  pupil-teacher ratio by town\\n        - B        1000(Bk - 0.63)^2 where Bk is the proportion of blacks by town\\n        - LSTAT    % lower status of the population\\n        - MEDV     Median value of owner-occupied homes in $1000's\\n\\n    :Missing Attribute Values: None\\n\\n    :Creator: Harrison, D. and Rubinfeld, D.L.\\n\\nThis is a copy of UCI ML housing dataset.\\nhttps://archive.ics.uci.edu/ml/machine-learning-databases/housing/\\n\\n\\nThis dataset was taken from the StatLib library which is maintained at Carnegie Mellon University.\\n\\nThe Boston house-price data of Harrison, D. and Rubinfeld, D.L. 'Hedonic\\nprices and the demand for clean air', J. Environ. Economics & Management,\\nvol.5, 81-102, 1978.   Used in Belsley, Kuh & Welsch, 'Regression diagnostics\\n...', Wiley, 1980.   N.B. Various transformations are used in the table on\\npages 244-261 of the latter.\\n\\nThe Boston house-price data has been used in many machine learning papers that address regression\\nproblems.   \\n     \\n.. topic:: References\\n\\n   - Belsley, Kuh & Welsch, 'Regression diagnostics: Identifying Influential Data and Sources of Collinearity', Wiley, 1980. 244-261.\\n   - Quinlan,R. (1993). Combining Instance-Based and Model-Based Learning. In Proceedings on the Tenth International Conference of Machine Learning, 236-243, University of Massachusetts, Amherst. Morgan Kaufmann.\\n\""
      ]
     },
     "execution_count": 22,
     "metadata": {},
     "output_type": "execute_result"
    }
   ],
   "source": [
    "data['DESCR']"
   ]
  },
  {
   "cell_type": "code",
   "execution_count": 23,
   "metadata": {},
   "outputs": [
    {
     "data": {
      "text/plain": [
       "<matplotlib.collections.PathCollection at 0x1a1527ee80>"
      ]
     },
     "execution_count": 23,
     "metadata": {},
     "output_type": "execute_result"
    },
    {
     "data": {
      "image/png": "[encoded data removed]",
      "text/plain": [
       "<Figure size 432x288 with 1 Axes>"
      ]
     },
     "metadata": {
      "needs_background": "light"
     },
     "output_type": "display_data"
    }
   ],
   "source": [
    "plt.scatter(X[:,5],y)"
   ]
  },
  {
   "cell_type": "markdown",
   "metadata": {},
   "source": [
    "# loss\n",
    "$$ loss = \\frac{1}{n} \\sum{(y_i - \\hat{y_i})}  $$"
   ]
  },
  {
   "cell_type": "code",
   "execution_count": 24,
   "metadata": {},
   "outputs": [],
   "source": [
    "def loss(y,y_hat):\n",
    "    return sum((y_i - y_hat_i)**2 for y_i, y_hat_i in zip(list(y),list(y_hat)))/len(list(y))"
   ]
  },
  {
   "cell_type": "code",
   "execution_count": 25,
   "metadata": {},
   "outputs": [
    {
     "data": {
      "text/plain": [
       "2.0"
      ]
     },
     "execution_count": 25,
     "metadata": {},
     "output_type": "execute_result"
    }
   ],
   "source": [
    "loss([1,1,1],[2,2,3])"
   ]
  },
  {
   "cell_type": "code",
   "execution_count": 26,
   "metadata": {},
   "outputs": [],
   "source": [
    "def price(k, rm ,b):\n",
    "    return k * rm + b"
   ]
  },
  {
   "cell_type": "code",
   "execution_count": 27,
   "metadata": {},
   "outputs": [
    {
     "data": {
      "text/plain": [
       "<matplotlib.collections.PathCollection at 0x1a15389550>"
      ]
     },
     "execution_count": 27,
     "metadata": {},
     "output_type": "execute_result"
    },
    {
     "data": {
      "image/png": "[encoded data removed]",
      "text/plain": [
       "<Figure size 432x288 with 1 Axes>"
      ]
     },
     "metadata": {
      "needs_background": "light"
     },
     "output_type": "display_data"
    }
   ],
   "source": [
    "plt.scatter(X[:, 5],y)\n",
    "k = random.randint(-100,100)\n",
    "b = random.randint(-100,100)\n",
    "y_learn = [price(k,x,b) for x in X[:, 5]]\n",
    "plt.scatter(X[:, 5],y_learn)"
   ]
  },
  {
   "cell_type": "code",
   "execution_count": 28,
   "metadata": {},
   "outputs": [],
   "source": [
    "def randomBAndK(num):\n",
    "    for i in range(num):\n",
    "        k = random.randint(-100,100)\n",
    "        b = random.randint(-100,100)\n",
    "        y_learn = [price(k,x,b) for x in X[:, 5]]\n",
    "        print(loss(y, y_learn))"
   ]
  },
  {
   "cell_type": "code",
   "execution_count": 29,
   "metadata": {},
   "outputs": [
    {
     "name": "stdout",
     "output_type": "stream",
     "text": [
      "266992.4453788379\n",
      "6959.102609041505\n",
      "98259.7476522194\n",
      "371209.47294842504\n",
      "9241.250642624502\n",
      "98620.41326349409\n",
      "133591.42521883803\n",
      "15448.337170023722\n",
      "97758.33106166006\n",
      "395014.1246928614\n",
      "9603.114542733207\n",
      "517018.7637360143\n",
      "31465.04974152571\n",
      "273256.0181575651\n",
      "304699.63625530235\n",
      "12334.961900519776\n",
      "69595.63625978657\n",
      "62745.35410301777\n",
      "34250.42208922532\n",
      "420747.7587839978\n",
      "116805.30917254549\n",
      "309650.27146579477\n",
      "6218.717138685765\n",
      "55803.33985163441\n",
      "555.2608244031621\n",
      "263884.3745154148\n",
      "2349.0612511126483\n",
      "92257.1634218419\n",
      "64247.77421084583\n",
      "116258.75251892296\n",
      "8020.9057563241095\n",
      "65132.79998057714\n",
      "201253.25418867962\n",
      "153429.60076626082\n",
      "44890.049949752916\n",
      "191004.4819092154\n",
      "132740.9869247568\n",
      "8904.431044203553\n",
      "245734.02118040915\n",
      "44928.74230428268\n",
      "226892.76390124895\n",
      "941.0679370415024\n",
      "106154.48565849806\n",
      "192491.36240922543\n",
      "16010.141877810283\n",
      "33476.38311279051\n",
      "43401.006443824095\n",
      "42095.80237664626\n",
      "452489.8618849565\n",
      "411753.6241002037\n",
      "32428.130587249005\n",
      "156.54803970751\n",
      "366620.741945075\n",
      "233357.1450045988\n",
      "71158.87030630826\n",
      "126396.201295992\n",
      "354118.03558820544\n",
      "362880.21495370526\n",
      "27716.487190316177\n",
      "189.12148104347835\n",
      "330023.2413675556\n",
      "113336.57737290135\n",
      "88043.5966625455\n",
      "6513.425017041507\n",
      "43481.64464492494\n",
      "352040.7295288991\n",
      "52716.1466880929\n",
      "188.51345460869544\n",
      "157.69648357114622\n",
      "67180.26638373912\n",
      "3748.022422316208\n",
      "304493.25572502567\n",
      "30595.814577326088\n",
      "7742.486098079043\n",
      "323318.0543313971\n",
      "106921.57484160482\n",
      "200162.51942077474\n",
      "267024.5870197293\n",
      "9320.295282015808\n",
      "432.0812691205537\n",
      "205843.89579584994\n",
      "18899.005361067193\n",
      "266243.10162886954\n",
      "356917.4947186008\n",
      "201469.32635136755\n",
      "123052.91452546832\n",
      "19194.01370570554\n",
      "35893.277058205545\n",
      "45066.11695361264\n",
      "253784.16110983203\n",
      "338764.351156427\n",
      "62653.953688788555\n",
      "85588.6918558656\n",
      "38180.00156413436\n",
      "20687.38973413437\n",
      "73242.69705346253\n",
      "401745.3157374995\n",
      "5118.291195270751\n",
      "175925.563322743\n",
      "196284.0203698973\n"
     ]
    }
   ],
   "source": [
    "randomBAndK(100)"
   ]
  },
  {
   "cell_type": "code",
   "execution_count": 34,
   "metadata": {},
   "outputs": [
    {
     "name": "stdout",
     "output_type": "stream",
     "text": [
      "best K is 9,best b is -40\n",
      "best K is -3,best b is 30\n",
      "best K is 7,best b is -24\n",
      "best K is 10,best b is -27\n",
      "best K is 7,best b is -21\n"
     ]
    },
    {
     "data": {
      "image/png": "[encoded data removed]",
      "text/plain": [
       "<Figure size 432x288 with 1 Axes>"
      ]
     },
     "metadata": {
      "needs_background": "light"
     },
     "output_type": "display_data"
    }
   ],
   "source": [
    "def randomBAndK(num):\n",
    "    for i in range(num):\n",
    "        k = random.randint(-100,100)\n",
    "        b = random.randint(-100,100)\n",
    "        y_learn = [price(k,x,b) for x in X[:, 5]]\n",
    "        if loss(y, y_learn) < 300:\n",
    "            plt.scatter(X[:, 5],y_learn)\n",
    "            print(\"best K is {},best b is {}\".format(k,b))\n",
    "\n",
    "plt.scatter(X[:, 5],y)\n",
    "randomBAndK(100)"
   ]
  },
  {
   "cell_type": "code",
   "execution_count": null,
   "metadata": {},
   "outputs": [],
   "source": []
  }
 ],
 "metadata": {
  "kernelspec": {
   "display_name": "Python 3",
   "language": "python",
   "name": "python3"
  },
  "language_info": {
   "codemirror_mode": {
    "name": "ipython",
    "version": 3
   },
   "file_extension": ".py",
   "mimetype": "text/x-python",
   "name": "python",
   "nbconvert_exporter": "python",
   "pygments_lexer": "ipython3",
   "version": "3.7.3"
  }
 },
 "nbformat": 4,
 "nbformat_minor": 2
}
